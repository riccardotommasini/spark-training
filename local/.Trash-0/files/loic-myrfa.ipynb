{
 "cells": [
  {
   "cell_type": "markdown",
   "id": "be827e25",
   "metadata": {},
   "source": [
    "# Stock Market Data Analysis\n",
    "*Using PySpark, Spark SQL, and Confluent Kafka*\n",
    "\n",
    "**Data Processing and Analytics (Prof. Angela Bonifati)**\n",
    "* Loïc Chassin - 11720315 - loic.chassin-de-kergommeaux@etu.univ-lyon1.fr\n",
    "* Myrfa Yumiaji Ferra - 12313695 - myrfa.yumiaji-ferra@etu.univ-lyon1.fr\n",
    "\n",
    "**M2 DISS 2023/2024**"
   ]
  },
  {
   "cell_type": "markdown",
   "id": "9c9038e6",
   "metadata": {},
   "source": [
    "## Project Template"
   ]
  },
  {
   "cell_type": "code",
   "execution_count": 1,
   "id": "b513d9f1",
   "metadata": {},
   "outputs": [
    {
     "name": "stderr",
     "output_type": "stream",
     "text": [
      "Ivy Default Cache set to: /root/.ivy2/cache\n",
      "The jars for the packages stored in: /root/.ivy2/jars\n",
      ":: loading settings :: url = jar:file:/usr/local/lib/python3.9/dist-packages/pyspark/jars/ivy-2.4.0.jar!/org/apache/ivy/core/settings/ivysettings.xml\n",
      "org.apache.spark#spark-sql-kafka-0-10_2.12 added as a dependency\n",
      ":: resolving dependencies :: org.apache.spark#spark-submit-parent-d0dc5f4b-b9b2-42a5-a7d1-08531d0d5aa0;1.0\n",
      "\tconfs: [default]\n",
      "\tfound org.apache.spark#spark-sql-kafka-0-10_2.12;3.0.0 in central\n",
      "\tfound org.apache.spark#spark-token-provider-kafka-0-10_2.12;3.0.0 in central\n",
      "\tfound org.apache.kafka#kafka-clients;2.4.1 in central\n",
      "\tfound com.github.luben#zstd-jni;1.4.4-3 in central\n",
      "\tfound org.lz4#lz4-java;1.7.1 in central\n",
      "\tfound org.xerial.snappy#snappy-java;1.1.7.5 in central\n",
      "\tfound org.slf4j#slf4j-api;1.7.30 in central\n",
      "\tfound org.spark-project.spark#unused;1.0.0 in central\n",
      "\tfound org.apache.commons#commons-pool2;2.6.2 in central\n",
      ":: resolution report :: resolve 180ms :: artifacts dl 4ms\n",
      "\t:: modules in use:\n",
      "\tcom.github.luben#zstd-jni;1.4.4-3 from central in [default]\n",
      "\torg.apache.commons#commons-pool2;2.6.2 from central in [default]\n",
      "\torg.apache.kafka#kafka-clients;2.4.1 from central in [default]\n",
      "\torg.apache.spark#spark-sql-kafka-0-10_2.12;3.0.0 from central in [default]\n",
      "\torg.apache.spark#spark-token-provider-kafka-0-10_2.12;3.0.0 from central in [default]\n",
      "\torg.lz4#lz4-java;1.7.1 from central in [default]\n",
      "\torg.slf4j#slf4j-api;1.7.30 from central in [default]\n",
      "\torg.spark-project.spark#unused;1.0.0 from central in [default]\n",
      "\torg.xerial.snappy#snappy-java;1.1.7.5 from central in [default]\n",
      "\t---------------------------------------------------------------------\n",
      "\t|                  |            modules            ||   artifacts   |\n",
      "\t|       conf       | number| search|dwnlded|evicted|| number|dwnlded|\n",
      "\t---------------------------------------------------------------------\n",
      "\t|      default     |   9   |   0   |   0   |   0   ||   9   |   0   |\n",
      "\t---------------------------------------------------------------------\n",
      ":: retrieving :: org.apache.spark#spark-submit-parent-d0dc5f4b-b9b2-42a5-a7d1-08531d0d5aa0\n",
      "\tconfs: [default]\n",
      "\t0 artifacts copied, 9 already retrieved (0kB/4ms)\n",
      "23/12/15 15:36:55 WARN NativeCodeLoader: Unable to load native-hadoop library for your platform... using builtin-java classes where applicable\n",
      "Using Spark's default log4j profile: org/apache/spark/log4j-defaults.properties\n",
      "Setting default log level to \"WARN\".\n",
      "To adjust logging level use sc.setLogLevel(newLevel). For SparkR, use setLogLevel(newLevel).\n"
     ]
    }
   ],
   "source": [
    "from pyspark.sql.functions import explode\n",
    "from pyspark.sql.functions import split\n",
    "\n",
    "from pyspark.context import SparkContext\n",
    "from pyspark.conf import SparkConf\n",
    "from pyspark.sql.session import SparkSession\n",
    "from pyspark.sql.functions import col\n",
    "\n",
    "spark = SparkSession.builder \\\n",
    "    .appName(\"MyApp\") \\\n",
    "    .config(\"spark.jars.packages\", 'org.apache.spark:spark-sql-kafka-0-10_2.12:3.0.0') \\\n",
    "    .config(\"spark.sql.repl.eagerEval.enabled\", True) \\\n",
    "    .getOrCreate()\n"
   ]
  },
  {
   "cell_type": "code",
   "execution_count": 2,
   "id": "1b26ef93",
   "metadata": {},
   "outputs": [],
   "source": [
    "from pyspark.sql.types import StructType, StructField, StringType, IntegerType, DoubleType, BooleanType, TimestampType, DateType\n",
    "\n",
    "schema = StructType(\n",
    "      [\n",
    "        StructField(\"name\", StringType(), False),\n",
    "        StructField(\"price\", DoubleType(), False),\n",
    "        StructField(\"timestamp\", TimestampType(), False),\n",
    "      ]\n",
    "    )"
   ]
  },
  {
   "cell_type": "code",
   "execution_count": 3,
   "id": "d12a4679",
   "metadata": {},
   "outputs": [],
   "source": [
    "kafka_server = \"kafka1:9092\"   \n",
    "from pyspark.sql.functions import from_json\n",
    "\n",
    "lines = (spark.readStream                        # Get the DataStreamReader\n",
    "  .format(\"kafka\")                                 # Specify the source format as \"kafka\"\n",
    "  .option(\"kafka.bootstrap.servers\", kafka_server) # Configure the Kafka server name and port\n",
    "  .option(\"subscribe\", \"stock\")                       # Subscribe to the \"en\" Kafka topic \n",
    "  .option(\"startingOffsets\", \"earliest\")           # The start point when a query is started\n",
    "  .option(\"maxOffsetsPerTrigger\", 100)             # Rate limit on max offsets per trigger interval\n",
    "  .load()\n",
    "  .select(from_json(col(\"value\").cast(\"string\"), schema).alias(\"parsed_value\"))\n",
    "# Load the DataFrame\n",
    ")\n",
    "df = lines.select(\"parsed_value.*\")\n"
   ]
  },
  {
   "cell_type": "markdown",
   "id": "7e61ef77",
   "metadata": {},
   "source": [
    "## The assignment starts here\n"
   ]
  },
  {
   "cell_type": "markdown",
   "id": "235f7f46",
   "metadata": {},
   "source": [
    "## 1. Select the N most valuable stocks in a window"
   ]
  },
  {
   "cell_type": "code",
   "execution_count": null,
   "id": "9231104c",
   "metadata": {},
   "outputs": [],
   "source": [
    "# Query 1\n",
    "\n",
    "from pyspark.sql.functions import col, window, max\n",
    "\n",
    "# Group the data by time windows and take max price for each\n",
    "windowed_df = df.groupBy(window(col(\"timestamp\"), \"5 minutes\"), col(\"name\")) \\\n",
    "    .agg(max(col(\"price\")).alias(\"price\"))\n",
    "\n",
    "# Sort the aggregated DataFrame by total value in descending order\n",
    "sorted_df = windowed_df.orderBy(col(\"window\").desc(),col(\"price\").desc()).limit(10)\n",
    "\n",
    "# Display the results to console\n",
    "query = sorted_df.writeStream.outputMode(\"complete\").format(\"console\").start()\n",
    "query.awaitTermination()"
   ]
  },
  {
   "cell_type": "markdown",
   "id": "810fefc7",
   "metadata": {},
   "source": [
    "## 2. Select the stocks that lost value between two windows"
   ]
  },
  {
   "cell_type": "code",
   "execution_count": null,
   "id": "2110624a",
   "metadata": {},
   "outputs": [],
   "source": [
    "# Registration to another Stream\n",
    "\n",
    "kafka_server = \"kafka1:9092\"   \n",
    "\n",
    "lines = (spark.readStream                        # Get the DataStreamReader\n",
    "  .format(\"kafka\")                                 # Specify the source format as \"kafka\"\n",
    "  .option(\"kafka.bootstrap.servers\", kafka_server) # Configure the Kafka server name and port\n",
    "  .option(\"subscribe\", \"stock\")                       # Subscribe to the \"en\" Kafka topic \n",
    "  .option(\"startingOffsets\", \"earliest\")           # The start point when a query is started\n",
    "  .option(\"maxOffsetsPerTrigger\", 100)             # Rate limit on max offsets per trigger interval\n",
    "  .load()\n",
    "  .select(from_json(col(\"value\").cast(\"string\"), schema).alias(\"parsed_value\"))\n",
    "# Load the DataFrame\n",
    ")\n",
    "new_df = lines.select(\"parsed_value.*\")\n"
   ]
  },
  {
   "cell_type": "code",
   "execution_count": null,
   "id": "bbe0e9e6",
   "metadata": {},
   "outputs": [],
   "source": [
    "# Query 2\n",
    "\n",
    "from pyspark.sql.functions import expr, col, max, window\n",
    "\n",
    "# Rename the 2 streams\n",
    "df_old = df.withColumnRenamed(\"timestamp\", \"oldTime\") \\\n",
    "        .withColumnRenamed(\"price\", \"oldPrice\") \\\n",
    "        .withColumnRenamed(\"name\", \"oldName\") \\\n",
    "        .withColumn(\"oldWindow\", window(\"oldTime\", \"1 minutes\"))\n",
    "\n",
    "df_new = new_df.withColumnRenamed(\"timestamp\", \"newTime\") \\\n",
    "        .withColumnRenamed(\"price\", \"newPrice\") \\\n",
    "        .withColumnRenamed(\"name\", \"newName\") \\\n",
    "        .withColumn(\"newWindow\", window(\"newTime\", \"1 minutes\"))\n",
    "\n",
    "\n",
    "# Join streams on data with greater timestamp and lower price\n",
    "# Windows should be different (comparison between windows)\n",
    "# timestamp difference shouldn't be more than 2 * window (in order to have consecutive windows)\n",
    "joined_stream_df = (df_old.join(df_new, expr(\"\"\"\n",
    "        oldName = newName AND\n",
    "        NOT oldWindow = newWindow AND\n",
    "        oldTime < newTime AND\n",
    "        newTime <= oldTime + interval 2 minute AND\n",
    "        oldPrice > newPrice \"\"\"))) \\\n",
    "    .withColumn(\"difference\", col(\"newPrice\") - col(\"oldPrice\")) \\\n",
    "    .select(col(\"oldName\").alias(\"name\"),col(\"difference\"), col(\"oldWindow\"), col(\"newWindow\"))\n",
    "\n",
    "# Display results to Cnsole\n",
    "query = joined_stream_df.writeStream.outputMode(\"append\").format(\"console\").start()\n",
    "query.awaitTermination()"
   ]
  },
  {
   "cell_type": "markdown",
   "id": "7151b8e8",
   "metadata": {},
   "source": [
    "## 3. Select the stock that gained the most (between windows)"
   ]
  },
  {
   "cell_type": "code",
   "execution_count": null,
   "id": "252cc27d",
   "metadata": {},
   "outputs": [],
   "source": [
    "# Registration to another Stream\n",
    "\n",
    "kafka_server = \"kafka1:9092\"   \n",
    "\n",
    "lines = (spark.readStream                        # Get the DataStreamReader\n",
    "  .format(\"kafka\")                                 # Specify the source format as \"kafka\"\n",
    "  .option(\"kafka.bootstrap.servers\", kafka_server) # Configure the Kafka server name and port\n",
    "  .option(\"subscribe\", \"stock\")                       # Subscribe to the \"en\" Kafka topic \n",
    "  .option(\"startingOffsets\", \"earliest\")           # The start point when a query is started\n",
    "  .option(\"maxOffsetsPerTrigger\", 100)             # Rate limit on max offsets per trigger interval\n",
    "  .load()\n",
    "  .select(from_json(col(\"value\").cast(\"string\"), schema).alias(\"parsed_value\"))\n",
    "# Load the DataFrame\n",
    ")\n",
    "new_df = lines.select(\"parsed_value.*\")\n"
   ]
  },
  {
   "cell_type": "code",
   "execution_count": null,
   "id": "375489e8",
   "metadata": {},
   "outputs": [],
   "source": [
    "# Query 3\n",
    "\n",
    "from pyspark.sql.functions import expr, col, max, window\n",
    "\n",
    "# Rename the 2 streams\n",
    "df_old = df.withColumnRenamed(\"timestamp\", \"oldTime\") \\\n",
    "        .withColumnRenamed(\"price\", \"oldPrice\") \\\n",
    "        .withColumnRenamed(\"name\", \"oldName\") \\\n",
    "        .withColumn(\"oldWindow\", window(\"oldTime\", \"1 minutes\"))\n",
    "\n",
    "df_new = new_df.withColumnRenamed(\"timestamp\", \"newTime\") \\\n",
    "        .withColumnRenamed(\"price\", \"newPrice\") \\\n",
    "        .withColumnRenamed(\"name\", \"newName\") \\\n",
    "        .withColumn(\"newWindow\", window(\"newTime\", \"1 minutes\"))\n",
    "\n",
    "# Join streams on data with greater timestamp and greater price\n",
    "# Windows should be different (comparison between windows)\n",
    "# timestamp difference shouldn't be more than 2 * window (in order to have consecutive windows)\n",
    "joined_stream_df = (df_old.join(df_new, expr(\"\"\"\n",
    "        oldName = newName AND\n",
    "        NOT oldWindow = newWindow AND\n",
    "        oldTime < newTime AND\n",
    "        newTime <= oldTime + interval 2 minute AND\n",
    "        oldPrice < newPrice \"\"\"))) \\\n",
    "    .withColumn(\"difference\", col(\"newPrice\") - col(\"oldPrice\")) \\\n",
    "    .select(col(\"oldName\").alias(\"name\"),col(\"difference\"),col(\"newWindow\").alias(\"window\"))\n",
    "\n",
    "# HERE we would like to sort + filter(1), but we can't sort if not in complete output mode, and complete mode is not possible with streaming join\n",
    "\n",
    "# Display results to Console\n",
    "query = joined_stream_df.writeStream.outputMode(\"append\").format(\"console\").start()\n",
    "query.awaitTermination()"
   ]
  },
  {
   "cell_type": "markdown",
   "id": "61895018",
   "metadata": {},
   "source": [
    "## 4. Control of value loss"
   ]
  },
  {
   "cell_type": "code",
   "execution_count": 4,
   "id": "191708dc",
   "metadata": {},
   "outputs": [],
   "source": [
    "# Registration to another Stream\n",
    "\n",
    "kafka_server = \"kafka1:9092\"   \n",
    "\n",
    "lines = (spark.readStream                        # Get the DataStreamReader\n",
    "  .format(\"kafka\")                                 # Specify the source format as \"kafka\"\n",
    "  .option(\"kafka.bootstrap.servers\", kafka_server) # Configure the Kafka server name and port\n",
    "  .option(\"subscribe\", \"stock\")                       # Subscribe to the \"en\" Kafka topic \n",
    "  .option(\"startingOffsets\", \"earliest\")           # The start point when a query is started\n",
    "  .option(\"maxOffsetsPerTrigger\", 100)             # Rate limit on max offsets per trigger interval\n",
    "  .load()\n",
    "  .select(from_json(col(\"value\").cast(\"string\"), schema).alias(\"parsed_value\"))\n",
    "# Load the DataFrame\n",
    ")\n",
    "new_df = lines.select(\"parsed_value.*\")\n"
   ]
  },
  {
   "cell_type": "code",
   "execution_count": 5,
   "id": "e6c2e5f4",
   "metadata": {},
   "outputs": [
    {
     "name": "stderr",
     "output_type": "stream",
     "text": [
      "23/12/15 15:38:19 WARN StreamingQueryManager: Temporary checkpoint location created which is deleted normally when the query didn't fail: /tmp/temporary-1ce50bab-3955-40a3-83e8-098eb09f7a9d. If it's required to delete it under any circumstances, please set spark.sql.streaming.forceDeleteTempCheckpointLocation to true. Important to know deleting temp checkpoint folder is best effort.\n",
      "                                                                                \r"
     ]
    },
    {
     "name": "stdout",
     "output_type": "stream",
     "text": [
      "-------------------------------------------\n",
      "Batch: 0\n",
      "-------------------------------------------\n",
      "+----+-------------------+-------------------+\n",
      "|name|perCentLossbyMinute|       lossByMinute|\n",
      "+----+-------------------+-------------------+\n",
      "|FITB| -18.84145119262373|-3.1333333333333258|\n",
      "+----+-------------------+-------------------+\n",
      "\n"
     ]
    },
    {
     "name": "stderr",
     "output_type": "stream",
     "text": [
      "                                                                                \r"
     ]
    },
    {
     "name": "stdout",
     "output_type": "stream",
     "text": [
      "-------------------------------------------\n",
      "Batch: 1\n",
      "-------------------------------------------\n",
      "+----+-------------------+-------------------+\n",
      "|name|perCentLossbyMinute|       lossByMinute|\n",
      "+----+-------------------+-------------------+\n",
      "|NFLX|-17.915982864084896| -5.043599999999995|\n",
      "| DAL|-27.556644213104704| -4.695652173913041|\n",
      "| DAL|-15.333939118582459|-2.6129032258064506|\n",
      "| VAR|-18.685121107266557|-13.500000000000085|\n",
      "+----+-------------------+-------------------+\n",
      "\n"
     ]
    },
    {
     "name": "stderr",
     "output_type": "stream",
     "text": [
      "                                                                                \r"
     ]
    },
    {
     "name": "stdout",
     "output_type": "stream",
     "text": [
      "-------------------------------------------\n",
      "Batch: 2\n",
      "-------------------------------------------\n",
      "+----+-------------------+------------------+\n",
      "|name|perCentLossbyMinute|      lossByMinute|\n",
      "+----+-------------------+------------------+\n",
      "| GPC|-10.432114548708789|-8.160000000000014|\n",
      "+----+-------------------+------------------+\n",
      "\n"
     ]
    },
    {
     "name": "stderr",
     "output_type": "stream",
     "text": [
      "                                                                                \r"
     ]
    },
    {
     "name": "stdout",
     "output_type": "stream",
     "text": [
      "-------------------------------------------\n",
      "Batch: 3\n",
      "-------------------------------------------\n",
      "+----+-------------------+------------------+\n",
      "|name|perCentLossbyMinute|      lossByMinute|\n",
      "+----+-------------------+------------------+\n",
      "| WMB|-10.842354813574508|-4.004081632653065|\n",
      "| EXC|-12.955997372977489|-4.822222222222221|\n",
      "| SIG|-13.175597309208952|-9.466666666666631|\n",
      "+----+-------------------+------------------+\n",
      "\n"
     ]
    },
    {
     "name": "stderr",
     "output_type": "stream",
     "text": [
      "                                                                                \r"
     ]
    },
    {
     "name": "stdout",
     "output_type": "stream",
     "text": [
      "-------------------------------------------\n",
      "Batch: 4\n",
      "-------------------------------------------\n",
      "+----+-------------------+-------------------+\n",
      "|name|perCentLossbyMinute|       lossByMinute|\n",
      "+----+-------------------+-------------------+\n",
      "|  GS| -15.72617632070662|-26.451428571428533|\n",
      "+----+-------------------+-------------------+\n",
      "\n"
     ]
    },
    {
     "name": "stderr",
     "output_type": "stream",
     "text": [
      "                                                                                \r"
     ]
    },
    {
     "name": "stdout",
     "output_type": "stream",
     "text": [
      "-------------------------------------------\n",
      "Batch: 5\n",
      "-------------------------------------------\n",
      "+-----+-------------------+------------------+\n",
      "| name|perCentLossbyMinute|      lossByMinute|\n",
      "+-----+-------------------+------------------+\n",
      "|GOOGL|-14.650932541027151|-66.50842105263169|\n",
      "+-----+-------------------+------------------+\n",
      "\n"
     ]
    },
    {
     "name": "stderr",
     "output_type": "stream",
     "text": [
      "                                                                                \r"
     ]
    },
    {
     "name": "stdout",
     "output_type": "stream",
     "text": [
      "-------------------------------------------\n",
      "Batch: 6\n",
      "-------------------------------------------\n",
      "+-----+-------------------+------------------+\n",
      "| name|perCentLossbyMinute|      lossByMinute|\n",
      "+-----+-------------------+------------------+\n",
      "|  ADM| -11.01533547634159|-4.138461538461535|\n",
      "|  UAL|-20.501698244465356|-7.157142857142855|\n",
      "|  UNM|-14.769071319068086|-4.717241379310347|\n",
      "|GOOGL|-10.066631513350295|-45.69782608695663|\n",
      "| VRSK|-11.435752434809885|-7.279999999999973|\n",
      "|  MOS|-22.243421052631582|-9.965052631578947|\n",
      "+-----+-------------------+------------------+\n",
      "\n"
     ]
    },
    {
     "name": "stderr",
     "output_type": "stream",
     "text": [
      "                                                                                \r"
     ]
    },
    {
     "name": "stdout",
     "output_type": "stream",
     "text": [
      "-------------------------------------------\n",
      "Batch: 7\n",
      "-------------------------------------------\n",
      "+----+-------------------+-------------------+\n",
      "|name|perCentLossbyMinute|       lossByMinute|\n",
      "+----+-------------------+-------------------+\n",
      "|   C|-29.824940566241622| -15.77142857142857|\n",
      "| CAH| -17.66685361749867| -9.450000000000038|\n",
      "|  IT|-19.543973941368055|-11.399999999999986|\n",
      "+----+-------------------+-------------------+\n",
      "\n"
     ]
    },
    {
     "name": "stderr",
     "output_type": "stream",
     "text": [
      "                                                                                \r"
     ]
    },
    {
     "name": "stdout",
     "output_type": "stream",
     "text": [
      "-------------------------------------------\n",
      "Batch: 8\n",
      "-------------------------------------------\n",
      "+----+-------------------+-------------------+\n",
      "|name|perCentLossbyMinute|       lossByMinute|\n",
      "+----+-------------------+-------------------+\n",
      "|CELG|-11.869220438156015| -9.568965517241379|\n",
      "|AKAM|-21.738136600530293|-11.411999999999992|\n",
      "+----+-------------------+-------------------+\n",
      "\n"
     ]
    },
    {
     "name": "stderr",
     "output_type": "stream",
     "text": [
      "                                                                                \r"
     ]
    },
    {
     "name": "stdout",
     "output_type": "stream",
     "text": [
      "-------------------------------------------\n",
      "Batch: 9\n",
      "-------------------------------------------\n",
      "+----+-------------------+------------+\n",
      "|name|perCentLossbyMinute|lossByMinute|\n",
      "+----+-------------------+------------+\n",
      "+----+-------------------+------------+\n",
      "\n"
     ]
    },
    {
     "name": "stderr",
     "output_type": "stream",
     "text": [
      "                                                                                \r"
     ]
    },
    {
     "name": "stdout",
     "output_type": "stream",
     "text": [
      "-------------------------------------------\n",
      "Batch: 10\n",
      "-------------------------------------------\n",
      "+----+-------------------+------------+\n",
      "|name|perCentLossbyMinute|lossByMinute|\n",
      "+----+-------------------+------------+\n",
      "+----+-------------------+------------+\n",
      "\n"
     ]
    },
    {
     "name": "stderr",
     "output_type": "stream",
     "text": [
      "                                                                                \r"
     ]
    },
    {
     "name": "stdout",
     "output_type": "stream",
     "text": [
      "-------------------------------------------\n",
      "Batch: 11\n",
      "-------------------------------------------\n",
      "+----+-------------------+------------+\n",
      "|name|perCentLossbyMinute|lossByMinute|\n",
      "+----+-------------------+------------+\n",
      "+----+-------------------+------------+\n",
      "\n"
     ]
    },
    {
     "name": "stderr",
     "output_type": "stream",
     "text": [
      "[Stage 38:================================================>     (180 + 6) / 200]\r"
     ]
    },
    {
     "ename": "KeyboardInterrupt",
     "evalue": "",
     "output_type": "error",
     "traceback": [
      "\u001b[0;31m---------------------------------------------------------------------------\u001b[0m",
      "\u001b[0;31mKeyboardInterrupt\u001b[0m                         Traceback (most recent call last)",
      "Cell \u001b[0;32mIn[5], line 40\u001b[0m\n\u001b[1;32m     38\u001b[0m \u001b[38;5;66;03m# Display results to Console\u001b[39;00m\n\u001b[1;32m     39\u001b[0m query \u001b[38;5;241m=\u001b[39m joined_stream_df\u001b[38;5;241m.\u001b[39mwriteStream\u001b[38;5;241m.\u001b[39moutputMode(\u001b[38;5;124m\"\u001b[39m\u001b[38;5;124mappend\u001b[39m\u001b[38;5;124m\"\u001b[39m)\u001b[38;5;241m.\u001b[39mformat(\u001b[38;5;124m\"\u001b[39m\u001b[38;5;124mconsole\u001b[39m\u001b[38;5;124m\"\u001b[39m)\u001b[38;5;241m.\u001b[39mstart()\n\u001b[0;32m---> 40\u001b[0m \u001b[43mquery\u001b[49m\u001b[38;5;241;43m.\u001b[39;49m\u001b[43mawaitTermination\u001b[49m\u001b[43m(\u001b[49m\u001b[43m)\u001b[49m\n",
      "File \u001b[0;32m/usr/local/lib/python3.9/dist-packages/pyspark/sql/streaming.py:103\u001b[0m, in \u001b[0;36mStreamingQuery.awaitTermination\u001b[0;34m(self, timeout)\u001b[0m\n\u001b[1;32m    101\u001b[0m     \u001b[38;5;28;01mreturn\u001b[39;00m \u001b[38;5;28mself\u001b[39m\u001b[38;5;241m.\u001b[39m_jsq\u001b[38;5;241m.\u001b[39mawaitTermination(\u001b[38;5;28mint\u001b[39m(timeout \u001b[38;5;241m*\u001b[39m \u001b[38;5;241m1000\u001b[39m))\n\u001b[1;32m    102\u001b[0m \u001b[38;5;28;01melse\u001b[39;00m:\n\u001b[0;32m--> 103\u001b[0m     \u001b[38;5;28;01mreturn\u001b[39;00m \u001b[38;5;28;43mself\u001b[39;49m\u001b[38;5;241;43m.\u001b[39;49m\u001b[43m_jsq\u001b[49m\u001b[38;5;241;43m.\u001b[39;49m\u001b[43mawaitTermination\u001b[49m\u001b[43m(\u001b[49m\u001b[43m)\u001b[49m\n",
      "File \u001b[0;32m/usr/local/lib/python3.9/dist-packages/py4j/java_gateway.py:1303\u001b[0m, in \u001b[0;36mJavaMember.__call__\u001b[0;34m(self, *args)\u001b[0m\n\u001b[1;32m   1296\u001b[0m args_command, temp_args \u001b[38;5;241m=\u001b[39m \u001b[38;5;28mself\u001b[39m\u001b[38;5;241m.\u001b[39m_build_args(\u001b[38;5;241m*\u001b[39margs)\n\u001b[1;32m   1298\u001b[0m command \u001b[38;5;241m=\u001b[39m proto\u001b[38;5;241m.\u001b[39mCALL_COMMAND_NAME \u001b[38;5;241m+\u001b[39m\\\n\u001b[1;32m   1299\u001b[0m     \u001b[38;5;28mself\u001b[39m\u001b[38;5;241m.\u001b[39mcommand_header \u001b[38;5;241m+\u001b[39m\\\n\u001b[1;32m   1300\u001b[0m     args_command \u001b[38;5;241m+\u001b[39m\\\n\u001b[1;32m   1301\u001b[0m     proto\u001b[38;5;241m.\u001b[39mEND_COMMAND_PART\n\u001b[0;32m-> 1303\u001b[0m answer \u001b[38;5;241m=\u001b[39m \u001b[38;5;28;43mself\u001b[39;49m\u001b[38;5;241;43m.\u001b[39;49m\u001b[43mgateway_client\u001b[49m\u001b[38;5;241;43m.\u001b[39;49m\u001b[43msend_command\u001b[49m\u001b[43m(\u001b[49m\u001b[43mcommand\u001b[49m\u001b[43m)\u001b[49m\n\u001b[1;32m   1304\u001b[0m return_value \u001b[38;5;241m=\u001b[39m get_return_value(\n\u001b[1;32m   1305\u001b[0m     answer, \u001b[38;5;28mself\u001b[39m\u001b[38;5;241m.\u001b[39mgateway_client, \u001b[38;5;28mself\u001b[39m\u001b[38;5;241m.\u001b[39mtarget_id, \u001b[38;5;28mself\u001b[39m\u001b[38;5;241m.\u001b[39mname)\n\u001b[1;32m   1307\u001b[0m \u001b[38;5;28;01mfor\u001b[39;00m temp_arg \u001b[38;5;129;01min\u001b[39;00m temp_args:\n",
      "File \u001b[0;32m/usr/local/lib/python3.9/dist-packages/py4j/java_gateway.py:1033\u001b[0m, in \u001b[0;36mGatewayClient.send_command\u001b[0;34m(self, command, retry, binary)\u001b[0m\n\u001b[1;32m   1031\u001b[0m connection \u001b[38;5;241m=\u001b[39m \u001b[38;5;28mself\u001b[39m\u001b[38;5;241m.\u001b[39m_get_connection()\n\u001b[1;32m   1032\u001b[0m \u001b[38;5;28;01mtry\u001b[39;00m:\n\u001b[0;32m-> 1033\u001b[0m     response \u001b[38;5;241m=\u001b[39m \u001b[43mconnection\u001b[49m\u001b[38;5;241;43m.\u001b[39;49m\u001b[43msend_command\u001b[49m\u001b[43m(\u001b[49m\u001b[43mcommand\u001b[49m\u001b[43m)\u001b[49m\n\u001b[1;32m   1034\u001b[0m     \u001b[38;5;28;01mif\u001b[39;00m binary:\n\u001b[1;32m   1035\u001b[0m         \u001b[38;5;28;01mreturn\u001b[39;00m response, \u001b[38;5;28mself\u001b[39m\u001b[38;5;241m.\u001b[39m_create_connection_guard(connection)\n",
      "File \u001b[0;32m/usr/local/lib/python3.9/dist-packages/py4j/java_gateway.py:1200\u001b[0m, in \u001b[0;36mGatewayConnection.send_command\u001b[0;34m(self, command)\u001b[0m\n\u001b[1;32m   1196\u001b[0m     \u001b[38;5;28;01mraise\u001b[39;00m Py4JNetworkError(\n\u001b[1;32m   1197\u001b[0m         \u001b[38;5;124m\"\u001b[39m\u001b[38;5;124mError while sending\u001b[39m\u001b[38;5;124m\"\u001b[39m, e, proto\u001b[38;5;241m.\u001b[39mERROR_ON_SEND)\n\u001b[1;32m   1199\u001b[0m \u001b[38;5;28;01mtry\u001b[39;00m:\n\u001b[0;32m-> 1200\u001b[0m     answer \u001b[38;5;241m=\u001b[39m smart_decode(\u001b[38;5;28;43mself\u001b[39;49m\u001b[38;5;241;43m.\u001b[39;49m\u001b[43mstream\u001b[49m\u001b[38;5;241;43m.\u001b[39;49m\u001b[43mreadline\u001b[49m\u001b[43m(\u001b[49m\u001b[43m)\u001b[49m[:\u001b[38;5;241m-\u001b[39m\u001b[38;5;241m1\u001b[39m])\n\u001b[1;32m   1201\u001b[0m     logger\u001b[38;5;241m.\u001b[39mdebug(\u001b[38;5;124m\"\u001b[39m\u001b[38;5;124mAnswer received: \u001b[39m\u001b[38;5;132;01m{0}\u001b[39;00m\u001b[38;5;124m\"\u001b[39m\u001b[38;5;241m.\u001b[39mformat(answer))\n\u001b[1;32m   1202\u001b[0m     \u001b[38;5;28;01mif\u001b[39;00m answer\u001b[38;5;241m.\u001b[39mstartswith(proto\u001b[38;5;241m.\u001b[39mRETURN_MESSAGE):\n",
      "File \u001b[0;32m/usr/lib/python3.9/socket.py:704\u001b[0m, in \u001b[0;36mSocketIO.readinto\u001b[0;34m(self, b)\u001b[0m\n\u001b[1;32m    702\u001b[0m \u001b[38;5;28;01mwhile\u001b[39;00m \u001b[38;5;28;01mTrue\u001b[39;00m:\n\u001b[1;32m    703\u001b[0m     \u001b[38;5;28;01mtry\u001b[39;00m:\n\u001b[0;32m--> 704\u001b[0m         \u001b[38;5;28;01mreturn\u001b[39;00m \u001b[38;5;28;43mself\u001b[39;49m\u001b[38;5;241;43m.\u001b[39;49m\u001b[43m_sock\u001b[49m\u001b[38;5;241;43m.\u001b[39;49m\u001b[43mrecv_into\u001b[49m\u001b[43m(\u001b[49m\u001b[43mb\u001b[49m\u001b[43m)\u001b[49m\n\u001b[1;32m    705\u001b[0m     \u001b[38;5;28;01mexcept\u001b[39;00m timeout:\n\u001b[1;32m    706\u001b[0m         \u001b[38;5;28mself\u001b[39m\u001b[38;5;241m.\u001b[39m_timeout_occurred \u001b[38;5;241m=\u001b[39m \u001b[38;5;28;01mTrue\u001b[39;00m\n",
      "\u001b[0;31mKeyboardInterrupt\u001b[0m: "
     ]
    },
    {
     "name": "stderr",
     "output_type": "stream",
     "text": [
      "                                                                                \r"
     ]
    },
    {
     "name": "stdout",
     "output_type": "stream",
     "text": [
      "-------------------------------------------\n",
      "Batch: 12\n",
      "-------------------------------------------\n",
      "+----+-------------------+------------+\n",
      "|name|perCentLossbyMinute|lossByMinute|\n",
      "+----+-------------------+------------+\n",
      "+----+-------------------+------------+\n",
      "\n"
     ]
    },
    {
     "name": "stderr",
     "output_type": "stream",
     "text": [
      "[Stage 41:===============>                                       (55 + 6) / 200]\r"
     ]
    }
   ],
   "source": [
    "# Query 4\n",
    "\n",
    "from pyspark.sql.functions import expr, col, max, window\n",
    "from pyspark.sql.types import LongType\n",
    "\n",
    "# The stocks losing more than THRESHOLD % by minute will be detected\n",
    "THRESHOLD = 10\n",
    "\n",
    "# Rename the 2 streams\n",
    "df_old = df.withColumnRenamed(\"timestamp\", \"oldTime\") \\\n",
    "        .withColumnRenamed(\"price\", \"oldPrice\") \\\n",
    "        .withColumnRenamed(\"name\", \"oldName\")\n",
    "\n",
    "df_new = new_df.withColumnRenamed(\"timestamp\", \"newTime\") \\\n",
    "        .withColumnRenamed(\"price\", \"newPrice\") \\\n",
    "        .withColumnRenamed(\"name\", \"newName\")\n",
    "\n",
    "\n",
    "# Join streams on data with greater timestamp and lower price\n",
    "joined_stream_df = (df_old.join(df_new, expr(\"\"\"\n",
    "        oldName = newName AND\n",
    "        oldTime < newTime AND\n",
    "        newTime <= oldTime + interval 2 minute AND\n",
    "        oldPrice > newPrice \"\"\"))) \\\n",
    "    .withColumn(\"difference\", col(\"newPrice\") - col(\"oldPrice\"))\n",
    "\n",
    "    # compute the value lost by amount of time\n",
    "joined_stream_df = joined_stream_df.withColumn(\"intervalSeconds\",col(\"newTime\").cast(LongType()) - col(\"oldTime\").cast(LongType())) \\\n",
    "    .withColumn(\"lossByMinute\", 60 * col(\"difference\") / col(\"intervalSeconds\")) \\\n",
    "    .withColumn(\"perCentLossByMinute\", 100 * col(\"lossByMinute\") / col(\"oldPrice\"))\n",
    "\n",
    "    # select column and filter according to the threshold\n",
    "    # filter on \"lossByMinute\" to detect loss over a certain amount\n",
    "    # filter on \"perCentLossByMinute\" to detect loss over a certain percentage of stock value\n",
    "joined_stream_df = joined_stream_df.select(col(\"oldName\").alias(\"name\"),col(\"perCentLossbyMinute\"),col(\"lossByMinute\")) \\\n",
    "    .filter(col(\"perCentLossByMinute\") < -THRESHOLD)\n",
    "\n",
    "# Display results to Console\n",
    "query = joined_stream_df.writeStream.outputMode(\"append\").format(\"console\").start()\n",
    "query.awaitTermination()"
   ]
  },
  {
   "cell_type": "markdown",
   "id": "ea6caa7e",
   "metadata": {},
   "source": [
    "## 5. Corelation between stocks"
   ]
  },
  {
   "cell_type": "code",
   "execution_count": null,
   "id": "62a416d1",
   "metadata": {},
   "outputs": [],
   "source": [
    "# Query 5\n",
    "\n",
    "from pyspark.sql.functions import max, expr, col, window, sum, avg, count, stddev, mean\n",
    "\n",
    "#create short windows (1 minute) and group by name and find latest price\n",
    "#create longer windows (10-20 minutes) and send pair of 2 records for each small window\n",
    "\n",
    "\n",
    "# compute a small window of each record to detect \"simultaneous\" events\n",
    "windowed_df = df.withColumn(\"window\", window(\"timestamp\", \"1 minutes\"))\n",
    "\n",
    "#copy of the stream for self-join\n",
    "windowed_df_2 = windowed_df.withColumnRenamed(\"name\", \"name2\") \\\n",
    "        .withColumnRenamed(\"price\", \"price2\") \\\n",
    "        .withColumnRenamed(\"timestamp\", \"timestamp2\") \\\n",
    "        .withColumnRenamed(\"window\", \"window2\")\n",
    "\n",
    "# Join events within the same time-window (\"simultaneous\" events)\n",
    "# we are doing the corelation for only for GOOGL\n",
    "joined_df = windowed_df.join(windowed_df_2, expr(\"\"\"\n",
    "        name = \"GOOGL\" AND\n",
    "        window = window2\n",
    "        \"\"\"))\n",
    "# result is a list of pair of records, happening in the same window\n",
    "\n",
    "# now we can group by pair of stocks, in a large window for computation\n",
    "# we can aggregate the prices to compute Pearson Corelation Coefficien (PCC)\n",
    "final_df = joined_df.withWatermark(\"timestamp\", \"1 minutes\") \\\n",
    "        .groupBy(window(\"timestamp\", \"5 minutes\"), col(\"name\"), col(\"name2\")) \\\n",
    "        .agg(count(col(\"name\")).alias(\"count\"),\n",
    "            avg(col(\"price\")).alias(\"avg\"),\n",
    "            avg(col(\"price\")).alias(\"avg\"),\n",
    "            stddev(col(\"price\")).alias(\"stddev\"),\n",
    "            stddev(col(\"price2\")).alias(\"stddev2\"))\n",
    "\n",
    "# here we only do basic aggregations like average difference or standard deviation\n",
    "# In order to compute the PCC, we would need to do multiples aggregations on top of each other\n",
    "# (average, then sum of difference to average of X and Y, then standard deviation...)\n",
    "# but multiple aggregations are not possible\n",
    "\n",
    "# the output should be the corelation coefficient of a pair of stocks for a given time-window\n",
    "\n",
    "# Display results to Console\n",
    "query = final_df.writeStream.outputMode(\"append\").format(\"console\").start()\n",
    "query.awaitTermination()"
   ]
  }
 ],
 "metadata": {
  "kernelspec": {
   "display_name": "Python 3 (ipykernel)",
   "language": "python",
   "name": "python3"
  },
  "language_info": {
   "codemirror_mode": {
    "name": "ipython",
    "version": 3
   },
   "file_extension": ".py",
   "mimetype": "text/x-python",
   "name": "python",
   "nbconvert_exporter": "python",
   "pygments_lexer": "ipython3",
   "version": "3.9.2"
  }
 },
 "nbformat": 4,
 "nbformat_minor": 5
}
