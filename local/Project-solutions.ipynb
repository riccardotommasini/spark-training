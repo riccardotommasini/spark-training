{
 "cells": [
  {
   "cell_type": "markdown",
   "id": "8d55d556",
   "metadata": {},
   "source": [
    "## Project"
   ]
  },
  {
   "cell_type": "code",
   "execution_count": 1,
   "id": "30405efd",
   "metadata": {},
   "outputs": [
    {
     "name": "stderr",
     "output_type": "stream",
     "text": [
      "Ivy Default Cache set to: /root/.ivy2/cache\n",
      "The jars for the packages stored in: /root/.ivy2/jars\n",
      ":: loading settings :: url = jar:file:/usr/local/lib/python3.9/dist-packages/pyspark/jars/ivy-2.4.0.jar!/org/apache/ivy/core/settings/ivysettings.xml\n",
      "org.apache.spark#spark-sql-kafka-0-10_2.12 added as a dependency\n",
      ":: resolving dependencies :: org.apache.spark#spark-submit-parent-acee1fab-4598-4c3c-ab4d-8a61a2f7b6f4;1.0\n",
      "\tconfs: [default]\n",
      "\tfound org.apache.spark#spark-sql-kafka-0-10_2.12;3.0.0 in central\n",
      "\tfound org.apache.spark#spark-token-provider-kafka-0-10_2.12;3.0.0 in central\n",
      "\tfound org.apache.kafka#kafka-clients;2.4.1 in central\n",
      "\tfound com.github.luben#zstd-jni;1.4.4-3 in central\n",
      "\tfound org.lz4#lz4-java;1.7.1 in central\n",
      "\tfound org.xerial.snappy#snappy-java;1.1.7.5 in central\n",
      "\tfound org.slf4j#slf4j-api;1.7.30 in central\n",
      "\tfound org.spark-project.spark#unused;1.0.0 in central\n",
      "\tfound org.apache.commons#commons-pool2;2.6.2 in central\n",
      ":: resolution report :: resolve 202ms :: artifacts dl 3ms\n",
      "\t:: modules in use:\n",
      "\tcom.github.luben#zstd-jni;1.4.4-3 from central in [default]\n",
      "\torg.apache.commons#commons-pool2;2.6.2 from central in [default]\n",
      "\torg.apache.kafka#kafka-clients;2.4.1 from central in [default]\n",
      "\torg.apache.spark#spark-sql-kafka-0-10_2.12;3.0.0 from central in [default]\n",
      "\torg.apache.spark#spark-token-provider-kafka-0-10_2.12;3.0.0 from central in [default]\n",
      "\torg.lz4#lz4-java;1.7.1 from central in [default]\n",
      "\torg.slf4j#slf4j-api;1.7.30 from central in [default]\n",
      "\torg.spark-project.spark#unused;1.0.0 from central in [default]\n",
      "\torg.xerial.snappy#snappy-java;1.1.7.5 from central in [default]\n",
      "\t---------------------------------------------------------------------\n",
      "\t|                  |            modules            ||   artifacts   |\n",
      "\t|       conf       | number| search|dwnlded|evicted|| number|dwnlded|\n",
      "\t---------------------------------------------------------------------\n",
      "\t|      default     |   9   |   0   |   0   |   0   ||   9   |   0   |\n",
      "\t---------------------------------------------------------------------\n",
      ":: retrieving :: org.apache.spark#spark-submit-parent-acee1fab-4598-4c3c-ab4d-8a61a2f7b6f4\n",
      "\tconfs: [default]\n",
      "\t0 artifacts copied, 9 already retrieved (0kB/4ms)\n",
      "24/11/15 16:32:44 WARN NativeCodeLoader: Unable to load native-hadoop library for your platform... using builtin-java classes where applicable\n",
      "Using Spark's default log4j profile: org/apache/spark/log4j-defaults.properties\n",
      "Setting default log level to \"WARN\".\n",
      "To adjust logging level use sc.setLogLevel(newLevel). For SparkR, use setLogLevel(newLevel).\n"
     ]
    }
   ],
   "source": [
    "from pyspark.sql.functions import explode\n",
    "from pyspark.sql.functions import split\n",
    "\n",
    "from pyspark.context import SparkContext\n",
    "from pyspark.conf import SparkConf\n",
    "from pyspark.sql.session import SparkSession\n",
    "from pyspark.sql.functions import col\n",
    "\n",
    "spark = SparkSession.builder \\\n",
    "    .appName(\"MyApp\") \\\n",
    "    .config(\"spark.jars.packages\", 'org.apache.spark:spark-sql-kafka-0-10_2.12:3.0.0') \\\n",
    "    .config(\"spark.sql.repl.eagerEval.enabled\", True) \\\n",
    "    .getOrCreate()\n"
   ]
  },
  {
   "cell_type": "code",
   "execution_count": null,
   "id": "5fa00042",
   "metadata": {},
   "outputs": [],
   "source": []
  },
  {
   "cell_type": "markdown",
   "id": "1db2be9b",
   "metadata": {},
   "source": [
    "### Spark Stream with socket"
   ]
  },
  {
   "cell_type": "markdown",
   "id": "ad0f9963",
   "metadata": {},
   "source": [
    "### Spark streaming with a Kafka"
   ]
  },
  {
   "cell_type": "markdown",
   "id": "a6af29a8",
   "metadata": {},
   "source": [
    "We will use the other notebook \"Kafka-producer\" to handle Kafka"
   ]
  },
  {
   "cell_type": "code",
   "execution_count": 2,
   "id": "ec2b701c",
   "metadata": {},
   "outputs": [],
   "source": [
    "from pyspark.sql.types import StructType, StructField, StringType, IntegerType, DoubleType, BooleanType, TimestampType, DateType\n",
    "\n",
    "schema = StructType(\n",
    "      [\n",
    "        StructField(\"name\", StringType(), False),\n",
    "        StructField(\"price\", DoubleType(), False),\n",
    "        StructField(\"timestamp\", TimestampType(), False),\n",
    "      ]\n",
    "    )"
   ]
  },
  {
   "cell_type": "code",
   "execution_count": 3,
   "id": "f64411b0",
   "metadata": {},
   "outputs": [],
   "source": [
    "kafka_server = \"kafka1:9092\"   \n",
    "from pyspark.sql.functions import from_json\n",
    "\n",
    "lines = (spark.readStream                        # Get the DataStreamReader\n",
    "  .format(\"kafka\")                                 # Specify the source format as \"kafka\"\n",
    "  .option(\"kafka.bootstrap.servers\", kafka_server) # Configure the Kafka server name and port\n",
    "  .option(\"subscribe\", \"stock\")                       # Subscribe to the \"en\" Kafka topic \n",
    "  .option(\"startingOffsets\", \"earliest\")           # The start point when a query is started\n",
    "  .option(\"maxOffsetsPerTrigger\", 100)             # Rate limit on max offsets per trigger interval\n",
    "  .load()\n",
    "  .select(from_json(col(\"value\").cast(\"string\"), schema).alias(\"parsed_value\"))\n",
    "# Load the DataFrame\n",
    ")\n",
    "df = lines.select(\"parsed_value.*\")\n"
   ]
  },
  {
   "cell_type": "markdown",
   "id": "b285c9bc",
   "metadata": {},
   "source": [
    "## Select the N most valuable stocks in a window"
   ]
  },
  {
   "cell_type": "code",
   "execution_count": 4,
   "id": "c22289ef",
   "metadata": {
    "scrolled": true
   },
   "outputs": [
    {
     "name": "stderr",
     "output_type": "stream",
     "text": [
      "24/11/15 16:33:02 WARN StreamingQueryManager: Temporary checkpoint location created which is deleted normally when the query didn't fail: /tmp/temporary-011009ba-607c-4f51-a586-db6b77d4ef6d. If it's required to delete it under any circumstances, please set spark.sql.streaming.forceDeleteTempCheckpointLocation to true. Important to know deleting temp checkpoint folder is best effort.\n"
     ]
    },
    {
     "data": {
      "text/plain": [
       "<pyspark.sql.streaming.StreamingQuery at 0xffff9849cf40>"
      ]
     },
     "execution_count": 4,
     "metadata": {},
     "output_type": "execute_result"
    },
    {
     "name": "stderr",
     "output_type": "stream",
     "text": [
      "                                                                                \r"
     ]
    },
    {
     "name": "stdout",
     "output_type": "stream",
     "text": [
      "-------------------------------------------\n",
      "Batch: 0\n",
      "-------------------------------------------\n",
      "+----+--------------------+----------+\n",
      "|name|              window|avg(price)|\n",
      "+----+--------------------+----------+\n",
      "| AZO|[2024-11-15 16:32...|    384.01|\n",
      "|ISRG|[2024-11-15 16:32...|  192.6465|\n",
      "| PXD|[2024-11-15 16:32...|    124.69|\n",
      "| CMI|[2024-11-15 16:32...|    119.79|\n",
      "| KMB|[2024-11-15 16:32...|     90.08|\n",
      "+----+--------------------+----------+\n",
      "\n"
     ]
    },
    {
     "name": "stderr",
     "output_type": "stream",
     "text": [
      "                                                                                \r"
     ]
    },
    {
     "name": "stdout",
     "output_type": "stream",
     "text": [
      "-------------------------------------------\n",
      "Batch: 1\n",
      "-------------------------------------------\n",
      "+----+--------------------+----------+\n",
      "|name|              window|avg(price)|\n",
      "+----+--------------------+----------+\n",
      "| AZO|[2024-11-15 16:32...|    384.01|\n",
      "|ISRG|[2024-11-15 16:32...|  192.6465|\n",
      "| PXD|[2024-11-15 16:33...|     128.0|\n",
      "| PXD|[2024-11-15 16:32...|    124.69|\n",
      "| CMI|[2024-11-15 16:32...|    119.79|\n",
      "+----+--------------------+----------+\n",
      "\n"
     ]
    },
    {
     "name": "stderr",
     "output_type": "stream",
     "text": [
      "                                                                                \r"
     ]
    },
    {
     "name": "stdout",
     "output_type": "stream",
     "text": [
      "-------------------------------------------\n",
      "Batch: 2\n",
      "-------------------------------------------\n",
      "+----+--------------------+----------+\n",
      "|name|              window|avg(price)|\n",
      "+----+--------------------+----------+\n",
      "| AZO|[2024-11-15 16:32...|    384.01|\n",
      "|ISRG|[2024-11-15 16:32...|  192.6465|\n",
      "| PXD|[2024-11-15 16:33...|     128.0|\n",
      "| PXD|[2024-11-15 16:32...|    124.69|\n",
      "| CMI|[2024-11-15 16:32...|    119.79|\n",
      "+----+--------------------+----------+\n",
      "\n"
     ]
    },
    {
     "name": "stderr",
     "output_type": "stream",
     "text": [
      "                                                                                \r"
     ]
    },
    {
     "name": "stdout",
     "output_type": "stream",
     "text": [
      "-------------------------------------------\n",
      "Batch: 3\n",
      "-------------------------------------------\n",
      "+----+--------------------+----------+\n",
      "|name|              window|avg(price)|\n",
      "+----+--------------------+----------+\n",
      "| AZO|[2024-11-15 16:32...|    384.01|\n",
      "|ISRG|[2024-11-15 16:32...|  192.6465|\n",
      "| PXD|[2024-11-15 16:33...|     128.0|\n",
      "| PXD|[2024-11-15 16:32...|    124.69|\n",
      "| CMI|[2024-11-15 16:32...|    119.79|\n",
      "+----+--------------------+----------+\n",
      "\n"
     ]
    }
   ],
   "source": [
    "from pyspark.sql.functions import window, col, desc, asc, rank\n",
    "\n",
    "value = df.withWatermark(\"timestamp\", \"5 seconds\").groupBy(\"name\", window(\"timestamp\", \"5 seconds\")).avg(\"price\").orderBy(desc(\"avg(price)\")).limit(5)\n",
    "\n",
    "value.writeStream \\\n",
    "          .outputMode(\"complete\") \\\n",
    "          .format(\"console\") \\\n",
    "          .start()"
   ]
  },
  {
   "cell_type": "markdown",
   "id": "86d980d8",
   "metadata": {},
   "source": [
    "## Select the stocks that lost value between two windows"
   ]
  },
  {
   "cell_type": "code",
   "execution_count": null,
   "id": "2be5320a",
   "metadata": {},
   "outputs": [],
   "source": [
    "# remember you can register another stream\n",
    "from pyspark.sql.functions import expr, window, avg\n",
    "from pyspark.sql import functions as F\n",
    "\n",
    "secondStream = (spark.readStream                        # Get the DataStreamReader\n",
    "  .format(\"kafka\")                                 # Specify the source format as \"kafka\"\n",
    "  .option(\"kafka.bootstrap.servers\", kafka_server) # Configure the Kafka server name and port\n",
    "  .option(\"subscribe\", \"stock\")                       # Subscribe to the \"en\" Kafka topic \n",
    "  .option(\"startingOffsets\", \"earliest\")           # The start point when a query is started\n",
    "  .option(\"maxOffsetsPerTrigger\", 100)             # Rate limit on max offsets per trigger interval\n",
    "  .load()\n",
    "  .select(from_json(col(\"value\").cast(\"string\"), schema).alias(\"parsed_value\"))\n",
    "# Load the DataFrame\n",
    ")\n",
    "\n",
    "df2 = secondStream.select(\"parsed_value.*\").withColumnRenamed(\"name\",\"secondName\").withColumnRenamed(\"price\",\"newPrice\") \\\n",
    ".withWatermark(\"timestamp\", \"5 seconds\").withColumnRenamed(\"timestamp\",\"newTime\")\n",
    "\n",
    "df1 = df.withWatermark(\"timestamp\", \"5 seconds\")\n",
    "\n",
    "joined_streams_df = (df1.join(df2, expr(\"\"\"\n",
    "    name = secondName AND\n",
    "    newTime > timestamp AND\n",
    "    newTime <= timestamp + interval 5 seconds\n",
    "    \"\"\"),\"inner\")).groupBy(\"name\",\"secondName\",window(\"timestamp\",\"5 seconds\")).agg(F.avg(\"price\"),F.avg(\"newPrice\")).filter(col(\"avg(newPrice)\") < col(\"avg(price)\"))\n",
    "\n",
    "#.agg(F.max(\"timestamp\")).avg(\"price\",\"newPrice\")\n",
    "joined_streams_df.writeStream \\\n",
    "          .outputMode(\"append\") \\\n",
    "          .format(\"console\") \\\n",
    "          .start()"
   ]
  },
  {
   "cell_type": "markdown",
   "id": "f765c1d5",
   "metadata": {},
   "source": [
    "## Select the stock that gained the most (between windows)"
   ]
  },
  {
   "cell_type": "code",
   "execution_count": null,
   "id": "ce4600e8",
   "metadata": {},
   "outputs": [],
   "source": [
    "# remember you can register another stream\n",
    "from pyspark.sql.functions import expr, window, avg, desc, abs\n",
    "from pyspark.sql import functions as F\n",
    "\n",
    "secondStream = (spark.readStream                        # Get the DataStreamReader\n",
    "  .format(\"kafka\")                                 # Specify the source format as \"kafka\"\n",
    "  .option(\"kafka.bootstrap.servers\", kafka_server) # Configure the Kafka server name and port\n",
    "  .option(\"subscribe\", \"stock\")                       # Subscribe to the \"en\" Kafka topic \n",
    "  .option(\"startingOffsets\", \"earliest\")           # The start point when a query is started\n",
    "  .option(\"maxOffsetsPerTrigger\", 100)             # Rate limit on max offsets per trigger interval\n",
    "  .load()\n",
    "  .select(from_json(col(\"value\").cast(\"string\"), schema).alias(\"parsed_value\"))\n",
    "# Load the DataFrame\n",
    ")\n",
    "\n",
    "df2 = secondStream.select(\"parsed_value.*\").withColumnRenamed(\"name\",\"secondName\").withColumnRenamed(\"price\",\"newPrice\") \\\n",
    ".withWatermark(\"timestamp\", \"5 seconds\").withColumnRenamed(\"timestamp\",\"newTime\")\n",
    "\n",
    "df1 = df.withWatermark(\"timestamp\", \"5 seconds\")\n",
    "\n",
    "joined_streams_df = (df1.join(df2, expr(\"\"\"\n",
    "    name = secondName AND\n",
    "    newTime > timestamp AND\n",
    "    newTime <= timestamp + interval 5 seconds\n",
    "    \"\"\"),\"inner\")).withColumn(\"amount\",col(\"newPrice\") - col(\"price\")).groupBy(\"name\",window(\"timestamp\",\"5 seconds\")).agg(F.avg(\"amount\"), F.max(\"amount\"))\n",
    "\n",
    "#.avg(\"amount\").agg(F.max(\"avg(amount)\"))\n",
    "\n",
    "#.agg(F.max_by(\"amount\"))\n",
    "\n",
    "#.agg(F.max(\"timestamp\")).avg(\"price\",\"newPrice\")\n",
    "joined_streams_df.writeStream \\\n",
    "          .outputMode(\"append\") \\\n",
    "          .format(\"console\") \\\n",
    "          .start()"
   ]
  },
  {
   "cell_type": "markdown",
   "id": "77b9f375",
   "metadata": {},
   "source": [
    "## Compute your assets"
   ]
  },
  {
   "cell_type": "code",
   "execution_count": 4,
   "id": "53efe170",
   "metadata": {},
   "outputs": [
    {
     "name": "stdout",
     "output_type": "stream",
     "text": [
      "Collecting pandas\n",
      "  Obtaining dependency information for pandas from https://files.pythonhosted.org/packages/69/a8/6783854b7e7f64016f08c56b36a95ae5a89c6f7e99d68b8aea1c221cb68e/pandas-2.1.1-cp39-cp39-manylinux_2_17_aarch64.manylinux2014_aarch64.whl.metadata\n",
      "  Downloading pandas-2.1.1-cp39-cp39-manylinux_2_17_aarch64.manylinux2014_aarch64.whl.metadata (18 kB)\n",
      "Collecting numpy>=1.22.4 (from pandas)\n",
      "  Obtaining dependency information for numpy>=1.22.4 from https://files.pythonhosted.org/packages/41/95/1145b9072e39ef4c40d62f76d0d80be65a7c383ba3ef9ccd2d9a97974752/numpy-1.26.0-cp39-cp39-manylinux_2_17_aarch64.manylinux2014_aarch64.whl.metadata\n",
      "  Downloading numpy-1.26.0-cp39-cp39-manylinux_2_17_aarch64.manylinux2014_aarch64.whl.metadata (58 kB)\n",
      "\u001b[2K     \u001b[90m━━━━━━━━━━━━━━━━━━━━━━━━━━━━━━━━━━━━━━━━\u001b[0m \u001b[32m58.5/58.5 kB\u001b[0m \u001b[31m3.8 MB/s\u001b[0m eta \u001b[36m0:00:00\u001b[0m\n",
      "\u001b[?25hRequirement already satisfied: python-dateutil>=2.8.2 in /usr/local/lib/python3.9/dist-packages (from pandas) (2.8.2)\n",
      "Collecting pytz>=2020.1 (from pandas)\n",
      "  Obtaining dependency information for pytz>=2020.1 from https://files.pythonhosted.org/packages/32/4d/aaf7eff5deb402fd9a24a1449a8119f00d74ae9c2efa79f8ef9994261fc2/pytz-2023.3.post1-py2.py3-none-any.whl.metadata\n",
      "  Downloading pytz-2023.3.post1-py2.py3-none-any.whl.metadata (22 kB)\n",
      "Collecting tzdata>=2022.1 (from pandas)\n",
      "  Downloading tzdata-2023.3-py2.py3-none-any.whl (341 kB)\n",
      "\u001b[2K     \u001b[90m━━━━━━━━━━━━━━━━━━━━━━━━━━━━━━━━━━━━━━━\u001b[0m \u001b[32m341.8/341.8 kB\u001b[0m \u001b[31m7.6 MB/s\u001b[0m eta \u001b[36m0:00:00\u001b[0ma \u001b[36m0:00:01\u001b[0m\n",
      "\u001b[?25hRequirement already satisfied: six>=1.5 in /usr/local/lib/python3.9/dist-packages (from python-dateutil>=2.8.2->pandas) (1.16.0)\n",
      "Downloading pandas-2.1.1-cp39-cp39-manylinux_2_17_aarch64.manylinux2014_aarch64.whl (14.9 MB)\n",
      "\u001b[2K   \u001b[90m━━━━━━━━━━━━━━━━━━━━━━━━━━━━━━━━━━━━━━━━\u001b[0m \u001b[32m14.9/14.9 MB\u001b[0m \u001b[31m49.6 MB/s\u001b[0m eta \u001b[36m0:00:00\u001b[0m00:01\u001b[0m00:01\u001b[0m\n",
      "\u001b[?25hDownloading numpy-1.26.0-cp39-cp39-manylinux_2_17_aarch64.manylinux2014_aarch64.whl (14.2 MB)\n",
      "\u001b[2K   \u001b[90m━━━━━━━━━━━━━━━━━━━━━━━━━━━━━━━━━━━━━━━━\u001b[0m \u001b[32m14.2/14.2 MB\u001b[0m \u001b[31m73.4 MB/s\u001b[0m eta \u001b[36m0:00:00\u001b[0m00:01\u001b[0m00:01\u001b[0m\n",
      "\u001b[?25hDownloading pytz-2023.3.post1-py2.py3-none-any.whl (502 kB)\n",
      "\u001b[2K   \u001b[90m━━━━━━━━━━━━━━━━━━━━━━━━━━━━━━━━━━━━━━━\u001b[0m \u001b[32m502.5/502.5 kB\u001b[0m \u001b[31m176.3 MB/s\u001b[0m eta \u001b[36m0:00:00\u001b[0m\n",
      "\u001b[?25hInstalling collected packages: pytz, tzdata, numpy, pandas\n",
      "Successfully installed numpy-1.26.0 pandas-2.1.1 pytz-2023.3.post1 tzdata-2023.3\n",
      "\u001b[33mWARNING: Running pip as the 'root' user can result in broken permissions and conflicting behaviour with the system package manager. It is recommended to use a virtual environment instead: https://pip.pypa.io/warnings/venv\u001b[0m\u001b[33m\n",
      "\u001b[0m"
     ]
    }
   ],
   "source": [
    "! pip install pandas"
   ]
  },
  {
   "cell_type": "code",
   "execution_count": 4,
   "id": "5ed2118a",
   "metadata": {},
   "outputs": [],
   "source": [
    "import pandas as pd\n",
    "\n",
    "assets = [[\"CCL\",100],[\"ADM\",200]]\n",
    "\n",
    "assetsDF = pd.DataFrame(assets, columns = ['name', 'amount'])\n",
    "assetsDF.iteritems = assetsDF.items\n"
   ]
  },
  {
   "cell_type": "code",
   "execution_count": 5,
   "id": "232eb8d4",
   "metadata": {},
   "outputs": [],
   "source": [
    "assetsDF.iteritems = assetsDF.items\n"
   ]
  },
  {
   "cell_type": "code",
   "execution_count": 6,
   "id": "85314919",
   "metadata": {},
   "outputs": [
    {
     "name": "stderr",
     "output_type": "stream",
     "text": [
      "/usr/local/lib/python3.9/dist-packages/pyspark/sql/pandas/types.py:238: FutureWarning: is_datetime64tz_dtype is deprecated and will be removed in a future version. Check `isinstance(dtype, pd.DatetimeTZDtype)` instead.\n",
      "  if is_datetime64tz_dtype(s.dtype):\n"
     ]
    },
    {
     "name": "stdout",
     "output_type": "stream",
     "text": [
      "root\n",
      " |-- name: string (nullable = true)\n",
      " |-- amount: long (nullable = true)\n",
      "\n",
      "+----+------+\n",
      "|name|amount|\n",
      "+----+------+\n",
      "| CCL|   100|\n",
      "| ADM|   200|\n",
      "+----+------+\n",
      "\n"
     ]
    },
    {
     "name": "stderr",
     "output_type": "stream",
     "text": [
      "                                                                                \r"
     ]
    }
   ],
   "source": [
    "sparkDF=spark.createDataFrame(assetsDF) \n",
    "sparkDF.printSchema()\n",
    "sparkDF.show()"
   ]
  },
  {
   "cell_type": "code",
   "execution_count": 7,
   "id": "e8ade61c",
   "metadata": {},
   "outputs": [
    {
     "name": "stderr",
     "output_type": "stream",
     "text": [
      "23/10/13 14:18:31 WARN StreamingQueryManager: Temporary checkpoint location created which is deleted normally when the query didn't fail: /tmp/temporary-ad5b0caa-b95d-4a35-ad09-7c2d548e66a1. If it's required to delete it under any circumstances, please set spark.sql.streaming.forceDeleteTempCheckpointLocation to true. Important to know deleting temp checkpoint folder is best effort.\n"
     ]
    },
    {
     "data": {
      "text/plain": [
       "<pyspark.sql.streaming.StreamingQuery at 0xffff653eae20>"
      ]
     },
     "execution_count": 7,
     "metadata": {},
     "output_type": "execute_result"
    },
    {
     "name": "stderr",
     "output_type": "stream",
     "text": [
      "                                                                                \r"
     ]
    },
    {
     "name": "stdout",
     "output_type": "stream",
     "text": [
      "-------------------------------------------\n",
      "Batch: 0\n",
      "-------------------------------------------\n",
      "+----+------+------+----------+-----+\n",
      "|name|amount|window|avg(price)|money|\n",
      "+----+------+------+----------+-----+\n",
      "+----+------+------+----------+-----+\n",
      "\n"
     ]
    },
    {
     "name": "stderr",
     "output_type": "stream",
     "text": [
      "                                                                                \r"
     ]
    },
    {
     "name": "stdout",
     "output_type": "stream",
     "text": [
      "-------------------------------------------\n",
      "Batch: 1\n",
      "-------------------------------------------\n",
      "+----+------+------+----------+-----+\n",
      "|name|amount|window|avg(price)|money|\n",
      "+----+------+------+----------+-----+\n",
      "+----+------+------+----------+-----+\n",
      "\n"
     ]
    },
    {
     "name": "stderr",
     "output_type": "stream",
     "text": [
      "                                                                                \r"
     ]
    },
    {
     "name": "stdout",
     "output_type": "stream",
     "text": [
      "-------------------------------------------\n",
      "Batch: 2\n",
      "-------------------------------------------\n",
      "+----+------+------+----------+-----+\n",
      "|name|amount|window|avg(price)|money|\n",
      "+----+------+------+----------+-----+\n",
      "+----+------+------+----------+-----+\n",
      "\n"
     ]
    },
    {
     "name": "stderr",
     "output_type": "stream",
     "text": [
      "                                                                                \r"
     ]
    },
    {
     "name": "stdout",
     "output_type": "stream",
     "text": [
      "-------------------------------------------\n",
      "Batch: 3\n",
      "-------------------------------------------\n",
      "+----+------+--------------------+----------+------+\n",
      "|name|amount|              window|avg(price)| money|\n",
      "+----+------+--------------------+----------+------+\n",
      "| ADM|   200|[2023-10-13 09:34...|     32.46|6492.0|\n",
      "+----+------+--------------------+----------+------+\n",
      "\n"
     ]
    },
    {
     "name": "stderr",
     "output_type": "stream",
     "text": [
      "                                                                                \r"
     ]
    },
    {
     "name": "stdout",
     "output_type": "stream",
     "text": [
      "-------------------------------------------\n",
      "Batch: 4\n",
      "-------------------------------------------\n",
      "+----+------+--------------------+----------+------+\n",
      "|name|amount|              window|avg(price)| money|\n",
      "+----+------+--------------------+----------+------+\n",
      "| ADM|   200|[2023-10-13 09:57...|     32.46|6492.0|\n",
      "+----+------+--------------------+----------+------+\n",
      "\n"
     ]
    },
    {
     "name": "stderr",
     "output_type": "stream",
     "text": [
      "                                                                                \r"
     ]
    },
    {
     "name": "stdout",
     "output_type": "stream",
     "text": [
      "-------------------------------------------\n",
      "Batch: 5\n",
      "-------------------------------------------\n",
      "+----+------+--------------------+----------+------------------+\n",
      "|name|amount|              window|avg(price)|             money|\n",
      "+----+------+--------------------+----------+------------------+\n",
      "| CCL|   100|[2023-10-13 09:58...|     33.95|3395.0000000000005|\n",
      "| ADM|   200|[2023-10-13 09:57...|     32.82|            6564.0|\n",
      "+----+------+--------------------+----------+------------------+\n",
      "\n"
     ]
    },
    {
     "name": "stderr",
     "output_type": "stream",
     "text": [
      "                                                                                \r"
     ]
    },
    {
     "name": "stdout",
     "output_type": "stream",
     "text": [
      "-------------------------------------------\n",
      "Batch: 6\n",
      "-------------------------------------------\n",
      "+----+------+------+----------+-----+\n",
      "|name|amount|window|avg(price)|money|\n",
      "+----+------+------+----------+-----+\n",
      "+----+------+------+----------+-----+\n",
      "\n"
     ]
    },
    {
     "name": "stderr",
     "output_type": "stream",
     "text": [
      "                                                                                \r"
     ]
    },
    {
     "name": "stdout",
     "output_type": "stream",
     "text": [
      "-------------------------------------------\n",
      "Batch: 7\n",
      "-------------------------------------------\n",
      "+----+------+--------------------+----------+------+\n",
      "|name|amount|              window|avg(price)| money|\n",
      "+----+------+--------------------+----------+------+\n",
      "| CCL|   100|[2023-10-13 09:59...|     32.35|3235.0|\n",
      "+----+------+--------------------+----------+------+\n",
      "\n"
     ]
    },
    {
     "name": "stderr",
     "output_type": "stream",
     "text": [
      "                                                                                \r"
     ]
    },
    {
     "name": "stdout",
     "output_type": "stream",
     "text": [
      "-------------------------------------------\n",
      "Batch: 8\n",
      "-------------------------------------------\n",
      "+----+------+------+----------+-----+\n",
      "|name|amount|window|avg(price)|money|\n",
      "+----+------+------+----------+-----+\n",
      "+----+------+------+----------+-----+\n",
      "\n"
     ]
    },
    {
     "name": "stderr",
     "output_type": "stream",
     "text": [
      "                                                                                \r"
     ]
    },
    {
     "name": "stdout",
     "output_type": "stream",
     "text": [
      "-------------------------------------------\n",
      "Batch: 9\n",
      "-------------------------------------------\n",
      "+----+------+--------------------+----------+------+\n",
      "|name|amount|              window|avg(price)| money|\n",
      "+----+------+--------------------+----------+------+\n",
      "| ADM|   200|[2023-10-13 10:01...|     37.57|7514.0|\n",
      "+----+------+--------------------+----------+------+\n",
      "\n"
     ]
    },
    {
     "name": "stderr",
     "output_type": "stream",
     "text": [
      "                                                                                \r"
     ]
    },
    {
     "name": "stdout",
     "output_type": "stream",
     "text": [
      "-------------------------------------------\n",
      "Batch: 10\n",
      "-------------------------------------------\n",
      "+----+------+--------------------+----------+-----------------+\n",
      "|name|amount|              window|avg(price)|            money|\n",
      "+----+------+--------------------+----------+-----------------+\n",
      "| ADM|   200|[2023-10-13 10:02...|     34.88|6976.000000000001|\n",
      "+----+------+--------------------+----------+-----------------+\n",
      "\n"
     ]
    },
    {
     "name": "stderr",
     "output_type": "stream",
     "text": [
      "                                                                                \r"
     ]
    },
    {
     "name": "stdout",
     "output_type": "stream",
     "text": [
      "-------------------------------------------\n",
      "Batch: 11\n",
      "-------------------------------------------\n",
      "+----+------+--------------------+----------+------------------+\n",
      "|name|amount|              window|avg(price)|             money|\n",
      "+----+------+--------------------+----------+------------------+\n",
      "| CCL|   100|[2023-10-13 10:03...|   32.5101|           3251.01|\n",
      "| CCL|   100|[2023-10-13 10:03...|     32.48|3247.9999999999995|\n",
      "+----+------+--------------------+----------+------------------+\n",
      "\n"
     ]
    },
    {
     "name": "stderr",
     "output_type": "stream",
     "text": [
      "                                                                                \r"
     ]
    },
    {
     "name": "stdout",
     "output_type": "stream",
     "text": [
      "-------------------------------------------\n",
      "Batch: 12\n",
      "-------------------------------------------\n",
      "+----+------+------+----------+-----+\n",
      "|name|amount|window|avg(price)|money|\n",
      "+----+------+------+----------+-----+\n",
      "+----+------+------+----------+-----+\n",
      "\n"
     ]
    },
    {
     "name": "stderr",
     "output_type": "stream",
     "text": [
      "                                                                                \r"
     ]
    },
    {
     "name": "stdout",
     "output_type": "stream",
     "text": [
      "-------------------------------------------\n",
      "Batch: 13\n",
      "-------------------------------------------\n",
      "+----+------+------+----------+-----+\n",
      "|name|amount|window|avg(price)|money|\n",
      "+----+------+------+----------+-----+\n",
      "+----+------+------+----------+-----+\n",
      "\n"
     ]
    },
    {
     "name": "stderr",
     "output_type": "stream",
     "text": [
      "                                                                                \r"
     ]
    },
    {
     "name": "stdout",
     "output_type": "stream",
     "text": [
      "-------------------------------------------\n",
      "Batch: 14\n",
      "-------------------------------------------\n",
      "+----+------+--------------------+----------+-------+\n",
      "|name|amount|              window|avg(price)|  money|\n",
      "+----+------+--------------------+----------+-------+\n",
      "| ADM|   200|[2023-10-13 10:05...|   43.7599|8751.98|\n",
      "+----+------+--------------------+----------+-------+\n",
      "\n"
     ]
    },
    {
     "name": "stderr",
     "output_type": "stream",
     "text": [
      "                                                                                \r"
     ]
    },
    {
     "name": "stdout",
     "output_type": "stream",
     "text": [
      "-------------------------------------------\n",
      "Batch: 15\n",
      "-------------------------------------------\n",
      "+----+------+------+----------+-----+\n",
      "|name|amount|window|avg(price)|money|\n",
      "+----+------+------+----------+-----+\n",
      "+----+------+------+----------+-----+\n",
      "\n"
     ]
    },
    {
     "name": "stderr",
     "output_type": "stream",
     "text": [
      "[Stage 69:=================================>                    (125 + 6) / 200]\r"
     ]
    }
   ],
   "source": [
    "from pyspark.sql.functions import window, col, desc, asc, rank\n",
    "\n",
    "windowed = df.withWatermark(\"timestamp\",\"5 seconds\").groupBy(\"name\", window(\"timestamp\",\"5 seconds\")).avg(\"price\")\n",
    "query = sparkDF.join(windowed,\"name\", \"inner\").withColumn(\"money\",sparkDF.amount*windowed[\"avg(price)\"])\n",
    "\n",
    "query.writeStream \\\n",
    "          .outputMode(\"append\") \\\n",
    "          .format(\"console\") \\\n",
    "          .start()"
   ]
  },
  {
   "cell_type": "code",
   "execution_count": null,
   "id": "bc30b19e",
   "metadata": {},
   "outputs": [],
   "source": []
  }
 ],
 "metadata": {
  "kernelspec": {
   "display_name": "Python 3 (ipykernel)",
   "language": "python",
   "name": "python3"
  },
  "language_info": {
   "codemirror_mode": {
    "name": "ipython",
    "version": 3
   },
   "file_extension": ".py",
   "mimetype": "text/x-python",
   "name": "python",
   "nbconvert_exporter": "python",
   "pygments_lexer": "ipython3",
   "version": "3.9.2"
  }
 },
 "nbformat": 4,
 "nbformat_minor": 5
}
