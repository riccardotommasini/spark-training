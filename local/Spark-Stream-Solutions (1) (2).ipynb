{
 "cells": [
  {
   "cell_type": "markdown",
   "id": "c48cb1ca",
   "metadata": {},
   "source": [
    "## Spark Stream Practice (Solutions)\n"
   ]
  },
  {
   "cell_type": "code",
   "execution_count": null,
   "id": "85543c91",
   "metadata": {},
   "outputs": [],
   "source": [
    "from pyspark.sql.functions import explode\n",
    "from pyspark.sql.functions import split\n",
    "\n",
    "from pyspark.context import SparkContext\n",
    "from pyspark.conf import SparkConf\n",
    "from pyspark.sql.session import SparkSession\n",
    "from pyspark.sql.functions import col\n",
    "\n",
    "spark = SparkSession.builder \\\n",
    "    .appName(\"MyApp\") \\\n",
    "    .config(\"spark.jars.packages\", 'org.apache.spark:spark-sql-kafka-0-10_2.12:3.0.0') \\\n",
    "    .config(\"spark.sql.repl.eagerEval.enabled\", True) \\\n",
    "    .getOrCreate()"
   ]
  },
  {
   "cell_type": "markdown",
   "id": "8c3510af",
   "metadata": {},
   "source": [
    "### Spark Stream with socket"
   ]
  },
  {
   "cell_type": "markdown",
   "id": "38632d67",
   "metadata": {},
   "source": [
    "In another tab open a terminal and open a socket using \n",
    "    \n",
    "    nc -l -p 9090\n",
    "\n",
    "This will allow you to open a TCP socket and to manually send data"
   ]
  },
  {
   "cell_type": "markdown",
   "id": "e38b0eb3",
   "metadata": {},
   "source": [
    "Connect Spark to the stream"
   ]
  },
  {
   "cell_type": "code",
   "execution_count": null,
   "id": "2df5e040",
   "metadata": {},
   "outputs": [],
   "source": [
    "lines = (spark.readStream                        \n",
    ".format(\"socket\")                                 \n",
    ".option(\"host\",\"localhost\")\n",
    ".option(\"port\",\"9090\")\n",
    ".load())   "
   ]
  },
  {
   "cell_type": "markdown",
   "id": "a57f3c0d",
   "metadata": {},
   "source": [
    "For now, let's just inspect the stream"
   ]
  },
  {
   "cell_type": "code",
   "execution_count": null,
   "id": "44433f27",
   "metadata": {},
   "outputs": [],
   "source": [
    "lines.writeStream \\\n",
    "          .outputMode(\"append\") \\\n",
    "          .format(\"console\") \\\n",
    "          .start()"
   ]
  },
  {
   "cell_type": "markdown",
   "id": "5f5cc576",
   "metadata": {},
   "source": [
    "Now let's do a word count"
   ]
  },
  {
   "cell_type": "code",
   "execution_count": null,
   "id": "042264e9",
   "metadata": {},
   "outputs": [],
   "source": [
    "# Split the lines into words\n",
    "words = lines.select(explode(split(lines.value, \" \")).alias(\"word\"))\n",
    "\n",
    " # Generate running word count\n",
    "wordCounts = words.groupBy(\"word\").count()\n",
    "\n",
    " # Start running the query that prints the running counts to the console\n",
    "query = wordCounts \\\n",
    "          .writeStream \\\n",
    "          .outputMode(\"complete\") \\\n",
    "          .format(\"console\") \\\n",
    "          .start()\n",
    "\n",
    "query.awaitTermination()"
   ]
  },
  {
   "cell_type": "markdown",
   "id": "ad161d86",
   "metadata": {},
   "source": [
    "### Spark streaming with a Kafka"
   ]
  },
  {
   "cell_type": "markdown",
   "id": "4ceef609",
   "metadata": {},
   "source": [
    "We will use the other notebook \"Kafka-producer\" to handle Kafka"
   ]
  },
  {
   "cell_type": "code",
   "execution_count": null,
   "id": "fac8c6e8",
   "metadata": {},
   "outputs": [],
   "source": [
    "kafka_server = \"kafka2:9093\"   \n",
    "\n",
    "lines = (spark.readStream                        # Get the DataStreamReader\n",
    "  .format(\"kafka\")                                 # Specify the source format as \"kafka\"\n",
    "  .option(\"kafka.bootstrap.servers\", kafka_server) # Configure the Kafka server name and port\n",
    "  .option(\"subscribe\", \"words\")                       # Subscribe to the \"en\" Kafka topic - edits of English wikipedia pages\n",
    "  .option(\"startingOffsets\", \"earliest\")           # The start point when a query is started\n",
    "  .option(\"maxOffsetsPerTrigger\", 100)             # Rate limit on max offsets per trigger interval\n",
    "  .load()                                          # Load the DataFrame\n",
    ")"
   ]
  },
  {
   "cell_type": "code",
   "execution_count": null,
   "id": "5db16533",
   "metadata": {
    "scrolled": true
   },
   "outputs": [],
   "source": [
    "# Split the lines into words\n",
    "words = lines.select(explode(split(lines.value, \" \")).alias(\"word\"))\n",
    "\n",
    " # Generate running word count\n",
    "wordCounts = words.groupBy(\"word\").count()\n",
    "\n",
    " # Start running the query that prints the running counts to the console\n",
    "query = wordCounts \\\n",
    "          .writeStream \\\n",
    "          .outputMode(\"append\") \\\n",
    "          .format(\"console\") \\\n",
    "          .start()\n",
    "\n",
    "query.awaitTermination()"
   ]
  },
  {
   "cell_type": "markdown",
   "id": "a9510871",
   "metadata": {},
   "source": [
    "### Spark Structured Stream"
   ]
  },
  {
   "cell_type": "markdown",
   "id": "5b521571",
   "metadata": {},
   "source": [
    "Let's start with an easy example that reads from file"
   ]
  },
  {
   "cell_type": "code",
   "execution_count": null,
   "id": "d5d37af3",
   "metadata": {},
   "outputs": [],
   "source": [
    "from pyspark.sql.types import StructType, StructField, StringType, IntegerType, DoubleType, BooleanType\n",
    "\n",
    "schema = StructType(\n",
    "      [\n",
    "        StructField(\"RecordNumber\", IntegerType(), True),\n",
    "        StructField(\"Zipcode\", StringType(), True),\n",
    "        StructField(\"ZipCodeType\", StringType(), True),\n",
    "        StructField(\"City\", StringType(), True),\n",
    "        StructField(\"State\", StringType(), True),\n",
    "        StructField(\"LocationType\", StringType(), True),\n",
    "        StructField(\"Lat\", StringType(), True),\n",
    "        StructField(\"Long\", StringType(), True),\n",
    "        StructField(\"Xaxis\", StringType(), True),\n",
    "        StructField(\"Yaxis\", StringType(), True),\n",
    "        StructField(\"Zaxis\", StringType(), True),\n",
    "        StructField(\"WorldRegion\", StringType(), True),\n",
    "        StructField(\"Country\", StringType(), True),\n",
    "        StructField(\"LocationText\", StringType(), True),\n",
    "        StructField(\"Location\", StringType(), True),\n",
    "        StructField(\"Decommisioned\", StringType(), True)\n",
    "      ]\n",
    "    )"
   ]
  },
  {
   "cell_type": "code",
   "execution_count": null,
   "id": "5f0b6d82",
   "metadata": {},
   "outputs": [],
   "source": [
    "zips = spark.readStream.schema(schema).json('data/zipcode')"
   ]
  },
  {
   "cell_type": "code",
   "execution_count": null,
   "id": "92fff173",
   "metadata": {},
   "outputs": [],
   "source": [
    "zips.printSchema()"
   ]
  },
  {
   "cell_type": "markdown",
   "id": "17d6c988",
   "metadata": {},
   "source": [
    "We can look at the stream"
   ]
  },
  {
   "cell_type": "code",
   "execution_count": null,
   "id": "c4e79089",
   "metadata": {},
   "outputs": [],
   "source": [
    "zips.writeStream \\\n",
    "          .outputMode(\"append\") \\\n",
    "          .format(\"console\") \\\n",
    "          .start()"
   ]
  },
  {
   "cell_type": "markdown",
   "id": "43c8160f",
   "metadata": {},
   "source": [
    "And we can compute some aggregation on it"
   ]
  },
  {
   "cell_type": "code",
   "execution_count": null,
   "id": "91feabef",
   "metadata": {},
   "outputs": [],
   "source": [
    "groupDF = zips.select(\"Zipcode\").groupBy(\"Zipcode\").count()\n",
    "\n",
    "groupDF.printSchema()\n",
    "\n",
    "groupDF.writeStream \\\n",
    ".format(\"console\") \\\n",
    ".outputMode(\"complete\") \\\n",
    ".start() \\\n",
    ".awaitTermination()"
   ]
  },
  {
   "cell_type": "code",
   "execution_count": null,
   "id": "c520bbe6",
   "metadata": {},
   "outputs": [],
   "source": [
    "groupDF = zips.select(\"LocationType\").groupBy(\"LocationType\").count()\n",
    "\n",
    "groupDF.printSchema()\n",
    "\n",
    "groupDF.writeStream \\\n",
    ".format(\"console\") \\\n",
    ".outputMode(\"complete\") \\\n",
    ".start() "
   ]
  },
  {
   "cell_type": "markdown",
   "id": "734068a0",
   "metadata": {},
   "source": [
    "### Window operator"
   ]
  },
  {
   "cell_type": "code",
   "execution_count": null,
   "id": "4a8fd072",
   "metadata": {
    "scrolled": true
   },
   "outputs": [],
   "source": [
    "from pyspark.sql.functions import window\n",
    "\n",
    "kafka_server = \"kafka1:9092\"   \n",
    "\n",
    "lines = (spark.readStream                        # Get the DataStreamReader\n",
    "  .format(\"kafka\")                                 # Specify the source format as \"kafka\"\n",
    "  .option(\"kafka.bootstrap.servers\", kafka_server) # Configure the Kafka server name and port\n",
    "  .option(\"subscribe\", \"words\")                       # Subscribe to the \"en\" Kafka topic - edits of English wikipedia pages\n",
    "  .option(\"startingOffsets\", \"earliest\")           # The start point when a query is started\n",
    "  .option(\"maxOffsetsPerTrigger\", 100)             # Rate limit on max offsets per trigger interval\n",
    "  .load()                                          # Load the DataFrame\n",
    ")"
   ]
  },
  {
   "cell_type": "code",
   "execution_count": null,
   "id": "dcd47e61",
   "metadata": {
    "scrolled": true
   },
   "outputs": [],
   "source": [
    "# Split the lines into words\n",
    "words = lines.select(explode(split(lines.value, \" \")).alias(\"word\"),col(\"timestamp\"))\n",
    "\n",
    " # Generate running word count\n",
    "wordCounts = words.groupBy(\"word\", window(\"timestamp\", \"5 seconds\")).count()\n",
    "\n",
    " # Start running the query that prints the running counts to the console\n",
    "query = wordCounts \\\n",
    "          .writeStream \\\n",
    "          .outputMode(\"complete\") \\\n",
    "          .format(\"console\") \\\n",
    "          .start()\n",
    "\n",
    "query.awaitTermination()"
   ]
  },
  {
   "cell_type": "markdown",
   "id": "4e285feb",
   "metadata": {},
   "source": [
    "#### Sliding time window"
   ]
  },
  {
   "cell_type": "code",
   "execution_count": null,
   "id": "9c8d51ad",
   "metadata": {},
   "outputs": [],
   "source": [
    "# Split the lines into words\n",
    "words = lines.select(explode(split(lines.value, \" \")).alias(\"word\"),col(\"timestamp\"))\n",
    "\n",
    " # Generate running word count\n",
    "wordCounts = words.groupBy(\"word\", window(\"timestamp\", \"5 seconds\", \"2 seconds\")).count()\n",
    "\n",
    " # Start running the query that prints the running counts to the console\n",
    "query = wordCounts \\\n",
    "          .writeStream \\\n",
    "          .outputMode(\"complete\") \\\n",
    "          .format(\"console\") \\\n",
    "          .start()\n",
    "\n",
    "query.awaitTermination()"
   ]
  },
  {
   "cell_type": "markdown",
   "id": "1c444518",
   "metadata": {},
   "source": [
    "#### Other aggregations"
   ]
  },
  {
   "cell_type": "code",
   "execution_count": null,
   "id": "769b4d2f",
   "metadata": {
    "scrolled": true
   },
   "outputs": [],
   "source": [
    "words = lines.select(explode(split(lines.value, \" \")).alias(\"word\"),col(\"timestamp\"))\n",
    "\n",
    " # Generate running word count\n",
    "wordCounts = words.groupBy(\"word\", window(\"timestamp\", \"5 seconds\")).count()\n",
    "\n",
    "wordCounts = wordCounts.orderBy(col(\"count\").desc())\n",
    "\n",
    " # Start running the query that prints the running counts to the console\n",
    "query = wordCounts \\\n",
    "          .writeStream \\\n",
    "          .outputMode(\"complete\") \\\n",
    "          .format(\"console\") \\\n",
    "          .start()\n",
    "\n",
    "query.awaitTermination()"
   ]
  },
  {
   "cell_type": "code",
   "execution_count": null,
   "id": "498dc6c8",
   "metadata": {},
   "outputs": [],
   "source": [
    "words = lines.select(explode(split(lines.value, \" \")).alias(\"word\"),col(\"timestamp\"))\n",
    "\n",
    " # Generate running word count\n",
    "wordCounts = words.groupBy(\"word\", window(\"timestamp\", \"5 seconds\")).count()\n",
    "\n",
    "wordCounts = wordCounts.max_by(col(\"count\"))\n",
    "\n",
    " # Start running the query that prints the running counts to the console\n",
    "query = wordCounts \\\n",
    "          .writeStream \\\n",
    "          .outputMode(\"complete\") \\\n",
    "          .format(\"console\") \\\n",
    "          .start()\n",
    "\n",
    "query.awaitTermination()"
   ]
  },
  {
   "cell_type": "markdown",
   "id": "95a8ba3f",
   "metadata": {},
   "source": [
    "### Wikipedia edits"
   ]
  },
  {
   "cell_type": "markdown",
   "id": "c89fd228",
   "metadata": {},
   "source": [
    "https://stream.wikimedia.org/v2/ui/#/?streams=mediawiki.recentchange"
   ]
  },
  {
   "cell_type": "markdown",
   "id": "cc33ed20",
   "metadata": {},
   "source": [
    "The kafka producer in the other notebook creates 1 stream for each event type (edits, categorize, etc.. but not for the log event)"
   ]
  },
  {
   "cell_type": "code",
   "execution_count": null,
   "id": "775059f9",
   "metadata": {},
   "outputs": [],
   "source": [
    "from pyspark.sql.types import StructType, StructField, StringType, IntegerType, DoubleType, BooleanType, TimestampType\n",
    "\n",
    "schema = StructType(\n",
    "      [\n",
    "        StructField(\"domain\", StringType(), True),\n",
    "        StructField(\"namespace\", StringType(), True),\n",
    "        StructField(\"uri\", StringType(), True),\n",
    "        StructField(\"title\", StringType(), True),\n",
    "        StructField(\"timestamp\", TimestampType(), True),\n",
    "        StructField(\"user_name\", StringType(), True),\n",
    "        StructField(\"user_type\", StringType(), True),\n",
    "        StructField(\"old_length\", StringType(), True),\n",
    "        StructField(\"new_length\", StringType(), True),\n",
    "      ]\n",
    "    )"
   ]
  },
  {
   "cell_type": "code",
   "execution_count": null,
   "id": "78b80924",
   "metadata": {},
   "outputs": [],
   "source": [
    "from pyspark.sql.functions import window\n",
    "from pyspark.sql.functions import from_json\n",
    "kafka_server = \"kafka1:9092\"   \n",
    "\n",
    "wiki_df = (spark.readStream                        # Get the DataStreamReader\n",
    "  .format(\"kafka\")                                 # Specify the source format as \"kafka\"\n",
    "  .option(\"kafka.bootstrap.servers\", kafka_server) # Configure the Kafka server name and port\n",
    "  .option(\"subscribe\", \"edit\")                       # Subscribe to the \"en\" Kafka topi\n",
    "  .option(\"startingOffsets\", \"earliest\")           # The start point when a query is started\n",
    "  .option(\"maxOffsetsPerTrigger\", 100)\n",
    "  .load()\n",
    "  .select(from_json(col(\"value\").cast(\"string\"), schema).alias(\"parsed_value\"))\n",
    ")"
   ]
  },
  {
   "cell_type": "markdown",
   "id": "79e5a8d5",
   "metadata": {},
   "source": [
    "In the last mimute how many edits are done by bots and by humans"
   ]
  },
  {
   "cell_type": "code",
   "execution_count": null,
   "id": "5b5528cc",
   "metadata": {
    "scrolled": true
   },
   "outputs": [],
   "source": [
    "data = wiki_df.select(\"parsed_value.*\")\n",
    "\n",
    "group_df = data.groupBy(col(\"user_type\"), window(col(\"timestamp\"),\"1 minutes\")).count()\n",
    "\n",
    "query = group_df \\\n",
    "          .writeStream \\\n",
    "          .outputMode(\"update\") \\\n",
    "          .format(\"console\") \\\n",
    "          .start()\n",
    "\n",
    "query.awaitTermination()"
   ]
  },
  {
   "cell_type": "markdown",
   "id": "fc8b0fd2",
   "metadata": {},
   "source": [
    "Select the 10 most edited pages"
   ]
  },
  {
   "cell_type": "code",
   "execution_count": null,
   "id": "65898e02",
   "metadata": {},
   "outputs": [],
   "source": [
    "from pyspark.sql.functions import col, row_number\n",
    "\n",
    "data = wiki_df.select(\"parsed_value.*\")\n",
    "\n",
    "group_df = data.groupBy(col(\"uri\"), window(col(\"timestamp\"),\"2 minutes\")).count().orderBy(col(\"count\").desc()).limit(10)\n",
    "\n",
    "query = group_df \\\n",
    "          .writeStream \\\n",
    "          .outputMode(\"complete\") \\\n",
    "          .format(\"console\") \\\n",
    "          .start() \\\n",
    "         \n",
    "\n",
    "query.awaitTermination()"
   ]
  },
  {
   "cell_type": "markdown",
   "id": "29a390a2",
   "metadata": {},
   "source": [
    "Who are the top editors of the english wikipedia?"
   ]
  },
  {
   "cell_type": "code",
   "execution_count": null,
   "id": "b8b70603",
   "metadata": {
    "scrolled": true
   },
   "outputs": [],
   "source": [
    "from pyspark.sql.functions import col, row_number\n",
    "\n",
    "data = wiki_df.select(\"parsed_value.*\")\n",
    "\n",
    "group_df = data \\\n",
    ".filter(col(\"domain\") == \"en.wikipedia.org\") \\\n",
    ".groupBy(\"user_name\").count() \\\n",
    ".orderBy(col(\"count\").desc())\n",
    "\n",
    "query = group_df \\\n",
    "          .writeStream \\\n",
    "          .outputMode(\"complete\") \\\n",
    "          .format(\"console\") \\\n",
    "          .start() \\\n",
    "         \n",
    "\n",
    "query.awaitTermination()"
   ]
  },
  {
   "cell_type": "markdown",
   "id": "7bb164d0",
   "metadata": {},
   "source": [
    "Are they humans or bot?"
   ]
  },
  {
   "cell_type": "code",
   "execution_count": null,
   "id": "418c828d",
   "metadata": {},
   "outputs": [],
   "source": [
    "from pyspark.sql.functions import col, row_number\n",
    "\n",
    "data = wiki_df.select(\"parsed_value.*\")\n",
    "\n",
    "group_df = data \\\n",
    ".filter(col(\"domain\") == \"en.wikipedia.org\") \\\n",
    ".groupBy(\"user_name\",\"user_type\").count() \\\n",
    ".orderBy(col(\"count\").desc())\n",
    "\n",
    "query = group_df \\\n",
    ".writeStream \\\n",
    ".outputMode(\"complete\") \\\n",
    ".format(\"console\") \\\n",
    ".start() \\\n",
    "\n",
    "\n",
    "query.awaitTermination()"
   ]
  },
  {
   "cell_type": "markdown",
   "id": "f4d8bdd1",
   "metadata": {},
   "source": [
    "How many edits added something to the page?"
   ]
  },
  {
   "cell_type": "code",
   "execution_count": null,
   "id": "eefbddf8",
   "metadata": {},
   "outputs": [],
   "source": [
    "from pyspark.sql.functions import col, row_number, when, lit\n",
    "\n",
    "df = wiki_df.select(\"parsed_value.*\")\n",
    "\n",
    "group_df = df \\\n",
    ".withColumn(\"op_type\", when((df.new_length - df.old_length > 0),lit(\"ADD\")).otherwise(lit(\"REMOVE\"))) \\\n",
    ".groupBy(col(\"op_type\")).count()\n",
    "\n",
    "query = group_df \\\n",
    "          .writeStream \\\n",
    "          .outputMode(\"complete\") \\\n",
    "          .format(\"console\") \\\n",
    "          .start() \\\n",
    "         \n",
    "\n",
    "query.awaitTermination()"
   ]
  },
  {
   "cell_type": "markdown",
   "id": "aeaa68ab",
   "metadata": {},
   "source": [
    "#### Joining streams"
   ]
  },
  {
   "cell_type": "markdown",
   "id": "54606615",
   "metadata": {},
   "source": [
    "Let's register to the \"new\" stream"
   ]
  },
  {
   "cell_type": "code",
   "execution_count": 5,
   "id": "f8735d46",
   "metadata": {},
   "outputs": [],
   "source": [
    "from pyspark.sql.functions import window\n",
    "from pyspark.sql.functions import from_json\n",
    "kafka_server = \"kafka1:9092\"   \n",
    "\n",
    "new_df = (spark.readStream                        # Get the DataStreamReader\n",
    "  .format(\"kafka\")                                 # Specify the source format as \"kafka\"\n",
    "  .option(\"kafka.bootstrap.servers\", kafka_server) # Configure the Kafka server name and port\n",
    "  .option(\"subscribe\", \"new\")                       # Subscribe to the \"en\" Kafka topi\n",
    "  .option(\"startingOffsets\", \"earliest\")           # The start point when a query is started\n",
    "  .option(\"maxOffsetsPerTrigger\", 100)\n",
    "  .load()\n",
    "  .select(from_json(col(\"value\").cast(\"string\"), schema).alias(\"parsed_value\"))\n",
    ")"
   ]
  },
  {
   "cell_type": "markdown",
   "id": "58ba8732",
   "metadata": {},
   "source": [
    "Let's see if there are users who add and edit things right after"
   ]
  },
  {
   "cell_type": "code",
   "execution_count": 6,
   "id": "9cc28604",
   "metadata": {},
   "outputs": [
    {
     "name": "stderr",
     "output_type": "stream",
     "text": [
      "23/10/16 15:12:03 WARN StreamingQueryManager: Temporary checkpoint location created which is deleted normally when the query didn't fail: /tmp/temporary-bdfa487e-51f8-403d-8190-091936f7a371. If it's required to delete it under any circumstances, please set spark.sql.streaming.forceDeleteTempCheckpointLocation to true. Important to know deleting temp checkpoint folder is best effort.\n",
      "                                                                                \r"
     ]
    },
    {
     "name": "stdout",
     "output_type": "stream",
     "text": [
      "-------------------------------------------\n",
      "Batch: 0\n",
      "-------------------------------------------\n",
      "+------------------+\n",
      "|          editName|\n",
      "+------------------+\n",
      "| Materialscientist|\n",
      "|       Schlosser67|\n",
      "|InternetArchiveBot|\n",
      "|InternetArchiveBot|\n",
      "|InternetArchiveBot|\n",
      "|InternetArchiveBot|\n",
      "|InternetArchiveBot|\n",
      "|InternetArchiveBot|\n",
      "|InternetArchiveBot|\n",
      "|InternetArchiveBot|\n",
      "|InternetArchiveBot|\n",
      "|InternetArchiveBot|\n",
      "|InternetArchiveBot|\n",
      "|InternetArchiveBot|\n",
      "|InternetArchiveBot|\n",
      "|InternetArchiveBot|\n",
      "|InternetArchiveBot|\n",
      "|InternetArchiveBot|\n",
      "|InternetArchiveBot|\n",
      "|InternetArchiveBot|\n",
      "+------------------+\n",
      "only showing top 20 rows\n",
      "\n"
     ]
    },
    {
     "name": "stderr",
     "output_type": "stream",
     "text": [
      "                                                                                \r"
     ]
    },
    {
     "name": "stdout",
     "output_type": "stream",
     "text": [
      "-------------------------------------------\n",
      "Batch: 1\n",
      "-------------------------------------------\n",
      "+------------------+\n",
      "|          editName|\n",
      "+------------------+\n",
      "|InternetArchiveBot|\n",
      "|InternetArchiveBot|\n",
      "|InternetArchiveBot|\n",
      "|InternetArchiveBot|\n",
      "|InternetArchiveBot|\n",
      "|InternetArchiveBot|\n",
      "|InternetArchiveBot|\n",
      "|InternetArchiveBot|\n",
      "|InternetArchiveBot|\n",
      "|InternetArchiveBot|\n",
      "|InternetArchiveBot|\n",
      "|InternetArchiveBot|\n",
      "|InternetArchiveBot|\n",
      "|InternetArchiveBot|\n",
      "|InternetArchiveBot|\n",
      "|InternetArchiveBot|\n",
      "|InternetArchiveBot|\n",
      "|InternetArchiveBot|\n",
      "|InternetArchiveBot|\n",
      "|InternetArchiveBot|\n",
      "+------------------+\n",
      "only showing top 20 rows\n",
      "\n"
     ]
    },
    {
     "name": "stderr",
     "output_type": "stream",
     "text": [
      "                                                                                \r"
     ]
    },
    {
     "name": "stdout",
     "output_type": "stream",
     "text": [
      "-------------------------------------------\n",
      "Batch: 2\n",
      "-------------------------------------------\n",
      "+------------------+\n",
      "|          editName|\n",
      "+------------------+\n",
      "|           Mannivu|\n",
      "|   YuitoAkatsukiJP|\n",
      "|   YuitoAkatsukiJP|\n",
      "|   YuitoAkatsukiJP|\n",
      "|   YuitoAkatsukiJP|\n",
      "|   YuitoAkatsukiJP|\n",
      "|   YuitoAkatsukiJP|\n",
      "|InternetArchiveBot|\n",
      "|InternetArchiveBot|\n",
      "|InternetArchiveBot|\n",
      "|InternetArchiveBot|\n",
      "|InternetArchiveBot|\n",
      "|InternetArchiveBot|\n",
      "|InternetArchiveBot|\n",
      "|InternetArchiveBot|\n",
      "|InternetArchiveBot|\n",
      "|InternetArchiveBot|\n",
      "|InternetArchiveBot|\n",
      "|InternetArchiveBot|\n",
      "|InternetArchiveBot|\n",
      "+------------------+\n",
      "only showing top 20 rows\n",
      "\n"
     ]
    },
    {
     "name": "stderr",
     "output_type": "stream",
     "text": [
      "                                                                                \r"
     ]
    },
    {
     "name": "stdout",
     "output_type": "stream",
     "text": [
      "-------------------------------------------\n",
      "Batch: 3\n",
      "-------------------------------------------\n",
      "+------------------+\n",
      "|          editName|\n",
      "+------------------+\n",
      "|             Ghaly|\n",
      "|InternetArchiveBot|\n",
      "|InternetArchiveBot|\n",
      "|InternetArchiveBot|\n",
      "|InternetArchiveBot|\n",
      "|InternetArchiveBot|\n",
      "|InternetArchiveBot|\n",
      "|InternetArchiveBot|\n",
      "|InternetArchiveBot|\n",
      "|InternetArchiveBot|\n",
      "|InternetArchiveBot|\n",
      "|InternetArchiveBot|\n",
      "|InternetArchiveBot|\n",
      "|InternetArchiveBot|\n",
      "|InternetArchiveBot|\n",
      "|InternetArchiveBot|\n",
      "|InternetArchiveBot|\n",
      "|InternetArchiveBot|\n",
      "|InternetArchiveBot|\n",
      "|InternetArchiveBot|\n",
      "+------------------+\n",
      "only showing top 20 rows\n",
      "\n"
     ]
    },
    {
     "name": "stderr",
     "output_type": "stream",
     "text": [
      "                                                                                \r"
     ]
    },
    {
     "name": "stdout",
     "output_type": "stream",
     "text": [
      "-------------------------------------------\n",
      "Batch: 4\n",
      "-------------------------------------------\n",
      "+------------------+\n",
      "|          editName|\n",
      "+------------------+\n",
      "| Materialscientist|\n",
      "|InternetArchiveBot|\n",
      "|InternetArchiveBot|\n",
      "|InternetArchiveBot|\n",
      "|InternetArchiveBot|\n",
      "|InternetArchiveBot|\n",
      "|InternetArchiveBot|\n",
      "|InternetArchiveBot|\n",
      "|InternetArchiveBot|\n",
      "|InternetArchiveBot|\n",
      "|InternetArchiveBot|\n",
      "|InternetArchiveBot|\n",
      "|InternetArchiveBot|\n",
      "|InternetArchiveBot|\n",
      "|InternetArchiveBot|\n",
      "|InternetArchiveBot|\n",
      "|InternetArchiveBot|\n",
      "|InternetArchiveBot|\n",
      "|InternetArchiveBot|\n",
      "|InternetArchiveBot|\n",
      "+------------------+\n",
      "only showing top 20 rows\n",
      "\n"
     ]
    },
    {
     "name": "stderr",
     "output_type": "stream",
     "text": [
      "                                                                                \r"
     ]
    },
    {
     "name": "stdout",
     "output_type": "stream",
     "text": [
      "-------------------------------------------\n",
      "Batch: 5\n",
      "-------------------------------------------\n",
      "+------------------+\n",
      "|          editName|\n",
      "+------------------+\n",
      "|       Schlosser67|\n",
      "|InternetArchiveBot|\n",
      "|InternetArchiveBot|\n",
      "|InternetArchiveBot|\n",
      "|InternetArchiveBot|\n",
      "|InternetArchiveBot|\n",
      "|InternetArchiveBot|\n",
      "|InternetArchiveBot|\n",
      "|InternetArchiveBot|\n",
      "|InternetArchiveBot|\n",
      "|InternetArchiveBot|\n",
      "|InternetArchiveBot|\n",
      "|InternetArchiveBot|\n",
      "|InternetArchiveBot|\n",
      "|InternetArchiveBot|\n",
      "|InternetArchiveBot|\n",
      "|InternetArchiveBot|\n",
      "|InternetArchiveBot|\n",
      "|InternetArchiveBot|\n",
      "|InternetArchiveBot|\n",
      "+------------------+\n",
      "only showing top 20 rows\n",
      "\n"
     ]
    },
    {
     "name": "stderr",
     "output_type": "stream",
     "text": [
      "                                                                                \r"
     ]
    },
    {
     "name": "stdout",
     "output_type": "stream",
     "text": [
      "-------------------------------------------\n",
      "Batch: 6\n",
      "-------------------------------------------\n",
      "+------------------+\n",
      "|          editName|\n",
      "+------------------+\n",
      "|           JohnSka|\n",
      "|InternetArchiveBot|\n",
      "|InternetArchiveBot|\n",
      "|InternetArchiveBot|\n",
      "|InternetArchiveBot|\n",
      "|InternetArchiveBot|\n",
      "|InternetArchiveBot|\n",
      "|InternetArchiveBot|\n",
      "|InternetArchiveBot|\n",
      "|InternetArchiveBot|\n",
      "|InternetArchiveBot|\n",
      "|InternetArchiveBot|\n",
      "|InternetArchiveBot|\n",
      "|InternetArchiveBot|\n",
      "|InternetArchiveBot|\n",
      "|InternetArchiveBot|\n",
      "|InternetArchiveBot|\n",
      "|InternetArchiveBot|\n",
      "|InternetArchiveBot|\n",
      "|InternetArchiveBot|\n",
      "+------------------+\n",
      "only showing top 20 rows\n",
      "\n"
     ]
    },
    {
     "name": "stderr",
     "output_type": "stream",
     "text": [
      "                                                                                \r"
     ]
    },
    {
     "name": "stdout",
     "output_type": "stream",
     "text": [
      "-------------------------------------------\n",
      "Batch: 7\n",
      "-------------------------------------------\n",
      "+------------------+\n",
      "|          editName|\n",
      "+------------------+\n",
      "|InternetArchiveBot|\n",
      "|InternetArchiveBot|\n",
      "|InternetArchiveBot|\n",
      "|InternetArchiveBot|\n",
      "|InternetArchiveBot|\n",
      "|InternetArchiveBot|\n",
      "|InternetArchiveBot|\n",
      "|InternetArchiveBot|\n",
      "|InternetArchiveBot|\n",
      "|InternetArchiveBot|\n",
      "|InternetArchiveBot|\n",
      "|InternetArchiveBot|\n",
      "|InternetArchiveBot|\n",
      "|InternetArchiveBot|\n",
      "|InternetArchiveBot|\n",
      "|InternetArchiveBot|\n",
      "|InternetArchiveBot|\n",
      "|InternetArchiveBot|\n",
      "|InternetArchiveBot|\n",
      "|InternetArchiveBot|\n",
      "+------------------+\n",
      "only showing top 20 rows\n",
      "\n"
     ]
    },
    {
     "name": "stderr",
     "output_type": "stream",
     "text": [
      "[Stage 26:==================================================>   (186 + 6) / 200]\r"
     ]
    },
    {
     "name": "stdout",
     "output_type": "stream",
     "text": [
      "-------------------------------------------\n",
      "Batch: 8\n",
      "-------------------------------------------\n",
      "+------------------+\n",
      "|          editName|\n",
      "+------------------+\n",
      "|InternetArchiveBot|\n",
      "|InternetArchiveBot|\n",
      "|InternetArchiveBot|\n",
      "|InternetArchiveBot|\n",
      "|InternetArchiveBot|\n",
      "|InternetArchiveBot|\n",
      "|InternetArchiveBot|\n",
      "|InternetArchiveBot|\n",
      "|InternetArchiveBot|\n",
      "|InternetArchiveBot|\n",
      "|InternetArchiveBot|\n",
      "|InternetArchiveBot|\n",
      "|InternetArchiveBot|\n",
      "|InternetArchiveBot|\n",
      "|InternetArchiveBot|\n",
      "|InternetArchiveBot|\n",
      "|InternetArchiveBot|\n",
      "|InternetArchiveBot|\n",
      "|InternetArchiveBot|\n",
      "|InternetArchiveBot|\n",
      "+------------------+\n",
      "only showing top 20 rows\n",
      "\n"
     ]
    },
    {
     "name": "stderr",
     "output_type": "stream",
     "text": [
      "                                                                                \r"
     ]
    },
    {
     "name": "stdout",
     "output_type": "stream",
     "text": [
      "-------------------------------------------\n",
      "Batch: 9\n",
      "-------------------------------------------\n",
      "+--------+\n",
      "|editName|\n",
      "+--------+\n",
      "|   Lvova|\n",
      "|   Lvova|\n",
      "+--------+\n",
      "\n"
     ]
    },
    {
     "name": "stderr",
     "output_type": "stream",
     "text": [
      "                                                                                \r"
     ]
    },
    {
     "name": "stdout",
     "output_type": "stream",
     "text": [
      "-------------------------------------------\n",
      "Batch: 10\n",
      "-------------------------------------------\n",
      "+------------------+\n",
      "|          editName|\n",
      "+------------------+\n",
      "|InternetArchiveBot|\n",
      "|InternetArchiveBot|\n",
      "|InternetArchiveBot|\n",
      "|InternetArchiveBot|\n",
      "|InternetArchiveBot|\n",
      "|InternetArchiveBot|\n",
      "|InternetArchiveBot|\n",
      "|InternetArchiveBot|\n",
      "|InternetArchiveBot|\n",
      "|InternetArchiveBot|\n",
      "|InternetArchiveBot|\n",
      "|InternetArchiveBot|\n",
      "|InternetArchiveBot|\n",
      "|InternetArchiveBot|\n",
      "|InternetArchiveBot|\n",
      "|InternetArchiveBot|\n",
      "|InternetArchiveBot|\n",
      "|InternetArchiveBot|\n",
      "|InternetArchiveBot|\n",
      "|InternetArchiveBot|\n",
      "+------------------+\n",
      "only showing top 20 rows\n",
      "\n"
     ]
    },
    {
     "name": "stderr",
     "output_type": "stream",
     "text": [
      "                                                                                \r"
     ]
    },
    {
     "name": "stdout",
     "output_type": "stream",
     "text": [
      "-------------------------------------------\n",
      "Batch: 11\n",
      "-------------------------------------------\n",
      "+------------------+\n",
      "|          editName|\n",
      "+------------------+\n",
      "|InternetArchiveBot|\n",
      "|InternetArchiveBot|\n",
      "|InternetArchiveBot|\n",
      "|InternetArchiveBot|\n",
      "|InternetArchiveBot|\n",
      "|InternetArchiveBot|\n",
      "|InternetArchiveBot|\n",
      "|InternetArchiveBot|\n",
      "|InternetArchiveBot|\n",
      "|InternetArchiveBot|\n",
      "|InternetArchiveBot|\n",
      "|InternetArchiveBot|\n",
      "|InternetArchiveBot|\n",
      "|InternetArchiveBot|\n",
      "|InternetArchiveBot|\n",
      "|InternetArchiveBot|\n",
      "|InternetArchiveBot|\n",
      "|InternetArchiveBot|\n",
      "|InternetArchiveBot|\n",
      "|InternetArchiveBot|\n",
      "+------------------+\n",
      "only showing top 20 rows\n",
      "\n"
     ]
    },
    {
     "name": "stderr",
     "output_type": "stream",
     "text": [
      "                                                                                \r"
     ]
    },
    {
     "name": "stdout",
     "output_type": "stream",
     "text": [
      "-------------------------------------------\n",
      "Batch: 12\n",
      "-------------------------------------------\n",
      "+------------------+\n",
      "|          editName|\n",
      "+------------------+\n",
      "|InternetArchiveBot|\n",
      "|InternetArchiveBot|\n",
      "|InternetArchiveBot|\n",
      "|InternetArchiveBot|\n",
      "|InternetArchiveBot|\n",
      "|InternetArchiveBot|\n",
      "|InternetArchiveBot|\n",
      "|InternetArchiveBot|\n",
      "|InternetArchiveBot|\n",
      "|InternetArchiveBot|\n",
      "|InternetArchiveBot|\n",
      "|InternetArchiveBot|\n",
      "|InternetArchiveBot|\n",
      "|InternetArchiveBot|\n",
      "|InternetArchiveBot|\n",
      "|InternetArchiveBot|\n",
      "|InternetArchiveBot|\n",
      "|InternetArchiveBot|\n",
      "|InternetArchiveBot|\n",
      "|InternetArchiveBot|\n",
      "+------------------+\n",
      "only showing top 20 rows\n",
      "\n"
     ]
    },
    {
     "name": "stderr",
     "output_type": "stream",
     "text": [
      "                                                                                \r"
     ]
    },
    {
     "name": "stdout",
     "output_type": "stream",
     "text": [
      "-------------------------------------------\n",
      "Batch: 13\n",
      "-------------------------------------------\n",
      "+------------------+\n",
      "|          editName|\n",
      "+------------------+\n",
      "|InternetArchiveBot|\n",
      "|InternetArchiveBot|\n",
      "|InternetArchiveBot|\n",
      "|InternetArchiveBot|\n",
      "|InternetArchiveBot|\n",
      "|InternetArchiveBot|\n",
      "|InternetArchiveBot|\n",
      "|InternetArchiveBot|\n",
      "|InternetArchiveBot|\n",
      "|InternetArchiveBot|\n",
      "|InternetArchiveBot|\n",
      "|InternetArchiveBot|\n",
      "|InternetArchiveBot|\n",
      "|InternetArchiveBot|\n",
      "|InternetArchiveBot|\n",
      "|InternetArchiveBot|\n",
      "|InternetArchiveBot|\n",
      "|InternetArchiveBot|\n",
      "|InternetArchiveBot|\n",
      "|InternetArchiveBot|\n",
      "+------------------+\n",
      "only showing top 20 rows\n",
      "\n"
     ]
    },
    {
     "name": "stderr",
     "output_type": "stream",
     "text": [
      "                                                                                \r"
     ]
    },
    {
     "name": "stdout",
     "output_type": "stream",
     "text": [
      "-------------------------------------------\n",
      "Batch: 14\n",
      "-------------------------------------------\n",
      "+------------------+\n",
      "|          editName|\n",
      "+------------------+\n",
      "|        Sangjinhwa|\n",
      "|InternetArchiveBot|\n",
      "|InternetArchiveBot|\n",
      "|InternetArchiveBot|\n",
      "|InternetArchiveBot|\n",
      "|InternetArchiveBot|\n",
      "|InternetArchiveBot|\n",
      "|InternetArchiveBot|\n",
      "|InternetArchiveBot|\n",
      "|InternetArchiveBot|\n",
      "|InternetArchiveBot|\n",
      "|InternetArchiveBot|\n",
      "|InternetArchiveBot|\n",
      "|InternetArchiveBot|\n",
      "|InternetArchiveBot|\n",
      "|InternetArchiveBot|\n",
      "|InternetArchiveBot|\n",
      "|InternetArchiveBot|\n",
      "|InternetArchiveBot|\n",
      "|InternetArchiveBot|\n",
      "+------------------+\n",
      "only showing top 20 rows\n",
      "\n"
     ]
    },
    {
     "name": "stderr",
     "output_type": "stream",
     "text": [
      "                                                                                \r"
     ]
    },
    {
     "name": "stdout",
     "output_type": "stream",
     "text": [
      "-------------------------------------------\n",
      "Batch: 15\n",
      "-------------------------------------------\n",
      "+------------------+\n",
      "|          editName|\n",
      "+------------------+\n",
      "|           Smigles|\n",
      "|InternetArchiveBot|\n",
      "|InternetArchiveBot|\n",
      "|InternetArchiveBot|\n",
      "|InternetArchiveBot|\n",
      "|InternetArchiveBot|\n",
      "|InternetArchiveBot|\n",
      "|InternetArchiveBot|\n",
      "|InternetArchiveBot|\n",
      "|InternetArchiveBot|\n",
      "|InternetArchiveBot|\n",
      "|InternetArchiveBot|\n",
      "|InternetArchiveBot|\n",
      "|InternetArchiveBot|\n",
      "|InternetArchiveBot|\n",
      "|InternetArchiveBot|\n",
      "|InternetArchiveBot|\n",
      "|InternetArchiveBot|\n",
      "|InternetArchiveBot|\n",
      "|InternetArchiveBot|\n",
      "+------------------+\n",
      "only showing top 20 rows\n",
      "\n"
     ]
    },
    {
     "name": "stderr",
     "output_type": "stream",
     "text": [
      "                                                                                \r"
     ]
    },
    {
     "name": "stdout",
     "output_type": "stream",
     "text": [
      "-------------------------------------------\n",
      "Batch: 16\n",
      "-------------------------------------------\n",
      "+------------------+\n",
      "|          editName|\n",
      "+------------------+\n",
      "|           JohnSka|\n",
      "|InternetArchiveBot|\n",
      "|InternetArchiveBot|\n",
      "|InternetArchiveBot|\n",
      "|InternetArchiveBot|\n",
      "|InternetArchiveBot|\n",
      "|InternetArchiveBot|\n",
      "|InternetArchiveBot|\n",
      "|InternetArchiveBot|\n",
      "|InternetArchiveBot|\n",
      "|InternetArchiveBot|\n",
      "|InternetArchiveBot|\n",
      "|InternetArchiveBot|\n",
      "|InternetArchiveBot|\n",
      "|InternetArchiveBot|\n",
      "|InternetArchiveBot|\n",
      "|InternetArchiveBot|\n",
      "|InternetArchiveBot|\n",
      "|InternetArchiveBot|\n",
      "|InternetArchiveBot|\n",
      "+------------------+\n",
      "only showing top 20 rows\n",
      "\n"
     ]
    },
    {
     "name": "stderr",
     "output_type": "stream",
     "text": [
      "[Stage 53:==================================================>   (188 + 6) / 200]\r"
     ]
    },
    {
     "name": "stdout",
     "output_type": "stream",
     "text": [
      "-------------------------------------------\n",
      "Batch: 17\n",
      "-------------------------------------------\n",
      "+------------------+\n",
      "|          editName|\n",
      "+------------------+\n",
      "|           Rhagfyr|\n",
      "|InternetArchiveBot|\n",
      "|InternetArchiveBot|\n",
      "|InternetArchiveBot|\n",
      "|InternetArchiveBot|\n",
      "|InternetArchiveBot|\n",
      "|InternetArchiveBot|\n",
      "|InternetArchiveBot|\n",
      "|InternetArchiveBot|\n",
      "|InternetArchiveBot|\n",
      "|InternetArchiveBot|\n",
      "|InternetArchiveBot|\n",
      "|InternetArchiveBot|\n",
      "|InternetArchiveBot|\n",
      "|InternetArchiveBot|\n",
      "|InternetArchiveBot|\n",
      "|InternetArchiveBot|\n",
      "|InternetArchiveBot|\n",
      "|InternetArchiveBot|\n",
      "|InternetArchiveBot|\n",
      "+------------------+\n",
      "only showing top 20 rows\n",
      "\n"
     ]
    },
    {
     "name": "stderr",
     "output_type": "stream",
     "text": [
      "                                                                                \r"
     ]
    },
    {
     "name": "stdout",
     "output_type": "stream",
     "text": [
      "-------------------------------------------\n",
      "Batch: 18\n",
      "-------------------------------------------\n",
      "+------------------+\n",
      "|          editName|\n",
      "+------------------+\n",
      "|          Gualiofa|\n",
      "|           Smigles|\n",
      "|           Smigles|\n",
      "|       Schlosser67|\n",
      "|       Schlosser67|\n",
      "|InternetArchiveBot|\n",
      "|InternetArchiveBot|\n",
      "|InternetArchiveBot|\n",
      "|InternetArchiveBot|\n",
      "|InternetArchiveBot|\n",
      "|InternetArchiveBot|\n",
      "|InternetArchiveBot|\n",
      "|InternetArchiveBot|\n",
      "|InternetArchiveBot|\n",
      "|InternetArchiveBot|\n",
      "|InternetArchiveBot|\n",
      "|InternetArchiveBot|\n",
      "|InternetArchiveBot|\n",
      "|InternetArchiveBot|\n",
      "|InternetArchiveBot|\n",
      "+------------------+\n",
      "only showing top 20 rows\n",
      "\n"
     ]
    },
    {
     "name": "stderr",
     "output_type": "stream",
     "text": [
      "                                                                                \r"
     ]
    },
    {
     "name": "stdout",
     "output_type": "stream",
     "text": [
      "-------------------------------------------\n",
      "Batch: 19\n",
      "-------------------------------------------\n",
      "+------------------+\n",
      "|          editName|\n",
      "+------------------+\n",
      "|InternetArchiveBot|\n",
      "|InternetArchiveBot|\n",
      "|InternetArchiveBot|\n",
      "|InternetArchiveBot|\n",
      "|InternetArchiveBot|\n",
      "|InternetArchiveBot|\n",
      "|InternetArchiveBot|\n",
      "|InternetArchiveBot|\n",
      "|InternetArchiveBot|\n",
      "|InternetArchiveBot|\n",
      "|InternetArchiveBot|\n",
      "|InternetArchiveBot|\n",
      "|InternetArchiveBot|\n",
      "|InternetArchiveBot|\n",
      "|InternetArchiveBot|\n",
      "|InternetArchiveBot|\n",
      "|InternetArchiveBot|\n",
      "|InternetArchiveBot|\n",
      "|InternetArchiveBot|\n",
      "|InternetArchiveBot|\n",
      "+------------------+\n",
      "only showing top 20 rows\n",
      "\n"
     ]
    },
    {
     "name": "stderr",
     "output_type": "stream",
     "text": [
      "                                                                                \r"
     ]
    },
    {
     "name": "stdout",
     "output_type": "stream",
     "text": [
      "-------------------------------------------\n",
      "Batch: 20\n",
      "-------------------------------------------\n",
      "+------------------+\n",
      "|          editName|\n",
      "+------------------+\n",
      "|InternetArchiveBot|\n",
      "|InternetArchiveBot|\n",
      "|InternetArchiveBot|\n",
      "|InternetArchiveBot|\n",
      "|InternetArchiveBot|\n",
      "|InternetArchiveBot|\n",
      "|InternetArchiveBot|\n",
      "|InternetArchiveBot|\n",
      "|InternetArchiveBot|\n",
      "|InternetArchiveBot|\n",
      "|InternetArchiveBot|\n",
      "|InternetArchiveBot|\n",
      "|InternetArchiveBot|\n",
      "|InternetArchiveBot|\n",
      "|InternetArchiveBot|\n",
      "|InternetArchiveBot|\n",
      "|InternetArchiveBot|\n",
      "|InternetArchiveBot|\n",
      "|InternetArchiveBot|\n",
      "|InternetArchiveBot|\n",
      "+------------------+\n",
      "only showing top 20 rows\n",
      "\n"
     ]
    },
    {
     "name": "stderr",
     "output_type": "stream",
     "text": [
      "                                                                                \r"
     ]
    },
    {
     "name": "stdout",
     "output_type": "stream",
     "text": [
      "-------------------------------------------\n",
      "Batch: 21\n",
      "-------------------------------------------\n",
      "+--------+\n",
      "|editName|\n",
      "+--------+\n",
      "| Smigles|\n",
      "|    Lupe|\n",
      "|    Lupe|\n",
      "|    Lupe|\n",
      "|    Lupe|\n",
      "+--------+\n",
      "\n"
     ]
    },
    {
     "name": "stderr",
     "output_type": "stream",
     "text": [
      "                                                                                \r"
     ]
    },
    {
     "name": "stdout",
     "output_type": "stream",
     "text": [
      "-------------------------------------------\n",
      "Batch: 22\n",
      "-------------------------------------------\n",
      "+--------+\n",
      "|editName|\n",
      "+--------+\n",
      "| Rhagfyr|\n",
      "| Smigles|\n",
      "|Nortix08|\n",
      "|Bargioni|\n",
      "+--------+\n",
      "\n"
     ]
    },
    {
     "name": "stderr",
     "output_type": "stream",
     "text": [
      "                                                                                \r"
     ]
    },
    {
     "name": "stdout",
     "output_type": "stream",
     "text": [
      "-------------------------------------------\n",
      "Batch: 23\n",
      "-------------------------------------------\n",
      "+------------------+\n",
      "|          editName|\n",
      "+------------------+\n",
      "|       Trisquelgnu|\n",
      "|InternetArchiveBot|\n",
      "|InternetArchiveBot|\n",
      "|InternetArchiveBot|\n",
      "|InternetArchiveBot|\n",
      "|InternetArchiveBot|\n",
      "|InternetArchiveBot|\n",
      "|InternetArchiveBot|\n",
      "|InternetArchiveBot|\n",
      "|InternetArchiveBot|\n",
      "|InternetArchiveBot|\n",
      "|InternetArchiveBot|\n",
      "|InternetArchiveBot|\n",
      "|InternetArchiveBot|\n",
      "|InternetArchiveBot|\n",
      "|InternetArchiveBot|\n",
      "|InternetArchiveBot|\n",
      "|InternetArchiveBot|\n",
      "|InternetArchiveBot|\n",
      "|InternetArchiveBot|\n",
      "+------------------+\n",
      "only showing top 20 rows\n",
      "\n"
     ]
    },
    {
     "name": "stderr",
     "output_type": "stream",
     "text": [
      "                                                                                \r"
     ]
    },
    {
     "name": "stdout",
     "output_type": "stream",
     "text": [
      "-------------------------------------------\n",
      "Batch: 24\n",
      "-------------------------------------------\n",
      "+------------------+\n",
      "|          editName|\n",
      "+------------------+\n",
      "|           Rhagfyr|\n",
      "|InternetArchiveBot|\n",
      "|InternetArchiveBot|\n",
      "|InternetArchiveBot|\n",
      "|InternetArchiveBot|\n",
      "|InternetArchiveBot|\n",
      "|InternetArchiveBot|\n",
      "|InternetArchiveBot|\n",
      "|InternetArchiveBot|\n",
      "|InternetArchiveBot|\n",
      "|InternetArchiveBot|\n",
      "|InternetArchiveBot|\n",
      "|InternetArchiveBot|\n",
      "|InternetArchiveBot|\n",
      "|InternetArchiveBot|\n",
      "|InternetArchiveBot|\n",
      "|InternetArchiveBot|\n",
      "|InternetArchiveBot|\n",
      "|InternetArchiveBot|\n",
      "|InternetArchiveBot|\n",
      "+------------------+\n",
      "only showing top 20 rows\n",
      "\n"
     ]
    },
    {
     "name": "stderr",
     "output_type": "stream",
     "text": [
      "                                                                                \r"
     ]
    },
    {
     "name": "stdout",
     "output_type": "stream",
     "text": [
      "-------------------------------------------\n",
      "Batch: 25\n",
      "-------------------------------------------\n",
      "+------------------+\n",
      "|          editName|\n",
      "+------------------+\n",
      "|           Smigles|\n",
      "|           Smigles|\n",
      "|           Mannivu|\n",
      "|           Mannivu|\n",
      "|           Mannivu|\n",
      "|           Mannivu|\n",
      "|           Mannivu|\n",
      "|           Mannivu|\n",
      "|           Mannivu|\n",
      "|           Mannivu|\n",
      "|           Mannivu|\n",
      "|           Mannivu|\n",
      "|           Mannivu|\n",
      "|           Mannivu|\n",
      "|           Mannivu|\n",
      "|           Mannivu|\n",
      "|InternetArchiveBot|\n",
      "|InternetArchiveBot|\n",
      "|InternetArchiveBot|\n",
      "|InternetArchiveBot|\n",
      "+------------------+\n",
      "only showing top 20 rows\n",
      "\n"
     ]
    },
    {
     "name": "stderr",
     "output_type": "stream",
     "text": [
      "                                                                                \r"
     ]
    },
    {
     "name": "stdout",
     "output_type": "stream",
     "text": [
      "-------------------------------------------\n",
      "Batch: 26\n",
      "-------------------------------------------\n",
      "+------------------+\n",
      "|          editName|\n",
      "+------------------+\n",
      "|   YuitoAkatsukiJP|\n",
      "|   YuitoAkatsukiJP|\n",
      "|   YuitoAkatsukiJP|\n",
      "|   YuitoAkatsukiJP|\n",
      "|InternetArchiveBot|\n",
      "|InternetArchiveBot|\n",
      "|InternetArchiveBot|\n",
      "|InternetArchiveBot|\n",
      "|InternetArchiveBot|\n",
      "|InternetArchiveBot|\n",
      "|InternetArchiveBot|\n",
      "|InternetArchiveBot|\n",
      "|InternetArchiveBot|\n",
      "|InternetArchiveBot|\n",
      "|InternetArchiveBot|\n",
      "|InternetArchiveBot|\n",
      "|InternetArchiveBot|\n",
      "|InternetArchiveBot|\n",
      "|InternetArchiveBot|\n",
      "|InternetArchiveBot|\n",
      "+------------------+\n",
      "only showing top 20 rows\n",
      "\n"
     ]
    },
    {
     "name": "stderr",
     "output_type": "stream",
     "text": [
      "                                                                                \r"
     ]
    },
    {
     "name": "stdout",
     "output_type": "stream",
     "text": [
      "-------------------------------------------\n",
      "Batch: 27\n",
      "-------------------------------------------\n",
      "+------------------+\n",
      "|          editName|\n",
      "+------------------+\n",
      "|        NeverDoING|\n",
      "|        NeverDoING|\n",
      "|        NeverDoING|\n",
      "|InternetArchiveBot|\n",
      "|InternetArchiveBot|\n",
      "|InternetArchiveBot|\n",
      "|InternetArchiveBot|\n",
      "|InternetArchiveBot|\n",
      "|InternetArchiveBot|\n",
      "|InternetArchiveBot|\n",
      "|InternetArchiveBot|\n",
      "|InternetArchiveBot|\n",
      "|InternetArchiveBot|\n",
      "|InternetArchiveBot|\n",
      "|InternetArchiveBot|\n",
      "|InternetArchiveBot|\n",
      "|InternetArchiveBot|\n",
      "|InternetArchiveBot|\n",
      "|InternetArchiveBot|\n",
      "|InternetArchiveBot|\n",
      "+------------------+\n",
      "only showing top 20 rows\n",
      "\n"
     ]
    },
    {
     "name": "stderr",
     "output_type": "stream",
     "text": [
      "                                                                                \r"
     ]
    },
    {
     "name": "stdout",
     "output_type": "stream",
     "text": [
      "-------------------------------------------\n",
      "Batch: 28\n",
      "-------------------------------------------\n",
      "+----------+\n",
      "|  editName|\n",
      "+----------+\n",
      "|NeverDoING|\n",
      "|NeverDoING|\n",
      "|NeverDoING|\n",
      "|      Lupe|\n",
      "|      Lupe|\n",
      "|      Lupe|\n",
      "|      Lupe|\n",
      "|   Crowsus|\n",
      "+----------+\n",
      "\n"
     ]
    },
    {
     "name": "stderr",
     "output_type": "stream",
     "text": [
      "                                                                                \r"
     ]
    },
    {
     "name": "stdout",
     "output_type": "stream",
     "text": [
      "-------------------------------------------\n",
      "Batch: 29\n",
      "-------------------------------------------\n",
      "+------------------+\n",
      "|          editName|\n",
      "+------------------+\n",
      "|InternetArchiveBot|\n",
      "|InternetArchiveBot|\n",
      "|InternetArchiveBot|\n",
      "|InternetArchiveBot|\n",
      "|InternetArchiveBot|\n",
      "|InternetArchiveBot|\n",
      "|InternetArchiveBot|\n",
      "|InternetArchiveBot|\n",
      "|InternetArchiveBot|\n",
      "|InternetArchiveBot|\n",
      "|InternetArchiveBot|\n",
      "|InternetArchiveBot|\n",
      "|InternetArchiveBot|\n",
      "|InternetArchiveBot|\n",
      "|InternetArchiveBot|\n",
      "|InternetArchiveBot|\n",
      "|InternetArchiveBot|\n",
      "|InternetArchiveBot|\n",
      "|InternetArchiveBot|\n",
      "|InternetArchiveBot|\n",
      "+------------------+\n",
      "only showing top 20 rows\n",
      "\n"
     ]
    },
    {
     "name": "stderr",
     "output_type": "stream",
     "text": [
      "                                                                                \r"
     ]
    },
    {
     "name": "stdout",
     "output_type": "stream",
     "text": [
      "-------------------------------------------\n",
      "Batch: 30\n",
      "-------------------------------------------\n",
      "+------------------+\n",
      "|          editName|\n",
      "+------------------+\n",
      "|     Рейму Хакурей|\n",
      "|     Рейму Хакурей|\n",
      "| Materialscientist|\n",
      "| Materialscientist|\n",
      "| Materialscientist|\n",
      "| Materialscientist|\n",
      "| Materialscientist|\n",
      "| Materialscientist|\n",
      "|   YuitoAkatsukiJP|\n",
      "|   YuitoAkatsukiJP|\n",
      "|   YuitoAkatsukiJP|\n",
      "|InternetArchiveBot|\n",
      "|InternetArchiveBot|\n",
      "|InternetArchiveBot|\n",
      "|InternetArchiveBot|\n",
      "|InternetArchiveBot|\n",
      "|InternetArchiveBot|\n",
      "|InternetArchiveBot|\n",
      "|InternetArchiveBot|\n",
      "|InternetArchiveBot|\n",
      "+------------------+\n",
      "only showing top 20 rows\n",
      "\n"
     ]
    },
    {
     "name": "stderr",
     "output_type": "stream",
     "text": [
      "[Stage 95:===================================>                  (130 + 6) / 200]\r"
     ]
    },
    {
     "ename": "KeyboardInterrupt",
     "evalue": "",
     "output_type": "error",
     "traceback": [
      "\u001b[0;31m---------------------------------------------------------------------------\u001b[0m",
      "\u001b[0;31mKeyboardInterrupt\u001b[0m                         Traceback (most recent call last)",
      "Cell \u001b[0;32mIn[6], line 21\u001b[0m\n\u001b[1;32m     12\u001b[0m joined_streams_df \u001b[38;5;241m=\u001b[39m (df_edit\n\u001b[1;32m     13\u001b[0m            \u001b[38;5;241m.\u001b[39mjoin(df_new, expr(\u001b[38;5;124m\"\"\"\u001b[39m\n\u001b[1;32m     14\u001b[0m \u001b[38;5;124m    editName = newName AND\u001b[39m\n\u001b[1;32m     15\u001b[0m \u001b[38;5;124m    newTime >= editTime AND\u001b[39m\n\u001b[1;32m     16\u001b[0m \u001b[38;5;124m    newTime <= editTime + interval 5 minute\u001b[39m\n\u001b[1;32m     17\u001b[0m \u001b[38;5;124m    \u001b[39m\u001b[38;5;124m\"\"\"\u001b[39m)))\u001b[38;5;241m.\u001b[39mselect(col(\u001b[38;5;124m\"\u001b[39m\u001b[38;5;124meditName\u001b[39m\u001b[38;5;124m\"\u001b[39m))\n\u001b[1;32m     19\u001b[0m query \u001b[38;5;241m=\u001b[39m joined_streams_df\u001b[38;5;241m.\u001b[39mwriteStream\u001b[38;5;241m.\u001b[39moutputMode(\u001b[38;5;124m\"\u001b[39m\u001b[38;5;124mappend\u001b[39m\u001b[38;5;124m\"\u001b[39m)\u001b[38;5;241m.\u001b[39mformat(\u001b[38;5;124m\"\u001b[39m\u001b[38;5;124mconsole\u001b[39m\u001b[38;5;124m\"\u001b[39m)\u001b[38;5;241m.\u001b[39mstart()\n\u001b[0;32m---> 21\u001b[0m \u001b[43mquery\u001b[49m\u001b[38;5;241;43m.\u001b[39;49m\u001b[43mawaitTermination\u001b[49m\u001b[43m(\u001b[49m\u001b[43m)\u001b[49m\n",
      "File \u001b[0;32m/usr/local/lib/python3.9/dist-packages/pyspark/sql/streaming.py:103\u001b[0m, in \u001b[0;36mStreamingQuery.awaitTermination\u001b[0;34m(self, timeout)\u001b[0m\n\u001b[1;32m    101\u001b[0m     \u001b[38;5;28;01mreturn\u001b[39;00m \u001b[38;5;28mself\u001b[39m\u001b[38;5;241m.\u001b[39m_jsq\u001b[38;5;241m.\u001b[39mawaitTermination(\u001b[38;5;28mint\u001b[39m(timeout \u001b[38;5;241m*\u001b[39m \u001b[38;5;241m1000\u001b[39m))\n\u001b[1;32m    102\u001b[0m \u001b[38;5;28;01melse\u001b[39;00m:\n\u001b[0;32m--> 103\u001b[0m     \u001b[38;5;28;01mreturn\u001b[39;00m \u001b[38;5;28;43mself\u001b[39;49m\u001b[38;5;241;43m.\u001b[39;49m\u001b[43m_jsq\u001b[49m\u001b[38;5;241;43m.\u001b[39;49m\u001b[43mawaitTermination\u001b[49m\u001b[43m(\u001b[49m\u001b[43m)\u001b[49m\n",
      "File \u001b[0;32m/usr/local/lib/python3.9/dist-packages/py4j/java_gateway.py:1303\u001b[0m, in \u001b[0;36mJavaMember.__call__\u001b[0;34m(self, *args)\u001b[0m\n\u001b[1;32m   1296\u001b[0m args_command, temp_args \u001b[38;5;241m=\u001b[39m \u001b[38;5;28mself\u001b[39m\u001b[38;5;241m.\u001b[39m_build_args(\u001b[38;5;241m*\u001b[39margs)\n\u001b[1;32m   1298\u001b[0m command \u001b[38;5;241m=\u001b[39m proto\u001b[38;5;241m.\u001b[39mCALL_COMMAND_NAME \u001b[38;5;241m+\u001b[39m\\\n\u001b[1;32m   1299\u001b[0m     \u001b[38;5;28mself\u001b[39m\u001b[38;5;241m.\u001b[39mcommand_header \u001b[38;5;241m+\u001b[39m\\\n\u001b[1;32m   1300\u001b[0m     args_command \u001b[38;5;241m+\u001b[39m\\\n\u001b[1;32m   1301\u001b[0m     proto\u001b[38;5;241m.\u001b[39mEND_COMMAND_PART\n\u001b[0;32m-> 1303\u001b[0m answer \u001b[38;5;241m=\u001b[39m \u001b[38;5;28;43mself\u001b[39;49m\u001b[38;5;241;43m.\u001b[39;49m\u001b[43mgateway_client\u001b[49m\u001b[38;5;241;43m.\u001b[39;49m\u001b[43msend_command\u001b[49m\u001b[43m(\u001b[49m\u001b[43mcommand\u001b[49m\u001b[43m)\u001b[49m\n\u001b[1;32m   1304\u001b[0m return_value \u001b[38;5;241m=\u001b[39m get_return_value(\n\u001b[1;32m   1305\u001b[0m     answer, \u001b[38;5;28mself\u001b[39m\u001b[38;5;241m.\u001b[39mgateway_client, \u001b[38;5;28mself\u001b[39m\u001b[38;5;241m.\u001b[39mtarget_id, \u001b[38;5;28mself\u001b[39m\u001b[38;5;241m.\u001b[39mname)\n\u001b[1;32m   1307\u001b[0m \u001b[38;5;28;01mfor\u001b[39;00m temp_arg \u001b[38;5;129;01min\u001b[39;00m temp_args:\n",
      "File \u001b[0;32m/usr/local/lib/python3.9/dist-packages/py4j/java_gateway.py:1033\u001b[0m, in \u001b[0;36mGatewayClient.send_command\u001b[0;34m(self, command, retry, binary)\u001b[0m\n\u001b[1;32m   1031\u001b[0m connection \u001b[38;5;241m=\u001b[39m \u001b[38;5;28mself\u001b[39m\u001b[38;5;241m.\u001b[39m_get_connection()\n\u001b[1;32m   1032\u001b[0m \u001b[38;5;28;01mtry\u001b[39;00m:\n\u001b[0;32m-> 1033\u001b[0m     response \u001b[38;5;241m=\u001b[39m \u001b[43mconnection\u001b[49m\u001b[38;5;241;43m.\u001b[39;49m\u001b[43msend_command\u001b[49m\u001b[43m(\u001b[49m\u001b[43mcommand\u001b[49m\u001b[43m)\u001b[49m\n\u001b[1;32m   1034\u001b[0m     \u001b[38;5;28;01mif\u001b[39;00m binary:\n\u001b[1;32m   1035\u001b[0m         \u001b[38;5;28;01mreturn\u001b[39;00m response, \u001b[38;5;28mself\u001b[39m\u001b[38;5;241m.\u001b[39m_create_connection_guard(connection)\n",
      "File \u001b[0;32m/usr/local/lib/python3.9/dist-packages/py4j/java_gateway.py:1200\u001b[0m, in \u001b[0;36mGatewayConnection.send_command\u001b[0;34m(self, command)\u001b[0m\n\u001b[1;32m   1196\u001b[0m     \u001b[38;5;28;01mraise\u001b[39;00m Py4JNetworkError(\n\u001b[1;32m   1197\u001b[0m         \u001b[38;5;124m\"\u001b[39m\u001b[38;5;124mError while sending\u001b[39m\u001b[38;5;124m\"\u001b[39m, e, proto\u001b[38;5;241m.\u001b[39mERROR_ON_SEND)\n\u001b[1;32m   1199\u001b[0m \u001b[38;5;28;01mtry\u001b[39;00m:\n\u001b[0;32m-> 1200\u001b[0m     answer \u001b[38;5;241m=\u001b[39m smart_decode(\u001b[38;5;28;43mself\u001b[39;49m\u001b[38;5;241;43m.\u001b[39;49m\u001b[43mstream\u001b[49m\u001b[38;5;241;43m.\u001b[39;49m\u001b[43mreadline\u001b[49m\u001b[43m(\u001b[49m\u001b[43m)\u001b[49m[:\u001b[38;5;241m-\u001b[39m\u001b[38;5;241m1\u001b[39m])\n\u001b[1;32m   1201\u001b[0m     logger\u001b[38;5;241m.\u001b[39mdebug(\u001b[38;5;124m\"\u001b[39m\u001b[38;5;124mAnswer received: \u001b[39m\u001b[38;5;132;01m{0}\u001b[39;00m\u001b[38;5;124m\"\u001b[39m\u001b[38;5;241m.\u001b[39mformat(answer))\n\u001b[1;32m   1202\u001b[0m     \u001b[38;5;28;01mif\u001b[39;00m answer\u001b[38;5;241m.\u001b[39mstartswith(proto\u001b[38;5;241m.\u001b[39mRETURN_MESSAGE):\n",
      "File \u001b[0;32m/usr/lib/python3.9/socket.py:704\u001b[0m, in \u001b[0;36mSocketIO.readinto\u001b[0;34m(self, b)\u001b[0m\n\u001b[1;32m    702\u001b[0m \u001b[38;5;28;01mwhile\u001b[39;00m \u001b[38;5;28;01mTrue\u001b[39;00m:\n\u001b[1;32m    703\u001b[0m     \u001b[38;5;28;01mtry\u001b[39;00m:\n\u001b[0;32m--> 704\u001b[0m         \u001b[38;5;28;01mreturn\u001b[39;00m \u001b[38;5;28;43mself\u001b[39;49m\u001b[38;5;241;43m.\u001b[39;49m\u001b[43m_sock\u001b[49m\u001b[38;5;241;43m.\u001b[39;49m\u001b[43mrecv_into\u001b[49m\u001b[43m(\u001b[49m\u001b[43mb\u001b[49m\u001b[43m)\u001b[49m\n\u001b[1;32m    705\u001b[0m     \u001b[38;5;28;01mexcept\u001b[39;00m timeout:\n\u001b[1;32m    706\u001b[0m         \u001b[38;5;28mself\u001b[39m\u001b[38;5;241m.\u001b[39m_timeout_occurred \u001b[38;5;241m=\u001b[39m \u001b[38;5;28;01mTrue\u001b[39;00m\n",
      "\u001b[0;31mKeyboardInterrupt\u001b[0m: "
     ]
    },
    {
     "name": "stderr",
     "output_type": "stream",
     "text": [
      "                                                                                \r"
     ]
    },
    {
     "name": "stdout",
     "output_type": "stream",
     "text": [
      "-------------------------------------------\n",
      "Batch: 31\n",
      "-------------------------------------------\n",
      "+------------------+\n",
      "|          editName|\n",
      "+------------------+\n",
      "|        NeverDoING|\n",
      "|        NeverDoING|\n",
      "|        NeverDoING|\n",
      "|        Sangjinhwa|\n",
      "| Materialscientist|\n",
      "| Materialscientist|\n",
      "| Materialscientist|\n",
      "|InternetArchiveBot|\n",
      "|InternetArchiveBot|\n",
      "|InternetArchiveBot|\n",
      "|InternetArchiveBot|\n",
      "|InternetArchiveBot|\n",
      "|InternetArchiveBot|\n",
      "|InternetArchiveBot|\n",
      "|InternetArchiveBot|\n",
      "|InternetArchiveBot|\n",
      "|InternetArchiveBot|\n",
      "|InternetArchiveBot|\n",
      "|InternetArchiveBot|\n",
      "|InternetArchiveBot|\n",
      "+------------------+\n",
      "only showing top 20 rows\n",
      "\n"
     ]
    }
   ],
   "source": [
    "from pyspark.sql.functions import expr\n",
    "\n",
    "df_edit = wiki_df.select(\"parsed_value.*\").select(\"user_name\",\"user_type\",\"uri\",\"title\",\"timestamp\") \\\n",
    ".withColumnRenamed(\"timestamp\",\"editTime\").withColumnRenamed(\"user_name\",\"editName\")\n",
    "\n",
    "df_new = new_df.select(\"parsed_value.*\").select(\"user_name\",\"user_type\",\"uri\",\"title\",\"timestamp\") \\\n",
    ".withColumnRenamed(\"timestamp\",\"newTime\").withColumnRenamed(\"user_name\",\"newName\")\n",
    "\n",
    "#joined_streams_df = (df_edit\n",
    "#            .join(df_new, \"user_name\"))\n",
    "\n",
    "joined_streams_df = (df_edit\n",
    "           .join(df_new, expr(\"\"\"\n",
    "    editName = newName AND\n",
    "    newTime >= editTime AND\n",
    "    newTime <= editTime + interval 5 minute\n",
    "    \"\"\"))).select(col(\"editName\"))\n",
    "\n",
    "query = joined_streams_df.writeStream.outputMode(\"append\").format(\"console\").start()\n",
    "\n",
    "query.awaitTermination()"
   ]
  },
  {
   "cell_type": "code",
   "execution_count": null,
   "id": "4c381ffa",
   "metadata": {},
   "outputs": [],
   "source": []
  }
 ],
 "metadata": {
  "kernelspec": {
   "display_name": "Python 3 (ipykernel)",
   "language": "python",
   "name": "python3"
  },
  "language_info": {
   "codemirror_mode": {
    "name": "ipython",
    "version": 3
   },
   "file_extension": ".py",
   "mimetype": "text/x-python",
   "name": "python",
   "nbconvert_exporter": "python",
   "pygments_lexer": "ipython3",
   "version": "3.9.2"
  }
 },
 "nbformat": 4,
 "nbformat_minor": 5
}
