{
 "cells": [
  {
   "cell_type": "markdown",
   "id": "d01c4a83",
   "metadata": {},
   "source": [
    "## Spark Stream Practice"
   ]
  },
  {
   "cell_type": "code",
   "execution_count": 1,
   "id": "ab1775f2",
   "metadata": {},
   "outputs": [
    {
     "name": "stderr",
     "output_type": "stream",
     "text": [
      "Ivy Default Cache set to: /root/.ivy2/cache\n",
      "The jars for the packages stored in: /root/.ivy2/jars\n",
      ":: loading settings :: url = jar:file:/usr/local/lib/python3.9/dist-packages/pyspark/jars/ivy-2.4.0.jar!/org/apache/ivy/core/settings/ivysettings.xml\n",
      "org.apache.spark#spark-sql-kafka-0-10_2.12 added as a dependency\n",
      ":: resolving dependencies :: org.apache.spark#spark-submit-parent-0bc4bd12-1b8f-42c3-8e1b-9edb4ee836a0;1.0\n",
      "\tconfs: [default]\n",
      "\tfound org.apache.spark#spark-sql-kafka-0-10_2.12;3.0.0 in central\n",
      "\tfound org.apache.spark#spark-token-provider-kafka-0-10_2.12;3.0.0 in central\n",
      "\tfound org.apache.kafka#kafka-clients;2.4.1 in central\n",
      "\tfound com.github.luben#zstd-jni;1.4.4-3 in central\n",
      "\tfound org.lz4#lz4-java;1.7.1 in central\n",
      "\tfound org.xerial.snappy#snappy-java;1.1.7.5 in central\n",
      "\tfound org.slf4j#slf4j-api;1.7.30 in central\n",
      "\tfound org.spark-project.spark#unused;1.0.0 in central\n",
      "\tfound org.apache.commons#commons-pool2;2.6.2 in central\n",
      ":: resolution report :: resolve 173ms :: artifacts dl 4ms\n",
      "\t:: modules in use:\n",
      "\tcom.github.luben#zstd-jni;1.4.4-3 from central in [default]\n",
      "\torg.apache.commons#commons-pool2;2.6.2 from central in [default]\n",
      "\torg.apache.kafka#kafka-clients;2.4.1 from central in [default]\n",
      "\torg.apache.spark#spark-sql-kafka-0-10_2.12;3.0.0 from central in [default]\n",
      "\torg.apache.spark#spark-token-provider-kafka-0-10_2.12;3.0.0 from central in [default]\n",
      "\torg.lz4#lz4-java;1.7.1 from central in [default]\n",
      "\torg.slf4j#slf4j-api;1.7.30 from central in [default]\n",
      "\torg.spark-project.spark#unused;1.0.0 from central in [default]\n",
      "\torg.xerial.snappy#snappy-java;1.1.7.5 from central in [default]\n",
      "\t---------------------------------------------------------------------\n",
      "\t|                  |            modules            ||   artifacts   |\n",
      "\t|       conf       | number| search|dwnlded|evicted|| number|dwnlded|\n",
      "\t---------------------------------------------------------------------\n",
      "\t|      default     |   9   |   0   |   0   |   0   ||   9   |   0   |\n",
      "\t---------------------------------------------------------------------\n",
      ":: retrieving :: org.apache.spark#spark-submit-parent-0bc4bd12-1b8f-42c3-8e1b-9edb4ee836a0\n",
      "\tconfs: [default]\n",
      "\t0 artifacts copied, 9 already retrieved (0kB/4ms)\n",
      "25/10/24 14:00:04 WARN NativeCodeLoader: Unable to load native-hadoop library for your platform... using builtin-java classes where applicable\n",
      "Using Spark's default log4j profile: org/apache/spark/log4j-defaults.properties\n",
      "Setting default log level to \"WARN\".\n",
      "To adjust logging level use sc.setLogLevel(newLevel). For SparkR, use setLogLevel(newLevel).\n"
     ]
    }
   ],
   "source": [
    "from pyspark.sql.functions import explode\n",
    "from pyspark.sql.functions import split\n",
    "\n",
    "from pyspark.context import SparkContext\n",
    "from pyspark.conf import SparkConf\n",
    "from pyspark.sql.session import SparkSession\n",
    "from pyspark.sql.functions import col\n",
    "\n",
    "spark = SparkSession.builder \\\n",
    "    .appName(\"MyApp\") \\\n",
    "    .config(\"spark.jars.packages\", 'org.apache.spark:spark-sql-kafka-0-10_2.12:3.0.0') \\\n",
    "    .config(\"spark.sql.repl.eagerEval.enabled\", True) \\\n",
    "    .getOrCreate()"
   ]
  },
  {
   "cell_type": "markdown",
   "id": "2a44d9cc",
   "metadata": {},
   "source": [
    "### Spark Stream with socket"
   ]
  },
  {
   "cell_type": "markdown",
   "id": "4ad30467",
   "metadata": {},
   "source": [
    "In another tab open a terminal and open a socket using \n",
    "    \n",
    "    nc -l -p 9090\n",
    "\n",
    "This will allow you to open a TCP socket and to manually send data"
   ]
  },
  {
   "cell_type": "markdown",
   "id": "cb44e086",
   "metadata": {},
   "source": [
    "Connect Spark to the stream"
   ]
  },
  {
   "cell_type": "code",
   "execution_count": 3,
   "id": "e69d20a6",
   "metadata": {},
   "outputs": [
    {
     "name": "stderr",
     "output_type": "stream",
     "text": [
      "25/10/24 12:58:00 WARN TextSocketSourceProvider: The socket source should not be used for production applications! It does not support recovery.\n"
     ]
    }
   ],
   "source": [
    "lines = (spark.readStream                        \n",
    ".format(\"socket\")                                 \n",
    ".option(\"host\",\"localhost\")\n",
    ".option(\"port\",\"9090\")\n",
    ".load())   "
   ]
  },
  {
   "cell_type": "markdown",
   "id": "f690fbd3",
   "metadata": {},
   "source": [
    "For now, let's just inspect the stream"
   ]
  },
  {
   "cell_type": "code",
   "execution_count": 2,
   "id": "154e0feb",
   "metadata": {},
   "outputs": [
    {
     "ename": "NameError",
     "evalue": "name 'lines' is not defined",
     "output_type": "error",
     "traceback": [
      "\u001b[0;31m---------------------------------------------------------------------------\u001b[0m",
      "\u001b[0;31mNameError\u001b[0m                                 Traceback (most recent call last)",
      "Cell \u001b[0;32mIn[2], line 1\u001b[0m\n\u001b[0;32m----> 1\u001b[0m \u001b[43mlines\u001b[49m\u001b[38;5;241m.\u001b[39mwriteStream \\\n\u001b[1;32m      2\u001b[0m           \u001b[38;5;241m.\u001b[39moutputMode(\u001b[38;5;124m\"\u001b[39m\u001b[38;5;124mappend\u001b[39m\u001b[38;5;124m\"\u001b[39m) \\\n\u001b[1;32m      3\u001b[0m           \u001b[38;5;241m.\u001b[39mformat(\u001b[38;5;124m\"\u001b[39m\u001b[38;5;124mconsole\u001b[39m\u001b[38;5;124m\"\u001b[39m) \\\n\u001b[1;32m      4\u001b[0m           \u001b[38;5;241m.\u001b[39mstart()\n",
      "\u001b[0;31mNameError\u001b[0m: name 'lines' is not defined"
     ]
    }
   ],
   "source": [
    "lines.writeStream \\\n",
    "          .outputMode(\"append\") \\\n",
    "          .format(\"console\") \\\n",
    "          .start()\n",
    "\n"
   ]
  },
  {
   "cell_type": "markdown",
   "id": "efdd219e",
   "metadata": {},
   "source": [
    "Now let's do a word count"
   ]
  },
  {
   "cell_type": "code",
   "execution_count": 4,
   "id": "808536a5",
   "metadata": {},
   "outputs": [
    {
     "name": "stderr",
     "output_type": "stream",
     "text": [
      "25/10/24 12:58:14 WARN StreamingQueryManager: Temporary checkpoint location created which is deleted normally when the query didn't fail: /tmp/temporary-3c8fc314-35b8-4b7f-a844-9ba8098821b5. If it's required to delete it under any circumstances, please set spark.sql.streaming.forceDeleteTempCheckpointLocation to true. Important to know deleting temp checkpoint folder is best effort.\n",
      "                                                                                \r"
     ]
    },
    {
     "name": "stdout",
     "output_type": "stream",
     "text": [
      "-------------------------------------------\n",
      "Batch: 0\n",
      "-------------------------------------------\n",
      "+----+-----+\n",
      "|word|count|\n",
      "+----+-----+\n",
      "+----+-----+\n",
      "\n"
     ]
    },
    {
     "name": "stderr",
     "output_type": "stream",
     "text": [
      "                                                                                \r"
     ]
    },
    {
     "name": "stdout",
     "output_type": "stream",
     "text": [
      "-------------------------------------------\n",
      "Batch: 1\n",
      "-------------------------------------------\n",
      "+-----+-----+\n",
      "| word|count|\n",
      "+-----+-----+\n",
      "|hello|    3|\n",
      "|world|    2|\n",
      "+-----+-----+\n",
      "\n"
     ]
    },
    {
     "name": "stderr",
     "output_type": "stream",
     "text": [
      "                                                                                \r"
     ]
    },
    {
     "name": "stdout",
     "output_type": "stream",
     "text": [
      "-------------------------------------------\n",
      "Batch: 2\n",
      "-------------------------------------------\n",
      "+-----+-----+\n",
      "| word|count|\n",
      "+-----+-----+\n",
      "|hello|    3|\n",
      "|world|    3|\n",
      "+-----+-----+\n",
      "\n"
     ]
    },
    {
     "ename": "KeyboardInterrupt",
     "evalue": "",
     "output_type": "error",
     "traceback": [
      "\u001b[0;31m---------------------------------------------------------------------------\u001b[0m",
      "\u001b[0;31mKeyboardInterrupt\u001b[0m                         Traceback (most recent call last)",
      "Cell \u001b[0;32mIn[4], line 14\u001b[0m\n\u001b[1;32m      7\u001b[0m  \u001b[38;5;66;03m# Start running the query that prints the running counts to the console\u001b[39;00m\n\u001b[1;32m      8\u001b[0m query \u001b[38;5;241m=\u001b[39m wordCounts \\\n\u001b[1;32m      9\u001b[0m           \u001b[38;5;241m.\u001b[39mwriteStream \\\n\u001b[1;32m     10\u001b[0m           \u001b[38;5;241m.\u001b[39moutputMode(\u001b[38;5;124m\"\u001b[39m\u001b[38;5;124mcomplete\u001b[39m\u001b[38;5;124m\"\u001b[39m) \\\n\u001b[1;32m     11\u001b[0m           \u001b[38;5;241m.\u001b[39mformat(\u001b[38;5;124m\"\u001b[39m\u001b[38;5;124mconsole\u001b[39m\u001b[38;5;124m\"\u001b[39m) \\\n\u001b[1;32m     12\u001b[0m           \u001b[38;5;241m.\u001b[39mstart()\n\u001b[0;32m---> 14\u001b[0m \u001b[43mquery\u001b[49m\u001b[38;5;241;43m.\u001b[39;49m\u001b[43mawaitTermination\u001b[49m\u001b[43m(\u001b[49m\u001b[43m)\u001b[49m\n",
      "File \u001b[0;32m/usr/local/lib/python3.9/dist-packages/pyspark/sql/streaming.py:103\u001b[0m, in \u001b[0;36mStreamingQuery.awaitTermination\u001b[0;34m(self, timeout)\u001b[0m\n\u001b[1;32m    101\u001b[0m     \u001b[38;5;28;01mreturn\u001b[39;00m \u001b[38;5;28mself\u001b[39m\u001b[38;5;241m.\u001b[39m_jsq\u001b[38;5;241m.\u001b[39mawaitTermination(\u001b[38;5;28mint\u001b[39m(timeout \u001b[38;5;241m*\u001b[39m \u001b[38;5;241m1000\u001b[39m))\n\u001b[1;32m    102\u001b[0m \u001b[38;5;28;01melse\u001b[39;00m:\n\u001b[0;32m--> 103\u001b[0m     \u001b[38;5;28;01mreturn\u001b[39;00m \u001b[38;5;28;43mself\u001b[39;49m\u001b[38;5;241;43m.\u001b[39;49m\u001b[43m_jsq\u001b[49m\u001b[38;5;241;43m.\u001b[39;49m\u001b[43mawaitTermination\u001b[49m\u001b[43m(\u001b[49m\u001b[43m)\u001b[49m\n",
      "File \u001b[0;32m/usr/local/lib/python3.9/dist-packages/py4j/java_gateway.py:1303\u001b[0m, in \u001b[0;36mJavaMember.__call__\u001b[0;34m(self, *args)\u001b[0m\n\u001b[1;32m   1296\u001b[0m args_command, temp_args \u001b[38;5;241m=\u001b[39m \u001b[38;5;28mself\u001b[39m\u001b[38;5;241m.\u001b[39m_build_args(\u001b[38;5;241m*\u001b[39margs)\n\u001b[1;32m   1298\u001b[0m command \u001b[38;5;241m=\u001b[39m proto\u001b[38;5;241m.\u001b[39mCALL_COMMAND_NAME \u001b[38;5;241m+\u001b[39m\\\n\u001b[1;32m   1299\u001b[0m     \u001b[38;5;28mself\u001b[39m\u001b[38;5;241m.\u001b[39mcommand_header \u001b[38;5;241m+\u001b[39m\\\n\u001b[1;32m   1300\u001b[0m     args_command \u001b[38;5;241m+\u001b[39m\\\n\u001b[1;32m   1301\u001b[0m     proto\u001b[38;5;241m.\u001b[39mEND_COMMAND_PART\n\u001b[0;32m-> 1303\u001b[0m answer \u001b[38;5;241m=\u001b[39m \u001b[38;5;28;43mself\u001b[39;49m\u001b[38;5;241;43m.\u001b[39;49m\u001b[43mgateway_client\u001b[49m\u001b[38;5;241;43m.\u001b[39;49m\u001b[43msend_command\u001b[49m\u001b[43m(\u001b[49m\u001b[43mcommand\u001b[49m\u001b[43m)\u001b[49m\n\u001b[1;32m   1304\u001b[0m return_value \u001b[38;5;241m=\u001b[39m get_return_value(\n\u001b[1;32m   1305\u001b[0m     answer, \u001b[38;5;28mself\u001b[39m\u001b[38;5;241m.\u001b[39mgateway_client, \u001b[38;5;28mself\u001b[39m\u001b[38;5;241m.\u001b[39mtarget_id, \u001b[38;5;28mself\u001b[39m\u001b[38;5;241m.\u001b[39mname)\n\u001b[1;32m   1307\u001b[0m \u001b[38;5;28;01mfor\u001b[39;00m temp_arg \u001b[38;5;129;01min\u001b[39;00m temp_args:\n",
      "File \u001b[0;32m/usr/local/lib/python3.9/dist-packages/py4j/java_gateway.py:1033\u001b[0m, in \u001b[0;36mGatewayClient.send_command\u001b[0;34m(self, command, retry, binary)\u001b[0m\n\u001b[1;32m   1031\u001b[0m connection \u001b[38;5;241m=\u001b[39m \u001b[38;5;28mself\u001b[39m\u001b[38;5;241m.\u001b[39m_get_connection()\n\u001b[1;32m   1032\u001b[0m \u001b[38;5;28;01mtry\u001b[39;00m:\n\u001b[0;32m-> 1033\u001b[0m     response \u001b[38;5;241m=\u001b[39m \u001b[43mconnection\u001b[49m\u001b[38;5;241;43m.\u001b[39;49m\u001b[43msend_command\u001b[49m\u001b[43m(\u001b[49m\u001b[43mcommand\u001b[49m\u001b[43m)\u001b[49m\n\u001b[1;32m   1034\u001b[0m     \u001b[38;5;28;01mif\u001b[39;00m binary:\n\u001b[1;32m   1035\u001b[0m         \u001b[38;5;28;01mreturn\u001b[39;00m response, \u001b[38;5;28mself\u001b[39m\u001b[38;5;241m.\u001b[39m_create_connection_guard(connection)\n",
      "File \u001b[0;32m/usr/local/lib/python3.9/dist-packages/py4j/java_gateway.py:1200\u001b[0m, in \u001b[0;36mGatewayConnection.send_command\u001b[0;34m(self, command)\u001b[0m\n\u001b[1;32m   1196\u001b[0m     \u001b[38;5;28;01mraise\u001b[39;00m Py4JNetworkError(\n\u001b[1;32m   1197\u001b[0m         \u001b[38;5;124m\"\u001b[39m\u001b[38;5;124mError while sending\u001b[39m\u001b[38;5;124m\"\u001b[39m, e, proto\u001b[38;5;241m.\u001b[39mERROR_ON_SEND)\n\u001b[1;32m   1199\u001b[0m \u001b[38;5;28;01mtry\u001b[39;00m:\n\u001b[0;32m-> 1200\u001b[0m     answer \u001b[38;5;241m=\u001b[39m smart_decode(\u001b[38;5;28;43mself\u001b[39;49m\u001b[38;5;241;43m.\u001b[39;49m\u001b[43mstream\u001b[49m\u001b[38;5;241;43m.\u001b[39;49m\u001b[43mreadline\u001b[49m\u001b[43m(\u001b[49m\u001b[43m)\u001b[49m[:\u001b[38;5;241m-\u001b[39m\u001b[38;5;241m1\u001b[39m])\n\u001b[1;32m   1201\u001b[0m     logger\u001b[38;5;241m.\u001b[39mdebug(\u001b[38;5;124m\"\u001b[39m\u001b[38;5;124mAnswer received: \u001b[39m\u001b[38;5;132;01m{0}\u001b[39;00m\u001b[38;5;124m\"\u001b[39m\u001b[38;5;241m.\u001b[39mformat(answer))\n\u001b[1;32m   1202\u001b[0m     \u001b[38;5;28;01mif\u001b[39;00m answer\u001b[38;5;241m.\u001b[39mstartswith(proto\u001b[38;5;241m.\u001b[39mRETURN_MESSAGE):\n",
      "File \u001b[0;32m/usr/lib/python3.9/socket.py:704\u001b[0m, in \u001b[0;36mSocketIO.readinto\u001b[0;34m(self, b)\u001b[0m\n\u001b[1;32m    702\u001b[0m \u001b[38;5;28;01mwhile\u001b[39;00m \u001b[38;5;28;01mTrue\u001b[39;00m:\n\u001b[1;32m    703\u001b[0m     \u001b[38;5;28;01mtry\u001b[39;00m:\n\u001b[0;32m--> 704\u001b[0m         \u001b[38;5;28;01mreturn\u001b[39;00m \u001b[38;5;28;43mself\u001b[39;49m\u001b[38;5;241;43m.\u001b[39;49m\u001b[43m_sock\u001b[49m\u001b[38;5;241;43m.\u001b[39;49m\u001b[43mrecv_into\u001b[49m\u001b[43m(\u001b[49m\u001b[43mb\u001b[49m\u001b[43m)\u001b[49m\n\u001b[1;32m    705\u001b[0m     \u001b[38;5;28;01mexcept\u001b[39;00m timeout:\n\u001b[1;32m    706\u001b[0m         \u001b[38;5;28mself\u001b[39m\u001b[38;5;241m.\u001b[39m_timeout_occurred \u001b[38;5;241m=\u001b[39m \u001b[38;5;28;01mTrue\u001b[39;00m\n",
      "\u001b[0;31mKeyboardInterrupt\u001b[0m: "
     ]
    }
   ],
   "source": [
    "# Split the lines into words\n",
    "words = lines.select(explode(split(lines.value, \" \")).alias(\"word\"))\n",
    "\n",
    " # Generate running word count\n",
    "wordCounts = words.groupBy(\"word\").count()\n",
    "\n",
    " # Start running the query that prints the running counts to the console\n",
    "query = wordCounts \\\n",
    "          .writeStream \\\n",
    "          .outputMode(\"complete\") \\\n",
    "          .format(\"console\") \\\n",
    "          .start()\n",
    "\n",
    "query.awaitTermination()"
   ]
  },
  {
   "cell_type": "code",
   "execution_count": null,
   "id": "d9f451f3",
   "metadata": {},
   "outputs": [],
   "source": [
    "# Split the lines into words\n",
    "words = lines.select(explode(split(lines.value, \" \")).alias(\"word\"))\n",
    "\n",
    " # Generate running word count\n",
    "wordCounts = words.groupBy(\"word\").count()\n",
    "\n",
    " # Start running the query that prints the running counts to the console\n",
    "query = wordCounts \\\n",
    "          .writeStream \\\n",
    "          .outputMode(\"update\") \\\n",
    "          .format(\"console\") \\\n",
    "          .start()\n",
    "\n",
    "query.awaitTermination()"
   ]
  },
  {
   "cell_type": "code",
   "execution_count": null,
   "id": "0901c5c0",
   "metadata": {},
   "outputs": [],
   "source": [
    "# Change the outputMode to \"update\" and notice how it change"
   ]
  },
  {
   "cell_type": "markdown",
   "id": "69d591fa",
   "metadata": {},
   "source": [
    "### Spark streaming with a Kafka"
   ]
  },
  {
   "cell_type": "markdown",
   "id": "c5edb529",
   "metadata": {},
   "source": [
    "We will use the other notebook \"Kafka-producer\" to handle Kafka"
   ]
  },
  {
   "cell_type": "code",
   "execution_count": 2,
   "id": "716c8d15",
   "metadata": {},
   "outputs": [],
   "source": [
    "kafka_server = \"kafka1:9092\"   \n",
    "\n",
    "lines = (spark.readStream                        # Get the DataStreamReader\n",
    "  .format(\"kafka\")                                 # Specify the source format as \"kafka\"\n",
    "  .option(\"kafka.bootstrap.servers\", kafka_server) # Configure the Kafka server name and port\n",
    "  .option(\"subscribe\", \"words\")                       # Subscribe to the \"en\" Kafka topic - edits of English wikipedia pages\n",
    "  .option(\"startingOffsets\", \"earliest\")           # The start point when a query is started\n",
    "  .option(\"maxOffsetsPerTrigger\", 100)             # Rate limit on max offsets per trigger interval\n",
    "  .load()                                          # Load the DataFrame\n",
    ")"
   ]
  },
  {
   "cell_type": "code",
   "execution_count": 3,
   "id": "c4a2a055",
   "metadata": {
    "scrolled": true
   },
   "outputs": [
    {
     "name": "stderr",
     "output_type": "stream",
     "text": [
      "25/10/24 13:00:50 WARN StreamingQueryManager: Temporary checkpoint location created which is deleted normally when the query didn't fail: /tmp/temporary-9d730ef7-bbfb-462f-a1b5-a9bcf76e8ae5. If it's required to delete it under any circumstances, please set spark.sql.streaming.forceDeleteTempCheckpointLocation to true. Important to know deleting temp checkpoint folder is best effort.\n",
      "                                                                                \r"
     ]
    },
    {
     "name": "stdout",
     "output_type": "stream",
     "text": [
      "-------------------------------------------\n",
      "Batch: 0\n",
      "-------------------------------------------\n",
      "+------------+-----+\n",
      "|        word|count|\n",
      "+------------+-----+\n",
      "|    Quisquam|    1|\n",
      "|         Sit|    1|\n",
      "|     tempora|    7|\n",
      "|consectetur.|    1|\n",
      "|         Sed|    1|\n",
      "|        non.|    2|\n",
      "|       velit|    5|\n",
      "|   adipisci.|    3|\n",
      "|         non|    5|\n",
      "|     Aliquam|    2|\n",
      "|     dolore.|    2|\n",
      "|         sit|    7|\n",
      "|       Porro|    4|\n",
      "| consectetur|   11|\n",
      "|      Labore|    1|\n",
      "|    quisquam|    5|\n",
      "|    tempora.|    4|\n",
      "|    numquam.|    2|\n",
      "|    Adipisci|    1|\n",
      "|      Dolore|    1|\n",
      "+------------+-----+\n",
      "only showing top 20 rows\n",
      "\n"
     ]
    },
    {
     "name": "stderr",
     "output_type": "stream",
     "text": [
      "                                                                                \r"
     ]
    },
    {
     "name": "stdout",
     "output_type": "stream",
     "text": [
      "-------------------------------------------\n",
      "Batch: 1\n",
      "-------------------------------------------\n",
      "+------------+-----+\n",
      "|        word|count|\n",
      "+------------+-----+\n",
      "|    Quisquam|    1|\n",
      "|         Sit|    1|\n",
      "|     tempora|    7|\n",
      "|consectetur.|    1|\n",
      "|         Sed|    1|\n",
      "|        non.|    2|\n",
      "|       velit|    5|\n",
      "|   adipisci.|    4|\n",
      "|         non|    5|\n",
      "|     Aliquam|    2|\n",
      "|     dolore.|    2|\n",
      "|         sit|    8|\n",
      "|       Porro|    4|\n",
      "| consectetur|   12|\n",
      "|      Labore|    2|\n",
      "|    quisquam|    6|\n",
      "|    numquam.|    2|\n",
      "|    tempora.|    6|\n",
      "|    Adipisci|    2|\n",
      "|      Dolore|    1|\n",
      "+------------+-----+\n",
      "only showing top 20 rows\n",
      "\n"
     ]
    },
    {
     "name": "stderr",
     "output_type": "stream",
     "text": [
      "                                                                                \r"
     ]
    },
    {
     "name": "stdout",
     "output_type": "stream",
     "text": [
      "-------------------------------------------\n",
      "Batch: 2\n",
      "-------------------------------------------\n",
      "+------------+-----+\n",
      "|        word|count|\n",
      "+------------+-----+\n",
      "|    Quisquam|    1|\n",
      "|         Sit|    2|\n",
      "|     tempora|    7|\n",
      "|consectetur.|    2|\n",
      "|         Sed|    1|\n",
      "|        non.|    2|\n",
      "|       velit|    5|\n",
      "|   adipisci.|    4|\n",
      "|         non|    5|\n",
      "|     Aliquam|    2|\n",
      "|     dolore.|    2|\n",
      "|         sit|    8|\n",
      "|       Porro|    4|\n",
      "| consectetur|   12|\n",
      "|      Labore|    3|\n",
      "|    quisquam|    8|\n",
      "|    numquam.|    2|\n",
      "|    tempora.|    6|\n",
      "|    Adipisci|    2|\n",
      "|      Dolore|    1|\n",
      "+------------+-----+\n",
      "only showing top 20 rows\n",
      "\n"
     ]
    },
    {
     "name": "stderr",
     "output_type": "stream",
     "text": [
      "                                                                                \r"
     ]
    },
    {
     "name": "stdout",
     "output_type": "stream",
     "text": [
      "-------------------------------------------\n",
      "Batch: 3\n",
      "-------------------------------------------\n",
      "+------------+-----+\n",
      "|        word|count|\n",
      "+------------+-----+\n",
      "|    Quisquam|    1|\n",
      "|         Sit|    2|\n",
      "|     tempora|    7|\n",
      "|consectetur.|    2|\n",
      "|         Sed|    1|\n",
      "|        non.|    2|\n",
      "|       velit|    5|\n",
      "|   adipisci.|    4|\n",
      "|         non|    6|\n",
      "|     Aliquam|    2|\n",
      "|     dolore.|    2|\n",
      "|         sit|    8|\n",
      "|       Porro|    4|\n",
      "| consectetur|   12|\n",
      "|      Labore|    4|\n",
      "|    quisquam|    9|\n",
      "|    numquam.|    2|\n",
      "|    tempora.|    6|\n",
      "|    Adipisci|    2|\n",
      "|      Dolore|    1|\n",
      "+------------+-----+\n",
      "only showing top 20 rows\n",
      "\n"
     ]
    },
    {
     "name": "stderr",
     "output_type": "stream",
     "text": [
      "                                                                                \r"
     ]
    },
    {
     "name": "stdout",
     "output_type": "stream",
     "text": [
      "-------------------------------------------\n",
      "Batch: 4\n",
      "-------------------------------------------\n",
      "+------------+-----+\n",
      "|        word|count|\n",
      "+------------+-----+\n",
      "|    Quisquam|    2|\n",
      "|         Sit|    2|\n",
      "|     tempora|    7|\n",
      "|consectetur.|    2|\n",
      "|         Sed|    1|\n",
      "|        non.|    2|\n",
      "|       velit|    5|\n",
      "|   adipisci.|    4|\n",
      "|         non|    7|\n",
      "|     Aliquam|    2|\n",
      "|     dolore.|    2|\n",
      "|         sit|    8|\n",
      "|       Porro|    4|\n",
      "| consectetur|   13|\n",
      "|      Labore|    4|\n",
      "|    quisquam|   10|\n",
      "|    numquam.|    2|\n",
      "|    tempora.|    7|\n",
      "|    Adipisci|    2|\n",
      "|      Dolore|    1|\n",
      "+------------+-----+\n",
      "only showing top 20 rows\n",
      "\n"
     ]
    },
    {
     "name": "stderr",
     "output_type": "stream",
     "text": [
      "                                                                                \r"
     ]
    },
    {
     "name": "stdout",
     "output_type": "stream",
     "text": [
      "-------------------------------------------\n",
      "Batch: 5\n",
      "-------------------------------------------\n",
      "+------------+-----+\n",
      "|        word|count|\n",
      "+------------+-----+\n",
      "|    Quisquam|    2|\n",
      "|         Sit|    2|\n",
      "|     tempora|    7|\n",
      "|consectetur.|    2|\n",
      "|         Sed|    1|\n",
      "|        non.|    2|\n",
      "|       velit|    6|\n",
      "|   adipisci.|    4|\n",
      "|         non|    8|\n",
      "|     Aliquam|    2|\n",
      "|     dolore.|    2|\n",
      "|         sit|    8|\n",
      "|       Porro|    4|\n",
      "| consectetur|   14|\n",
      "|      Labore|    4|\n",
      "|    quisquam|   10|\n",
      "|    numquam.|    2|\n",
      "|    tempora.|    8|\n",
      "|    Adipisci|    2|\n",
      "|      Dolore|    1|\n",
      "+------------+-----+\n",
      "only showing top 20 rows\n",
      "\n"
     ]
    },
    {
     "name": "stderr",
     "output_type": "stream",
     "text": [
      "                                                                                \r"
     ]
    },
    {
     "name": "stdout",
     "output_type": "stream",
     "text": [
      "-------------------------------------------\n",
      "Batch: 6\n",
      "-------------------------------------------\n",
      "+------------+-----+\n",
      "|        word|count|\n",
      "+------------+-----+\n",
      "|    Quisquam|    3|\n",
      "|         Sit|    2|\n",
      "|     tempora|    8|\n",
      "|consectetur.|    2|\n",
      "|         Sed|    1|\n",
      "|        non.|    2|\n",
      "|       velit|    6|\n",
      "|   adipisci.|    4|\n",
      "|         non|    8|\n",
      "|     Aliquam|    2|\n",
      "|     dolore.|    2|\n",
      "|         sit|    9|\n",
      "|       Porro|    4|\n",
      "| consectetur|   14|\n",
      "|      Labore|    4|\n",
      "|    quisquam|   10|\n",
      "|    numquam.|    2|\n",
      "|    tempora.|    8|\n",
      "|    Adipisci|    2|\n",
      "|      Dolore|    1|\n",
      "+------------+-----+\n",
      "only showing top 20 rows\n",
      "\n"
     ]
    },
    {
     "name": "stderr",
     "output_type": "stream",
     "text": [
      "                                                                                \r"
     ]
    },
    {
     "name": "stdout",
     "output_type": "stream",
     "text": [
      "-------------------------------------------\n",
      "Batch: 7\n",
      "-------------------------------------------\n",
      "+------------+-----+\n",
      "|        word|count|\n",
      "+------------+-----+\n",
      "|    Quisquam|    3|\n",
      "|         Sit|    2|\n",
      "|     tempora|    9|\n",
      "|consectetur.|    2|\n",
      "|         Sed|    1|\n",
      "|        non.|    2|\n",
      "|      ipsum.|    1|\n",
      "|       velit|    6|\n",
      "|   adipisci.|    4|\n",
      "|         non|    9|\n",
      "|     Aliquam|    2|\n",
      "|     dolore.|    2|\n",
      "|         sit|    9|\n",
      "|       Porro|    4|\n",
      "| consectetur|   15|\n",
      "|      Labore|    4|\n",
      "|    quisquam|   10|\n",
      "|    numquam.|    2|\n",
      "|    tempora.|   10|\n",
      "|    Adipisci|    2|\n",
      "+------------+-----+\n",
      "only showing top 20 rows\n",
      "\n"
     ]
    },
    {
     "name": "stderr",
     "output_type": "stream",
     "text": [
      "                                                                                \r"
     ]
    },
    {
     "name": "stdout",
     "output_type": "stream",
     "text": [
      "-------------------------------------------\n",
      "Batch: 8\n",
      "-------------------------------------------\n",
      "+------------+-----+\n",
      "|        word|count|\n",
      "+------------+-----+\n",
      "|    Quisquam|    3|\n",
      "|         Sit|    2|\n",
      "|     tempora|    9|\n",
      "|consectetur.|    2|\n",
      "|         Sed|    1|\n",
      "|        non.|    2|\n",
      "|      ipsum.|    1|\n",
      "|       velit|    7|\n",
      "|   adipisci.|    4|\n",
      "|         non|    9|\n",
      "|     Aliquam|    2|\n",
      "|     dolore.|    2|\n",
      "|         sit|    9|\n",
      "|       Porro|    4|\n",
      "| consectetur|   16|\n",
      "|      Labore|    4|\n",
      "|    quisquam|   10|\n",
      "|    numquam.|    2|\n",
      "|    tempora.|   11|\n",
      "|    Adipisci|    3|\n",
      "+------------+-----+\n",
      "only showing top 20 rows\n",
      "\n"
     ]
    },
    {
     "name": "stderr",
     "output_type": "stream",
     "text": [
      "                                                                                \r"
     ]
    },
    {
     "name": "stdout",
     "output_type": "stream",
     "text": [
      "-------------------------------------------\n",
      "Batch: 9\n",
      "-------------------------------------------\n",
      "+------------+-----+\n",
      "|        word|count|\n",
      "+------------+-----+\n",
      "|    Quisquam|    3|\n",
      "|         Sit|    3|\n",
      "|     tempora|    9|\n",
      "|consectetur.|    3|\n",
      "|         Sed|    1|\n",
      "|        non.|    2|\n",
      "|      ipsum.|    1|\n",
      "|       velit|    7|\n",
      "|   adipisci.|    4|\n",
      "|         non|    9|\n",
      "|     Aliquam|    2|\n",
      "|     dolore.|    2|\n",
      "|         sit|    9|\n",
      "|       Porro|    4|\n",
      "| consectetur|   17|\n",
      "|      Labore|    4|\n",
      "|    quisquam|   10|\n",
      "|    numquam.|    2|\n",
      "|    tempora.|   11|\n",
      "|    Adipisci|    3|\n",
      "+------------+-----+\n",
      "only showing top 20 rows\n",
      "\n"
     ]
    },
    {
     "name": "stderr",
     "output_type": "stream",
     "text": [
      "                                                                                \r"
     ]
    },
    {
     "name": "stdout",
     "output_type": "stream",
     "text": [
      "-------------------------------------------\n",
      "Batch: 10\n",
      "-------------------------------------------\n",
      "+------------+-----+\n",
      "|        word|count|\n",
      "+------------+-----+\n",
      "|    Quisquam|    3|\n",
      "|         Sit|    3|\n",
      "|     tempora|    9|\n",
      "|consectetur.|    3|\n",
      "|         Sed|    1|\n",
      "|        non.|    2|\n",
      "|      ipsum.|    1|\n",
      "|       velit|    8|\n",
      "|   adipisci.|    4|\n",
      "|         non|    9|\n",
      "|     Aliquam|    2|\n",
      "|     dolore.|    2|\n",
      "|         sit|   10|\n",
      "|       Porro|    4|\n",
      "| consectetur|   18|\n",
      "|      Labore|    4|\n",
      "|    quisquam|   12|\n",
      "|    numquam.|    2|\n",
      "|    tempora.|   12|\n",
      "|    Adipisci|    3|\n",
      "+------------+-----+\n",
      "only showing top 20 rows\n",
      "\n"
     ]
    },
    {
     "name": "stderr",
     "output_type": "stream",
     "text": [
      "                                                                                \r"
     ]
    },
    {
     "name": "stdout",
     "output_type": "stream",
     "text": [
      "-------------------------------------------\n",
      "Batch: 11\n",
      "-------------------------------------------\n",
      "+------------+-----+\n",
      "|        word|count|\n",
      "+------------+-----+\n",
      "|    Quisquam|    3|\n",
      "|         Sit|    3|\n",
      "|     tempora|    9|\n",
      "|consectetur.|    3|\n",
      "|         Sed|    1|\n",
      "|        non.|    2|\n",
      "|      ipsum.|    1|\n",
      "|       velit|    8|\n",
      "|   adipisci.|    4|\n",
      "|         non|    9|\n",
      "|     Aliquam|    2|\n",
      "|     dolore.|    3|\n",
      "|         sit|   10|\n",
      "|       Porro|    4|\n",
      "| consectetur|   18|\n",
      "|      Labore|    4|\n",
      "|    quisquam|   13|\n",
      "|    numquam.|    2|\n",
      "|    tempora.|   12|\n",
      "|    Adipisci|    3|\n",
      "+------------+-----+\n",
      "only showing top 20 rows\n",
      "\n"
     ]
    },
    {
     "name": "stderr",
     "output_type": "stream",
     "text": [
      "                                                                                \r"
     ]
    },
    {
     "name": "stdout",
     "output_type": "stream",
     "text": [
      "-------------------------------------------\n",
      "Batch: 12\n",
      "-------------------------------------------\n",
      "+------------+-----+\n",
      "|        word|count|\n",
      "+------------+-----+\n",
      "|    Quisquam|    3|\n",
      "|         Sit|    3|\n",
      "|     tempora|    9|\n",
      "|consectetur.|    3|\n",
      "|         Sed|    1|\n",
      "|        non.|    2|\n",
      "|      ipsum.|    1|\n",
      "|       velit|    8|\n",
      "|   adipisci.|    4|\n",
      "|         non|    9|\n",
      "|     Aliquam|    2|\n",
      "|     dolore.|    4|\n",
      "|         sit|   10|\n",
      "|       Porro|    4|\n",
      "| consectetur|   18|\n",
      "|      Labore|    4|\n",
      "|    quisquam|   13|\n",
      "|    numquam.|    2|\n",
      "|    tempora.|   12|\n",
      "|    Adipisci|    3|\n",
      "+------------+-----+\n",
      "only showing top 20 rows\n",
      "\n"
     ]
    },
    {
     "name": "stderr",
     "output_type": "stream",
     "text": [
      "                                                                                \r"
     ]
    },
    {
     "name": "stdout",
     "output_type": "stream",
     "text": [
      "-------------------------------------------\n",
      "Batch: 13\n",
      "-------------------------------------------\n",
      "+------------+-----+\n",
      "|        word|count|\n",
      "+------------+-----+\n",
      "|    Quisquam|    3|\n",
      "|         Sit|    3|\n",
      "|     tempora|    9|\n",
      "|consectetur.|    3|\n",
      "|         Sed|    1|\n",
      "|        non.|    2|\n",
      "|      ipsum.|    1|\n",
      "|       velit|    8|\n",
      "|   adipisci.|    4|\n",
      "|         non|   10|\n",
      "|     Aliquam|    2|\n",
      "|     dolore.|    4|\n",
      "|         sit|   10|\n",
      "|       Porro|    4|\n",
      "| consectetur|   19|\n",
      "|      Labore|    4|\n",
      "|    quisquam|   13|\n",
      "|    numquam.|    2|\n",
      "|    tempora.|   12|\n",
      "|    Adipisci|    3|\n",
      "+------------+-----+\n",
      "only showing top 20 rows\n",
      "\n"
     ]
    },
    {
     "name": "stderr",
     "output_type": "stream",
     "text": [
      "                                                                                \r"
     ]
    },
    {
     "name": "stdout",
     "output_type": "stream",
     "text": [
      "-------------------------------------------\n",
      "Batch: 14\n",
      "-------------------------------------------\n",
      "+------------+-----+\n",
      "|        word|count|\n",
      "+------------+-----+\n",
      "|    Quisquam|    3|\n",
      "|         Sit|    3|\n",
      "|     tempora|    9|\n",
      "|consectetur.|    3|\n",
      "|         Sed|    2|\n",
      "|        non.|    2|\n",
      "|      ipsum.|    1|\n",
      "|       velit|    8|\n",
      "|   adipisci.|    4|\n",
      "|         non|   10|\n",
      "|     Aliquam|    2|\n",
      "|     dolore.|    4|\n",
      "|         sit|   10|\n",
      "|       Porro|    4|\n",
      "| consectetur|   19|\n",
      "|      Labore|    4|\n",
      "|    quisquam|   15|\n",
      "|    numquam.|    2|\n",
      "|    tempora.|   12|\n",
      "|    Adipisci|    3|\n",
      "+------------+-----+\n",
      "only showing top 20 rows\n",
      "\n"
     ]
    },
    {
     "name": "stderr",
     "output_type": "stream",
     "text": [
      "                                                                                \r"
     ]
    },
    {
     "name": "stdout",
     "output_type": "stream",
     "text": [
      "-------------------------------------------\n",
      "Batch: 15\n",
      "-------------------------------------------\n",
      "+------------+-----+\n",
      "|        word|count|\n",
      "+------------+-----+\n",
      "|    Quisquam|    3|\n",
      "|         Sit|    3|\n",
      "|     tempora|    9|\n",
      "|consectetur.|    3|\n",
      "|         Sed|    2|\n",
      "|        non.|    2|\n",
      "|      ipsum.|    1|\n",
      "|       velit|    8|\n",
      "|   adipisci.|    4|\n",
      "|         non|   10|\n",
      "|     Aliquam|    2|\n",
      "|     dolore.|    4|\n",
      "|         sit|   10|\n",
      "|       Porro|    4|\n",
      "| consectetur|   19|\n",
      "|      Labore|    4|\n",
      "|    quisquam|   16|\n",
      "|    numquam.|    2|\n",
      "|    tempora.|   12|\n",
      "|    Adipisci|    3|\n",
      "+------------+-----+\n",
      "only showing top 20 rows\n",
      "\n"
     ]
    },
    {
     "name": "stderr",
     "output_type": "stream",
     "text": [
      "                                                                                \r"
     ]
    },
    {
     "name": "stdout",
     "output_type": "stream",
     "text": [
      "-------------------------------------------\n",
      "Batch: 16\n",
      "-------------------------------------------\n",
      "+------------+-----+\n",
      "|        word|count|\n",
      "+------------+-----+\n",
      "|    Quisquam|    3|\n",
      "|         Sit|    3|\n",
      "|     tempora|    9|\n",
      "|consectetur.|    3|\n",
      "|         Sed|    2|\n",
      "|        non.|    2|\n",
      "|      ipsum.|    1|\n",
      "|       velit|    9|\n",
      "|   adipisci.|    4|\n",
      "|         non|   10|\n",
      "|     Aliquam|    2|\n",
      "|     dolore.|    4|\n",
      "|         sit|   10|\n",
      "|       Porro|    4|\n",
      "| consectetur|   19|\n",
      "|      Labore|    4|\n",
      "|    quisquam|   16|\n",
      "|    numquam.|    3|\n",
      "|    tempora.|   12|\n",
      "|    Adipisci|    3|\n",
      "+------------+-----+\n",
      "only showing top 20 rows\n",
      "\n"
     ]
    },
    {
     "name": "stderr",
     "output_type": "stream",
     "text": [
      "                                                                                \r"
     ]
    },
    {
     "name": "stdout",
     "output_type": "stream",
     "text": [
      "-------------------------------------------\n",
      "Batch: 17\n",
      "-------------------------------------------\n",
      "+------------+-----+\n",
      "|        word|count|\n",
      "+------------+-----+\n",
      "|    Quisquam|    3|\n",
      "|         Sit|    3|\n",
      "|     tempora|    9|\n",
      "|consectetur.|    3|\n",
      "|         Sed|    2|\n",
      "|        non.|    2|\n",
      "|      ipsum.|    1|\n",
      "|       velit|    9|\n",
      "|   adipisci.|    4|\n",
      "|         non|   10|\n",
      "|     Aliquam|    2|\n",
      "|     dolore.|    4|\n",
      "|         sit|   11|\n",
      "|       Porro|    5|\n",
      "| consectetur|   19|\n",
      "|      Labore|    4|\n",
      "|    quisquam|   17|\n",
      "|    numquam.|    3|\n",
      "|    tempora.|   12|\n",
      "|    Adipisci|    3|\n",
      "+------------+-----+\n",
      "only showing top 20 rows\n",
      "\n"
     ]
    },
    {
     "name": "stderr",
     "output_type": "stream",
     "text": [
      "                                                                                \r"
     ]
    },
    {
     "name": "stdout",
     "output_type": "stream",
     "text": [
      "-------------------------------------------\n",
      "Batch: 18\n",
      "-------------------------------------------\n",
      "+------------+-----+\n",
      "|        word|count|\n",
      "+------------+-----+\n",
      "|    Quisquam|    3|\n",
      "|         Sit|    3|\n",
      "|     tempora|    9|\n",
      "|consectetur.|    3|\n",
      "|         Sed|    2|\n",
      "|        non.|    2|\n",
      "|      ipsum.|    1|\n",
      "|       velit|    9|\n",
      "|   adipisci.|    4|\n",
      "|         non|   10|\n",
      "|     Aliquam|    2|\n",
      "|     dolore.|    4|\n",
      "|         sit|   12|\n",
      "|       Porro|    5|\n",
      "| consectetur|   19|\n",
      "|      Labore|    4|\n",
      "|    quisquam|   17|\n",
      "|    numquam.|    3|\n",
      "|    tempora.|   12|\n",
      "|    Adipisci|    3|\n",
      "+------------+-----+\n",
      "only showing top 20 rows\n",
      "\n"
     ]
    },
    {
     "name": "stderr",
     "output_type": "stream",
     "text": [
      "                                                                                \r"
     ]
    },
    {
     "name": "stdout",
     "output_type": "stream",
     "text": [
      "-------------------------------------------\n",
      "Batch: 19\n",
      "-------------------------------------------\n",
      "+------------+-----+\n",
      "|        word|count|\n",
      "+------------+-----+\n",
      "|    Quisquam|    3|\n",
      "|         Sit|    3|\n",
      "|     tempora|    9|\n",
      "|consectetur.|    3|\n",
      "|         Sed|    2|\n",
      "|        non.|    2|\n",
      "|      ipsum.|    2|\n",
      "|       velit|    9|\n",
      "|   adipisci.|    4|\n",
      "|         non|   10|\n",
      "|     Aliquam|    2|\n",
      "|     dolore.|    4|\n",
      "|         sit|   12|\n",
      "|       Porro|    5|\n",
      "| consectetur|   19|\n",
      "|      Labore|    4|\n",
      "|    quisquam|   17|\n",
      "|    numquam.|    3|\n",
      "|    tempora.|   12|\n",
      "|    Adipisci|    3|\n",
      "+------------+-----+\n",
      "only showing top 20 rows\n",
      "\n"
     ]
    },
    {
     "name": "stderr",
     "output_type": "stream",
     "text": [
      "                                                                                \r"
     ]
    },
    {
     "name": "stdout",
     "output_type": "stream",
     "text": [
      "-------------------------------------------\n",
      "Batch: 20\n",
      "-------------------------------------------\n",
      "+------------+-----+\n",
      "|        word|count|\n",
      "+------------+-----+\n",
      "|    Quisquam|    3|\n",
      "|         Sit|    3|\n",
      "|     tempora|   10|\n",
      "|consectetur.|    3|\n",
      "|         Sed|    2|\n",
      "|        non.|    2|\n",
      "|      ipsum.|    2|\n",
      "|       velit|    9|\n",
      "|   adipisci.|    4|\n",
      "|         non|   10|\n",
      "|     Aliquam|    2|\n",
      "|     dolore.|    5|\n",
      "|         sit|   12|\n",
      "|       Porro|    5|\n",
      "| consectetur|   19|\n",
      "|      Labore|    5|\n",
      "|    quisquam|   18|\n",
      "|    numquam.|    3|\n",
      "|    tempora.|   12|\n",
      "|    Adipisci|    3|\n",
      "+------------+-----+\n",
      "only showing top 20 rows\n",
      "\n"
     ]
    },
    {
     "name": "stderr",
     "output_type": "stream",
     "text": [
      "                                                                                \r"
     ]
    },
    {
     "name": "stdout",
     "output_type": "stream",
     "text": [
      "-------------------------------------------\n",
      "Batch: 21\n",
      "-------------------------------------------\n",
      "+------------+-----+\n",
      "|        word|count|\n",
      "+------------+-----+\n",
      "|    Quisquam|    3|\n",
      "|         Sit|    3|\n",
      "|     tempora|   10|\n",
      "|consectetur.|    3|\n",
      "|         Sed|    2|\n",
      "|        non.|    2|\n",
      "|      ipsum.|    2|\n",
      "|       velit|    9|\n",
      "|   adipisci.|    4|\n",
      "|         non|   11|\n",
      "|     Aliquam|    2|\n",
      "|     dolore.|    5|\n",
      "|         sit|   14|\n",
      "|       Porro|    6|\n",
      "| consectetur|   19|\n",
      "|      Labore|    5|\n",
      "|    quisquam|   18|\n",
      "|    numquam.|    3|\n",
      "|    tempora.|   12|\n",
      "|    Adipisci|    3|\n",
      "+------------+-----+\n",
      "only showing top 20 rows\n",
      "\n"
     ]
    },
    {
     "name": "stderr",
     "output_type": "stream",
     "text": [
      "                                                                                \r"
     ]
    },
    {
     "name": "stdout",
     "output_type": "stream",
     "text": [
      "-------------------------------------------\n",
      "Batch: 22\n",
      "-------------------------------------------\n",
      "+------------+-----+\n",
      "|        word|count|\n",
      "+------------+-----+\n",
      "|    Quisquam|    4|\n",
      "|         Sit|    3|\n",
      "|     tempora|   10|\n",
      "|consectetur.|    3|\n",
      "|         Sed|    2|\n",
      "|        non.|    2|\n",
      "|      ipsum.|    2|\n",
      "|       velit|    9|\n",
      "|   adipisci.|    4|\n",
      "|         non|   12|\n",
      "|     Aliquam|    2|\n",
      "|     dolore.|    5|\n",
      "|         sit|   14|\n",
      "|       Porro|    6|\n",
      "| consectetur|   19|\n",
      "|      Labore|    5|\n",
      "|    quisquam|   19|\n",
      "|    numquam.|    3|\n",
      "|    tempora.|   12|\n",
      "|    Adipisci|    3|\n",
      "+------------+-----+\n",
      "only showing top 20 rows\n",
      "\n"
     ]
    },
    {
     "name": "stderr",
     "output_type": "stream",
     "text": [
      "                                                                                \r"
     ]
    },
    {
     "name": "stdout",
     "output_type": "stream",
     "text": [
      "-------------------------------------------\n",
      "Batch: 23\n",
      "-------------------------------------------\n",
      "+------------+-----+\n",
      "|        word|count|\n",
      "+------------+-----+\n",
      "|    Quisquam|    4|\n",
      "|         Sit|    3|\n",
      "|     tempora|   10|\n",
      "|consectetur.|    4|\n",
      "|         Sed|    2|\n",
      "|        non.|    2|\n",
      "|      ipsum.|    2|\n",
      "|       velit|   10|\n",
      "|   adipisci.|    4|\n",
      "|         non|   13|\n",
      "|     Aliquam|    2|\n",
      "|     dolore.|    5|\n",
      "|         sit|   14|\n",
      "|       Porro|    6|\n",
      "| consectetur|   19|\n",
      "|      Labore|    5|\n",
      "|    quisquam|   19|\n",
      "|    numquam.|    3|\n",
      "|    tempora.|   12|\n",
      "|    Adipisci|    3|\n",
      "+------------+-----+\n",
      "only showing top 20 rows\n",
      "\n"
     ]
    },
    {
     "name": "stderr",
     "output_type": "stream",
     "text": [
      "                                                                                \r"
     ]
    },
    {
     "name": "stdout",
     "output_type": "stream",
     "text": [
      "-------------------------------------------\n",
      "Batch: 24\n",
      "-------------------------------------------\n",
      "+------------+-----+\n",
      "|        word|count|\n",
      "+------------+-----+\n",
      "|    Quisquam|    4|\n",
      "|         Sit|    3|\n",
      "|     tempora|   11|\n",
      "|consectetur.|    4|\n",
      "|         Sed|    2|\n",
      "|        non.|    2|\n",
      "|      ipsum.|    2|\n",
      "|       velit|   10|\n",
      "|   adipisci.|    4|\n",
      "|         non|   13|\n",
      "|     Aliquam|    2|\n",
      "|     dolore.|    5|\n",
      "|         sit|   14|\n",
      "|       Porro|    6|\n",
      "| consectetur|   19|\n",
      "|      Labore|    5|\n",
      "|    quisquam|   19|\n",
      "|    numquam.|    4|\n",
      "|    tempora.|   12|\n",
      "|    Adipisci|    3|\n",
      "+------------+-----+\n",
      "only showing top 20 rows\n",
      "\n"
     ]
    },
    {
     "name": "stderr",
     "output_type": "stream",
     "text": [
      "                                                                                \r"
     ]
    },
    {
     "name": "stdout",
     "output_type": "stream",
     "text": [
      "-------------------------------------------\n",
      "Batch: 25\n",
      "-------------------------------------------\n",
      "+------------+-----+\n",
      "|        word|count|\n",
      "+------------+-----+\n",
      "|    Quisquam|    4|\n",
      "|         Sit|    4|\n",
      "|     tempora|   12|\n",
      "|consectetur.|    4|\n",
      "|         Sed|    2|\n",
      "|        non.|    2|\n",
      "|      ipsum.|    2|\n",
      "|       velit|   10|\n",
      "|   adipisci.|    4|\n",
      "|         non|   13|\n",
      "|     Aliquam|    2|\n",
      "|     dolore.|    5|\n",
      "|         sit|   14|\n",
      "|       Porro|    6|\n",
      "| consectetur|   19|\n",
      "|      Labore|    5|\n",
      "|    quisquam|   21|\n",
      "|    numquam.|    4|\n",
      "|    tempora.|   12|\n",
      "|    Adipisci|    3|\n",
      "+------------+-----+\n",
      "only showing top 20 rows\n",
      "\n"
     ]
    },
    {
     "name": "stderr",
     "output_type": "stream",
     "text": [
      "                                                                                \r"
     ]
    },
    {
     "name": "stdout",
     "output_type": "stream",
     "text": [
      "-------------------------------------------\n",
      "Batch: 26\n",
      "-------------------------------------------\n",
      "+------------+-----+\n",
      "|        word|count|\n",
      "+------------+-----+\n",
      "|    Quisquam|    4|\n",
      "|         Sit|    4|\n",
      "|     tempora|   12|\n",
      "|consectetur.|    4|\n",
      "|         Sed|    2|\n",
      "|        non.|    2|\n",
      "|      ipsum.|    2|\n",
      "|       velit|   11|\n",
      "|   adipisci.|    4|\n",
      "|         non|   13|\n",
      "|     Aliquam|    2|\n",
      "|     dolore.|    5|\n",
      "|         sit|   14|\n",
      "|       Porro|    6|\n",
      "| consectetur|   20|\n",
      "|      Labore|    5|\n",
      "|    quisquam|   21|\n",
      "|    numquam.|    4|\n",
      "|    tempora.|   12|\n",
      "|    Adipisci|    4|\n",
      "+------------+-----+\n",
      "only showing top 20 rows\n",
      "\n"
     ]
    },
    {
     "name": "stderr",
     "output_type": "stream",
     "text": [
      "                                                                                \r"
     ]
    },
    {
     "name": "stdout",
     "output_type": "stream",
     "text": [
      "-------------------------------------------\n",
      "Batch: 27\n",
      "-------------------------------------------\n",
      "+------------+-----+\n",
      "|        word|count|\n",
      "+------------+-----+\n",
      "|    Quisquam|    4|\n",
      "|         Sit|    4|\n",
      "|     tempora|   12|\n",
      "|consectetur.|    4|\n",
      "|         Sed|    2|\n",
      "|        non.|    2|\n",
      "|      ipsum.|    2|\n",
      "|       velit|   12|\n",
      "|   adipisci.|    4|\n",
      "|         non|   13|\n",
      "|     Aliquam|    2|\n",
      "|     dolore.|    6|\n",
      "|         sit|   14|\n",
      "|       Porro|    6|\n",
      "| consectetur|   20|\n",
      "|      Labore|    5|\n",
      "|    quisquam|   21|\n",
      "|    numquam.|    4|\n",
      "|    tempora.|   12|\n",
      "|    Adipisci|    4|\n",
      "+------------+-----+\n",
      "only showing top 20 rows\n",
      "\n"
     ]
    },
    {
     "name": "stderr",
     "output_type": "stream",
     "text": [
      "                                                                                \r"
     ]
    },
    {
     "name": "stdout",
     "output_type": "stream",
     "text": [
      "-------------------------------------------\n",
      "Batch: 28\n",
      "-------------------------------------------\n",
      "+------------+-----+\n",
      "|        word|count|\n",
      "+------------+-----+\n",
      "|    Quisquam|    4|\n",
      "|         Sit|    4|\n",
      "|     tempora|   12|\n",
      "|consectetur.|    5|\n",
      "|         Sed|    2|\n",
      "|        non.|    2|\n",
      "|      ipsum.|    2|\n",
      "|       velit|   12|\n",
      "|   adipisci.|    4|\n",
      "|         non|   13|\n",
      "|     Aliquam|    2|\n",
      "|     dolore.|    6|\n",
      "|         sit|   14|\n",
      "|       Porro|    6|\n",
      "| consectetur|   22|\n",
      "|      Labore|    5|\n",
      "|    quisquam|   21|\n",
      "|    numquam.|    4|\n",
      "|    tempora.|   12|\n",
      "|    Adipisci|    4|\n",
      "+------------+-----+\n",
      "only showing top 20 rows\n",
      "\n"
     ]
    },
    {
     "name": "stderr",
     "output_type": "stream",
     "text": [
      "                                                                                \r"
     ]
    },
    {
     "name": "stdout",
     "output_type": "stream",
     "text": [
      "-------------------------------------------\n",
      "Batch: 29\n",
      "-------------------------------------------\n",
      "+------------+-----+\n",
      "|        word|count|\n",
      "+------------+-----+\n",
      "|    Quisquam|    4|\n",
      "|         Sit|    4|\n",
      "|     tempora|   12|\n",
      "|consectetur.|    5|\n",
      "|         Sed|    2|\n",
      "|        non.|    2|\n",
      "|      ipsum.|    2|\n",
      "|       velit|   13|\n",
      "|   adipisci.|    4|\n",
      "|         non|   13|\n",
      "|     Aliquam|    2|\n",
      "|     dolore.|    6|\n",
      "|         sit|   14|\n",
      "|       Porro|    6|\n",
      "| consectetur|   22|\n",
      "|      Labore|    5|\n",
      "|    quisquam|   21|\n",
      "|    numquam.|    4|\n",
      "|    tempora.|   12|\n",
      "|    Adipisci|    5|\n",
      "+------------+-----+\n",
      "only showing top 20 rows\n",
      "\n"
     ]
    },
    {
     "name": "stderr",
     "output_type": "stream",
     "text": [
      "                                                                                \r"
     ]
    },
    {
     "name": "stdout",
     "output_type": "stream",
     "text": [
      "-------------------------------------------\n",
      "Batch: 30\n",
      "-------------------------------------------\n",
      "+------------+-----+\n",
      "|        word|count|\n",
      "+------------+-----+\n",
      "|    Quisquam|    4|\n",
      "|         Sit|    4|\n",
      "|     tempora|   13|\n",
      "|consectetur.|    5|\n",
      "|         Sed|    2|\n",
      "|        non.|    2|\n",
      "|      ipsum.|    2|\n",
      "|       velit|   13|\n",
      "|   adipisci.|    4|\n",
      "|         non|   13|\n",
      "|     Aliquam|    3|\n",
      "|     dolore.|    7|\n",
      "|         sit|   15|\n",
      "|       Porro|    6|\n",
      "| consectetur|   23|\n",
      "|      Labore|    5|\n",
      "|    quisquam|   21|\n",
      "|    numquam.|    4|\n",
      "|    tempora.|   12|\n",
      "|    Adipisci|    5|\n",
      "+------------+-----+\n",
      "only showing top 20 rows\n",
      "\n"
     ]
    },
    {
     "name": "stderr",
     "output_type": "stream",
     "text": [
      "                                                                                \r"
     ]
    },
    {
     "name": "stdout",
     "output_type": "stream",
     "text": [
      "-------------------------------------------\n",
      "Batch: 31\n",
      "-------------------------------------------\n",
      "+------------+-----+\n",
      "|        word|count|\n",
      "+------------+-----+\n",
      "|    Quisquam|    4|\n",
      "|         Sit|    4|\n",
      "|     tempora|   14|\n",
      "|consectetur.|    5|\n",
      "|         Sed|    2|\n",
      "|        non.|    2|\n",
      "|      ipsum.|    2|\n",
      "|       velit|   13|\n",
      "|   adipisci.|    4|\n",
      "|         non|   13|\n",
      "|     Aliquam|    3|\n",
      "|     dolore.|    8|\n",
      "|         sit|   15|\n",
      "|       Porro|    6|\n",
      "| consectetur|   24|\n",
      "|      Labore|    5|\n",
      "|    quisquam|   21|\n",
      "|    numquam.|    4|\n",
      "|    tempora.|   12|\n",
      "|    Adipisci|    6|\n",
      "+------------+-----+\n",
      "only showing top 20 rows\n",
      "\n"
     ]
    },
    {
     "name": "stderr",
     "output_type": "stream",
     "text": [
      "[Stage 65:=======================================>              (145 + 6) / 200]\r"
     ]
    },
    {
     "ename": "KeyboardInterrupt",
     "evalue": "",
     "output_type": "error",
     "traceback": [
      "\u001b[0;31m---------------------------------------------------------------------------\u001b[0m",
      "\u001b[0;31mKeyboardInterrupt\u001b[0m                         Traceback (most recent call last)",
      "Cell \u001b[0;32mIn[3], line 15\u001b[0m\n\u001b[1;32m      8\u001b[0m  \u001b[38;5;66;03m# Start running the query that prints the running counts to the console\u001b[39;00m\n\u001b[1;32m      9\u001b[0m query \u001b[38;5;241m=\u001b[39m wordCounts \\\n\u001b[1;32m     10\u001b[0m           \u001b[38;5;241m.\u001b[39mwriteStream \\\n\u001b[1;32m     11\u001b[0m           \u001b[38;5;241m.\u001b[39moutputMode(\u001b[38;5;124m\"\u001b[39m\u001b[38;5;124mcomplete\u001b[39m\u001b[38;5;124m\"\u001b[39m) \\\n\u001b[1;32m     12\u001b[0m           \u001b[38;5;241m.\u001b[39mformat(\u001b[38;5;124m\"\u001b[39m\u001b[38;5;124mconsole\u001b[39m\u001b[38;5;124m\"\u001b[39m) \\\n\u001b[1;32m     13\u001b[0m           \u001b[38;5;241m.\u001b[39mstart()\n\u001b[0;32m---> 15\u001b[0m \u001b[43mquery\u001b[49m\u001b[38;5;241;43m.\u001b[39;49m\u001b[43mawaitTermination\u001b[49m\u001b[43m(\u001b[49m\u001b[43m)\u001b[49m\n",
      "File \u001b[0;32m/usr/local/lib/python3.9/dist-packages/pyspark/sql/streaming.py:103\u001b[0m, in \u001b[0;36mStreamingQuery.awaitTermination\u001b[0;34m(self, timeout)\u001b[0m\n\u001b[1;32m    101\u001b[0m     \u001b[38;5;28;01mreturn\u001b[39;00m \u001b[38;5;28mself\u001b[39m\u001b[38;5;241m.\u001b[39m_jsq\u001b[38;5;241m.\u001b[39mawaitTermination(\u001b[38;5;28mint\u001b[39m(timeout \u001b[38;5;241m*\u001b[39m \u001b[38;5;241m1000\u001b[39m))\n\u001b[1;32m    102\u001b[0m \u001b[38;5;28;01melse\u001b[39;00m:\n\u001b[0;32m--> 103\u001b[0m     \u001b[38;5;28;01mreturn\u001b[39;00m \u001b[38;5;28;43mself\u001b[39;49m\u001b[38;5;241;43m.\u001b[39;49m\u001b[43m_jsq\u001b[49m\u001b[38;5;241;43m.\u001b[39;49m\u001b[43mawaitTermination\u001b[49m\u001b[43m(\u001b[49m\u001b[43m)\u001b[49m\n",
      "File \u001b[0;32m/usr/local/lib/python3.9/dist-packages/py4j/java_gateway.py:1303\u001b[0m, in \u001b[0;36mJavaMember.__call__\u001b[0;34m(self, *args)\u001b[0m\n\u001b[1;32m   1296\u001b[0m args_command, temp_args \u001b[38;5;241m=\u001b[39m \u001b[38;5;28mself\u001b[39m\u001b[38;5;241m.\u001b[39m_build_args(\u001b[38;5;241m*\u001b[39margs)\n\u001b[1;32m   1298\u001b[0m command \u001b[38;5;241m=\u001b[39m proto\u001b[38;5;241m.\u001b[39mCALL_COMMAND_NAME \u001b[38;5;241m+\u001b[39m\\\n\u001b[1;32m   1299\u001b[0m     \u001b[38;5;28mself\u001b[39m\u001b[38;5;241m.\u001b[39mcommand_header \u001b[38;5;241m+\u001b[39m\\\n\u001b[1;32m   1300\u001b[0m     args_command \u001b[38;5;241m+\u001b[39m\\\n\u001b[1;32m   1301\u001b[0m     proto\u001b[38;5;241m.\u001b[39mEND_COMMAND_PART\n\u001b[0;32m-> 1303\u001b[0m answer \u001b[38;5;241m=\u001b[39m \u001b[38;5;28;43mself\u001b[39;49m\u001b[38;5;241;43m.\u001b[39;49m\u001b[43mgateway_client\u001b[49m\u001b[38;5;241;43m.\u001b[39;49m\u001b[43msend_command\u001b[49m\u001b[43m(\u001b[49m\u001b[43mcommand\u001b[49m\u001b[43m)\u001b[49m\n\u001b[1;32m   1304\u001b[0m return_value \u001b[38;5;241m=\u001b[39m get_return_value(\n\u001b[1;32m   1305\u001b[0m     answer, \u001b[38;5;28mself\u001b[39m\u001b[38;5;241m.\u001b[39mgateway_client, \u001b[38;5;28mself\u001b[39m\u001b[38;5;241m.\u001b[39mtarget_id, \u001b[38;5;28mself\u001b[39m\u001b[38;5;241m.\u001b[39mname)\n\u001b[1;32m   1307\u001b[0m \u001b[38;5;28;01mfor\u001b[39;00m temp_arg \u001b[38;5;129;01min\u001b[39;00m temp_args:\n",
      "File \u001b[0;32m/usr/local/lib/python3.9/dist-packages/py4j/java_gateway.py:1033\u001b[0m, in \u001b[0;36mGatewayClient.send_command\u001b[0;34m(self, command, retry, binary)\u001b[0m\n\u001b[1;32m   1031\u001b[0m connection \u001b[38;5;241m=\u001b[39m \u001b[38;5;28mself\u001b[39m\u001b[38;5;241m.\u001b[39m_get_connection()\n\u001b[1;32m   1032\u001b[0m \u001b[38;5;28;01mtry\u001b[39;00m:\n\u001b[0;32m-> 1033\u001b[0m     response \u001b[38;5;241m=\u001b[39m \u001b[43mconnection\u001b[49m\u001b[38;5;241;43m.\u001b[39;49m\u001b[43msend_command\u001b[49m\u001b[43m(\u001b[49m\u001b[43mcommand\u001b[49m\u001b[43m)\u001b[49m\n\u001b[1;32m   1034\u001b[0m     \u001b[38;5;28;01mif\u001b[39;00m binary:\n\u001b[1;32m   1035\u001b[0m         \u001b[38;5;28;01mreturn\u001b[39;00m response, \u001b[38;5;28mself\u001b[39m\u001b[38;5;241m.\u001b[39m_create_connection_guard(connection)\n",
      "File \u001b[0;32m/usr/local/lib/python3.9/dist-packages/py4j/java_gateway.py:1200\u001b[0m, in \u001b[0;36mGatewayConnection.send_command\u001b[0;34m(self, command)\u001b[0m\n\u001b[1;32m   1196\u001b[0m     \u001b[38;5;28;01mraise\u001b[39;00m Py4JNetworkError(\n\u001b[1;32m   1197\u001b[0m         \u001b[38;5;124m\"\u001b[39m\u001b[38;5;124mError while sending\u001b[39m\u001b[38;5;124m\"\u001b[39m, e, proto\u001b[38;5;241m.\u001b[39mERROR_ON_SEND)\n\u001b[1;32m   1199\u001b[0m \u001b[38;5;28;01mtry\u001b[39;00m:\n\u001b[0;32m-> 1200\u001b[0m     answer \u001b[38;5;241m=\u001b[39m smart_decode(\u001b[38;5;28;43mself\u001b[39;49m\u001b[38;5;241;43m.\u001b[39;49m\u001b[43mstream\u001b[49m\u001b[38;5;241;43m.\u001b[39;49m\u001b[43mreadline\u001b[49m\u001b[43m(\u001b[49m\u001b[43m)\u001b[49m[:\u001b[38;5;241m-\u001b[39m\u001b[38;5;241m1\u001b[39m])\n\u001b[1;32m   1201\u001b[0m     logger\u001b[38;5;241m.\u001b[39mdebug(\u001b[38;5;124m\"\u001b[39m\u001b[38;5;124mAnswer received: \u001b[39m\u001b[38;5;132;01m{0}\u001b[39;00m\u001b[38;5;124m\"\u001b[39m\u001b[38;5;241m.\u001b[39mformat(answer))\n\u001b[1;32m   1202\u001b[0m     \u001b[38;5;28;01mif\u001b[39;00m answer\u001b[38;5;241m.\u001b[39mstartswith(proto\u001b[38;5;241m.\u001b[39mRETURN_MESSAGE):\n",
      "File \u001b[0;32m/usr/lib/python3.9/socket.py:704\u001b[0m, in \u001b[0;36mSocketIO.readinto\u001b[0;34m(self, b)\u001b[0m\n\u001b[1;32m    702\u001b[0m \u001b[38;5;28;01mwhile\u001b[39;00m \u001b[38;5;28;01mTrue\u001b[39;00m:\n\u001b[1;32m    703\u001b[0m     \u001b[38;5;28;01mtry\u001b[39;00m:\n\u001b[0;32m--> 704\u001b[0m         \u001b[38;5;28;01mreturn\u001b[39;00m \u001b[38;5;28;43mself\u001b[39;49m\u001b[38;5;241;43m.\u001b[39;49m\u001b[43m_sock\u001b[49m\u001b[38;5;241;43m.\u001b[39;49m\u001b[43mrecv_into\u001b[49m\u001b[43m(\u001b[49m\u001b[43mb\u001b[49m\u001b[43m)\u001b[49m\n\u001b[1;32m    705\u001b[0m     \u001b[38;5;28;01mexcept\u001b[39;00m timeout:\n\u001b[1;32m    706\u001b[0m         \u001b[38;5;28mself\u001b[39m\u001b[38;5;241m.\u001b[39m_timeout_occurred \u001b[38;5;241m=\u001b[39m \u001b[38;5;28;01mTrue\u001b[39;00m\n",
      "\u001b[0;31mKeyboardInterrupt\u001b[0m: "
     ]
    },
    {
     "name": "stderr",
     "output_type": "stream",
     "text": [
      "                                                                                \r"
     ]
    },
    {
     "name": "stdout",
     "output_type": "stream",
     "text": [
      "-------------------------------------------\n",
      "Batch: 32\n",
      "-------------------------------------------\n",
      "+------------+-----+\n",
      "|        word|count|\n",
      "+------------+-----+\n",
      "|    Quisquam|    4|\n",
      "|         Sit|    5|\n",
      "|     tempora|   15|\n",
      "|consectetur.|    6|\n",
      "|         Sed|    2|\n",
      "|        non.|    2|\n",
      "|      ipsum.|    2|\n",
      "|       velit|   13|\n",
      "|   adipisci.|    4|\n",
      "|         non|   13|\n",
      "|     Aliquam|    3|\n",
      "|     dolore.|    8|\n",
      "|         sit|   17|\n",
      "|       Porro|    6|\n",
      "| consectetur|   24|\n",
      "|      Labore|    5|\n",
      "|    quisquam|   22|\n",
      "|    numquam.|    4|\n",
      "|    tempora.|   12|\n",
      "|    Adipisci|    6|\n",
      "+------------+-----+\n",
      "only showing top 20 rows\n",
      "\n"
     ]
    },
    {
     "name": "stderr",
     "output_type": "stream",
     "text": [
      "                                                                                \r"
     ]
    },
    {
     "name": "stdout",
     "output_type": "stream",
     "text": [
      "-------------------------------------------\n",
      "Batch: 33\n",
      "-------------------------------------------\n",
      "+------------+-----+\n",
      "|        word|count|\n",
      "+------------+-----+\n",
      "|    Quisquam|    4|\n",
      "|         Sit|    5|\n",
      "|     tempora|   15|\n",
      "|consectetur.|    6|\n",
      "|         Sed|    2|\n",
      "|        non.|    2|\n",
      "|      ipsum.|    2|\n",
      "|       velit|   13|\n",
      "|   adipisci.|    4|\n",
      "|         non|   13|\n",
      "|     Aliquam|    3|\n",
      "|     dolore.|    8|\n",
      "|         sit|   18|\n",
      "|       Porro|    6|\n",
      "| consectetur|   25|\n",
      "|      Labore|    5|\n",
      "|    quisquam|   23|\n",
      "|    numquam.|    4|\n",
      "|    tempora.|   13|\n",
      "|    Adipisci|    6|\n",
      "+------------+-----+\n",
      "only showing top 20 rows\n",
      "\n"
     ]
    }
   ],
   "source": [
    "# Task: Use the code written for the previous case to do count the words in the stream\n",
    "# Split the lines into words\n",
    "words = lines.select(explode(split(lines.value, \" \")).alias(\"word\"))\n",
    "\n",
    " # Generate running word count\n",
    "wordCounts = words.groupBy(\"word\").count()\n",
    "\n",
    " # Start running the query that prints the running counts to the console\n",
    "query = wordCounts \\\n",
    "          .writeStream \\\n",
    "          .outputMode(\"complete\") \\\n",
    "          .format(\"console\") \\\n",
    "          .start()\n",
    "\n",
    "query.awaitTermination()"
   ]
  },
  {
   "cell_type": "markdown",
   "id": "8c4b4088",
   "metadata": {},
   "source": [
    "### Spark Structured Stream"
   ]
  },
  {
   "cell_type": "markdown",
   "id": "deb3a1c2",
   "metadata": {},
   "source": [
    "Let's start with an easy example that reads from file"
   ]
  },
  {
   "cell_type": "code",
   "execution_count": null,
   "id": "330dd810",
   "metadata": {},
   "outputs": [],
   "source": [
    "from pyspark.sql.types import StructType, StructField, StringType, IntegerType, DoubleType, BooleanType\n",
    "\n",
    "schema = StructType(\n",
    "      [\n",
    "        StructField(\"RecordNumber\", IntegerType(), True),\n",
    "        StructField(\"Zipcode\", StringType(), True),\n",
    "        StructField(\"ZipCodeType\", StringType(), True),\n",
    "        StructField(\"City\", StringType(), True),\n",
    "        StructField(\"State\", StringType(), True),\n",
    "        StructField(\"LocationType\", StringType(), True),\n",
    "        StructField(\"Lat\", StringType(), True),\n",
    "        StructField(\"Long\", StringType(), True),\n",
    "        StructField(\"Xaxis\", StringType(), True),\n",
    "        StructField(\"Yaxis\", StringType(), True),\n",
    "        StructField(\"Zaxis\", StringType(), True),\n",
    "        StructField(\"WorldRegion\", StringType(), True),\n",
    "        StructField(\"Country\", StringType(), True),\n",
    "        StructField(\"LocationText\", StringType(), True),\n",
    "        StructField(\"Location\", StringType(), True),\n",
    "        StructField(\"Decommisioned\", StringType(), True)\n",
    "      ]\n",
    "    )"
   ]
  },
  {
   "cell_type": "code",
   "execution_count": null,
   "id": "37e184f3",
   "metadata": {},
   "outputs": [],
   "source": [
    "zips = spark.readStream.schema(schema).json('data/')"
   ]
  },
  {
   "cell_type": "code",
   "execution_count": null,
   "id": "ebe19bd0",
   "metadata": {},
   "outputs": [],
   "source": [
    "zips.printSchema()"
   ]
  },
  {
   "cell_type": "markdown",
   "id": "33b35eb9",
   "metadata": {},
   "source": [
    "We can look at the stream"
   ]
  },
  {
   "cell_type": "code",
   "execution_count": null,
   "id": "d5d7b160",
   "metadata": {},
   "outputs": [],
   "source": [
    "zips.writeStream \\\n",
    "          .outputMode(\"append\") \\\n",
    "          .format(\"console\") \\\n",
    "          .start()"
   ]
  },
  {
   "cell_type": "markdown",
   "id": "f88530ac",
   "metadata": {},
   "source": [
    "And we can compute some aggregation on it"
   ]
  },
  {
   "cell_type": "code",
   "execution_count": null,
   "id": "515ca288",
   "metadata": {},
   "outputs": [],
   "source": [
    "groupDF = zips.select(\"Zipcode\").groupBy(\"Zipcode\").count()\n",
    "\n",
    "#groupDF.printSchema()\n",
    "\n",
    "groupDF.writeStream \\\n",
    ".format(\"console\") \\\n",
    ".outputMode(\"complete\") \\\n",
    ".start() \\\n",
    ".awaitTermination()"
   ]
  },
  {
   "cell_type": "code",
   "execution_count": null,
   "id": "db9455f4",
   "metadata": {},
   "outputs": [],
   "source": [
    "# Change the code above to aggregate the location according to different categories (e.g., location type) \n",
    "groupDF = zips.select(\"City\").groupBy(\"City\").count()\n",
    "\n",
    "#groupDF.printSchema()\n",
    "\n",
    "groupDF.writeStream \\\n",
    ".format(\"console\") \\\n",
    ".outputMode(\"complete\") \\\n",
    ".start() \\\n",
    ".awaitTermination()"
   ]
  },
  {
   "cell_type": "markdown",
   "id": "bb4a84a7",
   "metadata": {},
   "source": [
    "### Window operator"
   ]
  },
  {
   "cell_type": "code",
   "execution_count": null,
   "id": "ec5beb7c",
   "metadata": {
    "scrolled": true
   },
   "outputs": [],
   "source": [
    "from pyspark.sql.functions import window\n",
    "\n",
    "kafka_server = \"kafka1:9092\"   \n",
    "\n",
    "lines = (spark.readStream                        # Get the DataStreamReader\n",
    "  .format(\"kafka\")                                 # Specify the source format as \"kafka\"\n",
    "  .option(\"kafka.bootstrap.servers\", kafka_server) # Configure the Kafka server name and port\n",
    "  .option(\"subscribe\", \"words\")                       # Subscribe to the \"words\" Kafka topic\n",
    "  .option(\"startingOffsets\", \"earliest\")           # The start point when a query is started\n",
    "  .option(\"maxOffsetsPerTrigger\", 100)             # Rate limit on max offsets per trigger interval\n",
    "  .load()                                          # Load the DataFrame\n",
    ")"
   ]
  },
  {
   "cell_type": "code",
   "execution_count": null,
   "id": "87638c4f",
   "metadata": {
    "scrolled": true
   },
   "outputs": [],
   "source": [
    "# Split the lines into words\n",
    "words = lines.select(explode(split(lines.value, \" \")).alias(\"word\"),col(\"timestamp\"))\n",
    "\n",
    " # Generate running word count\n",
    "wordCounts = words.groupBy(\"word\", window(\"timestamp\", \"5 seconds\")).count()\n",
    "\n",
    " # Start running the query that prints the running counts to the console\n",
    "query = wordCounts \\\n",
    "          .writeStream \\\n",
    "          .outputMode(\"complete\") \\\n",
    "          .format(\"console\") \\\n",
    "          .start()\n",
    "\n",
    "query.awaitTermination()"
   ]
  },
  {
   "cell_type": "markdown",
   "id": "32fac309",
   "metadata": {},
   "source": [
    "#### Sliding time window"
   ]
  },
  {
   "cell_type": "code",
   "execution_count": null,
   "id": "4de9ea79",
   "metadata": {},
   "outputs": [],
   "source": [
    "# Split the lines into words\n",
    "words = lines.select(explode(split(lines.value, \" \")).alias(\"word\"),col(\"timestamp\"))\n",
    "\n",
    " # Generate running word count\n",
    "wordCounts = words.groupBy(\"word\", window(\"timestamp\", \"5 seconds\", \"2 seconds\")).count()\n",
    "\n",
    " # Start running the query that prints the running counts to the console\n",
    "query = wordCounts \\\n",
    "          .writeStream \\\n",
    "          .outputMode(\"complete\") \\\n",
    "          .format(\"console\") \\\n",
    "          .start()\n",
    "\n",
    "query.awaitTermination()"
   ]
  },
  {
   "cell_type": "markdown",
   "id": "3289bdf8",
   "metadata": {},
   "source": [
    "#### Other aggregations"
   ]
  },
  {
   "cell_type": "code",
   "execution_count": null,
   "id": "8e487016",
   "metadata": {},
   "outputs": [],
   "source": [
    "# Knowing that you can use the method \"orderBy(col(\"columname\").desc())\" to order the element in the batch\n",
    "# modiffy the code above to rank the words in order of appearance\n",
    "\n",
    "# Split the lines into words\n",
    "words = lines.select(explode(split(lines.value, \" \")).alias(\"word\"),col(\"timestamp\"))\n",
    "\n",
    " # Generate running word count\n",
    "wordCounts = words.groupBy(\"word\", window(\"timestamp\", \"5 seconds\", \"2 seconds\")).count()\n",
    "\n",
    "orderedWords = wordCounts.orderBy(col(\"count\").desc())\n",
    "\n",
    " # Start running the query that prints the running counts to the console\n",
    "query = orderedWords \\\n",
    "          .writeStream \\\n",
    "          .outputMode(\"complete\") \\\n",
    "          .format(\"console\") \\\n",
    "          .start()\n",
    "\n",
    "query.awaitTermination()\n"
   ]
  },
  {
   "cell_type": "markdown",
   "id": "ad350b00",
   "metadata": {},
   "source": [
    "### Wikipedia edits"
   ]
  },
  {
   "cell_type": "markdown",
   "id": "32ab3eff",
   "metadata": {},
   "source": [
    "https://stream.wikimedia.org/v2/ui/#/?streams=mediawiki.recentchange"
   ]
  },
  {
   "cell_type": "markdown",
   "id": "4a84a73c",
   "metadata": {},
   "source": [
    "Spend some minutes to look how are the data on the website and look at the schema below (we won't consider all the fields)"
   ]
  },
  {
   "cell_type": "code",
   "execution_count": 3,
   "id": "b5b658c9",
   "metadata": {},
   "outputs": [],
   "source": [
    "from pyspark.sql.types import StructType, StructField, StringType, IntegerType, DoubleType, BooleanType, TimestampType\n",
    "\n",
    "schema = StructType(\n",
    "      [\n",
    "        StructField(\"domain\", StringType(), True),\n",
    "        StructField(\"namespace\", StringType(), True),\n",
    "        StructField(\"uri\", StringType(), True),\n",
    "        StructField(\"title\", StringType(), True),\n",
    "        StructField(\"timestamp\", TimestampType(), True),\n",
    "        StructField(\"user_name\", StringType(), True),\n",
    "        StructField(\"user_type\", StringType(), True),\n",
    "        StructField(\"old_length\", StringType(), True),\n",
    "        StructField(\"new_length\", StringType(), True),\n",
    "      ]\n",
    "    )"
   ]
  },
  {
   "cell_type": "code",
   "execution_count": 4,
   "id": "36179ca4",
   "metadata": {},
   "outputs": [],
   "source": [
    "from pyspark.sql.functions import window\n",
    "from pyspark.sql.functions import from_json\n",
    "kafka_server = \"kafka1:9092\"   \n",
    "\n",
    "wiki_df = (spark.readStream                        # Get the DataStreamReader\n",
    "  .format(\"kafka\")                                 # Specify the source format as \"kafka\"\n",
    "  .option(\"kafka.bootstrap.servers\", kafka_server) # Configure the Kafka server name and port\n",
    "  .option(\"subscribe\", \"edit\")                       # Subscribe to the \"en\" Kafka topic - edits of English wikipedia pages\n",
    "  .option(\"startingOffsets\", \"earliest\")           # The start point when a query is started\n",
    "  .option(\"maxOffsetsPerTrigger\", 100)\n",
    "  .load()\n",
    "  .select(from_json(col(\"value\").cast(\"string\"), schema).alias(\"parsed_value\"))\n",
    ")"
   ]
  },
  {
   "cell_type": "markdown",
   "id": "7f1f49e3",
   "metadata": {},
   "source": [
    "In the last mimute how many edits are done by bots and by humans"
   ]
  },
  {
   "cell_type": "code",
   "execution_count": 5,
   "id": "b9a83cab",
   "metadata": {
    "scrolled": true
   },
   "outputs": [
    {
     "name": "stderr",
     "output_type": "stream",
     "text": [
      "25/10/24 14:00:55 WARN StreamingQueryManager: Temporary checkpoint location created which is deleted normally when the query didn't fail: /tmp/temporary-df7985a7-b5c4-4935-9b5c-2558366a3bfb. If it's required to delete it under any circumstances, please set spark.sql.streaming.forceDeleteTempCheckpointLocation to true. Important to know deleting temp checkpoint folder is best effort.\n",
      "                                                                                \r"
     ]
    },
    {
     "name": "stdout",
     "output_type": "stream",
     "text": [
      "-------------------------------------------\n",
      "Batch: 0\n",
      "-------------------------------------------\n",
      "+---------+--------------------+-----+\n",
      "|user_type|              window|count|\n",
      "+---------+--------------------+-----+\n",
      "|      bot|[2025-10-24 13:59...|   15|\n",
      "|    human|[2025-10-24 13:59...|   85|\n",
      "+---------+--------------------+-----+\n",
      "\n"
     ]
    },
    {
     "name": "stderr",
     "output_type": "stream",
     "text": [
      "                                                                                \r"
     ]
    },
    {
     "name": "stdout",
     "output_type": "stream",
     "text": [
      "-------------------------------------------\n",
      "Batch: 1\n",
      "-------------------------------------------\n",
      "+---------+--------------------+-----+\n",
      "|user_type|              window|count|\n",
      "+---------+--------------------+-----+\n",
      "|      bot|[2025-10-24 13:59...|   34|\n",
      "|    human|[2025-10-24 13:59...|  166|\n",
      "+---------+--------------------+-----+\n",
      "\n"
     ]
    },
    {
     "name": "stderr",
     "output_type": "stream",
     "text": [
      "                                                                                \r"
     ]
    },
    {
     "name": "stdout",
     "output_type": "stream",
     "text": [
      "-------------------------------------------\n",
      "Batch: 2\n",
      "-------------------------------------------\n",
      "+---------+--------------------+-----+\n",
      "|user_type|              window|count|\n",
      "+---------+--------------------+-----+\n",
      "|    human|[2025-10-24 13:59...|  167|\n",
      "|      bot|[2025-10-24 14:00...|   14|\n",
      "|    human|[2025-10-24 14:00...|   85|\n",
      "+---------+--------------------+-----+\n",
      "\n"
     ]
    },
    {
     "name": "stderr",
     "output_type": "stream",
     "text": [
      "                                                                                \r"
     ]
    },
    {
     "name": "stdout",
     "output_type": "stream",
     "text": [
      "-------------------------------------------\n",
      "Batch: 3\n",
      "-------------------------------------------\n",
      "+---------+--------------------+-----+\n",
      "|user_type|              window|count|\n",
      "+---------+--------------------+-----+\n",
      "|      bot|[2025-10-24 14:00...|   34|\n",
      "|    human|[2025-10-24 14:00...|  165|\n",
      "+---------+--------------------+-----+\n",
      "\n"
     ]
    },
    {
     "name": "stderr",
     "output_type": "stream",
     "text": [
      "                                                                                \r"
     ]
    },
    {
     "name": "stdout",
     "output_type": "stream",
     "text": [
      "-------------------------------------------\n",
      "Batch: 4\n",
      "-------------------------------------------\n",
      "+---------+--------------------+-----+\n",
      "|user_type|              window|count|\n",
      "+---------+--------------------+-----+\n",
      "|      bot|[2025-10-24 14:00...|   50|\n",
      "|    human|[2025-10-24 14:00...|  249|\n",
      "+---------+--------------------+-----+\n",
      "\n"
     ]
    },
    {
     "name": "stderr",
     "output_type": "stream",
     "text": [
      "                                                                                \r"
     ]
    },
    {
     "name": "stdout",
     "output_type": "stream",
     "text": [
      "-------------------------------------------\n",
      "Batch: 5\n",
      "-------------------------------------------\n",
      "+---------+--------------------+-----+\n",
      "|user_type|              window|count|\n",
      "+---------+--------------------+-----+\n",
      "|      bot|[2025-10-24 14:00...|   65|\n",
      "|    human|[2025-10-24 14:00...|  334|\n",
      "+---------+--------------------+-----+\n",
      "\n"
     ]
    },
    {
     "name": "stderr",
     "output_type": "stream",
     "text": [
      "                                                                                \r"
     ]
    },
    {
     "name": "stdout",
     "output_type": "stream",
     "text": [
      "-------------------------------------------\n",
      "Batch: 6\n",
      "-------------------------------------------\n",
      "+---------+--------------------+-----+\n",
      "|user_type|              window|count|\n",
      "+---------+--------------------+-----+\n",
      "|      bot|[2025-10-24 14:00...|   80|\n",
      "|    human|[2025-10-24 14:00...|  419|\n",
      "+---------+--------------------+-----+\n",
      "\n"
     ]
    },
    {
     "name": "stderr",
     "output_type": "stream",
     "text": [
      "                                                                                \r"
     ]
    },
    {
     "name": "stdout",
     "output_type": "stream",
     "text": [
      "-------------------------------------------\n",
      "Batch: 7\n",
      "-------------------------------------------\n",
      "+---------+--------------------+-----+\n",
      "|user_type|              window|count|\n",
      "+---------+--------------------+-----+\n",
      "|      bot|[2025-10-24 14:00...|   95|\n",
      "|    human|[2025-10-24 14:00...|  504|\n",
      "+---------+--------------------+-----+\n",
      "\n"
     ]
    },
    {
     "name": "stderr",
     "output_type": "stream",
     "text": [
      "                                                                                \r"
     ]
    },
    {
     "name": "stdout",
     "output_type": "stream",
     "text": [
      "-------------------------------------------\n",
      "Batch: 8\n",
      "-------------------------------------------\n",
      "+---------+--------------------+-----+\n",
      "|user_type|              window|count|\n",
      "+---------+--------------------+-----+\n",
      "|      bot|[2025-10-24 14:00...|  113|\n",
      "|    human|[2025-10-24 14:00...|  586|\n",
      "+---------+--------------------+-----+\n",
      "\n"
     ]
    },
    {
     "name": "stderr",
     "output_type": "stream",
     "text": [
      "                                                                                \r"
     ]
    },
    {
     "name": "stdout",
     "output_type": "stream",
     "text": [
      "-------------------------------------------\n",
      "Batch: 9\n",
      "-------------------------------------------\n",
      "+---------+--------------------+-----+\n",
      "|user_type|              window|count|\n",
      "+---------+--------------------+-----+\n",
      "|      bot|[2025-10-24 14:00...|  131|\n",
      "|    human|[2025-10-24 14:00...|  668|\n",
      "+---------+--------------------+-----+\n",
      "\n"
     ]
    },
    {
     "name": "stderr",
     "output_type": "stream",
     "text": [
      "                                                                                \r"
     ]
    },
    {
     "name": "stdout",
     "output_type": "stream",
     "text": [
      "-------------------------------------------\n",
      "Batch: 10\n",
      "-------------------------------------------\n",
      "+---------+--------------------+-----+\n",
      "|user_type|              window|count|\n",
      "+---------+--------------------+-----+\n",
      "|      bot|[2025-10-24 14:00...|  156|\n",
      "|    human|[2025-10-24 14:00...|  743|\n",
      "+---------+--------------------+-----+\n",
      "\n"
     ]
    },
    {
     "name": "stderr",
     "output_type": "stream",
     "text": [
      "                                                                                \r"
     ]
    },
    {
     "name": "stdout",
     "output_type": "stream",
     "text": [
      "-------------------------------------------\n",
      "Batch: 11\n",
      "-------------------------------------------\n",
      "+---------+--------------------+-----+\n",
      "|user_type|              window|count|\n",
      "+---------+--------------------+-----+\n",
      "|      bot|[2025-10-24 14:00...|  173|\n",
      "|    human|[2025-10-24 14:00...|  826|\n",
      "+---------+--------------------+-----+\n",
      "\n"
     ]
    },
    {
     "name": "stderr",
     "output_type": "stream",
     "text": [
      "                                                                                \r"
     ]
    },
    {
     "name": "stdout",
     "output_type": "stream",
     "text": [
      "-------------------------------------------\n",
      "Batch: 12\n",
      "-------------------------------------------\n",
      "+---------+--------------------+-----+\n",
      "|user_type|              window|count|\n",
      "+---------+--------------------+-----+\n",
      "|      bot|[2025-10-24 14:01...|   19|\n",
      "|      bot|[2025-10-24 14:00...|  175|\n",
      "|    human|[2025-10-24 14:00...|  838|\n",
      "|    human|[2025-10-24 14:01...|   67|\n",
      "+---------+--------------------+-----+\n",
      "\n"
     ]
    },
    {
     "name": "stderr",
     "output_type": "stream",
     "text": [
      "                                                                                \r"
     ]
    },
    {
     "name": "stdout",
     "output_type": "stream",
     "text": [
      "-------------------------------------------\n",
      "Batch: 13\n",
      "-------------------------------------------\n",
      "+---------+--------------------+-----+\n",
      "|user_type|              window|count|\n",
      "+---------+--------------------+-----+\n",
      "|      bot|[2025-10-24 14:01...|   43|\n",
      "|    human|[2025-10-24 14:01...|  143|\n",
      "+---------+--------------------+-----+\n",
      "\n"
     ]
    },
    {
     "name": "stderr",
     "output_type": "stream",
     "text": [
      "                                                                                \r"
     ]
    },
    {
     "name": "stdout",
     "output_type": "stream",
     "text": [
      "-------------------------------------------\n",
      "Batch: 14\n",
      "-------------------------------------------\n",
      "+---------+--------------------+-----+\n",
      "|user_type|              window|count|\n",
      "+---------+--------------------+-----+\n",
      "|      bot|[2025-10-24 14:01...|   48|\n",
      "|    human|[2025-10-24 14:01...|  171|\n",
      "+---------+--------------------+-----+\n",
      "\n"
     ]
    },
    {
     "name": "stderr",
     "output_type": "stream",
     "text": [
      "                                                                                \r"
     ]
    },
    {
     "name": "stdout",
     "output_type": "stream",
     "text": [
      "-------------------------------------------\n",
      "Batch: 15\n",
      "-------------------------------------------\n",
      "+---------+--------------------+-----+\n",
      "|user_type|              window|count|\n",
      "+---------+--------------------+-----+\n",
      "|      bot|[2025-10-24 14:01...|   59|\n",
      "|    human|[2025-10-24 14:01...|  195|\n",
      "+---------+--------------------+-----+\n",
      "\n"
     ]
    },
    {
     "name": "stderr",
     "output_type": "stream",
     "text": [
      "                                                                                \r"
     ]
    },
    {
     "name": "stdout",
     "output_type": "stream",
     "text": [
      "-------------------------------------------\n",
      "Batch: 16\n",
      "-------------------------------------------\n",
      "+---------+--------------------+-----+\n",
      "|user_type|              window|count|\n",
      "+---------+--------------------+-----+\n",
      "|      bot|[2025-10-24 14:01...|   62|\n",
      "|    human|[2025-10-24 14:01...|  206|\n",
      "+---------+--------------------+-----+\n",
      "\n"
     ]
    },
    {
     "name": "stderr",
     "output_type": "stream",
     "text": [
      "                                                                                \r"
     ]
    },
    {
     "name": "stdout",
     "output_type": "stream",
     "text": [
      "-------------------------------------------\n",
      "Batch: 17\n",
      "-------------------------------------------\n",
      "+---------+--------------------+-----+\n",
      "|user_type|              window|count|\n",
      "+---------+--------------------+-----+\n",
      "|      bot|[2025-10-24 14:01...|   67|\n",
      "|    human|[2025-10-24 14:01...|  210|\n",
      "+---------+--------------------+-----+\n",
      "\n"
     ]
    },
    {
     "name": "stderr",
     "output_type": "stream",
     "text": [
      "                                                                                \r"
     ]
    },
    {
     "name": "stdout",
     "output_type": "stream",
     "text": [
      "-------------------------------------------\n",
      "Batch: 18\n",
      "-------------------------------------------\n",
      "+---------+--------------------+-----+\n",
      "|user_type|              window|count|\n",
      "+---------+--------------------+-----+\n",
      "|      bot|[2025-10-24 14:01...|   69|\n",
      "|    human|[2025-10-24 14:01...|  228|\n",
      "+---------+--------------------+-----+\n",
      "\n"
     ]
    },
    {
     "name": "stderr",
     "output_type": "stream",
     "text": [
      "                                                                                \r"
     ]
    },
    {
     "name": "stdout",
     "output_type": "stream",
     "text": [
      "-------------------------------------------\n",
      "Batch: 19\n",
      "-------------------------------------------\n",
      "+---------+--------------------+-----+\n",
      "|user_type|              window|count|\n",
      "+---------+--------------------+-----+\n",
      "|      bot|[2025-10-24 14:01...|   73|\n",
      "|    human|[2025-10-24 14:01...|  245|\n",
      "+---------+--------------------+-----+\n",
      "\n"
     ]
    },
    {
     "name": "stderr",
     "output_type": "stream",
     "text": [
      "                                                                                \r"
     ]
    },
    {
     "name": "stdout",
     "output_type": "stream",
     "text": [
      "-------------------------------------------\n",
      "Batch: 20\n",
      "-------------------------------------------\n",
      "+---------+--------------------+-----+\n",
      "|user_type|              window|count|\n",
      "+---------+--------------------+-----+\n",
      "|      bot|[2025-10-24 14:01...|   75|\n",
      "|    human|[2025-10-24 14:01...|  257|\n",
      "+---------+--------------------+-----+\n",
      "\n"
     ]
    },
    {
     "name": "stderr",
     "output_type": "stream",
     "text": [
      "                                                                                \r"
     ]
    },
    {
     "name": "stdout",
     "output_type": "stream",
     "text": [
      "-------------------------------------------\n",
      "Batch: 21\n",
      "-------------------------------------------\n",
      "+---------+--------------------+-----+\n",
      "|user_type|              window|count|\n",
      "+---------+--------------------+-----+\n",
      "|      bot|[2025-10-24 14:01...|   79|\n",
      "|    human|[2025-10-24 14:01...|  264|\n",
      "+---------+--------------------+-----+\n",
      "\n"
     ]
    },
    {
     "name": "stderr",
     "output_type": "stream",
     "text": [
      "                                                                                \r"
     ]
    },
    {
     "name": "stdout",
     "output_type": "stream",
     "text": [
      "-------------------------------------------\n",
      "Batch: 22\n",
      "-------------------------------------------\n",
      "+---------+--------------------+-----+\n",
      "|user_type|              window|count|\n",
      "+---------+--------------------+-----+\n",
      "|      bot|[2025-10-24 14:01...|   83|\n",
      "|    human|[2025-10-24 14:01...|  274|\n",
      "+---------+--------------------+-----+\n",
      "\n"
     ]
    },
    {
     "name": "stderr",
     "output_type": "stream",
     "text": [
      "                                                                                \r"
     ]
    },
    {
     "name": "stdout",
     "output_type": "stream",
     "text": [
      "-------------------------------------------\n",
      "Batch: 23\n",
      "-------------------------------------------\n",
      "+---------+--------------------+-----+\n",
      "|user_type|              window|count|\n",
      "+---------+--------------------+-----+\n",
      "|      bot|[2025-10-24 14:01...|   90|\n",
      "|    human|[2025-10-24 14:01...|  291|\n",
      "+---------+--------------------+-----+\n",
      "\n"
     ]
    },
    {
     "name": "stderr",
     "output_type": "stream",
     "text": [
      "                                                                                \r"
     ]
    },
    {
     "name": "stdout",
     "output_type": "stream",
     "text": [
      "-------------------------------------------\n",
      "Batch: 24\n",
      "-------------------------------------------\n",
      "+---------+--------------------+-----+\n",
      "|user_type|              window|count|\n",
      "+---------+--------------------+-----+\n",
      "|      bot|[2025-10-24 14:01...|   91|\n",
      "|    human|[2025-10-24 14:01...|  302|\n",
      "+---------+--------------------+-----+\n",
      "\n"
     ]
    },
    {
     "name": "stderr",
     "output_type": "stream",
     "text": [
      "                                                                                \r"
     ]
    },
    {
     "name": "stdout",
     "output_type": "stream",
     "text": [
      "-------------------------------------------\n",
      "Batch: 25\n",
      "-------------------------------------------\n",
      "+---------+--------------------+-----+\n",
      "|user_type|              window|count|\n",
      "+---------+--------------------+-----+\n",
      "|      bot|[2025-10-24 14:01...|   93|\n",
      "|    human|[2025-10-24 14:01...|  313|\n",
      "+---------+--------------------+-----+\n",
      "\n"
     ]
    },
    {
     "name": "stderr",
     "output_type": "stream",
     "text": [
      "                                                                                \r"
     ]
    },
    {
     "name": "stdout",
     "output_type": "stream",
     "text": [
      "-------------------------------------------\n",
      "Batch: 26\n",
      "-------------------------------------------\n",
      "+---------+--------------------+-----+\n",
      "|user_type|              window|count|\n",
      "+---------+--------------------+-----+\n",
      "|      bot|[2025-10-24 14:01...|   98|\n",
      "|    human|[2025-10-24 14:01...|  334|\n",
      "+---------+--------------------+-----+\n",
      "\n"
     ]
    },
    {
     "name": "stderr",
     "output_type": "stream",
     "text": [
      "                                                                                \r"
     ]
    },
    {
     "name": "stdout",
     "output_type": "stream",
     "text": [
      "-------------------------------------------\n",
      "Batch: 27\n",
      "-------------------------------------------\n",
      "+---------+--------------------+-----+\n",
      "|user_type|              window|count|\n",
      "+---------+--------------------+-----+\n",
      "|      bot|[2025-10-24 14:01...|  104|\n",
      "|    human|[2025-10-24 14:01...|  345|\n",
      "+---------+--------------------+-----+\n",
      "\n"
     ]
    },
    {
     "name": "stderr",
     "output_type": "stream",
     "text": [
      "                                                                                \r"
     ]
    },
    {
     "name": "stdout",
     "output_type": "stream",
     "text": [
      "-------------------------------------------\n",
      "Batch: 28\n",
      "-------------------------------------------\n",
      "+---------+--------------------+-----+\n",
      "|user_type|              window|count|\n",
      "+---------+--------------------+-----+\n",
      "|      bot|[2025-10-24 14:01...|  107|\n",
      "|    human|[2025-10-24 14:01...|  353|\n",
      "+---------+--------------------+-----+\n",
      "\n"
     ]
    },
    {
     "ename": "KeyboardInterrupt",
     "evalue": "",
     "output_type": "error",
     "traceback": [
      "\u001b[0;31m---------------------------------------------------------------------------\u001b[0m",
      "\u001b[0;31mKeyboardInterrupt\u001b[0m                         Traceback (most recent call last)",
      "Cell \u001b[0;32mIn[5], line 11\u001b[0m\n\u001b[1;32m      3\u001b[0m group_df \u001b[38;5;241m=\u001b[39m data\u001b[38;5;241m.\u001b[39mgroupBy(col(\u001b[38;5;124m\"\u001b[39m\u001b[38;5;124muser_type\u001b[39m\u001b[38;5;124m\"\u001b[39m), window(col(\u001b[38;5;124m\"\u001b[39m\u001b[38;5;124mtimestamp\u001b[39m\u001b[38;5;124m\"\u001b[39m),\u001b[38;5;124m\"\u001b[39m\u001b[38;5;124m1 minutes\u001b[39m\u001b[38;5;124m\"\u001b[39m))\u001b[38;5;241m.\u001b[39mcount()\n\u001b[1;32m      5\u001b[0m query \u001b[38;5;241m=\u001b[39m group_df \\\n\u001b[1;32m      6\u001b[0m           \u001b[38;5;241m.\u001b[39mwriteStream \\\n\u001b[1;32m      7\u001b[0m           \u001b[38;5;241m.\u001b[39moutputMode(\u001b[38;5;124m\"\u001b[39m\u001b[38;5;124mupdate\u001b[39m\u001b[38;5;124m\"\u001b[39m) \\\n\u001b[1;32m      8\u001b[0m           \u001b[38;5;241m.\u001b[39mformat(\u001b[38;5;124m\"\u001b[39m\u001b[38;5;124mconsole\u001b[39m\u001b[38;5;124m\"\u001b[39m) \\\n\u001b[1;32m      9\u001b[0m           \u001b[38;5;241m.\u001b[39mstart()\n\u001b[0;32m---> 11\u001b[0m \u001b[43mquery\u001b[49m\u001b[38;5;241;43m.\u001b[39;49m\u001b[43mawaitTermination\u001b[49m\u001b[43m(\u001b[49m\u001b[43m)\u001b[49m\n",
      "File \u001b[0;32m/usr/local/lib/python3.9/dist-packages/pyspark/sql/streaming.py:103\u001b[0m, in \u001b[0;36mStreamingQuery.awaitTermination\u001b[0;34m(self, timeout)\u001b[0m\n\u001b[1;32m    101\u001b[0m     \u001b[38;5;28;01mreturn\u001b[39;00m \u001b[38;5;28mself\u001b[39m\u001b[38;5;241m.\u001b[39m_jsq\u001b[38;5;241m.\u001b[39mawaitTermination(\u001b[38;5;28mint\u001b[39m(timeout \u001b[38;5;241m*\u001b[39m \u001b[38;5;241m1000\u001b[39m))\n\u001b[1;32m    102\u001b[0m \u001b[38;5;28;01melse\u001b[39;00m:\n\u001b[0;32m--> 103\u001b[0m     \u001b[38;5;28;01mreturn\u001b[39;00m \u001b[38;5;28;43mself\u001b[39;49m\u001b[38;5;241;43m.\u001b[39;49m\u001b[43m_jsq\u001b[49m\u001b[38;5;241;43m.\u001b[39;49m\u001b[43mawaitTermination\u001b[49m\u001b[43m(\u001b[49m\u001b[43m)\u001b[49m\n",
      "File \u001b[0;32m/usr/local/lib/python3.9/dist-packages/py4j/java_gateway.py:1303\u001b[0m, in \u001b[0;36mJavaMember.__call__\u001b[0;34m(self, *args)\u001b[0m\n\u001b[1;32m   1296\u001b[0m args_command, temp_args \u001b[38;5;241m=\u001b[39m \u001b[38;5;28mself\u001b[39m\u001b[38;5;241m.\u001b[39m_build_args(\u001b[38;5;241m*\u001b[39margs)\n\u001b[1;32m   1298\u001b[0m command \u001b[38;5;241m=\u001b[39m proto\u001b[38;5;241m.\u001b[39mCALL_COMMAND_NAME \u001b[38;5;241m+\u001b[39m\\\n\u001b[1;32m   1299\u001b[0m     \u001b[38;5;28mself\u001b[39m\u001b[38;5;241m.\u001b[39mcommand_header \u001b[38;5;241m+\u001b[39m\\\n\u001b[1;32m   1300\u001b[0m     args_command \u001b[38;5;241m+\u001b[39m\\\n\u001b[1;32m   1301\u001b[0m     proto\u001b[38;5;241m.\u001b[39mEND_COMMAND_PART\n\u001b[0;32m-> 1303\u001b[0m answer \u001b[38;5;241m=\u001b[39m \u001b[38;5;28;43mself\u001b[39;49m\u001b[38;5;241;43m.\u001b[39;49m\u001b[43mgateway_client\u001b[49m\u001b[38;5;241;43m.\u001b[39;49m\u001b[43msend_command\u001b[49m\u001b[43m(\u001b[49m\u001b[43mcommand\u001b[49m\u001b[43m)\u001b[49m\n\u001b[1;32m   1304\u001b[0m return_value \u001b[38;5;241m=\u001b[39m get_return_value(\n\u001b[1;32m   1305\u001b[0m     answer, \u001b[38;5;28mself\u001b[39m\u001b[38;5;241m.\u001b[39mgateway_client, \u001b[38;5;28mself\u001b[39m\u001b[38;5;241m.\u001b[39mtarget_id, \u001b[38;5;28mself\u001b[39m\u001b[38;5;241m.\u001b[39mname)\n\u001b[1;32m   1307\u001b[0m \u001b[38;5;28;01mfor\u001b[39;00m temp_arg \u001b[38;5;129;01min\u001b[39;00m temp_args:\n",
      "File \u001b[0;32m/usr/local/lib/python3.9/dist-packages/py4j/java_gateway.py:1033\u001b[0m, in \u001b[0;36mGatewayClient.send_command\u001b[0;34m(self, command, retry, binary)\u001b[0m\n\u001b[1;32m   1031\u001b[0m connection \u001b[38;5;241m=\u001b[39m \u001b[38;5;28mself\u001b[39m\u001b[38;5;241m.\u001b[39m_get_connection()\n\u001b[1;32m   1032\u001b[0m \u001b[38;5;28;01mtry\u001b[39;00m:\n\u001b[0;32m-> 1033\u001b[0m     response \u001b[38;5;241m=\u001b[39m \u001b[43mconnection\u001b[49m\u001b[38;5;241;43m.\u001b[39;49m\u001b[43msend_command\u001b[49m\u001b[43m(\u001b[49m\u001b[43mcommand\u001b[49m\u001b[43m)\u001b[49m\n\u001b[1;32m   1034\u001b[0m     \u001b[38;5;28;01mif\u001b[39;00m binary:\n\u001b[1;32m   1035\u001b[0m         \u001b[38;5;28;01mreturn\u001b[39;00m response, \u001b[38;5;28mself\u001b[39m\u001b[38;5;241m.\u001b[39m_create_connection_guard(connection)\n",
      "File \u001b[0;32m/usr/local/lib/python3.9/dist-packages/py4j/java_gateway.py:1200\u001b[0m, in \u001b[0;36mGatewayConnection.send_command\u001b[0;34m(self, command)\u001b[0m\n\u001b[1;32m   1196\u001b[0m     \u001b[38;5;28;01mraise\u001b[39;00m Py4JNetworkError(\n\u001b[1;32m   1197\u001b[0m         \u001b[38;5;124m\"\u001b[39m\u001b[38;5;124mError while sending\u001b[39m\u001b[38;5;124m\"\u001b[39m, e, proto\u001b[38;5;241m.\u001b[39mERROR_ON_SEND)\n\u001b[1;32m   1199\u001b[0m \u001b[38;5;28;01mtry\u001b[39;00m:\n\u001b[0;32m-> 1200\u001b[0m     answer \u001b[38;5;241m=\u001b[39m smart_decode(\u001b[38;5;28;43mself\u001b[39;49m\u001b[38;5;241;43m.\u001b[39;49m\u001b[43mstream\u001b[49m\u001b[38;5;241;43m.\u001b[39;49m\u001b[43mreadline\u001b[49m\u001b[43m(\u001b[49m\u001b[43m)\u001b[49m[:\u001b[38;5;241m-\u001b[39m\u001b[38;5;241m1\u001b[39m])\n\u001b[1;32m   1201\u001b[0m     logger\u001b[38;5;241m.\u001b[39mdebug(\u001b[38;5;124m\"\u001b[39m\u001b[38;5;124mAnswer received: \u001b[39m\u001b[38;5;132;01m{0}\u001b[39;00m\u001b[38;5;124m\"\u001b[39m\u001b[38;5;241m.\u001b[39mformat(answer))\n\u001b[1;32m   1202\u001b[0m     \u001b[38;5;28;01mif\u001b[39;00m answer\u001b[38;5;241m.\u001b[39mstartswith(proto\u001b[38;5;241m.\u001b[39mRETURN_MESSAGE):\n",
      "File \u001b[0;32m/usr/lib/python3.9/socket.py:704\u001b[0m, in \u001b[0;36mSocketIO.readinto\u001b[0;34m(self, b)\u001b[0m\n\u001b[1;32m    702\u001b[0m \u001b[38;5;28;01mwhile\u001b[39;00m \u001b[38;5;28;01mTrue\u001b[39;00m:\n\u001b[1;32m    703\u001b[0m     \u001b[38;5;28;01mtry\u001b[39;00m:\n\u001b[0;32m--> 704\u001b[0m         \u001b[38;5;28;01mreturn\u001b[39;00m \u001b[38;5;28;43mself\u001b[39;49m\u001b[38;5;241;43m.\u001b[39;49m\u001b[43m_sock\u001b[49m\u001b[38;5;241;43m.\u001b[39;49m\u001b[43mrecv_into\u001b[49m\u001b[43m(\u001b[49m\u001b[43mb\u001b[49m\u001b[43m)\u001b[49m\n\u001b[1;32m    705\u001b[0m     \u001b[38;5;28;01mexcept\u001b[39;00m timeout:\n\u001b[1;32m    706\u001b[0m         \u001b[38;5;28mself\u001b[39m\u001b[38;5;241m.\u001b[39m_timeout_occurred \u001b[38;5;241m=\u001b[39m \u001b[38;5;28;01mTrue\u001b[39;00m\n",
      "\u001b[0;31mKeyboardInterrupt\u001b[0m: "
     ]
    }
   ],
   "source": [
    "data = wiki_df.select(\"parsed_value.*\")\n",
    "\n",
    "group_df = data.groupBy(col(\"user_type\"), window(col(\"timestamp\"),\"1 minutes\")).count()\n",
    "\n",
    "query = group_df \\\n",
    "          .writeStream \\\n",
    "          .outputMode(\"update\") \\\n",
    "          .format(\"console\") \\\n",
    "          .start()\n",
    "\n",
    "query.awaitTermination()"
   ]
  },
  {
   "cell_type": "markdown",
   "id": "c91ac521",
   "metadata": {},
   "source": [
    "Select the 10 most edited pages"
   ]
  },
  {
   "cell_type": "code",
   "execution_count": null,
   "id": "75b03c71",
   "metadata": {},
   "outputs": [],
   "source": [
    "from pyspark.sql.functions import col, row_number\n",
    "\n",
    "data = wiki_df.select(\"parsed_value.*\")\n",
    "\n",
    "group_df = data.groupBy(col(\"uri\"), window(col(\"timestamp\"),\"1 minute\")).count()\n",
    "\n",
    "ordered_df = group_df.orderBy(col(\"count\").desc()).limit(10)\n",
    "\n",
    "query = ordered_df \\\n",
    "          .writeStream \\\n",
    "          .outputMode(\"complete\") \\\n",
    "          .format(\"console\") \\\n",
    "          .start()\n",
    "\n",
    "query.awaitTermination()\n"
   ]
  },
  {
   "cell_type": "markdown",
   "id": "d5abae4d",
   "metadata": {},
   "source": [
    "Who are the top editors of the english wikipedia?"
   ]
  },
  {
   "cell_type": "code",
   "execution_count": null,
   "id": "488ef159",
   "metadata": {
    "scrolled": true
   },
   "outputs": [],
   "source": [
    "from pyspark.sql.functions import col, row_number\n",
    "\n",
    "data = wiki_df.select(\"parsed_value.*\")\n",
    "\n",
    "group_df = data.filter(col(\"domain\")==\"en.wikipedia.org\").groupBy(col(\"user_name\"), window(col(\"timestamp\"),\"1 minute\")).count()\n",
    "\n",
    "ordered_df = group_df.orderBy(col(\"count\").desc()).limit(10)\n",
    "\n",
    "query = ordered_df \\\n",
    "          .writeStream \\\n",
    "          .outputMode(\"complete\") \\\n",
    "          .format(\"console\") \\\n",
    "          .start()\n",
    "\n",
    "query.awaitTermination()"
   ]
  },
  {
   "cell_type": "markdown",
   "id": "ea1674b6",
   "metadata": {},
   "source": [
    "Are they humans or bot?"
   ]
  },
  {
   "cell_type": "code",
   "execution_count": null,
   "id": "1f020da3",
   "metadata": {},
   "outputs": [],
   "source": [
    "from pyspark.sql.functions import col, row_number\n",
    "\n",
    "data = wiki_df.select(\"parsed_value.*\")\n",
    "\n",
    "group_df = data.filter(col(\"domain\")==\"en.wikipedia.org\").groupBy(col(\"user_name\"),col(\"user_type\"), window(col(\"timestamp\"),\"1 minute\")).count()\n",
    "\n",
    "ordered_df = group_df.orderBy(col(\"count\").desc()).limit(10)\n",
    "\n",
    "query = ordered_df \\\n",
    "          .writeStream \\\n",
    "          .outputMode(\"complete\") \\\n",
    "          .format(\"console\") \\\n",
    "          .start()\n",
    "\n",
    "query.awaitTermination()\n",
    "\n"
   ]
  },
  {
   "cell_type": "markdown",
   "id": "dedd0e60",
   "metadata": {},
   "source": [
    "How many edits added something to the page?"
   ]
  },
  {
   "cell_type": "code",
   "execution_count": null,
   "id": "7b91c945",
   "metadata": {},
   "outputs": [],
   "source": [
    "# Hint: withColumn() allows you to create a new column in the dataframe\n",
    "# Hint: when() and otherwise() allow you to insert value in column when some condition are satisfied\n",
    "# e.g, when((condition_1), value).otherwise(value_2)\n",
    "from pyspark.sql.functions import col, row_number, when, lit\n",
    "\n",
    "data = wiki_df.select(\"parsed_value.*\")\n",
    "\n",
    "group_df = data \\\n",
    ".withColumn(\"op_type\", when((data.new_length - data.old_length > 0),lit(\"ADD\")).otherwise(lit(\"REMOVE\"))) \\\n",
    ".groupBy(col(\"op_type\")).count()\n",
    "\n",
    "query = group_df \\\n",
    "          .writeStream \\\n",
    "          .outputMode(\"update\") \\\n",
    "          .format(\"console\") \\\n",
    "          .start()\n",
    "\n",
    "query.awaitTermination()\n"
   ]
  },
  {
   "cell_type": "markdown",
   "id": "f9510ea6",
   "metadata": {},
   "source": [
    "#### Joining streams"
   ]
  },
  {
   "cell_type": "markdown",
   "id": "5e22e723",
   "metadata": {},
   "source": [
    "Let's register to the \"new\" stream"
   ]
  },
  {
   "cell_type": "code",
   "execution_count": 4,
   "id": "87d44dd4",
   "metadata": {},
   "outputs": [],
   "source": [
    "from pyspark.sql.functions import window\n",
    "from pyspark.sql.functions import from_json\n",
    "kafka_server = \"kafka1:9092\"   \n",
    "\n",
    "new_df = (spark.readStream                        # Get the DataStreamReader\n",
    "  .format(\"kafka\")                                 # Specify the source format as \"kafka\"\n",
    "  .option(\"kafka.bootstrap.servers\", kafka_server) # Configure the Kafka server name and port\n",
    "  .option(\"subscribe\", \"new\")                       # Subscribe to the \"en\" Kafka topi\n",
    "  .option(\"startingOffsets\", \"earliest\")           # The start point when a query is started\n",
    "  .option(\"maxOffsetsPerTrigger\", 100)\n",
    "  .load()\n",
    "  .select(from_json(col(\"value\").cast(\"string\"), schema).alias(\"parsed_value\"))\n",
    ")"
   ]
  },
  {
   "cell_type": "markdown",
   "id": "812012a0",
   "metadata": {},
   "source": [
    "And let's the if there are users who add and then modify"
   ]
  },
  {
   "cell_type": "code",
   "execution_count": 5,
   "id": "7424c986",
   "metadata": {},
   "outputs": [
    {
     "name": "stderr",
     "output_type": "stream",
     "text": [
      "24/11/12 15:24:19 WARN StreamingQueryManager: Temporary checkpoint location created which is deleted normally when the query didn't fail: /tmp/temporary-70cf9ec9-0204-4bce-8177-4213c90f940c. If it's required to delete it under any circumstances, please set spark.sql.streaming.forceDeleteTempCheckpointLocation to true. Important to know deleting temp checkpoint folder is best effort.\n",
      "                                                                                \r"
     ]
    },
    {
     "name": "stdout",
     "output_type": "stream",
     "text": [
      "-------------------------------------------\n",
      "Batch: 0\n",
      "-------------------------------------------\n",
      "+---------+---------+---+-----+---------+---------+---+-----+---------+\n",
      "|user_name|user_type|uri|title|timestamp|user_type|uri|title|timestamp|\n",
      "+---------+---------+---+-----+---------+---------+---+-----+---------+\n",
      "+---------+---------+---+-----+---------+---------+---+-----+---------+\n",
      "\n"
     ]
    },
    {
     "name": "stderr",
     "output_type": "stream",
     "text": [
      "                                                                                \r"
     ]
    },
    {
     "name": "stdout",
     "output_type": "stream",
     "text": [
      "-------------------------------------------\n",
      "Batch: 1\n",
      "-------------------------------------------\n",
      "+------------+---------+--------------------+--------------------+-------------------+---------+--------------------+--------------+-------------------+\n",
      "|   user_name|user_type|                 uri|               title|          timestamp|user_type|                 uri|         title|          timestamp|\n",
      "+------------+---------+--------------------+--------------------+-------------------+---------+--------------------+--------------+-------------------+\n",
      "| Warburg1866|    human|https://de.wikipe...|     Andreas Magdanz|2024-11-07 16:33:08|    human|https://commons.w...|Category:Ogbia|2024-11-07 16:51:06|\n",
      "|     Arjoopy|    human|https://commons.w...|File:Meiningen 19...|2024-11-07 16:33:18|    human|https://www.wikid...|    Q131013792|2024-11-07 16:50:16|\n",
      "|Dorcas Atule|    human|https://www.wikid...|          Q131013068|2024-11-07 16:33:16|    human|https://www.wikid...|    Q131013723|2024-11-07 16:48:41|\n",
      "+------------+---------+--------------------+--------------------+-------------------+---------+--------------------+--------------+-------------------+\n",
      "\n"
     ]
    },
    {
     "name": "stderr",
     "output_type": "stream",
     "text": [
      "                                                                                \r"
     ]
    },
    {
     "name": "stdout",
     "output_type": "stream",
     "text": [
      "-------------------------------------------\n",
      "Batch: 2\n",
      "-------------------------------------------\n",
      "+------------------+---------+--------------------+-----------+-------------------+---------+--------------------+--------------------+-------------------+\n",
      "|         user_name|user_type|                 uri|      title|          timestamp|user_type|                 uri|               title|          timestamp|\n",
      "+------------------+---------+--------------------+-----------+-------------------+---------+--------------------+--------------------+-------------------+\n",
      "|InternetArchiveBot|      bot|https://vi.wikipe...|Ga Cheolsan|2024-11-07 16:33:17|      bot|https://ckb.wikip...|وتووێژ:محەممەدڕەز...|2024-11-07 16:52:12|\n",
      "|      Dorcas Atule|    human|https://www.wikid...| Q131013068|2024-11-07 16:33:16|    human|https://www.wikid...|          Q131013858|2024-11-07 16:52:07|\n",
      "|          Sławobóg|    human|https://www.wikid...|  Q66962308|2024-11-07 16:33:25|    human|https://hsb.wikti...|Modul:message box...|2024-11-07 16:48:47|\n",
      "|          Sławobóg|    human|https://www.wikid...|  Q66962308|2024-11-07 16:33:25|    human|https://hsb.wikti...|Modul:category tr...|2024-11-07 16:49:50|\n",
      "|          Sławobóg|    human|https://www.wikid...|  Q66962308|2024-11-07 16:33:25|    human|https://hsb.wikti...|Modul:category tr...|2024-11-07 16:50:40|\n",
      "|          Sławobóg|    human|https://www.wikid...|  Q66962308|2024-11-07 16:33:25|    human|https://hsb.wikti...|Modul:category tr...|2024-11-07 16:51:33|\n",
      "|          Sławobóg|    human|https://www.wikid...|  Q66962308|2024-11-07 16:33:25|    human|https://hsb.wikti...|Modul:category tr...|2024-11-07 16:52:34|\n",
      "|             DE8AH|    human|https://fr.wiktio...|  ridotarle|2024-11-07 16:33:22|    human|https://fr.wiktio...|Modèle:anagrammes...|2024-11-07 16:49:30|\n",
      "|             DE8AH|    human|https://fr.wiktio...|  ridotarle|2024-11-07 16:33:22|    human|https://fr.wiktio...|Modèle:anagrammes...|2024-11-07 16:49:59|\n",
      "|             DE8AH|    human|https://fr.wiktio...|  ridotarle|2024-11-07 16:33:22|    human|https://fr.wiktio...|Modèle:anagrammes...|2024-11-07 16:51:23|\n",
      "|             DE8AH|    human|https://fr.wiktio...|  ridotarle|2024-11-07 16:33:22|    human|https://fr.wiktio...|Modèle:anagrammes...|2024-11-07 16:51:37|\n",
      "|             DE8AH|    human|https://fr.wiktio...|  ridotarle|2024-11-07 16:33:22|    human|https://fr.wiktio...|Modèle:anagrammes...|2024-11-07 16:52:20|\n",
      "+------------------+---------+--------------------+-----------+-------------------+---------+--------------------+--------------------+-------------------+\n",
      "\n"
     ]
    },
    {
     "name": "stderr",
     "output_type": "stream",
     "text": [
      "                                                                                \r"
     ]
    },
    {
     "name": "stdout",
     "output_type": "stream",
     "text": [
      "-------------------------------------------\n",
      "Batch: 3\n",
      "-------------------------------------------\n",
      "+----------+---------+--------------------+--------------------+-------------------+---------+--------------------+--------------------+-------------------+\n",
      "| user_name|user_type|                 uri|               title|          timestamp|user_type|                 uri|               title|          timestamp|\n",
      "+----------+---------+--------------------+--------------------+-------------------+---------+--------------------+--------------------+-------------------+\n",
      "|  Hameryko|    human|https://www.wikid...|     Lexeme:L1376306|2024-11-07 16:33:29|    human|https://www.wikid...|     Lexeme:L1376321|2024-11-07 16:48:39|\n",
      "|  Hameryko|    human|https://www.wikid...|     Lexeme:L1376306|2024-11-07 16:33:29|    human|https://www.wikid...|     Lexeme:L1376322|2024-11-07 16:49:00|\n",
      "|  Hameryko|    human|https://www.wikid...|     Lexeme:L1376306|2024-11-07 16:33:29|    human|https://www.wikid...|     Lexeme:L1376323|2024-11-07 16:51:28|\n",
      "|  Hameryko|    human|https://www.wikid...|     Lexeme:L1376306|2024-11-07 16:33:29|    human|https://www.wikid...|     Lexeme:L1376324|2024-11-07 16:52:16|\n",
      "|  Hameryko|    human|https://www.wikid...|     Lexeme:L1376306|2024-11-07 16:33:29|    human|https://www.wikid...|     Lexeme:L1376325|2024-11-07 16:52:42|\n",
      "|  Hameryko|    human|https://www.wikid...|     Lexeme:L1376306|2024-11-07 16:33:29|    human|https://www.wikid...|     Lexeme:L1376326|2024-11-07 16:52:46|\n",
      "|ウィ貴公子|    human|https://commons.w...|File:Walking from...|2024-11-07 16:33:14|    human|https://commons.w...|Category:Shibuya ...|2024-11-07 16:53:42|\n",
      "|M2k~dewiki|    human|https://de.wikipe...|Spital-Frenking +...|2024-11-07 16:33:29|    human|https://www.wikid...|          Q131013834|2024-11-07 16:51:26|\n",
      "|M2k~dewiki|    human|https://de.wikipe...|Spital-Frenking +...|2024-11-07 16:33:29|    human|https://www.wikid...|          Q131013889|2024-11-07 16:52:59|\n",
      "|  Sławobóg|    human|https://www.wikid...|           Q66962308|2024-11-07 16:33:25|    human|https://hsb.wikti...|Modul:category tr...|2024-11-07 16:53:34|\n",
      "|    高浩哲|    human|https://zh.wikive...|            港都客運|2024-11-07 16:33:27|    human|https://commons.w...|Category:Orange B...|2024-11-07 16:49:41|\n",
      "|    高浩哲|    human|https://zh.wikive...|            港都客運|2024-11-07 16:33:27|    human|https://commons.w...|Category:710 (Ora...|2024-11-07 16:51:56|\n",
      "|     DE8AH|    human|https://fr.wiktio...|           ridotarle|2024-11-07 16:33:22|    human|https://fr.wiktio...|Modèle:anagrammes...|2024-11-07 16:52:48|\n",
      "+----------+---------+--------------------+--------------------+-------------------+---------+--------------------+--------------------+-------------------+\n",
      "\n"
     ]
    },
    {
     "name": "stderr",
     "output_type": "stream",
     "text": [
      "                                                                                \r"
     ]
    },
    {
     "name": "stdout",
     "output_type": "stream",
     "text": [
      "-------------------------------------------\n",
      "Batch: 4\n",
      "-------------------------------------------\n",
      "+------------------+---------+--------------------+--------------------+-------------------+---------+--------------------+--------------------+-------------------+\n",
      "|         user_name|user_type|                 uri|               title|          timestamp|user_type|                 uri|               title|          timestamp|\n",
      "+------------------+---------+--------------------+--------------------+-------------------+---------+--------------------+--------------------+-------------------+\n",
      "|          Hameryko|    human|https://www.wikid...|     Lexeme:L1376306|2024-11-07 16:33:36|    human|https://www.wikid...|     Lexeme:L1376321|2024-11-07 16:48:39|\n",
      "|          Hameryko|    human|https://www.wikid...|     Lexeme:L1376306|2024-11-07 16:33:36|    human|https://www.wikid...|     Lexeme:L1376322|2024-11-07 16:49:00|\n",
      "|          Hameryko|    human|https://www.wikid...|     Lexeme:L1376306|2024-11-07 16:33:36|    human|https://www.wikid...|     Lexeme:L1376323|2024-11-07 16:51:28|\n",
      "|          Hameryko|    human|https://www.wikid...|     Lexeme:L1376306|2024-11-07 16:33:36|    human|https://www.wikid...|     Lexeme:L1376324|2024-11-07 16:52:16|\n",
      "|          Hameryko|    human|https://www.wikid...|     Lexeme:L1376306|2024-11-07 16:33:36|    human|https://www.wikid...|     Lexeme:L1376325|2024-11-07 16:52:42|\n",
      "|          Hameryko|    human|https://www.wikid...|     Lexeme:L1376306|2024-11-07 16:33:36|    human|https://www.wikid...|     Lexeme:L1376326|2024-11-07 16:52:46|\n",
      "|InternetArchiveBot|      bot|https://uk.wikipe...|Скнилів (Львівськ...|2024-11-07 16:33:35|      bot|https://ckb.wikip...|وتووێژ:محەممەدڕەز...|2024-11-07 16:52:12|\n",
      "|     Mr.Ibrahembot|      bot|https://ar.wikipe...|       إيملين وليامز|2024-11-07 16:33:05|      bot|https://ar.wikipe...|نقاش:جائزة لاس في...|2024-11-07 16:54:19|\n",
      "|     Mr.Ibrahembot|      bot|https://www.wikid...|          Q131013093|2024-11-07 16:33:11|      bot|https://ar.wikipe...|نق��ش:جائزة لاس في...|2024-11-07 16:54:19|\n",
      "|     Mr.Ibrahembot|      bot|https://ar.wikipe...|تصنيف:ممثلون من ف...|2024-11-07 16:33:12|      bot|https://ar.wikipe...|نقاش:جائزة لاس في...|2024-11-07 16:54:19|\n",
      "|     Mr.Ibrahembot|      bot|https://ar.wikipe...|تصنيف:ممثلات من ف...|2024-11-07 16:33:13|      bot|https://ar.wikipe...|نقاش:جائزة لاس في...|2024-11-07 16:54:19|\n",
      "|     Mr.Ibrahembot|      bot|https://www.wikid...|          Q131013098|2024-11-07 16:33:16|      bot|https://ar.wikipe...|نقاش:جائزة لاس في...|2024-11-07 16:54:19|\n",
      "|     Mr.Ibrahembot|      bot|https://ar.wikipe...|تصنيف:ممثلون ذكور...|2024-11-07 16:33:23|      bot|https://ar.wikipe...|نقاش:جائزة لاس في...|2024-11-07 16:54:19|\n",
      "|      Andre Engels|    human|https://www.wikid...|          Q131013001|2024-11-07 16:33:32|    human|https://www.wikid...|          Q131013762|2024-11-07 16:49:41|\n",
      "|         Xacaranda|    human|https://es.wikipe...|Wikipedia:Café/Ar...|2024-11-07 16:33:34|    human|https://es.wikipe...|Usuario discusión...|2024-11-07 16:51:23|\n",
      "|             DE8AH|    human|https://fr.wiktio...|       mimeografarle|2024-11-07 16:33:36|    human|https://fr.wiktio...|Modèle:anagrammes...|2024-11-07 16:49:30|\n",
      "|             DE8AH|    human|https://fr.wiktio...|       mimeografarle|2024-11-07 16:33:36|    human|https://fr.wiktio...|Modèle:anagrammes...|2024-11-07 16:49:59|\n",
      "|             DE8AH|    human|https://fr.wiktio...|       mimeografarle|2024-11-07 16:33:36|    human|https://fr.wiktio...|Modèle:anagrammes...|2024-11-07 16:51:23|\n",
      "|             DE8AH|    human|https://fr.wiktio...|       mimeografarle|2024-11-07 16:33:36|    human|https://fr.wiktio...|Modèle:anagrammes...|2024-11-07 16:51:37|\n",
      "|             DE8AH|    human|https://fr.wiktio...|       mimeografarle|2024-11-07 16:33:36|    human|https://fr.wiktio...|Modèle:anagrammes...|2024-11-07 16:52:20|\n",
      "+------------------+---------+--------------------+--------------------+-------------------+---------+--------------------+--------------------+-------------------+\n",
      "only showing top 20 rows\n",
      "\n"
     ]
    },
    {
     "name": "stderr",
     "output_type": "stream",
     "text": [
      "                                                                                \r"
     ]
    },
    {
     "name": "stdout",
     "output_type": "stream",
     "text": [
      "-------------------------------------------\n",
      "Batch: 5\n",
      "-------------------------------------------\n",
      "+------------+---------+--------------------+--------------------+-------------------+---------+--------------------+--------------------+-------------------+\n",
      "|   user_name|user_type|                 uri|               title|          timestamp|user_type|                 uri|               title|          timestamp|\n",
      "+------------+---------+--------------------+--------------------+-------------------+---------+--------------------+--------------------+-------------------+\n",
      "|    Hameryko|    human|https://www.wikid...|     Lexeme:L1376306|2024-11-07 16:33:43|    human|https://www.wikid...|     Lexeme:L1376321|2024-11-07 16:48:39|\n",
      "|    Hameryko|    human|https://www.wikid...|     Lexeme:L1376306|2024-11-07 16:33:43|    human|https://www.wikid...|     Lexeme:L1376322|2024-11-07 16:49:00|\n",
      "|    Hameryko|    human|https://www.wikid...|     Lexeme:L1376306|2024-11-07 16:33:43|    human|https://www.wikid...|     Lexeme:L1376323|2024-11-07 16:51:28|\n",
      "|    Hameryko|    human|https://www.wikid...|     Lexeme:L1376306|2024-11-07 16:33:43|    human|https://www.wikid...|     Lexeme:L1376324|2024-11-07 16:52:16|\n",
      "|    Hameryko|    human|https://www.wikid...|     Lexeme:L1376306|2024-11-07 16:33:43|    human|https://www.wikid...|     Lexeme:L1376325|2024-11-07 16:52:42|\n",
      "|    Hameryko|    human|https://www.wikid...|     Lexeme:L1376306|2024-11-07 16:33:43|    human|https://www.wikid...|     Lexeme:L1376326|2024-11-07 16:52:46|\n",
      "|    Hameryko|    human|https://www.wikid...|     Lexeme:L1376306|2024-11-07 16:33:29|    human|https://www.wikid...|     Lexeme:L1376327|2024-11-07 16:54:50|\n",
      "|    Hameryko|    human|https://www.wikid...|     Lexeme:L1376306|2024-11-07 16:33:36|    human|https://www.wikid...|     Lexeme:L1376327|2024-11-07 16:54:50|\n",
      "|    Hameryko|    human|https://www.wikid...|     Lexeme:L1376306|2024-11-07 16:33:43|    human|https://www.wikid...|     Lexeme:L1376327|2024-11-07 16:54:50|\n",
      "|     Hyméros|    human|https://fr.wikipe...|Wikipédia:Demande...|2024-11-07 16:33:34|    human|https://commons.w...|Commons:Deletion ...|2024-11-07 16:52:41|\n",
      "|Andre Engels|    human|https://www.wikid...|          Q131013001|2024-11-07 16:33:43|    human|https://www.wikid...|          Q131013762|2024-11-07 16:49:41|\n",
      "|      AnPa28|    human|https://de.wikipe...|Wöchentliche Rost...|2024-11-07 16:33:26|    human|https://de.wikipe...|Kategorie:Zeitung...|2024-11-07 16:55:05|\n",
      "|       DE8AH|    human|https://fr.wiktio...|           ridotarle|2024-11-07 16:33:22|    human|https://fr.wiktio...|Modèle:anagrammes...|2024-11-07 16:55:16|\n",
      "|       DE8AH|    human|https://fr.wiktio...|       mimeografarle|2024-11-07 16:33:36|    human|https://fr.wiktio...|Modèle:anagrammes...|2024-11-07 16:55:16|\n",
      "+------------+---------+--------------------+--------------------+-------------------+---------+--------------------+--------------------+-------------------+\n",
      "\n"
     ]
    },
    {
     "name": "stderr",
     "output_type": "stream",
     "text": [
      "                                                                                \r"
     ]
    },
    {
     "name": "stdout",
     "output_type": "stream",
     "text": [
      "-------------------------------------------\n",
      "Batch: 6\n",
      "-------------------------------------------\n",
      "+------------------+---------+--------------------+--------------------+-------------------+---------+--------------------+--------------------+-------------------+\n",
      "|         user_name|user_type|                 uri|               title|          timestamp|user_type|                 uri|               title|          timestamp|\n",
      "+------------------+---------+--------------------+--------------------+-------------------+---------+--------------------+--------------------+-------------------+\n",
      "|           Voârlou|    human|https://en.wiktio...|                sote|2024-11-07 16:33:45|    human|https://en.wiktio...|             dainsie|2024-11-07 16:52:27|\n",
      "|           Voârlou|    human|https://en.wiktio...|                sote|2024-11-07 16:33:45|    human|https://en.wiktio...|             pyeuvre|2024-11-07 16:54:29|\n",
      "|InternetArchiveBot|      bot|https://species.w...|           Sep1virus|2024-11-07 16:33:47|      bot|https://ckb.wikip...|وتووێژ:محەممەدڕەز...|2024-11-07 16:52:12|\n",
      "|   EmpressHarmonic|    human|https://commons.w...|Category:Christma...|2024-11-07 16:33:12|    human|https://commons.w...|Category:Prints o...|2024-11-12 15:24:20|\n",
      "|   EmpressHarmonic|    human|https://commons.w...|Category:Insects ...|2024-11-07 16:33:33|    human|https://commons.w...|Category:Prints o...|2024-11-12 15:24:20|\n",
      "|   EmpressHarmonic|    human|https://commons.w...|Category:Japanese...|2024-11-07 16:33:47|    human|https://commons.w...|Category:Prints o...|2024-11-12 15:24:20|\n",
      "|             DE8AH|    human|https://fr.wiktio...|           ridotarle|2024-11-07 16:33:22|    human|https://fr.wiktio...|Modèle:anagrammes...|2024-11-12 15:23:11|\n",
      "|             DE8AH|    human|https://fr.wiktio...|       mimeografarle|2024-11-07 16:33:36|    human|https://fr.wiktio...|Modèle:anagrammes...|2024-11-12 15:23:11|\n",
      "|              YBot|      bot|https://tr.wikipe...|     Belize'de İslam|2024-11-07 16:33:20|      bot|https://tr.wikipe...|Kullanıcı mesaj:B...|2024-11-12 15:24:33|\n",
      "+------------------+---------+--------------------+--------------------+-------------------+---------+--------------------+--------------------+-------------------+\n",
      "\n"
     ]
    },
    {
     "name": "stderr",
     "output_type": "stream",
     "text": [
      "                                                                                \r"
     ]
    },
    {
     "name": "stdout",
     "output_type": "stream",
     "text": [
      "-------------------------------------------\n",
      "Batch: 7\n",
      "-------------------------------------------\n",
      "+--------------------+---------+--------------------+--------------------+-------------------+---------+--------------------+--------------------+-------------------+\n",
      "|           user_name|user_type|                 uri|               title|          timestamp|user_type|                 uri|               title|          timestamp|\n",
      "+--------------------+---------+--------------------+--------------------+-------------------+---------+--------------------+--------------------+-------------------+\n",
      "|Noah.Albert.ZivMilFü|    human|https://commons.w...|File:Medals at SA...|2024-11-07 16:33:51|    human|https://commons.w...|Category:People w...|2024-11-07 16:50:08|\n",
      "|        Dorcas Atule|    human|https://www.wikid...|          Q131013068|2024-11-07 16:33:55|    human|https://www.wikid...|          Q131013723|2024-11-07 16:48:41|\n",
      "|        Dorcas Atule|    human|https://www.wikid...|          Q131013068|2024-11-07 16:33:55|    human|https://www.wikid...|          Q131013858|2024-11-07 16:52:07|\n",
      "|               DE8AH|    human|https://fr.wiktio...|        malmeritarle|2024-11-07 16:33:50|    human|https://fr.wiktio...|Modèle:anagrammes...|2024-11-07 16:49:30|\n",
      "|               DE8AH|    human|https://fr.wiktio...|        malmeritarle|2024-11-07 16:33:50|    human|https://fr.wiktio...|Modèle:anagrammes...|2024-11-07 16:49:59|\n",
      "|               DE8AH|    human|https://fr.wiktio...|        malmeritarle|2024-11-07 16:33:50|    human|https://fr.wiktio...|Modèle:anagrammes...|2024-11-07 16:51:23|\n",
      "|               DE8AH|    human|https://fr.wiktio...|        malmeritarle|2024-11-07 16:33:50|    human|https://fr.wiktio...|Modèle:anagrammes...|2024-11-07 16:51:37|\n",
      "|               DE8AH|    human|https://fr.wiktio...|        malmeritarle|2024-11-07 16:33:50|    human|https://fr.wiktio...|Modèle:anagrammes...|2024-11-07 16:52:20|\n",
      "|               DE8AH|    human|https://fr.wiktio...|        malmeritarle|2024-11-07 16:33:50|    human|https://fr.wiktio...|Modèle:anagrammes...|2024-11-07 16:52:48|\n",
      "|               DE8AH|    human|https://fr.wiktio...|        malmeritarle|2024-11-07 16:33:50|    human|https://fr.wiktio...|Modèle:anagrammes...|2024-11-07 16:55:16|\n",
      "|               DE8AH|    human|https://fr.wiktio...|        malmeritarle|2024-11-07 16:33:50|    human|https://fr.wiktio...|Modèle:anagrammes...|2024-11-12 15:23:11|\n",
      "+--------------------+---------+--------------------+--------------------+-------------------+---------+--------------------+--------------------+-------------------+\n",
      "\n"
     ]
    },
    {
     "name": "stderr",
     "output_type": "stream",
     "text": [
      "                                                                                \r"
     ]
    },
    {
     "name": "stdout",
     "output_type": "stream",
     "text": [
      "-------------------------------------------\n",
      "Batch: 8\n",
      "-------------------------------------------\n",
      "+--------------------+---------+--------------------+--------------------+-------------------+---------+--------------------+--------------------+-------------------+\n",
      "|           user_name|user_type|                 uri|               title|          timestamp|user_type|                 uri|               title|          timestamp|\n",
      "+--------------------+---------+--------------------+--------------------+-------------------+---------+--------------------+--------------------+-------------------+\n",
      "|         கி.மூர்த்தி|    human|https://ta.wikipe...|        பையிக்லைட்டு|2024-11-07 16:33:57|    human|https://ta.wikipe...|          சங்கரோத்து|2024-11-07 16:52:37|\n",
      "|Noah.Albert.ZivMilFü|    human|https://commons.w...|File:Medals at SA...|2024-11-07 16:33:56|    human|https://commons.w...|Category:People w...|2024-11-07 16:50:08|\n",
      "|            Hameryko|    human|https://www.wikid...|     Lexeme:L1376306|2024-11-07 16:33:58|    human|https://www.wikid...|     Lexeme:L1376321|2024-11-07 16:48:39|\n",
      "|            Hameryko|    human|https://www.wikid...|     Lexeme:L1376306|2024-11-07 16:33:58|    human|https://www.wikid...|     Lexeme:L1376322|2024-11-07 16:49:00|\n",
      "|            Hameryko|    human|https://www.wikid...|     Lexeme:L1376306|2024-11-07 16:33:58|    human|https://www.wikid...|     Lexeme:L1376323|2024-11-07 16:51:28|\n",
      "|            Hameryko|    human|https://www.wikid...|     Lexeme:L1376306|2024-11-07 16:33:58|    human|https://www.wikid...|     Lexeme:L1376324|2024-11-07 16:52:16|\n",
      "|            Hameryko|    human|https://www.wikid...|     Lexeme:L1376306|2024-11-07 16:33:58|    human|https://www.wikid...|     Lexeme:L1376325|2024-11-07 16:52:42|\n",
      "|            Hameryko|    human|https://www.wikid...|     Lexeme:L1376306|2024-11-07 16:33:58|    human|https://www.wikid...|     Lexeme:L1376326|2024-11-07 16:52:46|\n",
      "|            Hameryko|    human|https://www.wikid...|     Lexeme:L1376306|2024-11-07 16:33:58|    human|https://www.wikid...|     Lexeme:L1376327|2024-11-07 16:54:50|\n",
      "|       Mr.Ibrahembot|      bot|https://ar.wikipe...|           غزال سبيك|2024-11-07 16:33:53|      bot|https://ar.wikipe...|نقاش:جائزة لاس في...|2024-11-07 16:54:19|\n",
      "|              高浩哲|    human|https://zh.wikive...|            港都客運|2024-11-07 16:33:57|    human|https://commons.w...|Category:Orange B...|2024-11-07 16:49:41|\n",
      "|              高浩哲|    human|https://zh.wikive...|            港都客運|2024-11-07 16:33:57|    human|https://commons.w...|Category:710 (Ora...|2024-11-07 16:51:56|\n",
      "+--------------------+---------+--------------------+--------------------+-------------------+---------+--------------------+--------------------+-------------------+\n",
      "\n"
     ]
    },
    {
     "name": "stderr",
     "output_type": "stream",
     "text": [
      "                                                                                \r"
     ]
    },
    {
     "name": "stdout",
     "output_type": "stream",
     "text": [
      "-------------------------------------------\n",
      "Batch: 9\n",
      "-------------------------------------------\n",
      "+----------+---------+--------------------+--------------------+-------------------+---------+--------------------+--------------------+-------------------+\n",
      "| user_name|user_type|                 uri|               title|          timestamp|user_type|                 uri|               title|          timestamp|\n",
      "+----------+---------+--------------------+--------------------+-------------------+---------+--------------------+--------------------+-------------------+\n",
      "|   Kaviraf|    human|https://fr.wikiso...|Page:De Taurines ...|2024-11-07 16:34:06|    human|https://fr.wikiso...|Page:De Taurines ...|2024-11-07 16:48:57|\n",
      "|   Kaviraf|    human|https://fr.wikiso...|Page:De Taurines ...|2024-11-07 16:34:06|    human|https://fr.wikiso...|Page:De Taurines ...|2024-11-07 16:52:29|\n",
      "|  Hameryko|    human|https://www.wikid...|     Lexeme:L1376306|2024-11-07 16:34:06|    human|https://www.wikid...|     Lexeme:L1376321|2024-11-07 16:48:39|\n",
      "|  Hameryko|    human|https://www.wikid...|     Lexeme:L1376306|2024-11-07 16:34:06|    human|https://www.wikid...|     Lexeme:L1376322|2024-11-07 16:49:00|\n",
      "|  Hameryko|    human|https://www.wikid...|     Lexeme:L1376306|2024-11-07 16:34:06|    human|https://www.wikid...|     Lexeme:L1376323|2024-11-07 16:51:28|\n",
      "|  Hameryko|    human|https://www.wikid...|     Lexeme:L1376306|2024-11-07 16:34:06|    human|https://www.wikid...|     Lexeme:L1376324|2024-11-07 16:52:16|\n",
      "|  Hameryko|    human|https://www.wikid...|     Lexeme:L1376306|2024-11-07 16:34:06|    human|https://www.wikid...|     Lexeme:L1376325|2024-11-07 16:52:42|\n",
      "|  Hameryko|    human|https://www.wikid...|     Lexeme:L1376306|2024-11-07 16:34:06|    human|https://www.wikid...|     Lexeme:L1376326|2024-11-07 16:52:46|\n",
      "|  Hameryko|    human|https://www.wikid...|     Lexeme:L1376306|2024-11-07 16:34:06|    human|https://www.wikid...|     Lexeme:L1376327|2024-11-07 16:54:50|\n",
      "|M2k~dewiki|    human|https://commons.w...|File:Baukunstarch...|2024-11-07 16:34:06|    human|https://www.wikid...|          Q131013834|2024-11-07 16:51:26|\n",
      "|M2k~dewiki|    human|https://commons.w...|File:Baukunstarch...|2024-11-07 16:34:06|    human|https://www.wikid...|          Q131013889|2024-11-07 16:52:59|\n",
      "|    Abxbay|    human|https://commons.w...|Category:Evasio (...|2024-11-07 16:34:02|    human|https://commons.w...|Category:Everardo...|2024-11-07 16:50:30|\n",
      "|    Abxbay|    human|https://commons.w...|Category:Evasio (...|2024-11-07 16:34:02|    human|https://commons.w...|Category:Everardu...|2024-11-07 16:52:04|\n",
      "|    Abxbay|    human|https://commons.w...|Category:Evasio (...|2024-11-07 16:34:02|    human|https://commons.w...|Category:Everart ...|2024-11-07 16:53:31|\n",
      "+----------+---------+--------------------+--------------------+-------------------+---------+--------------------+--------------------+-------------------+\n",
      "\n"
     ]
    },
    {
     "name": "stderr",
     "output_type": "stream",
     "text": [
      "                                                                                \r"
     ]
    },
    {
     "name": "stdout",
     "output_type": "stream",
     "text": [
      "-------------------------------------------\n",
      "Batch: 10\n",
      "-------------------------------------------\n",
      "+---------------+---------+--------------------+--------------------+-------------------+---------+--------------------+--------------------+-------------------+\n",
      "|      user_name|user_type|                 uri|               title|          timestamp|user_type|                 uri|               title|          timestamp|\n",
      "+---------------+---------+--------------------+--------------------+-------------------+---------+--------------------+--------------------+-------------------+\n",
      "|EmpressHarmonic|    human|https://commons.w...|Category:Japanese...|2024-11-07 16:34:11|    human|https://commons.w...|Category:Prints o...|2024-11-12 15:24:20|\n",
      "|      Avestaboy|    human|https://www.wikid...|            Q8467918|2024-11-07 16:34:10|    human|https://ku.wikipe...|Kategorî:Serokdew...|2024-11-07 16:52:07|\n",
      "|     M2k~dewiki|    human|https://commons.w...|   User talk:Nik1295|2024-11-07 16:34:09|    human|https://www.wikid...|          Q131013834|2024-11-07 16:51:26|\n",
      "|     M2k~dewiki|    human|https://commons.w...|   User talk:Nik1295|2024-11-07 16:34:09|    human|https://www.wikid...|          Q131013889|2024-11-07 16:52:59|\n",
      "|     M2k~dewiki|    human|https://commons.w...|Commons:Deletion ...|2024-11-07 16:34:07|    human|https://www.wikid...|          Q131013834|2024-11-07 16:51:26|\n",
      "|     M2k~dewiki|    human|https://commons.w...|Commons:Deletion ...|2024-11-07 16:34:07|    human|https://www.wikid...|          Q131013889|2024-11-07 16:52:59|\n",
      "|    Craigysgafn|    human|https://cy.wikipe...|Categori:Pobl Ser...|2024-11-07 16:34:12|    human|https://cy.wikipe...|Categori:Gwleidyd...|2024-11-07 16:49:47|\n",
      "+---------------+---------+--------------------+--------------------+-------------------+---------+--------------------+--------------------+-------------------+\n",
      "\n"
     ]
    },
    {
     "name": "stderr",
     "output_type": "stream",
     "text": [
      "                                                                                \r"
     ]
    },
    {
     "name": "stdout",
     "output_type": "stream",
     "text": [
      "-------------------------------------------\n",
      "Batch: 11\n",
      "-------------------------------------------\n",
      "+------------------+---------+--------------------+--------------------+-------------------+---------+--------------------+--------------------+-------------------+\n",
      "|         user_name|user_type|                 uri|               title|          timestamp|user_type|                 uri|               title|          timestamp|\n",
      "+------------------+---------+--------------------+--------------------+-------------------+---------+--------------------+--------------------+-------------------+\n",
      "|          RAleh111|    human|https://be.wikiso...|Старонка:Лучынка ...|2024-11-07 16:34:15|    human|https://be.wikiso...|Старонка:Лучынка ...|2024-11-07 16:54:04|\n",
      "|          Hameryko|    human|https://www.wikid...|     Lexeme:L1376306|2024-11-07 16:34:15|    human|https://www.wikid...|     Lexeme:L1376321|2024-11-07 16:48:39|\n",
      "|          Hameryko|    human|https://www.wikid...|     Lexeme:L1376306|2024-11-07 16:34:15|    human|https://www.wikid...|     Lexeme:L1376322|2024-11-07 16:49:00|\n",
      "|          Hameryko|    human|https://www.wikid...|     Lexeme:L1376306|2024-11-07 16:34:15|    human|https://www.wikid...|     Lexeme:L1376323|2024-11-07 16:51:28|\n",
      "|          Hameryko|    human|https://www.wikid...|     Lexeme:L1376306|2024-11-07 16:34:15|    human|https://www.wikid...|     Lexeme:L1376324|2024-11-07 16:52:16|\n",
      "|          Hameryko|    human|https://www.wikid...|     Lexeme:L1376306|2024-11-07 16:34:15|    human|https://www.wikid...|     Lexeme:L1376325|2024-11-07 16:52:42|\n",
      "|          Hameryko|    human|https://www.wikid...|     Lexeme:L1376306|2024-11-07 16:34:15|    human|https://www.wikid...|     Lexeme:L1376326|2024-11-07 16:52:46|\n",
      "|          Hameryko|    human|https://www.wikid...|     Lexeme:L1376306|2024-11-07 16:34:15|    human|https://www.wikid...|     Lexeme:L1376327|2024-11-07 16:54:50|\n",
      "|InternetArchiveBot|      bot|https://zh.wikipe...|       約書亞·巴賽特|2024-11-07 16:34:16|      bot|https://ckb.wikip...|وتووێژ:محەممەدڕەز...|2024-11-07 16:52:12|\n",
      "|      Dorcas Atule|    human|https://www.wikid...|          Q131013068|2024-11-07 16:34:16|    human|https://www.wikid...|          Q131013723|2024-11-07 16:48:41|\n",
      "|      Dorcas Atule|    human|https://www.wikid...|          Q131013068|2024-11-07 16:34:16|    human|https://www.wikid...|          Q131013858|2024-11-07 16:52:07|\n",
      "|          Sławobóg|    human|https://www.wikid...|           Q60143577|2024-11-07 16:34:15|    human|https://hsb.wikti...|Modul:message box...|2024-11-07 16:48:47|\n",
      "|          Sławobóg|    human|https://www.wikid...|           Q60143577|2024-11-07 16:34:15|    human|https://hsb.wikti...|Modul:category tr...|2024-11-07 16:49:50|\n",
      "|          Sławobóg|    human|https://www.wikid...|           Q60143577|2024-11-07 16:34:15|    human|https://hsb.wikti...|Modul:category tr...|2024-11-07 16:50:40|\n",
      "|          Sławobóg|    human|https://www.wikid...|           Q60143577|2024-11-07 16:34:15|    human|https://hsb.wikti...|Modul:category tr...|2024-11-07 16:51:33|\n",
      "|          Sławobóg|    human|https://www.wikid...|           Q60143577|2024-11-07 16:34:15|    human|https://hsb.wikti...|Modul:category tr...|2024-11-07 16:52:34|\n",
      "|          Sławobóg|    human|https://www.wikid...|           Q60143577|2024-11-07 16:34:15|    human|https://hsb.wikti...|Modul:category tr...|2024-11-07 16:53:34|\n",
      "|             DE8AH|    human|https://fr.wiktio...|         tempestarne|2024-11-07 16:34:18|    human|https://fr.wiktio...|Modèle:anagrammes...|2024-11-07 16:49:30|\n",
      "|             DE8AH|    human|https://fr.wiktio...|         tempestarne|2024-11-07 16:34:18|    human|https://fr.wiktio...|Modèle:anagrammes...|2024-11-07 16:49:59|\n",
      "|             DE8AH|    human|https://fr.wiktio...|         tempestarne|2024-11-07 16:34:18|    human|https://fr.wiktio...|Modèle:anagrammes...|2024-11-07 16:51:23|\n",
      "+------------------+---------+--------------------+--------------------+-------------------+---------+--------------------+--------------------+-------------------+\n",
      "only showing top 20 rows\n",
      "\n"
     ]
    },
    {
     "name": "stderr",
     "output_type": "stream",
     "text": [
      "                                                                                \r"
     ]
    },
    {
     "name": "stdout",
     "output_type": "stream",
     "text": [
      "-------------------------------------------\n",
      "Batch: 12\n",
      "-------------------------------------------\n",
      "+---------+---------+--------------------+--------------------+-------------------+---------+--------------------+--------------------+-------------------+\n",
      "|user_name|user_type|                 uri|               title|          timestamp|user_type|                 uri|               title|          timestamp|\n",
      "+---------+---------+--------------------+--------------------+-------------------+---------+--------------------+--------------------+-------------------+\n",
      "|Andrywhyd|    human|https://id.wikipe...|Georges-Kévin Nko...|2024-11-07 16:34:20|    human|https://id.wikipe...| Aschraf El Mahdioui|2024-11-07 16:55:10|\n",
      "| Hameryko|    human|https://www.wikid...|     Lexeme:L1376306|2024-11-07 16:34:25|    human|https://www.wikid...|     Lexeme:L1376321|2024-11-07 16:48:39|\n",
      "| Hameryko|    human|https://www.wikid...|     Lexeme:L1376306|2024-11-07 16:34:25|    human|https://www.wikid...|     Lexeme:L1376322|2024-11-07 16:49:00|\n",
      "| Hameryko|    human|https://www.wikid...|     Lexeme:L1376306|2024-11-07 16:34:25|    human|https://www.wikid...|     Lexeme:L1376323|2024-11-07 16:51:28|\n",
      "| Hameryko|    human|https://www.wikid...|     Lexeme:L1376306|2024-11-07 16:34:25|    human|https://www.wikid...|     Lexeme:L1376324|2024-11-07 16:52:16|\n",
      "| Hameryko|    human|https://www.wikid...|     Lexeme:L1376306|2024-11-07 16:34:25|    human|https://www.wikid...|     Lexeme:L1376325|2024-11-07 16:52:42|\n",
      "| Hameryko|    human|https://www.wikid...|     Lexeme:L1376306|2024-11-07 16:34:25|    human|https://www.wikid...|     Lexeme:L1376326|2024-11-07 16:52:46|\n",
      "| Hameryko|    human|https://www.wikid...|     Lexeme:L1376306|2024-11-07 16:34:25|    human|https://www.wikid...|     Lexeme:L1376327|2024-11-07 16:54:50|\n",
      "|  Melly42|    human|https://de.wikipe...|Benutzerin:Melly42/2|2024-11-07 16:34:24|    human|https://de.wikipe...|Divyabhanusinh Ch...|2024-11-12 15:24:14|\n",
      "|Avestaboy|    human|https://www.wikid...|            Q8467918|2024-11-07 16:34:21|    human|https://ku.wikipe...|Kategorî:Serokdew...|2024-11-07 16:52:07|\n",
      "|    Gadir|    human|https://az.wikipe...|     Arzu Abdullayev|2024-11-07 16:34:20|    human|https://az.wikipe...|İstifadəçi müzaki...|2024-11-07 16:52:23|\n",
      "+---------+---------+--------------------+--------------------+-------------------+---------+--------------------+--------------------+-------------------+\n",
      "\n"
     ]
    },
    {
     "name": "stderr",
     "output_type": "stream",
     "text": [
      "                                                                                \r"
     ]
    },
    {
     "name": "stdout",
     "output_type": "stream",
     "text": [
      "-------------------------------------------\n",
      "Batch: 13\n",
      "-------------------------------------------\n",
      "+----------+---------+--------------------+--------------------+-------------------+---------+--------------------+--------------------+-------------------+\n",
      "| user_name|user_type|                 uri|               title|          timestamp|user_type|                 uri|               title|          timestamp|\n",
      "+----------+---------+--------------------+--------------------+-------------------+---------+--------------------+--------------------+-------------------+\n",
      "|    EyeBot|    human|https://ru.wikipe...|         Швенчёнеляй|2024-11-07 16:34:25|    human|https://ru.wikipe...|Обсуждение участн...|2024-11-07 16:51:01|\n",
      "|    EyeBot|    human|https://ru.wikipe...|         Швенчёнеляй|2024-11-07 16:34:25|    human|https://ru.wikipe...|Обсуждение участн...|2024-11-12 15:23:59|\n",
      "|    EyeBot|    human|https://ru.wikipe...|         Швенчёнеляй|2024-11-07 16:34:25|    human|https://ru.wikipe...|Обсуждение участн...|2024-11-12 15:24:44|\n",
      "|Lakejason0|    human|https://www.media...|Template:MediaWik...|2024-11-07 16:34:25|    human|https://www.media...|Translations:Temp...|2024-11-07 16:50:08|\n",
      "|Lakejason0|    human|https://www.media...|Template:MediaWik...|2024-11-07 16:34:25|    human|https://www.media...|Translations:Temp...|2024-11-07 16:50:50|\n",
      "|Lakejason0|    human|https://www.media...|Template:MediaWik...|2024-11-07 16:34:25|    human|https://www.media...|Translations:Temp...|2024-11-07 16:54:41|\n",
      "+----------+---------+--------------------+--------------------+-------------------+---------+--------------------+--------------------+-------------------+\n",
      "\n"
     ]
    },
    {
     "name": "stderr",
     "output_type": "stream",
     "text": [
      "                                                                                \r"
     ]
    },
    {
     "name": "stdout",
     "output_type": "stream",
     "text": [
      "-------------------------------------------\n",
      "Batch: 14\n",
      "-------------------------------------------\n",
      "+---------------+---------+--------------------+--------------------+-------------------+---------+--------------------+--------------------+-------------------+\n",
      "|      user_name|user_type|                 uri|               title|          timestamp|user_type|                 uri|               title|          timestamp|\n",
      "+---------------+---------+--------------------+--------------------+-------------------+---------+--------------------+--------------------+-------------------+\n",
      "|       Laffuble|    human|https://en.wikipe...|Draft:Instrumenta...|2024-11-07 16:34:36|    human|https://en.wikipe...|       User:Laffuble|2024-11-07 16:51:44|\n",
      "|        Ardfern|    human|https://commons.w...|File:A6-EPK Boein...|2024-11-07 16:34:36|    human|https://commons.w...|Category:Boeing 7...|2024-11-07 16:49:42|\n",
      "|        Ardfern|    human|https://commons.w...|File:A6-EPK Boein...|2024-11-07 16:34:36|    human|https://commons.w...|Category:Boeing 7...|2024-11-07 16:51:03|\n",
      "|EmpressHarmonic|    human|https://commons.w...|Category:Wasabi peas|2024-11-07 16:34:36|    human|https://commons.w...|Category:Prints o...|2024-11-12 15:24:20|\n",
      "|  Mr.Ibrahembot|      bot|https://ar.wikipe...| فرقاط جزيرة الميلاد|2024-11-07 16:34:31|      bot|https://ar.wikipe...|نقاش:جائزة لاس في...|2024-11-07 16:54:19|\n",
      "|   Dorcas Atule|    human|https://www.wikid...|          Q131013068|2024-11-07 16:34:31|    human|https://www.wikid...|          Q131013723|2024-11-07 16:48:41|\n",
      "|   Dorcas Atule|    human|https://www.wikid...|          Q131013068|2024-11-07 16:34:31|    human|https://www.wikid...|          Q131013858|2024-11-07 16:52:07|\n",
      "|          DE8AH|    human|https://fr.wiktio...|          adacquarle|2024-11-07 16:34:32|    human|https://fr.wiktio...|Modèle:anagrammes...|2024-11-07 16:49:30|\n",
      "|          DE8AH|    human|https://fr.wiktio...|          adacquarle|2024-11-07 16:34:32|    human|https://fr.wiktio...|Modèle:anagrammes...|2024-11-07 16:49:59|\n",
      "|          DE8AH|    human|https://fr.wiktio...|          adacquarle|2024-11-07 16:34:32|    human|https://fr.wiktio...|Modèle:anagrammes...|2024-11-07 16:51:23|\n",
      "|          DE8AH|    human|https://fr.wiktio...|          adacquarle|2024-11-07 16:34:32|    human|https://fr.wiktio...|Modèle:anagrammes...|2024-11-07 16:51:37|\n",
      "|          DE8AH|    human|https://fr.wiktio...|          adacquarle|2024-11-07 16:34:32|    human|https://fr.wiktio...|Modèle:anagrammes...|2024-11-07 16:52:20|\n",
      "|          DE8AH|    human|https://fr.wiktio...|          adacquarle|2024-11-07 16:34:32|    human|https://fr.wiktio...|Modèle:anagrammes...|2024-11-07 16:52:48|\n",
      "|          DE8AH|    human|https://fr.wiktio...|          adacquarle|2024-11-07 16:34:32|    human|https://fr.wiktio...|Modèle:anagrammes...|2024-11-07 16:55:16|\n",
      "|          DE8AH|    human|https://fr.wiktio...|          adacquarle|2024-11-07 16:34:32|    human|https://fr.wiktio...|Modèle:anagrammes...|2024-11-12 15:23:11|\n",
      "+---------------+---------+--------------------+--------------------+-------------------+---------+--------------------+--------------------+-------------------+\n",
      "\n"
     ]
    },
    {
     "name": "stderr",
     "output_type": "stream",
     "text": [
      "                                                                                \r"
     ]
    },
    {
     "name": "stdout",
     "output_type": "stream",
     "text": [
      "-------------------------------------------\n",
      "Batch: 15\n",
      "-------------------------------------------\n",
      "+------------------+---------+--------------------+------------------------+-------------------+---------+--------------------+--------------------+-------------------+\n",
      "|         user_name|user_type|                 uri|                   title|          timestamp|user_type|                 uri|               title|          timestamp|\n",
      "+------------------+---------+--------------------+------------------------+-------------------+---------+--------------------+--------------------+-------------------+\n",
      "|            EyeBot|    human|https://ru.wikipe...|    Участник:EyeBot/О...|2024-11-07 16:34:28|    human|https://ru.wikipe...|Обсуждение участн...|2024-11-07 16:51:01|\n",
      "|            EyeBot|    human|https://ru.wikipe...|    Участник:EyeBot/О...|2024-11-07 16:34:28|    human|https://ru.wikipe...|Обсуждение участн...|2024-11-12 15:23:59|\n",
      "|            EyeBot|    human|https://ru.wikipe...|    Участник:EyeBot/О...|2024-11-07 16:34:28|    human|https://ru.wikipe...|Обсуждение участн...|2024-11-12 15:24:44|\n",
      "|          AnRo0002|    human|https://commons.w...|    File:AB Stiftskir...|2024-11-07 16:34:42|    human|https://commons.w...|Category:Monument...|2024-11-07 16:52:14|\n",
      "|            Rc1959|    human|https://commons.w...|    File:Ivry - nouve...|2024-11-07 16:34:42|    human|https://commons.w...|Category:Ivry-sur...|2024-11-07 16:50:35|\n",
      "|            Rc1959|    human|https://commons.w...|    File:Ivry - nouve...|2024-11-07 16:34:42|    human|https://commons.w...|Category:Val-de-M...|2024-11-07 16:51:35|\n",
      "|InternetArchiveBot|      bot|https://zh.wikipe...|約書亞·巴賽特 (迷你專輯)|2024-11-07 16:34:39|      bot|https://ckb.wikip...|وتووێژ:محەممەدڕەز...|2024-11-07 16:52:12|\n",
      "|          Ясамойла|    human|https://be-tarask...|            Сем самураяў|2024-11-07 16:34:38|    human|https://be-tarask...|Катэгорыя:Драматы...|2024-11-07 16:49:37|\n",
      "|          Ясамойла|    human|https://be-tarask...|            Сем самураяў|2024-11-07 16:34:38|    human|https://be-tarask...|Катэгорыя:Японскі...|2024-11-07 16:51:59|\n",
      "|          Ясамойла|    human|https://be-tarask...|            Сем самураяў|2024-11-07 16:34:38|    human|https://be-tarask...|Катэгорыя:Гістары...|2024-11-07 16:55:08|\n",
      "|            Namiba|    human|https://en.wikipe...|    2013 NIRSA Nation...|2024-11-07 16:34:33|    human|https://en.wikipe...|Category:Soccer c...|2024-11-07 16:50:29|\n",
      "|            Namiba|    human|https://en.wikipe...|    2013 NIRSA Nation...|2024-11-07 16:34:33|    human|https://en.wikipe...|Category:Sports c...|2024-11-07 16:51:05|\n",
      "|            Namiba|    human|https://en.wikipe...|    2013 NIRSA Nation...|2024-11-07 16:34:33|    human|https://en.wikipe...|Category:College ...|2024-11-12 15:24:07|\n",
      "+------------------+---------+--------------------+------------------------+-------------------+---------+--------------------+--------------------+-------------------+\n",
      "\n"
     ]
    },
    {
     "name": "stderr",
     "output_type": "stream",
     "text": [
      "                                                                                \r"
     ]
    },
    {
     "name": "stdout",
     "output_type": "stream",
     "text": [
      "-------------------------------------------\n",
      "Batch: 16\n",
      "-------------------------------------------\n",
      "+--------------------+---------+--------------------+--------------------+-------------------+---------+--------------------+--------------------+-------------------+\n",
      "|           user_name|user_type|                 uri|               title|          timestamp|user_type|                 uri|               title|          timestamp|\n",
      "+--------------------+---------+--------------------+--------------------+-------------------+---------+--------------------+--------------------+-------------------+\n",
      "|Noah.Albert.ZivMilFü|    human|https://commons.w...|Category:Miniatur...|2024-11-07 16:34:44|    human|https://commons.w...|Category:People w...|2024-11-07 16:50:08|\n",
      "|     EmpressHarmonic|    human|https://commons.w...|Category:Wasabi peas|2024-11-07 16:34:45|    human|https://commons.w...|Category:Prints o...|2024-11-12 15:24:20|\n",
      "|     EmpressHarmonic|    human|https://commons.w...|Category:Wasabi peas|2024-11-07 16:34:48|    human|https://commons.w...|Category:Prints o...|2024-11-12 15:24:20|\n",
      "|       Mr.Ibrahembot|      bot|https://ar.wikipe...|         فراشة ملكية|2024-11-07 16:34:47|      bot|https://ar.wikipe...|نقاش:جائزة لاس في...|2024-11-07 16:54:19|\n",
      "|           Avestaboy|    human|https://ku.wikipe...|Kategorî:Komarên ...|2024-11-07 16:34:50|    human|https://ku.wikipe...|Kategorî:Serokdew...|2024-11-07 16:52:07|\n",
      "+--------------------+---------+--------------------+--------------------+-------------------+---------+--------------------+--------------------+-------------------+\n",
      "\n"
     ]
    },
    {
     "name": "stderr",
     "output_type": "stream",
     "text": [
      "                                                                                \r"
     ]
    },
    {
     "name": "stdout",
     "output_type": "stream",
     "text": [
      "-------------------------------------------\n",
      "Batch: 17\n",
      "-------------------------------------------\n",
      "+------------------+---------+--------------------+--------------------+-------------------+---------+--------------------+--------------------+-------------------+\n",
      "|         user_name|user_type|                 uri|               title|          timestamp|user_type|                 uri|               title|          timestamp|\n",
      "+------------------+---------+--------------------+--------------------+-------------------+---------+--------------------+--------------------+-------------------+\n",
      "|InternetArchiveBot|      bot|https://uk.wikipe...|   Скнилів (станція)|2024-11-07 16:34:52|      bot|https://ckb.wikip...|وتووێژ:محەممەدڕەز...|2024-11-07 16:52:12|\n",
      "|   EmpressHarmonic|    human|https://commons.w...|Category:Wasabi peas|2024-11-07 16:34:57|    human|https://commons.w...|Category:Prints o...|2024-11-12 15:24:20|\n",
      "|     Mr.Ibrahembot|      bot|https://ar.wikipe...|       فاتيرية هندية|2024-11-07 16:34:55|      bot|https://ar.wikipe...|نقاش:��ائزة لاس في...|2024-11-07 16:54:19|\n",
      "|        M2k~dewiki|    human|https://www.wikid...|           Q42161351|2024-11-07 16:34:53|    human|https://www.wikid...|          Q131013834|2024-11-07 16:51:26|\n",
      "|        M2k~dewiki|    human|https://www.wikid...|           Q42161351|2024-11-07 16:34:53|    human|https://www.wikid...|          Q131013889|2024-11-07 16:52:59|\n",
      "|       Craigysgafn|    human|https://cy.wikipe...|Categori:Pobl Fos...|2024-11-07 16:34:58|    human|https://cy.wikipe...|Categori:Gwleidyd...|2024-11-07 16:49:47|\n",
      "|            Abxbay|    human|https://commons.w...|Category:Saint Ev...|2024-11-07 16:34:53|    human|https://commons.w...|Category:Everardo...|2024-11-07 16:50:30|\n",
      "|            Abxbay|    human|https://commons.w...|Category:Saint Ev...|2024-11-07 16:34:53|    human|https://commons.w...|Category:Everardu...|2024-11-07 16:52:04|\n",
      "|            Abxbay|    human|https://commons.w...|Category:Saint Ev...|2024-11-07 16:34:53|    human|https://commons.w...|Category:Everart ...|2024-11-07 16:53:31|\n",
      "+------------------+---------+--------------------+--------------------+-------------------+---------+--------------------+--------------------+-------------------+\n",
      "\n"
     ]
    },
    {
     "name": "stderr",
     "output_type": "stream",
     "text": [
      "                                                                                \r"
     ]
    },
    {
     "name": "stdout",
     "output_type": "stream",
     "text": [
      "-------------------------------------------\n",
      "Batch: 18\n",
      "-------------------------------------------\n",
      "+------------------+---------+--------------------+--------------------+-------------------+---------+--------------------+--------------------+-------------------+\n",
      "|         user_name|user_type|                 uri|               title|          timestamp|user_type|                 uri|               title|          timestamp|\n",
      "+------------------+---------+--------------------+--------------------+-------------------+---------+--------------------+--------------------+-------------------+\n",
      "|         Andrywhyd|    human|https://id.wikipe...|Georges-Kévin Nko...|2024-11-07 16:35:03|    human|https://id.wikipe...| Aschraf El Mahdioui|2024-11-07 16:55:10|\n",
      "|InternetArchiveBot|      bot|https://xmf.wikip...| Guerrillero Heroico|2024-11-07 16:35:00|      bot|https://ckb.wikip...|وتووێژ:محەممەدڕەز...|2024-11-07 16:52:12|\n",
      "|      Dorcas Atule|    human|https://www.wikid...|          Q131013068|2024-11-07 16:35:00|    human|https://www.wikid...|          Q131013723|2024-11-07 16:48:41|\n",
      "|      Dorcas Atule|    human|https://www.wikid...|          Q131013068|2024-11-07 16:35:00|    human|https://www.wikid...|          Q131013858|2024-11-07 16:52:07|\n",
      "+------------------+---------+--------------------+--------------------+-------------------+---------+--------------------+--------------------+-------------------+\n",
      "\n"
     ]
    },
    {
     "name": "stderr",
     "output_type": "stream",
     "text": [
      "                                                                                \r"
     ]
    },
    {
     "name": "stdout",
     "output_type": "stream",
     "text": [
      "-------------------------------------------\n",
      "Batch: 19\n",
      "-------------------------------------------\n",
      "+---------------+---------+--------------------+--------------------+-------------------+---------+--------------------+--------------------+-------------------+\n",
      "|      user_name|user_type|                 uri|               title|          timestamp|user_type|                 uri|               title|          timestamp|\n",
      "+---------------+---------+--------------------+--------------------+-------------------+---------+--------------------+--------------------+-------------------+\n",
      "|         Rc1959|    human|https://commons.w...|File:Ivry - nouve...|2024-11-07 16:35:07|    human|https://commons.w...|Category:Ivry-sur...|2024-11-07 16:50:35|\n",
      "|         Rc1959|    human|https://commons.w...|File:Ivry - nouve...|2024-11-07 16:35:07|    human|https://commons.w...|Category:Val-de-M...|2024-11-07 16:51:35|\n",
      "|EmpressHarmonic|    human|https://commons.w...|Category:Wasabi peas|2024-11-07 16:35:06|    human|https://commons.w...|Category:Prints o...|2024-11-12 15:24:20|\n",
      "|  Mr.Ibrahembot|      bot|https://ar.wikipe...|            فأر نيفي|2024-11-07 16:35:03|      bot|https://ar.wikipe...|نقاش:جائزة لاس في...|2024-11-07 16:54:19|\n",
      "|     M2k~dewiki|    human|https://de.wikipe...|      Walter Bungard|2024-11-07 16:35:06|    human|https://www.wikid...|          Q131013834|2024-11-07 16:51:26|\n",
      "|     M2k~dewiki|    human|https://de.wikipe...|      Walter Bungard|2024-11-07 16:35:06|    human|https://www.wikid...|          Q131013889|2024-11-07 16:52:59|\n",
      "+---------------+---------+--------------------+--------------------+-------------------+---------+--------------------+--------------------+-------------------+\n",
      "\n"
     ]
    },
    {
     "name": "stderr",
     "output_type": "stream",
     "text": [
      "                                                                                \r"
     ]
    },
    {
     "name": "stdout",
     "output_type": "stream",
     "text": [
      "-------------------------------------------\n",
      "Batch: 20\n",
      "-------------------------------------------\n",
      "+--------------------+---------+--------------------+--------------------+-------------------+---------+--------------------+-----------------------+-------------------+\n",
      "|           user_name|user_type|                 uri|               title|          timestamp|user_type|                 uri|                  title|          timestamp|\n",
      "+--------------------+---------+--------------------+--------------------+-------------------+---------+--------------------+-----------------------+-------------------+\n",
      "|Pickersgill-Cunliffe|    human|https://en.wikipe...|User talk:STAN-AI...|2024-11-07 16:35:13|    human|https://en.wikipe...|   User talk:2A02:C7...|2024-11-07 16:49:07|\n",
      "|Pickersgill-Cunliffe|    human|https://en.wikipe...|User talk:STAN-AI...|2024-11-07 16:35:13|    human|https://en.wikipe...|   User talk:217.43....|2024-11-07 16:50:40|\n",
      "|Pickersgill-Cunliffe|    human|https://en.wikipe...|User talk:STAN-AI...|2024-11-07 16:35:13|    human|https://en.wikipe...|   User talk:78.172....|2024-11-07 16:55:16|\n",
      "|       Mr.Ibrahembot|      bot|https://ar.wikipe...|        فأر كاليورتي|2024-11-07 16:35:08|      bot|https://ar.wikipe...|   نقاش:جائزة لاس في...|2024-11-07 16:54:19|\n",
      "|       Mr.Ibrahembot|      bot|https://ar.wikipe...|            فأر خادم|2024-11-07 16:35:13|      bot|https://ar.wikipe...|   نقاش:جائزة لاس في...|2024-11-07 16:54:19|\n",
      "|       Mr.Ibrahembot|      bot|https://www.wikid...|          Q131013172|2024-11-07 16:35:15|      bot|https://ar.wikipe...|   نقاش:جائزة لاس في...|2024-11-07 16:54:19|\n",
      "|          Mateus2019|    human|https://commons.w...|Category:Gallery ...|2024-11-07 16:35:14|    human|https://commons.w...|   Category:Gallery ...|2024-11-07 16:50:19|\n",
      "|          QBA-II-bot|    human|https://ru.wikipe...|Википедия:Запросы...|2024-11-07 16:35:09|    human|https://ru.wikipe...|   Обсуждение участн...|2024-11-07 16:53:58|\n",
      "|          QBA-II-bot|    human|https://ru.wikipe...|Википедия:Запросы...|2024-11-07 16:35:09|    human|https://ru.wikipe...|   Обсуждение участн...|2024-11-12 15:24:19|\n",
      "|        Dorcas Atule|    human|https://www.wikid...|          Q131013068|2024-11-07 16:35:14|    human|https://www.wikid...|             Q131013723|2024-11-07 16:48:41|\n",
      "|        Dorcas Atule|    human|https://www.wikid...|          Q131013068|2024-11-07 16:35:14|    human|https://www.wikid...|             Q131013858|2024-11-07 16:52:07|\n",
      "|         BigBullfrog|    human|https://www.wikid...|           Q24076970|2024-11-07 16:35:13|    human|https://zh.wikipe...|Category:拉丁美洲各国裔|2024-11-07 16:50:17|\n",
      "|         BigBullfrog|    human|https://www.wikid...|           Q24076970|2024-11-07 16:35:13|    human|https://zh.wikipe...|  Category:拉丁美洲国家|2024-11-07 16:50:56|\n",
      "|         BigBullfrog|    human|https://www.wikid...|           Q24076970|2024-11-07 16:35:13|    human|https://zh.wikipe...|Category:海外保加利亚人|2024-11-07 16:54:39|\n",
      "+--------------------+---------+--------------------+--------------------+-------------------+---------+--------------------+-----------------------+-------------------+\n",
      "\n"
     ]
    },
    {
     "name": "stderr",
     "output_type": "stream",
     "text": [
      "                                                                                \r"
     ]
    },
    {
     "name": "stdout",
     "output_type": "stream",
     "text": [
      "-------------------------------------------\n",
      "Batch: 21\n",
      "-------------------------------------------\n",
      "+------------------+---------+--------------------+-------------+-------------------+---------+--------------------+--------------------+-------------------+\n",
      "|         user_name|user_type|                 uri|        title|          timestamp|user_type|                 uri|               title|          timestamp|\n",
      "+------------------+---------+--------------------+-------------+-------------------+---------+--------------------+--------------------+-------------------+\n",
      "|InternetArchiveBot|      bot|https://es.wikipe...|    Río Kazyr|2024-11-07 16:35:16|      bot|https://ckb.wikip...|وتووێژ:محەممەدڕەز...|2024-11-07 16:52:12|\n",
      "|InternetArchiveBot|      bot|https://be-tarask...|Фёдар Мікуноў|2024-11-07 16:35:17|      bot|https://ckb.wikip...|وتووێژ:محەممەدڕەز...|2024-11-07 16:52:12|\n",
      "|     Mr.Ibrahembot|      bot|https://www.wikid...|   Q131013171|2024-11-07 16:35:16|      bot|https://ar.wikipe...|نقاش:جائزة لاس في...|2024-11-07 16:54:19|\n",
      "|     Mr.Ibrahembot|      bot|https://www.wikid...|   Q131013169|2024-11-07 16:35:16|      bot|https://ar.wikipe...|نقاش:جائزة لاس في...|2024-11-07 16:54:19|\n",
      "|     Mr.Ibrahembot|      bot|https://www.wikid...|   Q131013168|2024-11-07 16:35:17|      bot|https://ar.wikipe...|نقاش:جائزة لاس في...|2024-11-07 16:54:19|\n",
      "|     Mr.Ibrahembot|      bot|https://www.wikid...|   Q131013167|2024-11-07 16:35:18|      bot|https://ar.wikipe...|نقاش:جائزة لاس في...|2024-11-07 16:54:19|\n",
      "|     Mr.Ibrahembot|      bot|https://www.wikid...|   Q131013166|2024-11-07 16:35:18|      bot|https://ar.wikipe...|نقاش:جائزة لاس في...|2024-11-07 16:54:19|\n",
      "|     Mr.Ibrahembot|      bot|https://www.wikid...|   Q131013165|2024-11-07 16:35:19|      bot|https://ar.wikipe...|نقاش:جائزة لاس في...|2024-11-07 16:54:19|\n",
      "|     Mr.Ibrahembot|      bot|https://www.wikid...|   Q131013164|2024-11-07 16:35:19|      bot|https://ar.wikipe...|نقاش:جائزة لاس في...|2024-11-07 16:54:19|\n",
      "|     Mr.Ibrahembot|      bot|https://www.wikid...|   Q131013163|2024-11-07 16:35:20|      bot|https://ar.wikipe...|نقاش:جائزة لاس في...|2024-11-07 16:54:19|\n",
      "|     Mr.Ibrahembot|      bot|https://www.wikid...|   Q131013162|2024-11-07 16:35:20|      bot|https://ar.wikipe...|نقاش:جائزة لاس في...|2024-11-07 16:54:19|\n",
      "+------------------+---------+--------------------+-------------+-------------------+---------+--------------------+--------------------+-------------------+\n",
      "\n"
     ]
    },
    {
     "name": "stderr",
     "output_type": "stream",
     "text": [
      "                                                                                \r"
     ]
    },
    {
     "name": "stdout",
     "output_type": "stream",
     "text": [
      "-------------------------------------------\n",
      "Batch: 22\n",
      "-------------------------------------------\n",
      "+----------------+---------+--------------------+--------------------+-------------------+---------+--------------------+--------------------+-------------------+\n",
      "|       user_name|user_type|                 uri|               title|          timestamp|user_type|                 uri|               title|          timestamp|\n",
      "+----------------+---------+--------------------+--------------------+-------------------+---------+--------------------+--------------------+-------------------+\n",
      "|         Voârlou|    human|https://en.wiktio...|             soulier|2024-11-07 16:35:25|    human|https://en.wiktio...|             dainsie|2024-11-07 16:52:27|\n",
      "|         Voârlou|    human|https://en.wiktio...|             soulier|2024-11-07 16:35:25|    human|https://en.wiktio...|             pyeuvre|2024-11-07 16:54:29|\n",
      "|Aditya tamhankar|    human|https://mr.wikipe...|नंदुरबार विधानसभा...|2024-11-07 16:35:24|    human|https://mr.wikipe...|साचा:स्वरा��्य शक्...|2024-11-07 16:49:52|\n",
      "|Aditya tamhankar|    human|https://mr.wikipe...|नंदुरबार विधानसभा...|2024-11-07 16:35:24|    human|https://mr.wikipe...|साचा:स्वराज्य राष...|2024-11-07 16:51:06|\n",
      "|   Mr.Ibrahembot|      bot|https://www.wikid...|          Q131013160|2024-11-07 16:35:21|      bot|https://ar.wikipe...|نقاش:جائزة لاس في...|2024-11-07 16:54:19|\n",
      "|   Mr.Ibrahembot|      bot|https://www.wikid...|          Q131013159|2024-11-07 16:35:22|      bot|https://ar.wikipe...|نقاش:جائزة لاس في...|2024-11-07 16:54:19|\n",
      "|   Mr.Ibrahembot|      bot|https://www.wikid...|          Q131013156|2024-11-07 16:35:22|      bot|https://ar.wikipe...|نقاش:جائزة لاس في...|2024-11-07 16:54:19|\n",
      "|   Mr.Ibrahembot|      bot|https://www.wikid...|          Q131013155|2024-11-07 16:35:23|      bot|https://ar.wikipe...|نقاش:جائزة لاس في...|2024-11-07 16:54:19|\n",
      "|   Mr.Ibrahembot|      bot|https://www.wikid...|          Q131013150|2024-11-07 16:35:24|      bot|https://ar.wikipe...|نقاش:جائزة لاس في...|2024-11-07 16:54:19|\n",
      "|   Mr.Ibrahembot|      bot|https://www.wikid...|          Q131013149|2024-11-07 16:35:24|      bot|https://ar.wikipe...|نقاش:جائزة لاس في...|2024-11-07 16:54:19|\n",
      "|   Mr.Ibrahembot|      bot|https://www.wikid...|          Q131013144|2024-11-07 16:35:25|      bot|https://ar.wikipe...|نقاش:جائزة لاس في...|2024-11-07 16:54:19|\n",
      "|   Mr.Ibrahembot|      bot|https://www.wikid...|          Q131013143|2024-11-07 16:35:26|      bot|https://ar.wikipe...|نقاش:جائزة لاس في...|2024-11-07 16:54:19|\n",
      "+----------------+---------+--------------------+--------------------+-------------------+---------+--------------------+--------------------+-------------------+\n",
      "\n"
     ]
    },
    {
     "name": "stderr",
     "output_type": "stream",
     "text": [
      "                                                                                \r"
     ]
    },
    {
     "name": "stdout",
     "output_type": "stream",
     "text": [
      "-------------------------------------------\n",
      "Batch: 23\n",
      "-------------------------------------------\n",
      "+----------------+---------+--------------------+--------------------+-------------------+---------+--------------------+--------------------+-------------------+\n",
      "|       user_name|user_type|                 uri|               title|          timestamp|user_type|                 uri|               title|          timestamp|\n",
      "+----------------+---------+--------------------+--------------------+-------------------+---------+--------------------+--------------------+-------------------+\n",
      "| EmpressHarmonic|    human|https://commons.w...|    Category:Tabelog|2024-11-07 16:35:28|    human|https://commons.w...|Category:Prints o...|2024-11-12 15:24:20|\n",
      "|   Mr.Ibrahembot|      bot|https://www.wikid...|          Q131013142|2024-11-07 16:35:27|      bot|https://ar.wikipe...|نقاش:جائزة لاس في...|2024-11-07 16:54:19|\n",
      "|   Mr.Ibrahembot|      bot|https://www.wikid...|          Q131013141|2024-11-07 16:35:27|      bot|https://ar.wikipe...|نقاش:جائزة لاس في...|2024-11-07 16:54:19|\n",
      "|   Mr.Ibrahembot|      bot|https://www.wikid...|          Q131013140|2024-11-07 16:35:28|      bot|https://ar.wikipe...|نقاش:جائزة لاس في...|2024-11-07 16:54:19|\n",
      "|   Mr.Ibrahembot|      bot|https://www.wikid...|          Q131013139|2024-11-07 16:35:28|      bot|https://ar.wikipe...|نقاش:جائزة لاس في...|2024-11-07 16:54:19|\n",
      "|   Mr.Ibrahembot|      bot|https://www.wikid...|          Q131013138|2024-11-07 16:35:29|      bot|https://ar.wikipe...|نقاش:جائزة لاس في...|2024-11-07 16:54:19|\n",
      "|   Mr.Ibrahembot|      bot|https://www.wikid...|          Q131013134|2024-11-07 16:35:30|      bot|https://ar.wikipe...|نقاش:جائزة لاس في...|2024-11-07 16:54:19|\n",
      "|   Mr.Ibrahembot|      bot|https://www.wikid...|          Q131013129|2024-11-07 16:35:31|      bot|https://ar.wikipe...|نقاش:جائزة لاس في...|2024-11-07 16:54:19|\n",
      "|   Mr.Ibrahembot|      bot|https://www.wikid...|          Q131013128|2024-11-07 16:35:31|      bot|https://ar.wikipe...|نقاش:جائزة لاس في...|2024-11-07 16:54:19|\n",
      "|Michael.C.Wright|    human|https://en.wikine...|Smithsonian Natio...|2024-11-07 16:35:31|    human|https://www.wikid...|          Q131013759|2024-11-07 16:49:38|\n",
      "|         Alifono|    human|https://eo.wikipe...|             Bonfaro|2024-11-07 16:35:28|    human|https://eo.wikipe...|Kondamno pro kont...|2024-11-07 16:49:26|\n",
      "|        Sławobóg|    human|https://www.wikid...|           Q66962398|2024-11-07 16:35:30|    human|https://hsb.wikti...|Modul:message box...|2024-11-07 16:48:47|\n",
      "|        Sławobóg|    human|https://www.wikid...|           Q66962398|2024-11-07 16:35:30|    human|https://hsb.wikti...|Modul:category tr...|2024-11-07 16:49:50|\n",
      "|        Sławobóg|    human|https://www.wikid...|           Q66962398|2024-11-07 16:35:30|    human|https://hsb.wikti...|Modul:category tr...|2024-11-07 16:50:40|\n",
      "|        Sławobóg|    human|https://www.wikid...|           Q66962398|2024-11-07 16:35:30|    human|https://hsb.wikti...|Modul:category tr...|2024-11-07 16:51:33|\n",
      "|        Sławobóg|    human|https://www.wikid...|           Q66962398|2024-11-07 16:35:30|    human|https://hsb.wikti...|Modul:category tr...|2024-11-07 16:52:34|\n",
      "|        Sławobóg|    human|https://www.wikid...|           Q66962398|2024-11-07 16:35:30|    human|https://hsb.wikti...|Modul:category tr...|2024-11-07 16:53:34|\n",
      "|           DE8AH|    human|https://fr.wiktio...|         mansuefarle|2024-11-07 16:35:29|    human|https://fr.wiktio...|Modèle:anagrammes...|2024-11-07 16:49:30|\n",
      "|           DE8AH|    human|https://fr.wiktio...|         mansuefarle|2024-11-07 16:35:29|    human|https://fr.wiktio...|Modèle:anagrammes...|2024-11-07 16:49:59|\n",
      "|           DE8AH|    human|https://fr.wiktio...|         mansuefarle|2024-11-07 16:35:29|    human|https://fr.wiktio...|Modèle:anagrammes...|2024-11-07 16:51:23|\n",
      "+----------------+---------+--------------------+--------------------+-------------------+---------+--------------------+--------------------+-------------------+\n",
      "only showing top 20 rows\n",
      "\n"
     ]
    },
    {
     "name": "stderr",
     "output_type": "stream",
     "text": [
      "                                                                                \r"
     ]
    },
    {
     "name": "stdout",
     "output_type": "stream",
     "text": [
      "-------------------------------------------\n",
      "Batch: 24\n",
      "-------------------------------------------\n",
      "+------------------+---------+--------------------+--------------------+-------------------+---------+--------------------+--------------------+-------------------+\n",
      "|         user_name|user_type|                 uri|               title|          timestamp|user_type|                 uri|               title|          timestamp|\n",
      "+------------------+---------+--------------------+--------------------+-------------------+---------+--------------------+--------------------+-------------------+\n",
      "|InternetArchiveBot|      bot|https://ru.wikipe...|Хомяковка (Самарс...|2024-11-07 16:35:29|      bot|https://ckb.wikip...|وتووێژ:محەممەدڕەز...|2024-11-07 16:52:12|\n",
      "|     Mr.Ibrahembot|      bot|https://www.wikid...|          Q131013127|2024-11-07 16:35:32|      bot|https://ar.wikipe...|نقاش:جائزة لاس في...|2024-11-07 16:54:19|\n",
      "|     Mr.Ibrahembot|      bot|https://www.wikid...|          Q131013125|2024-11-07 16:35:33|      bot|https://ar.wikipe...|نقا��:جائزة لاس في...|2024-11-07 16:54:19|\n",
      "|     Mr.Ibrahembot|      bot|https://www.wikid...|          Q131013121|2024-11-07 16:35:34|      bot|https://ar.wikipe...|نقاش:جائزة لاس في...|2024-11-07 16:54:19|\n",
      "|     Mr.Ibrahembot|      bot|https://www.wikid...|          Q131013120|2024-11-07 16:35:34|      bot|https://ar.wikipe...|نقاش:جائزة لاس في...|2024-11-07 16:54:19|\n",
      "|     Mr.Ibrahembot|      bot|https://www.wikid...|          Q131013119|2024-11-07 16:35:35|      bot|https://ar.wikipe...|نقاش:جائزة لاس في...|2024-11-07 16:54:19|\n",
      "|     Mr.Ibrahembot|      bot|https://www.wikid...|          Q131013118|2024-11-07 16:35:35|      bot|https://ar.wikipe...|نقاش:جائزة لاس في...|2024-11-07 16:54:19|\n",
      "|     Mr.Ibrahembot|      bot|https://www.wikid...|          Q131013117|2024-11-07 16:35:36|      bot|https://ar.wikipe...|نقاش:جائزة لاس في...|2024-11-07 16:54:19|\n",
      "|     Mr.Ibrahembot|      bot|https://www.wikid...|          Q131013116|2024-11-07 16:35:36|      bot|https://ar.wikipe...|نقاش:جائزة لاس في...|2024-11-07 16:54:19|\n",
      "|        M2k~dewiki|    human|https://de.wikipe...|         NOSTA Group|2024-11-07 16:35:33|    human|https://www.wikid...|          Q131013834|2024-11-07 16:51:26|\n",
      "|        M2k~dewiki|    human|https://de.wikipe...|         NOSTA Group|2024-11-07 16:35:33|    human|https://www.wikid...|          Q131013889|2024-11-07 16:52:59|\n",
      "|      Dorcas Atule|    human|https://www.wikid...|          Q131013068|2024-11-07 16:35:33|    human|https://www.wikid...|          Q131013723|2024-11-07 16:48:41|\n",
      "|      Dorcas Atule|    human|https://www.wikid...|          Q131013068|2024-11-07 16:35:33|    human|https://www.wikid...|          Q131013858|2024-11-07 16:52:07|\n",
      "|       Craigysgafn|    human|https://cy.wikipe...|Categori:Pobl Fon...|2024-11-07 16:35:36|    human|https://cy.wikipe...|Categori:Gwleidyd...|2024-11-07 16:49:47|\n",
      "+------------------+---------+--------------------+--------------------+-------------------+---------+--------------------+--------------------+-------------------+\n",
      "\n"
     ]
    },
    {
     "name": "stderr",
     "output_type": "stream",
     "text": [
      "                                                                                \r"
     ]
    },
    {
     "name": "stdout",
     "output_type": "stream",
     "text": [
      "-------------------------------------------\n",
      "Batch: 25\n",
      "-------------------------------------------\n",
      "+---------------+---------+--------------------+--------------------+-------------------+---------+--------------------+-----------------------+-------------------+\n",
      "|      user_name|user_type|                 uri|               title|          timestamp|user_type|                 uri|                  title|          timestamp|\n",
      "+---------------+---------+--------------------+--------------------+-------------------+---------+--------------------+-----------------------+-------------------+\n",
      "|       咽頭べさ|    human|https://www.wikid...|          Q113403001|2024-11-07 16:35:38|    human|https://mnw.wikti...|                     ꪀꪴ|2024-11-07 16:49:32|\n",
      "|       咽頭べさ|    human|https://www.wikid...|          Q113403001|2024-11-07 16:35:38|    human|https://mnw.wikti...|   ထာမ်ပလိက်:blt-pro...|2024-11-07 16:53:16|\n",
      "|       咽頭べさ|    human|https://www.wikid...|          Q113403001|2024-11-07 16:35:38|    human|https://www.wikid...|             Q131013908|2024-11-07 16:53:38|\n",
      "|EmpressHarmonic|    human|https://commons.w...|    Category:Tabelog|2024-11-07 16:35:37|    human|https://commons.w...|   Category:Prints o...|2024-11-12 15:24:20|\n",
      "|        Melly42|    human|https://de.wikipe...|Benutzerin:Melly42/2|2024-11-07 16:34:24|    human|https://de.wikipe...|           Divya Chavda|2024-11-12 15:25:41|\n",
      "|  Mr.Ibrahembot|      bot|https://www.wikid...|          Q131013110|2024-11-07 16:35:37|      bot|https://ar.wikipe...|   نقاش:جائزة لاس في...|2024-11-07 16:54:19|\n",
      "|  Mr.Ibrahembot|      bot|https://www.wikid...|          Q131013109|2024-11-07 16:35:38|      bot|https://ar.wikipe...|   نقاش:جائزة لاس في...|2024-11-07 16:54:19|\n",
      "|  Mr.Ibrahembot|      bot|https://www.wikid...|          Q131013108|2024-11-07 16:35:39|      bot|https://ar.wikipe...|   نقاش:جائزة لاس في...|2024-11-07 16:54:19|\n",
      "|  Mr.Ibrahembot|      bot|https://www.wikid...|          Q131013106|2024-11-07 16:35:39|      bot|https://ar.wikipe...|   نقاش:جائزة لاس في...|2024-11-07 16:54:19|\n",
      "|  Mr.Ibrahembot|      bot|https://www.wikid...|          Q131013105|2024-11-07 16:35:40|      bot|https://ar.wikipe...|   نقاش:جائزة لاس في...|2024-11-07 16:54:19|\n",
      "|  Mr.Ibrahembot|      bot|https://www.wikid...|          Q131013101|2024-11-07 16:35:41|      bot|https://ar.wikipe...|   نقاش:جائزة لاس في...|2024-11-07 16:54:19|\n",
      "|    BigBullfrog|    human|https://www.wikid...|           Q15264183|2024-11-07 16:35:37|    human|https://zh.wikipe...|Category:拉丁美洲各国裔|2024-11-07 16:50:17|\n",
      "|    BigBullfrog|    human|https://www.wikid...|           Q15264183|2024-11-07 16:35:37|    human|https://zh.wikipe...|  Category:拉丁美洲国家|2024-11-07 16:50:56|\n",
      "|    BigBullfrog|    human|https://www.wikid...|           Q15264183|2024-11-07 16:35:37|    human|https://zh.wikipe...|Category:海外保加利亚人|2024-11-07 16:54:39|\n",
      "|       Jaba1977|    human|https://www.wikid...|           Q28136105|2024-11-07 16:35:39|    human|https://ka.wikipe...|   ეფესოს არქეოლოგიუ...|2024-11-07 16:52:15|\n",
      "+---------------+---------+--------------------+--------------------+-------------------+---------+--------------------+-----------------------+-------------------+\n",
      "\n"
     ]
    },
    {
     "name": "stderr",
     "output_type": "stream",
     "text": [
      "                                                                                \r"
     ]
    },
    {
     "name": "stdout",
     "output_type": "stream",
     "text": [
      "-------------------------------------------\n",
      "Batch: 26\n",
      "-------------------------------------------\n",
      "+-------------+---------+--------------------+--------------------+-------------------+---------+--------------------+--------------------+-------------------+\n",
      "|    user_name|user_type|                 uri|               title|          timestamp|user_type|                 uri|               title|          timestamp|\n",
      "+-------------+---------+--------------------+--------------------+-------------------+---------+--------------------+--------------------+-------------------+\n",
      "|      Kaviraf|    human|https://fr.wikiso...|Page:De Taurines ...|2024-11-07 16:35:45|    human|https://fr.wikiso...|Page:De Taurines ...|2024-11-07 16:48:57|\n",
      "|      Kaviraf|    human|https://fr.wikiso...|Page:De Taurines ...|2024-11-07 16:35:45|    human|https://fr.wikiso...|Page:De Taurines ...|2024-11-07 16:52:29|\n",
      "|Mr.Ibrahembot|      bot|https://www.wikid...|          Q131013097|2024-11-07 16:35:41|      bot|https://ar.wikipe...|نقاش:جائزة لاس في...|2024-11-07 16:54:19|\n",
      "|Mr.Ibrahembot|      bot|https://www.wikid...|          Q131013096|2024-11-07 16:35:42|      bot|https://ar.wikipe...|نقاش:جائزة لاس في...|2024-11-07 16:54:19|\n",
      "|Mr.Ibrahembot|      bot|https://www.wikid...|          Q131013091|2024-11-07 16:35:43|      bot|https://ar.wikipe...|نقاش:جائزة لاس في...|2024-11-07 16:54:19|\n",
      "|Mr.Ibrahembot|      bot|https://www.wikid...|          Q131013087|2024-11-07 16:35:44|      bot|https://ar.wikipe...|نقاش:جائزة لاس في...|2024-11-07 16:54:19|\n",
      "|Mr.Ibrahembot|      bot|https://www.wikid...|          Q131013085|2024-11-07 16:35:45|      bot|https://ar.wikipe...|نقاش:جائزة لاس في...|2024-11-07 16:54:19|\n",
      "|Mr.Ibrahembot|      bot|https://www.wikid...|          Q131013083|2024-11-07 16:35:45|      bot|https://ar.wikipe...|نقاش:جائزة لاس في...|2024-11-07 16:54:19|\n",
      "|Mr.Ibrahembot|      bot|https://www.wikid...|          Q131013084|2024-11-07 16:35:46|      bot|https://ar.wikipe...|نقاش:جائزة لاس في...|2024-11-07 16:54:19|\n",
      "+-------------+---------+--------------------+--------------------+-------------------+---------+--------------------+--------------------+-------------------+\n",
      "\n"
     ]
    },
    {
     "name": "stderr",
     "output_type": "stream",
     "text": [
      "[Stage 83:======================>                                (82 + 6) / 200]\r"
     ]
    },
    {
     "ename": "KeyboardInterrupt",
     "evalue": "",
     "output_type": "error",
     "traceback": [
      "\u001b[0;31m---------------------------------------------------------------------------\u001b[0m",
      "\u001b[0;31mKeyboardInterrupt\u001b[0m                         Traceback (most recent call last)",
      "Cell \u001b[0;32mIn[5], line 11\u001b[0m\n\u001b[1;32m      5\u001b[0m joined_streams_df \u001b[38;5;241m=\u001b[39m (df_edit\n\u001b[1;32m      6\u001b[0m             \u001b[38;5;241m.\u001b[39mjoin(df_new, \u001b[38;5;124m\"\u001b[39m\u001b[38;5;124muser_name\u001b[39m\u001b[38;5;124m\"\u001b[39m)\n\u001b[1;32m      7\u001b[0m             )\n\u001b[1;32m      9\u001b[0m query \u001b[38;5;241m=\u001b[39m joined_streams_df\u001b[38;5;241m.\u001b[39mwriteStream\u001b[38;5;241m.\u001b[39moutputMode(\u001b[38;5;124m\"\u001b[39m\u001b[38;5;124mappend\u001b[39m\u001b[38;5;124m\"\u001b[39m)\u001b[38;5;241m.\u001b[39mformat(\u001b[38;5;124m\"\u001b[39m\u001b[38;5;124mconsole\u001b[39m\u001b[38;5;124m\"\u001b[39m)\u001b[38;5;241m.\u001b[39mstart()\n\u001b[0;32m---> 11\u001b[0m \u001b[43mquery\u001b[49m\u001b[38;5;241;43m.\u001b[39;49m\u001b[43mawaitTermination\u001b[49m\u001b[43m(\u001b[49m\u001b[43m)\u001b[49m\n",
      "File \u001b[0;32m/usr/local/lib/python3.9/dist-packages/pyspark/sql/streaming.py:103\u001b[0m, in \u001b[0;36mStreamingQuery.awaitTermination\u001b[0;34m(self, timeout)\u001b[0m\n\u001b[1;32m    101\u001b[0m     \u001b[38;5;28;01mreturn\u001b[39;00m \u001b[38;5;28mself\u001b[39m\u001b[38;5;241m.\u001b[39m_jsq\u001b[38;5;241m.\u001b[39mawaitTermination(\u001b[38;5;28mint\u001b[39m(timeout \u001b[38;5;241m*\u001b[39m \u001b[38;5;241m1000\u001b[39m))\n\u001b[1;32m    102\u001b[0m \u001b[38;5;28;01melse\u001b[39;00m:\n\u001b[0;32m--> 103\u001b[0m     \u001b[38;5;28;01mreturn\u001b[39;00m \u001b[38;5;28;43mself\u001b[39;49m\u001b[38;5;241;43m.\u001b[39;49m\u001b[43m_jsq\u001b[49m\u001b[38;5;241;43m.\u001b[39;49m\u001b[43mawaitTermination\u001b[49m\u001b[43m(\u001b[49m\u001b[43m)\u001b[49m\n",
      "File \u001b[0;32m/usr/local/lib/python3.9/dist-packages/py4j/java_gateway.py:1303\u001b[0m, in \u001b[0;36mJavaMember.__call__\u001b[0;34m(self, *args)\u001b[0m\n\u001b[1;32m   1296\u001b[0m args_command, temp_args \u001b[38;5;241m=\u001b[39m \u001b[38;5;28mself\u001b[39m\u001b[38;5;241m.\u001b[39m_build_args(\u001b[38;5;241m*\u001b[39margs)\n\u001b[1;32m   1298\u001b[0m command \u001b[38;5;241m=\u001b[39m proto\u001b[38;5;241m.\u001b[39mCALL_COMMAND_NAME \u001b[38;5;241m+\u001b[39m\\\n\u001b[1;32m   1299\u001b[0m     \u001b[38;5;28mself\u001b[39m\u001b[38;5;241m.\u001b[39mcommand_header \u001b[38;5;241m+\u001b[39m\\\n\u001b[1;32m   1300\u001b[0m     args_command \u001b[38;5;241m+\u001b[39m\\\n\u001b[1;32m   1301\u001b[0m     proto\u001b[38;5;241m.\u001b[39mEND_COMMAND_PART\n\u001b[0;32m-> 1303\u001b[0m answer \u001b[38;5;241m=\u001b[39m \u001b[38;5;28;43mself\u001b[39;49m\u001b[38;5;241;43m.\u001b[39;49m\u001b[43mgateway_client\u001b[49m\u001b[38;5;241;43m.\u001b[39;49m\u001b[43msend_command\u001b[49m\u001b[43m(\u001b[49m\u001b[43mcommand\u001b[49m\u001b[43m)\u001b[49m\n\u001b[1;32m   1304\u001b[0m return_value \u001b[38;5;241m=\u001b[39m get_return_value(\n\u001b[1;32m   1305\u001b[0m     answer, \u001b[38;5;28mself\u001b[39m\u001b[38;5;241m.\u001b[39mgateway_client, \u001b[38;5;28mself\u001b[39m\u001b[38;5;241m.\u001b[39mtarget_id, \u001b[38;5;28mself\u001b[39m\u001b[38;5;241m.\u001b[39mname)\n\u001b[1;32m   1307\u001b[0m \u001b[38;5;28;01mfor\u001b[39;00m temp_arg \u001b[38;5;129;01min\u001b[39;00m temp_args:\n",
      "File \u001b[0;32m/usr/local/lib/python3.9/dist-packages/py4j/java_gateway.py:1033\u001b[0m, in \u001b[0;36mGatewayClient.send_command\u001b[0;34m(self, command, retry, binary)\u001b[0m\n\u001b[1;32m   1031\u001b[0m connection \u001b[38;5;241m=\u001b[39m \u001b[38;5;28mself\u001b[39m\u001b[38;5;241m.\u001b[39m_get_connection()\n\u001b[1;32m   1032\u001b[0m \u001b[38;5;28;01mtry\u001b[39;00m:\n\u001b[0;32m-> 1033\u001b[0m     response \u001b[38;5;241m=\u001b[39m \u001b[43mconnection\u001b[49m\u001b[38;5;241;43m.\u001b[39;49m\u001b[43msend_command\u001b[49m\u001b[43m(\u001b[49m\u001b[43mcommand\u001b[49m\u001b[43m)\u001b[49m\n\u001b[1;32m   1034\u001b[0m     \u001b[38;5;28;01mif\u001b[39;00m binary:\n\u001b[1;32m   1035\u001b[0m         \u001b[38;5;28;01mreturn\u001b[39;00m response, \u001b[38;5;28mself\u001b[39m\u001b[38;5;241m.\u001b[39m_create_connection_guard(connection)\n",
      "File \u001b[0;32m/usr/local/lib/python3.9/dist-packages/py4j/java_gateway.py:1200\u001b[0m, in \u001b[0;36mGatewayConnection.send_command\u001b[0;34m(self, command)\u001b[0m\n\u001b[1;32m   1196\u001b[0m     \u001b[38;5;28;01mraise\u001b[39;00m Py4JNetworkError(\n\u001b[1;32m   1197\u001b[0m         \u001b[38;5;124m\"\u001b[39m\u001b[38;5;124mError while sending\u001b[39m\u001b[38;5;124m\"\u001b[39m, e, proto\u001b[38;5;241m.\u001b[39mERROR_ON_SEND)\n\u001b[1;32m   1199\u001b[0m \u001b[38;5;28;01mtry\u001b[39;00m:\n\u001b[0;32m-> 1200\u001b[0m     answer \u001b[38;5;241m=\u001b[39m smart_decode(\u001b[38;5;28;43mself\u001b[39;49m\u001b[38;5;241;43m.\u001b[39;49m\u001b[43mstream\u001b[49m\u001b[38;5;241;43m.\u001b[39;49m\u001b[43mreadline\u001b[49m\u001b[43m(\u001b[49m\u001b[43m)\u001b[49m[:\u001b[38;5;241m-\u001b[39m\u001b[38;5;241m1\u001b[39m])\n\u001b[1;32m   1201\u001b[0m     logger\u001b[38;5;241m.\u001b[39mdebug(\u001b[38;5;124m\"\u001b[39m\u001b[38;5;124mAnswer received: \u001b[39m\u001b[38;5;132;01m{0}\u001b[39;00m\u001b[38;5;124m\"\u001b[39m\u001b[38;5;241m.\u001b[39mformat(answer))\n\u001b[1;32m   1202\u001b[0m     \u001b[38;5;28;01mif\u001b[39;00m answer\u001b[38;5;241m.\u001b[39mstartswith(proto\u001b[38;5;241m.\u001b[39mRETURN_MESSAGE):\n",
      "File \u001b[0;32m/usr/lib/python3.9/socket.py:704\u001b[0m, in \u001b[0;36mSocketIO.readinto\u001b[0;34m(self, b)\u001b[0m\n\u001b[1;32m    702\u001b[0m \u001b[38;5;28;01mwhile\u001b[39;00m \u001b[38;5;28;01mTrue\u001b[39;00m:\n\u001b[1;32m    703\u001b[0m     \u001b[38;5;28;01mtry\u001b[39;00m:\n\u001b[0;32m--> 704\u001b[0m         \u001b[38;5;28;01mreturn\u001b[39;00m \u001b[38;5;28;43mself\u001b[39;49m\u001b[38;5;241;43m.\u001b[39;49m\u001b[43m_sock\u001b[49m\u001b[38;5;241;43m.\u001b[39;49m\u001b[43mrecv_into\u001b[49m\u001b[43m(\u001b[49m\u001b[43mb\u001b[49m\u001b[43m)\u001b[49m\n\u001b[1;32m    705\u001b[0m     \u001b[38;5;28;01mexcept\u001b[39;00m timeout:\n\u001b[1;32m    706\u001b[0m         \u001b[38;5;28mself\u001b[39m\u001b[38;5;241m.\u001b[39m_timeout_occurred \u001b[38;5;241m=\u001b[39m \u001b[38;5;28;01mTrue\u001b[39;00m\n",
      "\u001b[0;31mKeyboardInterrupt\u001b[0m: "
     ]
    },
    {
     "name": "stderr",
     "output_type": "stream",
     "text": [
      "                                                                                \r"
     ]
    },
    {
     "name": "stdout",
     "output_type": "stream",
     "text": [
      "-------------------------------------------\n",
      "Batch: 27\n",
      "-------------------------------------------\n",
      "+-------------+---------+--------------------+--------------------+-------------------+---------+--------------------+--------------------+-------------------+\n",
      "|    user_name|user_type|                 uri|               title|          timestamp|user_type|                 uri|               title|          timestamp|\n",
      "+-------------+---------+--------------------+--------------------+-------------------+---------+--------------------+--------------------+-------------------+\n",
      "|      Ow0cast|    human|https://en.wikipe...|User:Ow0cast/comm...|2024-11-07 16:35:49|    human|https://en.wikipe...|User talk:149.34....|2024-11-07 16:53:38|\n",
      "|Mr.Ibrahembot|      bot|https://www.wikid...|          Q131013082|2024-11-07 16:35:47|      bot|https://ar.wikipe...|نقاش:جائزة لاس في...|2024-11-07 16:54:19|\n",
      "|Mr.Ibrahembot|      bot|https://www.wikid...|          Q131013078|2024-11-07 16:35:47|      bot|https://ar.wikipe...|نقاش:جائزة لاس في...|2024-11-07 16:54:19|\n",
      "|Mr.Ibrahembot|      bot|https://www.wikid...|          Q131013072|2024-11-07 16:35:48|      bot|https://ar.wikipe...|نقاش:جائزة لاس في...|2024-11-07 16:54:19|\n",
      "|Mr.Ibrahembot|      bot|https://www.wikid...|          Q131013070|2024-11-07 16:35:49|      bot|https://ar.wikipe...|نقاش:جائزة لاس في...|2024-11-07 16:54:19|\n",
      "|Mr.Ibrahembot|      bot|https://www.wikid...|          Q131013065|2024-11-07 16:35:50|      bot|https://ar.wikipe...|نقاش:جائزة لاس في...|2024-11-07 16:54:19|\n",
      "|Mr.Ibrahembot|      bot|https://ar.wikipe...|       غوريلا الأنهر|2024-11-07 16:35:48|      bot|https://ar.wikipe...|نقاش:جائزة لاس في...|2024-11-07 16:54:19|\n",
      "|Mr.Ibrahembot|      bot|https://www.wikid...|          Q131013058|2024-11-07 16:35:51|      bot|https://ar.wikipe...|نقاش:جائزة لاس في...|2024-11-07 16:54:19|\n",
      "| Andre Engels|    human|https://www.wikid...|          Q131013192|2024-11-07 16:35:46|    human|https://www.wikid...|          Q131013762|2024-11-07 16:49:41|\n",
      "|   M2k~dewiki|    human|https://de.wikipe...|         NOSTA Group|2024-11-07 16:35:46|    human|https://www.wikid...|          Q131013834|2024-11-07 16:51:26|\n",
      "|   M2k~dewiki|    human|https://de.wikipe...|         NOSTA Group|2024-11-07 16:35:46|    human|https://www.wikid...|          Q131013889|2024-11-07 16:52:59|\n",
      "+-------------+---------+--------------------+--------------------+-------------------+---------+--------------------+--------------------+-------------------+\n",
      "\n"
     ]
    },
    {
     "name": "stderr",
     "output_type": "stream",
     "text": [
      "                                                                                \r"
     ]
    },
    {
     "name": "stdout",
     "output_type": "stream",
     "text": [
      "-------------------------------------------\n",
      "Batch: 28\n",
      "-------------------------------------------\n",
      "+---------------+---------+--------------------+----------------+-------------------+---------+--------------------+------------------------------------+-------------------+\n",
      "|      user_name|user_type|                 uri|           title|          timestamp|user_type|                 uri|                               title|          timestamp|\n",
      "+---------------+---------+--------------------+----------------+-------------------+---------+--------------------+------------------------------------+-------------------+\n",
      "|    Braveattack|    human|https://ko.wikipe...|            신각|2024-11-07 16:35:57|    human|https://ko.wikipe...|              토론:미로슬라프 바르가|2024-11-12 15:22:40|\n",
      "|    Braveattack|    human|https://ko.wikipe...|            신각|2024-11-07 16:35:57|    human|https://ko.wikipe...|                  토론:에드워드 에츨|2024-11-12 15:22:42|\n",
      "|    Braveattack|    human|https://ko.wikipe...|            신각|2024-11-07 16:35:57|    human|https://ko.wikipe...|              토론:드미트로 모나코우|2024-11-12 15:23:03|\n",
      "|    Braveattack|    human|https://ko.wikipe...|            신각|2024-11-07 16:35:57|    human|https://ko.wikipe...|    토론:루차노 조반네티 (사격 선수)|2024-11-12 15:23:08|\n",
      "|    Braveattack|    human|https://ko.wikipe...|            신각|2024-11-07 16:35:57|    human|https://ko.wikipe...|          토론:피터 윌슨 (사격 선수)|2024-11-12 15:23:40|\n",
      "|    Braveattack|    human|https://ko.wikipe...|            신각|2024-11-07 16:35:57|    human|https://ko.wikipe...|                토론:아흐마드 알막툼|2024-11-12 15:23:45|\n",
      "|    Braveattack|    human|https://ko.wikipe...|            신각|2024-11-07 16:35:57|    human|https://ko.wikipe...|                토론:미하엘 야코지츠|2024-11-12 15:24:13|\n",
      "|    Braveattack|    human|https://ko.wikipe...|            신각|2024-11-07 16:35:57|    human|https://ko.wikipe...|                토론:만프레트 쿠르처|2024-11-12 15:24:28|\n",
      "|    Braveattack|    human|https://ko.wikipe...|            신각|2024-11-07 16:35:57|    human|https://ko.wikipe...|               토론:양링 (사격 선수)|2024-11-12 15:24:30|\n",
      "|    Braveattack|    human|https://ko.wikipe...|            신각|2024-11-07 16:35:57|    human|https://ko.wikipe...|                         토론:자잔보|2024-11-12 15:24:33|\n",
      "|    Braveattack|    human|https://ko.wikipe...|            신각|2024-11-07 16:35:57|    human|https://ko.wikipe...|                토론:흐라치야 페티캰|2024-11-12 15:24:56|\n",
      "|    Braveattack|    human|https://ko.wikipe...|            신각|2024-11-07 16:35:57|    human|https://ko.wikipe...|                  토론:사이토 다쓰루|2024-11-12 15:24:58|\n",
      "|    Braveattack|    human|https://ko.wikipe...|            신각|2024-11-07 16:35:57|    human|https://ko.wikipe...|토론:여름이 끝날 무렵의 라트라비아타|2024-11-12 15:25:22|\n",
      "|    Braveattack|    human|https://ko.wikipe...|            신각|2024-11-07 16:35:57|    human|https://ko.wikipe...|                  토론:정직한 사람들|2024-11-12 15:25:29|\n",
      "|    Braveattack|    human|https://ko.wikipe...|            신각|2024-11-07 16:35:57|    human|https://ko.wikipe...|              토론:이스마일 하즈올루|2024-11-12 15:25:45|\n",
      "|    Braveattack|    human|https://ko.wikipe...|            신각|2024-11-07 16:35:57|    human|https://ko.wikipe...|                  토론:이무라 가즈키|2024-11-12 15:25:47|\n",
      "|EmpressHarmonic|    human|https://commons.w...|Category:Tabelog|2024-11-07 16:35:54|    human|https://commons.w...|                Category:Prints o...|2024-11-12 15:24:20|\n",
      "|  Mr.Ibrahembot|      bot|https://www.wikid...|      Q131013053|2024-11-07 16:35:52|      bot|https://ar.wikipe...|                نقاش:جائزة لاس في...|2024-11-07 16:54:19|\n",
      "|  Mr.Ibrahembot|      bot|https://www.wikid...|      Q131013049|2024-11-07 16:35:53|      bot|https://ar.wikipe...|                نقاش:جائز�� لاس في...|2024-11-07 16:54:19|\n",
      "|  Mr.Ibrahembot|      bot|https://www.wikid...|      Q131013048|2024-11-07 16:35:54|      bot|https://ar.wikipe...|                نقاش:جائزة لاس في...|2024-11-07 16:54:19|\n",
      "+---------------+---------+--------------------+----------------+-------------------+---------+--------------------+------------------------------------+-------------------+\n",
      "only showing top 20 rows\n",
      "\n"
     ]
    },
    {
     "name": "stderr",
     "output_type": "stream",
     "text": [
      "                                                                                \r"
     ]
    },
    {
     "name": "stdout",
     "output_type": "stream",
     "text": [
      "-------------------------------------------\n",
      "Batch: 29\n",
      "-------------------------------------------\n",
      "+-----------+---------+--------------------+--------------------+-------------------+---------+--------------------+--------------------+-------------------+\n",
      "|  user_name|user_type|                 uri|               title|          timestamp|user_type|                 uri|               title|          timestamp|\n",
      "+-----------+---------+--------------------+--------------------+-------------------+---------+--------------------+--------------------+-------------------+\n",
      "|     EyeBot|    human|https://ru.wikipe...|      Вирусы Коксаки|2024-11-07 16:35:56|    human|https://ru.wikipe...|Обсуждение участн...|2024-11-07 16:51:01|\n",
      "|     EyeBot|    human|https://ru.wikipe...|      Вирусы Коксаки|2024-11-07 16:35:56|    human|https://ru.wikipe...|Обсуждение участн...|2024-11-12 15:23:59|\n",
      "|     EyeBot|    human|https://ru.wikipe...|      Вирусы Коксаки|2024-11-07 16:35:56|    human|https://ru.wikipe...|Обсуждение участн...|2024-11-12 15:24:44|\n",
      "|Warburg1866|    human|https://commons.w...|Category:Sara Kebbon|2024-11-07 16:40:27|    human|https://commons.w...|      Category:Ogbia|2024-11-07 16:51:06|\n",
      "|   AnRo0002|    human|https://commons.w...|File:AB Stiftskir...|2024-11-07 16:40:28|    human|https://commons.w...|Category:Monument...|2024-11-07 16:52:14|\n",
      "| Deftwomb23|    human|https://www.wikid...|          Q125861911|2024-11-07 16:40:28|    human|https://www.wikid...|          Q131013914|2024-11-07 16:53:44|\n",
      "| Deftwomb23|    human|https://www.wikid...|          Q125861911|2024-11-07 16:40:28|    human|https://www.wikid...|          Q131013915|2024-11-07 16:53:44|\n",
      "| Deftwomb23|    human|https://www.wikid...|          Q125861911|2024-11-07 16:40:28|    human|https://www.wikid...|          Q131013917|2024-11-07 16:53:45|\n",
      "| Deftwomb23|    human|https://www.wikid...|          Q125861911|2024-11-07 16:40:28|    human|https://www.wikid...|          Q131013918|2024-11-07 16:53:46|\n",
      "| Deftwomb23|    human|https://www.wikid...|          Q125861911|2024-11-07 16:40:28|    human|https://www.wikid...|          Q131013920|2024-11-07 16:53:46|\n",
      "| Deftwomb23|    human|https://www.wikid...|          Q125861911|2024-11-07 16:40:28|    human|https://www.wikid...|          Q131013921|2024-11-07 16:53:47|\n",
      "| Deftwomb23|    human|https://www.wikid...|          Q125861911|2024-11-07 16:40:28|    human|https://www.wikid...|          Q131013923|2024-11-07 16:53:48|\n",
      "| Deftwomb23|    human|https://www.wikid...|          Q125861911|2024-11-07 16:40:28|    human|https://www.wikid...|          Q131013924|2024-11-07 16:53:48|\n",
      "| Deftwomb23|    human|https://www.wikid...|          Q125861911|2024-11-07 16:40:28|    human|https://www.wikid...|          Q131013926|2024-11-07 16:53:49|\n",
      "| Deftwomb23|    human|https://www.wikid...|          Q125861911|2024-11-07 16:40:28|    human|https://www.wikid...|          Q131013927|2024-11-07 16:53:49|\n",
      "| Deftwomb23|    human|https://www.wikid...|          Q125861911|2024-11-07 16:40:28|    human|https://www.wikid...|          Q131013929|2024-11-07 16:53:50|\n",
      "| Deftwomb23|    human|https://www.wikid...|          Q125861911|2024-11-07 16:40:28|    human|https://www.wikid...|          Q131013930|2024-11-07 16:53:51|\n",
      "| Deftwomb23|    human|https://www.wikid...|          Q125861911|2024-11-07 16:40:28|    human|https://www.wikid...|          Q131013932|2024-11-07 16:53:51|\n",
      "| Deftwomb23|    human|https://www.wikid...|          Q125861911|2024-11-07 16:40:28|    human|https://www.wikid...|          Q131013933|2024-11-07 16:53:52|\n",
      "| Deftwomb23|    human|https://www.wikid...|          Q125861911|2024-11-07 16:40:28|    human|https://www.wikid...|          Q131013935|2024-11-07 16:53:53|\n",
      "+-----------+---------+--------------------+--------------------+-------------------+---------+--------------------+--------------------+-------------------+\n",
      "only showing top 20 rows\n",
      "\n"
     ]
    },
    {
     "name": "stderr",
     "output_type": "stream",
     "text": [
      "                                                                                \r"
     ]
    },
    {
     "name": "stdout",
     "output_type": "stream",
     "text": [
      "-------------------------------------------\n",
      "Batch: 30\n",
      "-------------------------------------------\n",
      "+--------------------+---------+--------------------+--------------------+-------------------+---------+--------------------+--------------------+-------------------+\n",
      "|           user_name|user_type|                 uri|               title|          timestamp|user_type|                 uri|               title|          timestamp|\n",
      "+--------------------+---------+--------------------+--------------------+-------------------+---------+--------------------+--------------------+-------------------+\n",
      "|Noah.Albert.ZivMilFü|    human|https://commons.w...|File:Mélanie Berg...|2024-11-07 16:40:34|    human|https://commons.w...|Category:People w...|2024-11-07 16:50:08|\n",
      "|             Ardfern|    human|https://commons.w...|File:Emirates (EX...|2024-11-07 16:40:31|    human|https://commons.w...|Category:Boeing 7...|2024-11-07 16:49:42|\n",
      "|             Ardfern|    human|https://commons.w...|File:Emirates (EX...|2024-11-07 16:40:31|    human|https://commons.w...|Category:Boeing 7...|2024-11-07 16:51:03|\n",
      "|          QBA-II-bot|      bot|https://ru.wikipe...|Википедия:Запросы...|2024-11-07 16:40:32|    human|https://ru.wikipe...|Обсуждение участн...|2024-11-07 16:53:58|\n",
      "|          QBA-II-bot|      bot|https://ru.wikipe...|Википедия:Запросы...|2024-11-07 16:40:32|    human|https://ru.wikipe...|Обсуждение участн...|2024-11-12 15:24:19|\n",
      "|            Ясамойла|    human|https://www.wikid...|           Q95611204|2024-11-07 16:40:32|    human|https://be-tarask...|Катэгорыя:Драматы...|2024-11-07 16:49:37|\n",
      "|            Ясамойла|    human|https://www.wikid...|           Q95611204|2024-11-07 16:40:32|    human|https://be-tarask...|Катэгорыя:Японскі...|2024-11-07 16:51:59|\n",
      "|            Ясамойла|    human|https://www.wikid...|           Q95611204|2024-11-07 16:40:32|    human|https://be-tarask...|Катэгорыя:Гістары...|2024-11-07 16:55:08|\n",
      "+--------------------+---------+--------------------+--------------------+-------------------+---------+--------------------+--------------------+-------------------+\n",
      "\n"
     ]
    },
    {
     "name": "stderr",
     "output_type": "stream",
     "text": [
      "                                                                                \r"
     ]
    },
    {
     "name": "stdout",
     "output_type": "stream",
     "text": [
      "-------------------------------------------\n",
      "Batch: 31\n",
      "-------------------------------------------\n",
      "+------------------+---------+--------------------+--------------------+-------------------+---------+--------------------+--------------------+-------------------+\n",
      "|         user_name|user_type|                 uri|               title|          timestamp|user_type|                 uri|               title|          timestamp|\n",
      "+------------------+---------+--------------------+--------------------+-------------------+---------+--------------------+--------------------+-------------------+\n",
      "|               OJJ|    human|https://cs.wikipe...|Tensor Processing...|2024-11-07 16:40:40|    human|https://cs.wikipe...|Diskuse s wikiped...|2024-11-07 16:52:40|\n",
      "|         Andrywhyd|    human|https://id.wikipe...|Georges-Kévin Nko...|2024-11-07 16:40:36|    human|https://id.wikipe...| Aschraf El Mahdioui|2024-11-07 16:55:10|\n",
      "|      Comecaballos|    human|https://es.wikipe...|Rodolfo De la Colina|2024-11-07 16:40:39|    human|https://es.wikipe...|Categoría:Capitan...|2024-11-07 16:53:25|\n",
      "|        ウィ貴公子|    human|https://www.wikid...|          Q131013298|2024-11-07 16:40:35|    human|https://commons.w...|Category:Shibuya ...|2024-11-07 16:53:42|\n",
      "|InternetArchiveBot|      bot|https://es.wikipe...|        Río Kentucky|2024-11-07 16:40:36|      bot|https://ckb.wikip...|وتووێژ:محەممەدڕەز...|2024-11-07 16:52:12|\n",
      "|     Mr.Ibrahembot|      bot|https://www.wikid...|          Q131013376|2024-11-07 16:40:37|      bot|https://ar.wikipe...|نقاش:جائزة لاس في...|2024-11-07 16:54:19|\n",
      "|     Mr.Ibrahembot|      bot|https://www.wikid...|          Q131013369|2024-11-07 16:40:38|      bot|https://ar.wikipe...|نقاش:جائزة لاس في...|2024-11-07 16:54:19|\n",
      "|     Mr.Ibrahembot|      bot|https://www.wikid...|          Q131013368|2024-11-07 16:40:39|      bot|https://ar.wikipe...|نقاش:جائزة لاس في...|2024-11-07 16:54:19|\n",
      "|     Mr.Ibrahembot|      bot|https://www.wikid...|          Q131013367|2024-11-07 16:40:39|      bot|https://ar.wikipe...|نقاش:جائزة لاس في...|2024-11-07 16:54:19|\n",
      "|     Mr.Ibrahembot|      bot|https://www.wikid...|          Q131013366|2024-11-07 16:40:40|      bot|https://ar.wikipe...|نقاش:جائزة لاس في...|2024-11-07 16:54:19|\n",
      "|             DE8AH|    human|https://fr.wiktio...|       apparigliarle|2024-11-07 16:40:36|    human|https://fr.wiktio...|Modèle:anagrammes...|2024-11-07 16:49:30|\n",
      "|             DE8AH|    human|https://fr.wiktio...|       apparigliarle|2024-11-07 16:40:36|    human|https://fr.wiktio...|Modèle:anagrammes...|2024-11-07 16:49:59|\n",
      "|             DE8AH|    human|https://fr.wiktio...|       apparigliarle|2024-11-07 16:40:36|    human|https://fr.wiktio...|Modèle:anagrammes...|2024-11-07 16:51:23|\n",
      "|             DE8AH|    human|https://fr.wiktio...|       apparigliarle|2024-11-07 16:40:36|    human|https://fr.wiktio...|Modèle:anagrammes...|2024-11-07 16:51:37|\n",
      "|             DE8AH|    human|https://fr.wiktio...|       apparigliarle|2024-11-07 16:40:36|    human|https://fr.wiktio...|Modèle:anagrammes...|2024-11-07 16:52:20|\n",
      "|             DE8AH|    human|https://fr.wiktio...|       apparigliarle|2024-11-07 16:40:36|    human|https://fr.wiktio...|Modèle:anagrammes...|2024-11-07 16:52:48|\n",
      "|             DE8AH|    human|https://fr.wiktio...|       apparigliarle|2024-11-07 16:40:36|    human|https://fr.wiktio...|Modèle:anagrammes...|2024-11-07 16:55:16|\n",
      "|             DE8AH|    human|https://fr.wiktio...|       apparigliarle|2024-11-07 16:40:36|    human|https://fr.wiktio...|Modèle:anagrammes...|2024-11-12 15:23:11|\n",
      "+------------------+---------+--------------------+--------------------+-------------------+---------+--------------------+--------------------+-------------------+\n",
      "\n"
     ]
    },
    {
     "name": "stderr",
     "output_type": "stream",
     "text": [
      "                                                                                \r"
     ]
    },
    {
     "name": "stdout",
     "output_type": "stream",
     "text": [
      "-------------------------------------------\n",
      "Batch: 32\n",
      "-------------------------------------------\n",
      "+--------------------+---------+--------------------+--------------------+-------------------+---------+--------------------+--------------------+-------------------+\n",
      "|           user_name|user_type|                 uri|               title|          timestamp|user_type|                 uri|               title|          timestamp|\n",
      "+--------------------+---------+--------------------+--------------------+-------------------+---------+--------------------+--------------------+-------------------+\n",
      "|Noah.Albert.ZivMilFü|    human|https://commons.w...|File:Mélanie Berg...|2024-11-07 16:40:45|    human|https://commons.w...|Category:People w...|2024-11-07 16:50:08|\n",
      "|          ウィ貴公子|    human|https://www.wikid...|          Q131013298|2024-11-07 16:40:45|    human|https://commons.w...|Category:Shibuya ...|2024-11-07 16:53:42|\n",
      "|     EmpressHarmonic|    human|https://commons.w...|Category:Haru no ...|2024-11-07 16:40:45|    human|https://commons.w...|Category:Prints o...|2024-11-12 15:24:20|\n",
      "|       Mr.Ibrahembot|      bot|https://www.wikid...|          Q131013363|2024-11-07 16:40:41|      bot|https://ar.wikipe...|نقاش:جائزة لاس في...|2024-11-07 16:54:19|\n",
      "|       Mr.Ibrahembot|      bot|https://www.wikid...|          Q131013361|2024-11-07 16:40:42|      bot|https://ar.wikipe...|نقاش:جائزة لاس في...|2024-11-07 16:54:19|\n",
      "|       Mr.Ibrahembot|      bot|https://www.wikid...|          Q131013360|2024-11-07 16:40:42|      bot|https://ar.wikipe...|نقاش:جائزة لاس في...|2024-11-07 16:54:19|\n",
      "|       Mr.Ibrahembot|      bot|https://www.wikid...|          Q131013359|2024-11-07 16:40:43|      bot|https://ar.wikipe...|نقاش:جائزة لاس في...|2024-11-07 16:54:19|\n",
      "|       Mr.Ibrahembot|      bot|https://www.wikid...|          Q131013357|2024-11-07 16:40:44|      bot|https://ar.wikipe...|نقاش:جائزة لاس في...|2024-11-07 16:54:19|\n",
      "|       Mr.Ibrahembot|      bot|https://www.wikid...|          Q131013356|2024-11-07 16:40:45|      bot|https://ar.wikipe...|نقاش:جائزة لاس في...|2024-11-07 16:54:19|\n",
      "|       Mr.Ibrahembot|      bot|https://www.wikid...|          Q131013355|2024-11-07 16:40:45|      bot|https://ar.wikipe...|نقاش:جائزة لاس في...|2024-11-07 16:54:19|\n",
      "|       Mr.Ibrahembot|      bot|https://www.wikid...|          Q131013350|2024-11-07 16:40:46|      bot|https://ar.wikipe...|نقاش:جائزة لاس في...|2024-11-07 16:54:19|\n",
      "|              高浩哲|    human|https://zh.wikive...|            港都客運|2024-11-07 16:40:45|    human|https://commons.w...|Category:Orange B...|2024-11-07 16:49:41|\n",
      "|              高浩哲|    human|https://zh.wikive...|            港都客運|2024-11-07 16:40:45|    human|https://commons.w...|Category:710 (Ora...|2024-11-07 16:51:56|\n",
      "+--------------------+---------+--------------------+--------------------+-------------------+---------+--------------------+--------------------+-------------------+\n",
      "\n"
     ]
    },
    {
     "name": "stderr",
     "output_type": "stream",
     "text": [
      "                                                                                \r"
     ]
    },
    {
     "name": "stdout",
     "output_type": "stream",
     "text": [
      "-------------------------------------------\n",
      "Batch: 33\n",
      "-------------------------------------------\n",
      "+------------------+---------+--------------------+--------------------+-------------------+---------+--------------------+--------------------+-------------------+\n",
      "|         user_name|user_type|                 uri|               title|          timestamp|user_type|                 uri|               title|          timestamp|\n",
      "+------------------+---------+--------------------+--------------------+-------------------+---------+--------------------+--------------------+-------------------+\n",
      "|InternetArchiveBot|      bot|https://it.wikipe...|Karl Michael von ...|2024-11-07 16:40:49|      bot|https://ckb.wikip...|وتووێژ:محەممەدڕەز...|2024-11-07 16:52:12|\n",
      "|     Mr.Ibrahembot|      bot|https://www.wikid...|          Q131013348|2024-11-07 16:40:47|      bot|https://ar.wikipe...|نقاش:جائزة لاس في...|2024-11-07 16:54:19|\n",
      "|     Mr.Ibrahembot|      bot|https://www.wikid...|          Q131013343|2024-11-07 16:40:48|      bot|https://ar.wikipe...|نقاش:جائزة لاس في...|2024-11-07 16:54:19|\n",
      "|     Mr.Ibrahembot|      bot|https://www.wikid...|          Q131013342|2024-11-07 16:40:48|      bot|https://ar.wikipe...|نقاش:جائزة لاس في...|2024-11-07 16:54:19|\n",
      "|     Mr.Ibrahembot|      bot|https://www.wikid...|          Q131013339|2024-11-07 16:40:49|      bot|https://ar.wikipe...|نقاش:جائزة لاس في...|2024-11-07 16:54:19|\n",
      "|     Mr.Ibrahembot|      bot|https://www.wikid...|          Q131013338|2024-11-07 16:40:50|      bot|https://ar.wikipe...|نقاش:جائزة لاس في...|2024-11-07 16:54:19|\n",
      "|     Mr.Ibrahembot|      bot|https://www.wikid...|          Q131013337|2024-11-07 16:40:50|      bot|https://ar.wikipe...|نقاش:جائزة لاس في...|2024-11-07 16:54:19|\n",
      "|     Mr.Ibrahembot|      bot|https://www.wikid...|          Q131013336|2024-11-07 16:40:51|      bot|https://ar.wikipe...|نقاش:جائزة لاس في...|2024-11-07 16:54:19|\n",
      "|     Mr.Ibrahembot|      bot|https://www.wikid...|          Q131013335|2024-11-07 16:40:52|      bot|https://ar.wikipe...|نقاش:جائزة لاس في...|2024-11-07 16:54:19|\n",
      "|     Mr.Ibrahembot|      bot|https://www.wikid...|          Q131013334|2024-11-07 16:40:52|      bot|https://ar.wikipe...|نقاش:جائزة لاس في...|2024-11-07 16:54:19|\n",
      "|        Mateus2019|    human|https://commons.w...|            Anröchte|2024-11-07 16:40:46|    human|https://commons.w...|Category:Gallery ...|2024-11-07 16:50:19|\n",
      "|              YBot|      bot|https://tr.wikipe...|        Bence Hatice|2024-11-07 16:40:47|      bot|https://tr.wikipe...|Kullanıcı mesaj:B...|2024-11-12 15:24:33|\n",
      "+------------------+---------+--------------------+--------------------+-------------------+---------+--------------------+--------------------+-------------------+\n",
      "\n"
     ]
    },
    {
     "name": "stderr",
     "output_type": "stream",
     "text": [
      "                                                                                \r"
     ]
    },
    {
     "name": "stdout",
     "output_type": "stream",
     "text": [
      "-------------------------------------------\n",
      "Batch: 34\n",
      "-------------------------------------------\n",
      "+------------------+---------+--------------------+--------------------+-------------------+---------+--------------------+--------------------+-------------------+\n",
      "|         user_name|user_type|                 uri|               title|          timestamp|user_type|                 uri|               title|          timestamp|\n",
      "+------------------+---------+--------------------+--------------------+-------------------+---------+--------------------+--------------------+-------------------+\n",
      "|InternetArchiveBot|      bot|https://tt.wikipe...|           Пальейруш|2024-11-07 16:40:55|      bot|https://ckb.wikip...|وتووێژ:محەممەدڕەز...|2024-11-07 16:52:12|\n",
      "|     Mr.Ibrahembot|      bot|https://www.wikid...|          Q131013333|2024-11-07 16:40:53|      bot|https://ar.wikipe...|نقاش:جائزة لاس في...|2024-11-07 16:54:19|\n",
      "|     Mr.Ibrahembot|      bot|https://www.wikid...|          Q131013332|2024-11-07 16:40:53|      bot|https://ar.wikipe...|نقاش:جائزة لاس في...|2024-11-07 16:54:19|\n",
      "|     Mr.Ibrahembot|      bot|https://www.wikid...|          Q131013328|2024-11-07 16:40:54|      bot|https://ar.wikipe...|نقاش:جائزة لاس في...|2024-11-07 16:54:19|\n",
      "|     Mr.Ibrahembot|      bot|https://www.wikid...|          Q131013326|2024-11-07 16:40:55|      bot|https://ar.wikipe...|نقاش:جائزة لاس في...|2024-11-07 16:54:19|\n",
      "|     Mr.Ibrahembot|      bot|https://www.wikid...|          Q131013323|2024-11-07 16:40:56|      bot|https://ar.wikipe...|نقاش:جائزة لاس في...|2024-11-07 16:54:19|\n",
      "|     Mr.Ibrahembot|      bot|https://www.wikid...|          Q131013322|2024-11-07 16:40:56|      bot|https://ar.wikipe...|نقاش:جائزة لاس في...|2024-11-07 16:54:19|\n",
      "|     Mr.Ibrahembot|      bot|https://www.wikid...|          Q131013321|2024-11-07 16:40:57|      bot|https://ar.wikipe...|نقاش:جائزة لاس في...|2024-11-07 16:54:19|\n",
      "|     Mr.Ibrahembot|      bot|https://www.wikid...|          Q131013319|2024-11-07 16:40:58|      bot|https://ar.wikipe...|نقاش:جائزة لاس في...|2024-11-07 16:54:19|\n",
      "|     Mr.Ibrahembot|      bot|https://www.wikid...|          Q131013318|2024-11-07 16:40:58|      bot|https://ar.wikipe...|نقاش:جائزة لاس في...|2024-11-07 16:54:19|\n",
      "|            Namiba|    human|https://en.wikipe...|2010 NIRSA Nation...|2024-11-07 16:40:53|    human|https://en.wikipe...|Category:Soccer c...|2024-11-07 16:50:29|\n",
      "|            Namiba|    human|https://en.wikipe...|2010 NIRSA Nation...|2024-11-07 16:40:53|    human|https://en.wikipe...|Category:Sports c...|2024-11-07 16:51:05|\n",
      "|            Namiba|    human|https://en.wikipe...|2010 NIRSA Nation...|2024-11-07 16:40:53|    human|https://en.wikipe...|Category:College ...|2024-11-12 15:24:07|\n",
      "+------------------+---------+--------------------+--------------------+-------------------+---------+--------------------+--------------------+-------------------+\n",
      "\n"
     ]
    },
    {
     "name": "stderr",
     "output_type": "stream",
     "text": [
      "                                                                                \r"
     ]
    },
    {
     "name": "stdout",
     "output_type": "stream",
     "text": [
      "-------------------------------------------\n",
      "Batch: 35\n",
      "-------------------------------------------\n",
      "+--------------+---------+--------------------+---------------+-------------------+---------+--------------------+--------------------+-------------------+\n",
      "|     user_name|user_type|                 uri|          title|          timestamp|user_type|                 uri|               title|          timestamp|\n",
      "+--------------+---------+--------------------+---------------+-------------------+---------+--------------------+--------------------+-------------------+\n",
      "|       Voârlou|    human|https://en.wiktio...|           roge|2024-11-07 16:40:58|    human|https://en.wiktio...|             dainsie|2024-11-07 16:52:27|\n",
      "|       Voârlou|    human|https://en.wiktio...|           roge|2024-11-07 16:40:58|    human|https://en.wiktio...|             pyeuvre|2024-11-07 16:54:29|\n",
      "|    Spanneraol|    human|https://en.wikipe...|   Connor Scott|2024-11-07 16:41:00|    human|https://en.wikipe...|Talk:Yunior Severino|2024-11-07 16:55:03|\n",
      "|Làm Việc Thiện|    human|https://vi.wikiqu...|Hoàng Hoa Trung|2024-11-07 16:41:02|    human|https://vi.wikipe...|Thảo luận Thành v...|2024-11-07 16:50:57|\n",
      "|Làm Việc Thiện|    human|https://vi.wikiqu...|Hoàng Hoa Trung|2024-11-07 16:41:02|    human|https://vi.wikipe...|Thảo luận Thành v...|2024-11-07 16:51:51|\n",
      "| Mr.Ibrahembot|      bot|https://www.wikid...|     Q131013313|2024-11-07 16:40:59|      bot|https://ar.wikipe...|نقاش:جائزة لاس في...|2024-11-07 16:54:19|\n",
      "| Mr.Ibrahembot|      bot|https://www.wikid...|     Q131013312|2024-11-07 16:41:00|      bot|https://ar.wikipe...|نقاش:جائزة لاس في...|2024-11-07 16:54:19|\n",
      "| Mr.Ibrahembot|      bot|https://www.wikid...|     Q131013305|2024-11-07 16:41:01|      bot|https://ar.wikipe...|نقاش:جائزة لاس في...|2024-11-07 16:54:19|\n",
      "| Mr.Ibrahembot|      bot|https://www.wikid...|     Q131013302|2024-11-07 16:41:02|      bot|https://ar.wikipe...|نقاش:جائزة لاس في...|2024-11-07 16:54:19|\n",
      "| Mr.Ibrahembot|      bot|https://www.wikid...|     Q131013301|2024-11-07 16:41:02|      bot|https://ar.wikipe...|نقاش:جائزة لاس في...|2024-11-07 16:54:19|\n",
      "| Mr.Ibrahembot|      bot|https://www.wikid...|     Q131013297|2024-11-07 16:41:03|      bot|https://ar.wikipe...|نقاش:جائزة لاس في...|2024-11-07 16:54:19|\n",
      "| Mr.Ibrahembot|      bot|https://www.wikid...|     Q131013296|2024-11-07 16:41:04|      bot|https://ar.wikipe...|نقاش:جائزة لاس في...|2024-11-07 16:54:19|\n",
      "| Mr.Ibrahembot|      bot|https://www.wikid...|     Q131013292|2024-11-07 16:41:05|      bot|https://ar.wikipe...|نقاش:جائزة لاس في...|2024-11-07 16:54:19|\n",
      "| Mr.Ibrahembot|      bot|https://www.wikid...|     Q131013291|2024-11-07 16:41:05|      bot|https://ar.wikipe...|نقاش:جائزة لاس في...|2024-11-07 16:54:19|\n",
      "|       Alifono|    human|https://eo.wikipe...|  Zsuzsa Polgár|2024-11-07 16:40:55|    human|https://eo.wikipe...|Kondamno pro kont...|2024-11-07 16:49:26|\n",
      "|         DE8AH|    human|https://fr.wiktio...|    arrubinarle|2024-11-07 16:41:05|    human|https://fr.wiktio...|Modèle:anagrammes...|2024-11-07 16:49:30|\n",
      "|         DE8AH|    human|https://fr.wiktio...|    arrubinarle|2024-11-07 16:41:05|    human|https://fr.wiktio...|Modèle:anagrammes...|2024-11-07 16:49:59|\n",
      "|         DE8AH|    human|https://fr.wiktio...|    arrubinarle|2024-11-07 16:41:05|    human|https://fr.wiktio...|Modèle:anagrammes...|2024-11-07 16:51:23|\n",
      "|         DE8AH|    human|https://fr.wiktio...|    arrubinarle|2024-11-07 16:41:05|    human|https://fr.wiktio...|Modèle:anagrammes...|2024-11-07 16:51:37|\n",
      "|         DE8AH|    human|https://fr.wiktio...|    arrubinarle|2024-11-07 16:41:05|    human|https://fr.wiktio...|Modèle:anagrammes...|2024-11-07 16:52:20|\n",
      "+--------------+---------+--------------------+---------------+-------------------+---------+--------------------+--------------------+-------------------+\n",
      "only showing top 20 rows\n",
      "\n"
     ]
    },
    {
     "name": "stderr",
     "output_type": "stream",
     "text": [
      "                                                                                \r"
     ]
    },
    {
     "name": "stdout",
     "output_type": "stream",
     "text": [
      "-------------------------------------------\n",
      "Batch: 36\n",
      "-------------------------------------------\n",
      "+-------------+---------+--------------------+-----------------+-------------------+---------+--------------------+--------------------+-------------------+\n",
      "|    user_name|user_type|                 uri|            title|          timestamp|user_type|                 uri|               title|          timestamp|\n",
      "+-------------+---------+--------------------+-----------------+-------------------+---------+--------------------+--------------------+-------------------+\n",
      "|          OJJ|    human|https://cs.wikipe...|Dji Osmo Pocket 3|2024-11-07 16:41:07|    human|https://cs.wikipe...|Diskuse s wikiped...|2024-11-07 16:52:40|\n",
      "|   ウィ貴公子|    human|https://www.wikid...|       Q131013298|2024-11-07 16:41:06|    human|https://commons.w...|Category:Shibuya ...|2024-11-07 16:53:42|\n",
      "|Mr.Ibrahembot|      bot|https://www.wikid...|       Q131013286|2024-11-07 16:41:06|      bot|https://ar.wikipe...|نقاش:جائزة لاس في...|2024-11-07 16:54:19|\n",
      "|Mr.Ibrahembot|      bot|https://www.wikid...|       Q131013282|2024-11-07 16:41:07|      bot|https://ar.wikipe...|نقاش:جائزة لاس في...|2024-11-07 16:54:19|\n",
      "|Mr.Ibrahembot|      bot|https://www.wikid...|       Q131013280|2024-11-07 16:41:08|      bot|https://ar.wikipe...|نقاش:جائزة لاس في...|2024-11-07 16:54:19|\n",
      "|Mr.Ibrahembot|      bot|https://www.wikid...|       Q131013279|2024-11-07 16:41:08|      bot|https://ar.wikipe...|نقاش:جائزة لاس في...|2024-11-07 16:54:19|\n",
      "|Mr.Ibrahembot|      bot|https://www.wikid...|       Q131013275|2024-11-07 16:41:09|      bot|https://ar.wikipe...|نقاش:جائزة لاس في...|2024-11-07 16:54:19|\n",
      "|Mr.Ibrahembot|      bot|https://www.wikid...|       Q131013270|2024-11-07 16:41:10|      bot|https://ar.wikipe...|نقاش:جائزة لاس في...|2024-11-07 16:54:19|\n",
      "|Mr.Ibrahembot|      bot|https://www.wikid...|       Q131013268|2024-11-07 16:41:11|      bot|https://ar.wikipe...|نقاش:جائزة لاس في...|2024-11-07 16:54:19|\n",
      "|Mr.Ibrahembot|      bot|https://www.wikid...|       Q131013267|2024-11-07 16:41:11|      bot|https://ar.wikipe...|نقاش:جائزة لاس في...|2024-11-07 16:54:19|\n",
      "+-------------+---------+--------------------+-----------------+-------------------+---------+--------------------+--------------------+-------------------+\n",
      "\n"
     ]
    },
    {
     "name": "stderr",
     "output_type": "stream",
     "text": [
      "                                                                                \r"
     ]
    },
    {
     "name": "stdout",
     "output_type": "stream",
     "text": [
      "-------------------------------------------\n",
      "Batch: 37\n",
      "-------------------------------------------\n",
      "+--------------+---------+--------------------+--------------------+-------------------+---------+--------------------+--------------------+-------------------+\n",
      "|     user_name|user_type|                 uri|               title|          timestamp|user_type|                 uri|               title|          timestamp|\n",
      "+--------------+---------+--------------------+--------------------+-------------------+---------+--------------------+--------------------+-------------------+\n",
      "|        EyeBot|    human|https://ru.wikipe...|              Fignya|2024-11-07 16:41:10|    human|https://ru.wikipe...|Обсуждение участн...|2024-11-07 16:51:01|\n",
      "|        EyeBot|    human|https://ru.wikipe...|              Fignya|2024-11-07 16:41:10|    human|https://ru.wikipe...|Обсуждение участн...|2024-11-12 15:23:59|\n",
      "|        EyeBot|    human|https://ru.wikipe...|              Fignya|2024-11-07 16:41:10|    human|https://ru.wikipe...|Обсуждение участн...|2024-11-12 15:24:44|\n",
      "|LearnKnowGive1|    human|https://www.wikid...|          Q112456288|2024-11-07 16:41:17|    human|https://www.wikid...|          Q131013740|2024-11-07 16:49:12|\n",
      "| Mr.Ibrahembot|      bot|https://www.wikid...|          Q131013266|2024-11-07 16:41:12|      bot|https://ar.wikipe...|نقاش:جائزة لاس في...|2024-11-07 16:54:19|\n",
      "| Mr.Ibrahembot|      bot|https://www.wikid...|          Q131013263|2024-11-07 16:41:13|      bot|https://ar.wikipe...|نقاش:جائزة لاس في...|2024-11-07 16:54:19|\n",
      "| Mr.Ibrahembot|      bot|https://www.wikid...|          Q131013261|2024-11-07 16:41:13|      bot|https://ar.wikipe...|نقاش:جائزة لاس في...|2024-11-07 16:54:19|\n",
      "| Mr.Ibrahembot|      bot|https://www.wikid...|          Q131013260|2024-11-07 16:41:14|      bot|https://ar.wikipe...|نقاش:جائزة لاس في...|2024-11-07 16:54:19|\n",
      "| Mr.Ibrahembot|      bot|https://www.wikid...|          Q131013253|2024-11-07 16:41:15|      bot|https://ar.wikipe...|نقاش:جائزة لاس في...|2024-11-07 16:54:19|\n",
      "| Mr.Ibrahembot|      bot|https://www.wikid...|          Q131013252|2024-11-07 16:41:16|      bot|https://ar.wikipe...|نقاش:جائزة لاس في...|2024-11-07 16:54:19|\n",
      "| Mr.Ibrahembot|      bot|https://www.wikid...|          Q131013251|2024-11-07 16:41:16|      bot|https://ar.wikipe...|نقاش:جائزة لاس في...|2024-11-07 16:54:19|\n",
      "| Mr.Ibrahembot|      bot|https://www.wikid...|          Q131013246|2024-11-07 16:41:17|      bot|https://ar.wikipe...|نقاش:جائزة لاس في...|2024-11-07 16:54:19|\n",
      "|    M2k~dewiki|    human|https://www.wikid...|            Q5157565|2024-11-07 16:41:14|    human|https://www.wikid...|          Q131013834|2024-11-07 16:51:26|\n",
      "|    M2k~dewiki|    human|https://www.wikid...|            Q5157565|2024-11-07 16:41:14|    human|https://www.wikid...|          Q131013889|2024-11-07 16:52:59|\n",
      "|        MarSaf|    human|https://commons.w...|File:Казань. Тран...|2024-11-07 16:41:13|    human|https://commons.w...|Category:Ametyevs...|2024-11-07 16:49:01|\n",
      "|        Abxbay|    human|https://commons.w...|Category:Evelio (...|2024-11-07 16:41:16|    human|https://commons.w...|Category:Everardo...|2024-11-07 16:50:30|\n",
      "|        Abxbay|    human|https://commons.w...|Category:Evelio (...|2024-11-07 16:41:16|    human|https://commons.w...|Category:Everardu...|2024-11-07 16:52:04|\n",
      "|        Abxbay|    human|https://commons.w...|Category:Evelio (...|2024-11-07 16:41:16|    human|https://commons.w...|Category:Everart ...|2024-11-07 16:53:31|\n",
      "|      Jaba1977|    human|https://ka.wikipe...|   გირესუნის მუზეუმი|2024-11-07 16:41:16|    human|https://ka.wikipe...|ეფესოს არქეოლოგიუ...|2024-11-07 16:52:15|\n",
      "|        Namiba|    human|https://en.wikipe...|2011 NIRSA Nation...|2024-11-07 16:41:12|    human|https://en.wikipe...|Category:Soccer c...|2024-11-07 16:50:29|\n",
      "+--------------+---------+--------------------+--------------------+-------------------+---------+--------------------+--------------------+-------------------+\n",
      "only showing top 20 rows\n",
      "\n"
     ]
    },
    {
     "name": "stderr",
     "output_type": "stream",
     "text": [
      "                                                                                \r"
     ]
    },
    {
     "name": "stdout",
     "output_type": "stream",
     "text": [
      "-------------------------------------------\n",
      "Batch: 38\n",
      "-------------------------------------------\n",
      "+--------------+---------+--------------------+--------------------+-------------------+---------+--------------------+-----------------------+-------------------+\n",
      "|     user_name|user_type|                 uri|               title|          timestamp|user_type|                 uri|                  title|          timestamp|\n",
      "+--------------+---------+--------------------+--------------------+-------------------+---------+--------------------+-----------------------+-------------------+\n",
      "|LearnKnowGive1|    human|https://www.wikid...|          Q112456288|2024-11-07 16:41:20|    human|https://www.wikid...|             Q131013740|2024-11-07 16:49:12|\n",
      "|LearnKnowGive1|    human|https://www.wikid...|          Q112456288|2024-11-07 16:41:22|    human|https://www.wikid...|             Q131013740|2024-11-07 16:49:12|\n",
      "|LearnKnowGive1|    human|https://www.wikid...|          Q112456288|2024-11-07 16:41:23|    human|https://www.wikid...|             Q131013740|2024-11-07 16:49:12|\n",
      "|Làm Việc Thiện|    human|https://vi.wikiqu...|     Hoàng Hoa Trung|2024-11-07 16:41:22|    human|https://vi.wikipe...|   Thảo luận Thành v...|2024-11-07 16:50:57|\n",
      "|Làm Việc Thiện|    human|https://vi.wikiqu...|     Hoàng Hoa Trung|2024-11-07 16:41:22|    human|https://vi.wikipe...|   Thảo luận Thành v...|2024-11-07 16:51:51|\n",
      "|       Hyméros|    human|https://fr.wikipe...|          Ferre Gola|2024-11-07 16:41:20|    human|https://commons.w...|   Commons:Deletion ...|2024-11-07 16:52:41|\n",
      "|    ウィ貴公子|    human|https://www.wikid...|          Q131013298|2024-11-07 16:41:22|    human|https://commons.w...|   Category:Shibuya ...|2024-11-07 16:53:42|\n",
      "| Mr.Ibrahembot|      bot|https://www.wikid...|          Q131013243|2024-11-07 16:41:18|      bot|https://ar.wikipe...|   نقاش:جائزة لاس في...|2024-11-07 16:54:19|\n",
      "| Mr.Ibrahembot|      bot|https://www.wikid...|          Q131013242|2024-11-07 16:41:18|      bot|https://ar.wikipe...|   نقاش:جائزة لاس في...|2024-11-07 16:54:19|\n",
      "| Mr.Ibrahembot|      bot|https://www.wikid...|          Q131013241|2024-11-07 16:41:19|      bot|https://ar.wikipe...|   نقاش:جائزة لاس في...|2024-11-07 16:54:19|\n",
      "| Mr.Ibrahembot|      bot|https://www.wikid...|          Q131013240|2024-11-07 16:41:20|      bot|https://ar.wikipe...|   نقاش:جائزة لاس في...|2024-11-07 16:54:19|\n",
      "| Mr.Ibrahembot|      bot|https://www.wikid...|          Q131013239|2024-11-07 16:41:20|      bot|https://ar.wikipe...|   نقاش:جائزة لاس في...|2024-11-07 16:54:19|\n",
      "| Mr.Ibrahembot|      bot|https://www.wikid...|          Q131013234|2024-11-07 16:41:21|      bot|https://ar.wikipe...|   نقاش:جائزة لاس في...|2024-11-07 16:54:19|\n",
      "| Mr.Ibrahembot|      bot|https://www.wikid...|          Q131013232|2024-11-07 16:41:22|      bot|https://ar.wikipe...|   نقاش:جائزة لاس في...|2024-11-07 16:54:19|\n",
      "| Mr.Ibrahembot|      bot|https://www.wikid...|          Q131013228|2024-11-07 16:41:23|      bot|https://ar.wikipe...|   نقاش:جائزة لاس في...|2024-11-07 16:54:19|\n",
      "| Mr.Ibrahembot|      bot|https://www.wikid...|          Q131013225|2024-11-07 16:41:23|      bot|https://ar.wikipe...|   نقاش:جائزة لاس في...|2024-11-07 16:54:19|\n",
      "| Mr.Ibrahembot|      bot|https://www.wikid...|          Q131013224|2024-11-07 16:41:24|      bot|https://ar.wikipe...|   نقاش:جائزة لاس في...|2024-11-07 16:54:19|\n",
      "|    Deborahjay|    human|https://commons.w...|Category:Ilana Ev...|2024-11-07 16:41:17|    human|https://commons.w...|   Category:Yifat (g...|2024-11-07 16:50:31|\n",
      "|   Craigysgafn|    human|https://cy.wikipe...|Categori:Pobl Fon...|2024-11-07 16:41:20|    human|https://cy.wikipe...|   Categori:Gwleidyd...|2024-11-07 16:49:47|\n",
      "|   BigBullfrog|    human|https://zh.wikipe...|   Category:阿根廷裔|2024-11-07 16:41:18|    human|https://zh.wikipe...|Category:拉丁美洲各国裔|2024-11-07 16:50:17|\n",
      "+--------------+---------+--------------------+--------------------+-------------------+---------+--------------------+-----------------------+-------------------+\n",
      "only showing top 20 rows\n",
      "\n"
     ]
    },
    {
     "name": "stderr",
     "output_type": "stream",
     "text": [
      "                                                                                \r"
     ]
    },
    {
     "name": "stdout",
     "output_type": "stream",
     "text": [
      "-------------------------------------------\n",
      "Batch: 39\n",
      "-------------------------------------------\n",
      "+--------------------+---------+--------------------+--------------------+-------------------+---------+--------------------+--------------------+-------------------+\n",
      "|           user_name|user_type|                 uri|               title|          timestamp|user_type|                 uri|               title|          timestamp|\n",
      "+--------------------+---------+--------------------+--------------------+-------------------+---------+--------------------+--------------------+-------------------+\n",
      "|              EyeBot|    human|https://ru.wikipe...|Участник:EyeBot/О...|2024-11-07 16:41:13|    human|https://ru.wikipe...|Обсуждение участн...|2024-11-07 16:51:01|\n",
      "|              EyeBot|    human|https://ru.wikipe...|Участник:EyeBot/О...|2024-11-07 16:41:13|    human|https://ru.wikipe...|Обсуждение участн...|2024-11-12 15:23:59|\n",
      "|              EyeBot|    human|https://ru.wikipe...|Участник:EyeBot/О...|2024-11-07 16:41:13|    human|https://ru.wikipe...|Обсуждение участн...|2024-11-12 15:24:44|\n",
      "|      LearnKnowGive1|    human|https://www.wikid...|          Q112456288|2024-11-07 16:41:26|    human|https://www.wikid...|          Q131013740|2024-11-07 16:49:12|\n",
      "|Pickersgill-Cunliffe|    human|https://en.wikipe...|         CeeDee Lamb|2024-11-07 16:41:24|    human|https://en.wikipe...|User talk:2A02:C7...|2024-11-07 16:49:07|\n",
      "|Pickersgill-Cunliffe|    human|https://en.wikipe...|         CeeDee Lamb|2024-11-07 16:41:24|    human|https://en.wikipe...|User talk:217.43....|2024-11-07 16:50:40|\n",
      "|Pickersgill-Cunliffe|    human|https://en.wikipe...|         CeeDee Lamb|2024-11-07 16:41:24|    human|https://en.wikipe...|User talk:78.172....|2024-11-07 16:55:16|\n",
      "|       Mr.Ibrahembot|      bot|https://www.wikid...|          Q131013221|2024-11-07 16:41:25|      bot|https://ar.wikipe...|نقاش:جائزة لاس في...|2024-11-07 16:54:19|\n",
      "|       Mr.Ibrahembot|      bot|https://www.wikid...|          Q131013220|2024-11-07 16:41:25|      bot|https://ar.wikipe...|نقاش:جائزة لاس في...|2024-11-07 16:54:19|\n",
      "|       Mr.Ibrahembot|      bot|https://www.wikid...|          Q131013218|2024-11-07 16:41:26|      bot|https://ar.wikipe...|نقاش:جائزة لاس في...|2024-11-07 16:54:19|\n",
      "|       Mr.Ibrahembot|      bot|https://www.wikid...|          Q131013217|2024-11-07 16:41:27|      bot|https://ar.wikipe...|نقاش:جائزة لاس في...|2024-11-07 16:54:19|\n",
      "|       Mr.Ibrahembot|      bot|https://www.wikid...|          Q131013216|2024-11-07 16:41:27|      bot|https://ar.wikipe...|نقاش:جائزة لاس في...|2024-11-07 16:54:19|\n",
      "|       Mr.Ibrahembot|      bot|https://www.wikid...|          Q131013213|2024-11-07 16:41:28|      bot|https://ar.wikipe...|نقاش:جائزة لاس في...|2024-11-07 16:54:19|\n",
      "|       Mr.Ibrahembot|      bot|https://www.wikid...|          Q131013212|2024-11-07 16:41:28|      bot|https://ar.wikipe...|نقاش:جائزة لاس في...|2024-11-07 16:54:19|\n",
      "|       Mr.Ibrahembot|      bot|https://www.wikid...|          Q131013210|2024-11-07 16:41:29|      bot|https://ar.wikipe...|نقاش:جائزة لاس في...|2024-11-07 16:54:19|\n",
      "|       Mr.Ibrahembot|      bot|https://www.wikid...|          Q131013209|2024-11-07 16:41:30|      bot|https://ar.wikipe...|نقاش:جائزة لاس في...|2024-11-07 16:54:19|\n",
      "|          QBA-II-bot|    human|https://ru.wikipe...|Обсуждение участн...|2024-11-07 16:41:24|    human|https://ru.wikipe...|Обсуждение участн...|2024-11-07 16:53:58|\n",
      "|          QBA-II-bot|    human|https://ru.wikipe...|Обсуждение участн...|2024-11-07 16:41:24|    human|https://ru.wikipe...|Обсуждение участн...|2024-11-12 15:24:19|\n",
      "|             StarDeg|    human|https://be.wikipe...|Шаблон:Міністры ф...|2024-11-07 16:41:25|    human|https://be.wikipe...|         Рэйчэл Рыўз|2024-11-07 16:49:48|\n",
      "+--------------------+---------+--------------------+--------------------+-------------------+---------+--------------------+--------------------+-------------------+\n",
      "\n"
     ]
    },
    {
     "name": "stderr",
     "output_type": "stream",
     "text": [
      "                                                                                \r"
     ]
    },
    {
     "name": "stdout",
     "output_type": "stream",
     "text": [
      "-------------------------------------------\n",
      "Batch: 40\n",
      "-------------------------------------------\n",
      "+-------------+---------+--------------------+----------+-------------------+---------+--------------------+--------------------+-------------------+\n",
      "|    user_name|user_type|                 uri|     title|          timestamp|user_type|                 uri|               title|          timestamp|\n",
      "+-------------+---------+--------------------+----------+-------------------+---------+--------------------+--------------------+-------------------+\n",
      "|Mr.Ibrahembot|      bot|https://www.wikid...|Q131013208|2024-11-07 16:41:30|      bot|https://ar.wikipe...|نقاش:جائزة لاس في...|2024-11-07 16:54:19|\n",
      "|Mr.Ibrahembot|      bot|https://www.wikid...|Q131013207|2024-11-07 16:41:31|      bot|https://ar.wikipe...|نقاش:جائزة لاس في...|2024-11-07 16:54:19|\n",
      "|Mr.Ibrahembot|      bot|https://www.wikid...|Q131013206|2024-11-07 16:41:31|      bot|https://ar.wikipe...|نقاش:جائزة لاس في...|2024-11-07 16:54:19|\n",
      "|Mr.Ibrahembot|      bot|https://www.wikid...|Q131013205|2024-11-07 16:41:32|      bot|https://ar.wikipe...|نقاش:جائزة لاس في...|2024-11-07 16:54:19|\n",
      "|Mr.Ibrahembot|      bot|https://www.wikid...|Q131013204|2024-11-07 16:41:33|      bot|https://ar.wikipe...|نقاش:جائزة لاس في...|2024-11-07 16:54:19|\n",
      "|Mr.Ibrahembot|      bot|https://www.wikid...|Q131013200|2024-11-07 16:41:33|      bot|https://ar.wikipe...|نقاش:جائزة لاس في...|2024-11-07 16:54:19|\n",
      "|Mr.Ibrahembot|      bot|https://www.wikid...|Q131013196|2024-11-07 16:41:34|      bot|https://ar.wikipe...|نقاش:جائزة لاس في...|2024-11-07 16:54:19|\n",
      "|Mr.Ibrahembot|      bot|https://www.wikid...|Q131013194|2024-11-07 16:41:36|      bot|https://ar.wikipe...|نقاش:جائزة لاس في...|2024-11-07 16:54:19|\n",
      "|Mr.Ibrahembot|      bot|https://www.wikid...|Q131013193|2024-11-07 16:41:36|      bot|https://ar.wikipe...|نقاش:جائزة لاس في...|2024-11-07 16:54:19|\n",
      "|        DE8AH|    human|https://fr.wiktio...|cessinarle|2024-11-07 16:41:33|    human|https://fr.wiktio...|Modèle:anagrammes...|2024-11-07 16:49:30|\n",
      "|        DE8AH|    human|https://fr.wiktio...|cessinarle|2024-11-07 16:41:33|    human|https://fr.wiktio...|Modèle:anagrammes...|2024-11-07 16:49:59|\n",
      "|        DE8AH|    human|https://fr.wiktio...|cessinarle|2024-11-07 16:41:33|    human|https://fr.wiktio...|Modèle:anagrammes...|2024-11-07 16:51:23|\n",
      "|        DE8AH|    human|https://fr.wiktio...|cessinarle|2024-11-07 16:41:33|    human|https://fr.wiktio...|Modèle:anagrammes...|2024-11-07 16:51:37|\n",
      "|        DE8AH|    human|https://fr.wiktio...|cessinarle|2024-11-07 16:41:33|    human|https://fr.wiktio...|Modèle:anagrammes...|2024-11-07 16:52:20|\n",
      "|        DE8AH|    human|https://fr.wiktio...|cessinarle|2024-11-07 16:41:33|    human|https://fr.wiktio...|Modèle:anagrammes...|2024-11-07 16:52:48|\n",
      "|        DE8AH|    human|https://fr.wiktio...|cessinarle|2024-11-07 16:41:33|    human|https://fr.wiktio...|Modèle:anagrammes...|2024-11-07 16:55:16|\n",
      "|        DE8AH|    human|https://fr.wiktio...|cessinarle|2024-11-07 16:41:33|    human|https://fr.wiktio...|Modèle:anagrammes...|2024-11-12 15:23:11|\n",
      "+-------------+---------+--------------------+----------+-------------------+---------+--------------------+--------------------+-------------------+\n",
      "\n"
     ]
    },
    {
     "name": "stderr",
     "output_type": "stream",
     "text": [
      "                                                                                \r"
     ]
    },
    {
     "name": "stdout",
     "output_type": "stream",
     "text": [
      "-------------------------------------------\n",
      "Batch: 41\n",
      "-------------------------------------------\n",
      "+------------------+---------+--------------------+--------------------+-------------------+---------+--------------------+--------------------+-------------------+\n",
      "|         user_name|user_type|                 uri|               title|          timestamp|user_type|                 uri|               title|          timestamp|\n",
      "+------------------+---------+--------------------+--------------------+-------------------+---------+--------------------+--------------------+-------------------+\n",
      "|    LearnKnowGive1|    human|https://www.wikid...|          Q112456288|2024-11-07 16:41:38|    human|https://www.wikid...|          Q131013740|2024-11-07 16:49:12|\n",
      "|          AnRo0002|    human|https://commons.w...|File:AB Stiftskir...|2024-11-07 16:41:39|    human|https://commons.w...|Category:Monument...|2024-11-07 16:52:14|\n",
      "|    Làm Việc Thiện|    human|https://vi.wikiqu...|     Hoàng Hoa Trung|2024-11-07 16:41:37|    human|https://vi.wikipe...|Thảo luận Thành v...|2024-11-07 16:50:57|\n",
      "|    Làm Việc Thiện|    human|https://vi.wikiqu...|     Hoàng Hoa Trung|2024-11-07 16:41:37|    human|https://vi.wikipe...|Thảo luận Thành v...|2024-11-07 16:51:51|\n",
      "|InternetArchiveBot|      bot|https://xmf.wikip...|                 ITV|2024-11-07 16:41:41|      bot|https://ckb.wikip...|وتووێژ:محەممەدڕەز...|2024-11-07 16:52:12|\n",
      "|     Mr.Ibrahembot|      bot|https://www.wikid...|          Q131013192|2024-11-07 16:41:37|      bot|https://ar.wikipe...|نقاش:جائزة لاس في...|2024-11-07 16:54:19|\n",
      "|     Mr.Ibrahembot|      bot|https://www.wikid...|          Q131013187|2024-11-07 16:41:38|      bot|https://ar.wikipe...|نقاش:جائزة لاس في...|2024-11-07 16:54:19|\n",
      "|     Mr.Ibrahembot|      bot|https://www.wikid...|          Q131013186|2024-11-07 16:41:38|      bot|https://ar.wikipe...|نقاش:جائزة لاس في...|2024-11-07 16:54:19|\n",
      "|     Mr.Ibrahembot|      bot|https://www.wikid...|          Q131013185|2024-11-07 16:41:39|      bot|https://ar.wikipe...|نقاش:جائزة لاس في...|2024-11-07 16:54:19|\n",
      "|     Mr.Ibrahembot|      bot|https://www.wikid...|          Q131013184|2024-11-07 16:41:40|      bot|https://ar.wikipe...|نقاش:جائزة لاس في...|2024-11-07 16:54:19|\n",
      "|     Mr.Ibrahembot|      bot|https://www.wikid...|          Q131013183|2024-11-07 16:41:40|      bot|https://ar.wikipe...|نقاش:جائزة لاس في...|2024-11-07 16:54:19|\n",
      "|     Mr.Ibrahembot|      bot|https://www.wikid...|          Q131013182|2024-11-07 16:41:41|      bot|https://ar.wikipe...|نقاش:جائزة لاس في...|2024-11-07 16:54:19|\n",
      "|     Mr.Ibrahembot|      bot|https://www.wikid...|          Q131013180|2024-11-07 16:41:41|      bot|https://ar.wikipe...|نقاش:جائزة لاس في...|2024-11-07 16:54:19|\n",
      "|     Mr.Ibrahembot|      bot|https://www.wikid...|          Q131013179|2024-11-07 16:41:42|      bot|https://ar.wikipe...|نقاش:جائزة لاس في...|2024-11-07 16:54:19|\n",
      "|     Mr.Ibrahembot|      bot|https://www.wikid...|          Q131013177|2024-11-07 16:41:43|      bot|https://ar.wikipe...|نقاش:جائزة لاس في...|2024-11-07 16:54:19|\n",
      "+------------------+---------+--------------------+--------------------+-------------------+---------+--------------------+--------------------+-------------------+\n",
      "\n"
     ]
    },
    {
     "name": "stderr",
     "output_type": "stream",
     "text": [
      "                                                                                \r"
     ]
    },
    {
     "name": "stdout",
     "output_type": "stream",
     "text": [
      "-------------------------------------------\n",
      "Batch: 42\n",
      "-------------------------------------------\n",
      "+---------------+---------+--------------------+--------------------+-------------------+---------+--------------------+-----------------------+-------------------+\n",
      "|      user_name|user_type|                 uri|               title|          timestamp|user_type|                 uri|                  title|          timestamp|\n",
      "+---------------+---------+--------------------+--------------------+-------------------+---------+--------------------+-----------------------+-------------------+\n",
      "|  Jordi escarre|    human|https://ca.wikipe...|  Eustaquio Pellicer|2024-11-07 16:41:41|    human|https://ca.wikipe...|     Misterix (revista)|2024-11-07 16:52:20|\n",
      "|EmpressHarmonic|    human|https://commons.w...|Category:Butter i...|2024-11-07 16:41:48|    human|https://commons.w...|   Category:Prints o...|2024-11-12 15:24:20|\n",
      "|EmpressHarmonic|    human|https://commons.w...|Category:Chocolat...|2024-11-07 16:41:49|    human|https://commons.w...|   Category:Prints o...|2024-11-12 15:24:20|\n",
      "|  Mr.Ibrahembot|      bot|https://www.wikid...|          Q131013176|2024-11-07 16:41:43|      bot|https://ar.wikipe...|   نقاش:جائزة لاس في...|2024-11-07 16:54:19|\n",
      "|  Mr.Ibrahembot|      bot|https://www.wikid...|          Q131013175|2024-11-07 16:41:44|      bot|https://ar.wikipe...|   نقاش:جائزة لاس في...|2024-11-07 16:54:19|\n",
      "|  Mr.Ibrahembot|      bot|https://www.wikid...|          Q131013174|2024-11-07 16:41:44|      bot|https://ar.wikipe...|   نقاش:جائزة لاس في...|2024-11-07 16:54:19|\n",
      "|  Mr.Ibrahembot|      bot|https://www.wikid...|          Q131013173|2024-11-07 16:41:45|      bot|https://ar.wikipe...|   نقاش:جائزة لاس في...|2024-11-07 16:54:19|\n",
      "|         MarSaf|    human|https://commons.w...|Category:Pobedy P...|2024-11-07 16:41:43|    human|https://commons.w...|   Category:Ametyevs...|2024-11-07 16:49:01|\n",
      "|       Sławobóg|    human|https://www.wikid...|           Q66962689|2024-11-07 16:41:44|    human|https://hsb.wikti...|   Modul:message box...|2024-11-07 16:48:47|\n",
      "|       Sławobóg|    human|https://www.wikid...|           Q66962689|2024-11-07 16:41:44|    human|https://hsb.wikti...|   Modul:category tr...|2024-11-07 16:49:50|\n",
      "|       Sławobóg|    human|https://www.wikid...|           Q66962689|2024-11-07 16:41:44|    human|https://hsb.wikti...|   Modul:category tr...|2024-11-07 16:50:40|\n",
      "|       Sławobóg|    human|https://www.wikid...|           Q66962689|2024-11-07 16:41:44|    human|https://hsb.wikti...|   Modul:category tr...|2024-11-07 16:51:33|\n",
      "|       Sławobóg|    human|https://www.wikid...|           Q66962689|2024-11-07 16:41:44|    human|https://hsb.wikti...|   Modul:category tr...|2024-11-07 16:52:34|\n",
      "|       Sławobóg|    human|https://www.wikid...|           Q66962689|2024-11-07 16:41:44|    human|https://hsb.wikti...|   Modul:category tr...|2024-11-07 16:53:34|\n",
      "|    BigBullfrog|    human|https://www.wikid...|           Q24076970|2024-11-07 16:41:47|    human|https://zh.wikipe...|Category:拉丁美洲各国裔|2024-11-07 16:50:17|\n",
      "|    BigBullfrog|    human|https://www.wikid...|           Q24076970|2024-11-07 16:41:47|    human|https://zh.wikipe...|  Category:拉丁美洲国家|2024-11-07 16:50:56|\n",
      "|    BigBullfrog|    human|https://www.wikid...|           Q24076970|2024-11-07 16:41:47|    human|https://zh.wikipe...|Category:海外保加利亚人|2024-11-07 16:54:39|\n",
      "|          DE8AH|    human|https://fr.wiktio...|         annebbiarle|2024-11-07 16:41:47|    human|https://fr.wiktio...|   Modèle:anagrammes...|2024-11-07 16:49:30|\n",
      "|          DE8AH|    human|https://fr.wiktio...|         annebbiarle|2024-11-07 16:41:47|    human|https://fr.wiktio...|   Modèle:anagrammes...|2024-11-07 16:49:59|\n",
      "|          DE8AH|    human|https://fr.wiktio...|         annebbiarle|2024-11-07 16:41:47|    human|https://fr.wiktio...|   Modèle:anagrammes...|2024-11-07 16:51:23|\n",
      "+---------------+---------+--------------------+--------------------+-------------------+---------+--------------------+-----------------------+-------------------+\n",
      "only showing top 20 rows\n",
      "\n"
     ]
    },
    {
     "name": "stderr",
     "output_type": "stream",
     "text": [
      "                                                                                \r"
     ]
    },
    {
     "name": "stdout",
     "output_type": "stream",
     "text": [
      "-------------------------------------------\n",
      "Batch: 43\n",
      "-------------------------------------------\n",
      "+--------------------+---------+--------------------+--------------------+-------------------+---------+--------------------+--------------------+-------------------+\n",
      "|           user_name|user_type|                 uri|               title|          timestamp|user_type|                 uri|               title|          timestamp|\n",
      "+--------------------+---------+--------------------+--------------------+-------------------+---------+--------------------+--------------------+-------------------+\n",
      "|Noah.Albert.ZivMilFü|    human|https://commons.w...|File:Charles R. R...|2024-11-07 16:41:54|    human|https://commons.w...|Category:People w...|2024-11-07 16:50:08|\n",
      "|  InternetArchiveBot|      bot|https://uk.wikipe...|Скоблов Дмитро Се...|2024-11-07 16:41:54|      bot|https://ckb.wikip...|وتووێژ:محەممەدڕەز...|2024-11-07 16:52:12|\n",
      "|         Craigysgafn|    human|https://cy.wikipe...|Categori:Pobl Fon...|2024-11-07 16:41:52|    human|https://cy.wikipe...|Categori:Gwleidyd...|2024-11-07 16:49:47|\n",
      "+--------------------+---------+--------------------+--------------------+-------------------+---------+--------------------+--------------------+-------------------+\n",
      "\n"
     ]
    },
    {
     "name": "stderr",
     "output_type": "stream",
     "text": [
      "                                                                                \r"
     ]
    },
    {
     "name": "stdout",
     "output_type": "stream",
     "text": [
      "-------------------------------------------\n",
      "Batch: 44\n",
      "-------------------------------------------\n",
      "+--------------------+---------+--------------------+--------------------+-------------------+---------+--------------------+--------------------+-------------------+\n",
      "|           user_name|user_type|                 uri|               title|          timestamp|user_type|                 uri|               title|          timestamp|\n",
      "+--------------------+---------+--------------------+--------------------+-------------------+---------+--------------------+--------------------+-------------------+\n",
      "|Muhammad Rasya Al...|    human|https://en.wikipe...|User:Muhammad Ras...|2024-11-07 16:42:02|    human|https://en.wikipe...|User:Muhammad Ras...|2024-11-07 16:53:00|\n",
      "|             Voârlou|    human|https://en.wiktio...|               rouge|2024-11-07 16:41:55|    human|https://en.wiktio...|             dainsie|2024-11-07 16:52:27|\n",
      "|             Voârlou|    human|https://en.wiktio...|               rouge|2024-11-07 16:41:55|    human|https://en.wiktio...|             pyeuvre|2024-11-07 16:54:29|\n",
      "|      LearnKnowGive1|    human|https://www.wikid...|          Q112456288|2024-11-07 16:42:00|    human|https://www.wikid...|          Q131013740|2024-11-07 16:49:12|\n",
      "|              MarSaf|    human|https://commons.w...|Category:Pobedy P...|2024-11-07 16:41:58|    human|https://commons.w...|Category:Ametyevs...|2024-11-07 16:49:01|\n",
      "|               DE8AH|    human|https://fr.wiktio...|         biscazzarle|2024-11-07 16:42:01|    human|https://fr.wiktio...|Modèle:anagrammes...|2024-11-07 16:49:30|\n",
      "|               DE8AH|    human|https://fr.wiktio...|         biscazzarle|2024-11-07 16:42:01|    human|https://fr.wiktio...|Modèle:anagrammes...|2024-11-07 16:49:59|\n",
      "|               DE8AH|    human|https://fr.wiktio...|         biscazzarle|2024-11-07 16:42:01|    human|https://fr.wiktio...|Modèle:anagrammes...|2024-11-07 16:51:23|\n",
      "|               DE8AH|    human|https://fr.wiktio...|         biscazzarle|2024-11-07 16:42:01|    human|https://fr.wiktio...|Modèle:anagrammes...|2024-11-07 16:51:37|\n",
      "|               DE8AH|    human|https://fr.wiktio...|         biscazzarle|2024-11-07 16:42:01|    human|https://fr.wiktio...|Modèle:anagrammes...|2024-11-07 16:52:20|\n",
      "|               DE8AH|    human|https://fr.wiktio...|         biscazzarle|2024-11-07 16:42:01|    human|https://fr.wiktio...|Modèle:anagrammes...|2024-11-07 16:52:48|\n",
      "|               DE8AH|    human|https://fr.wiktio...|         biscazzarle|2024-11-07 16:42:01|    human|https://fr.wiktio...|Modèle:anagrammes...|2024-11-07 16:55:16|\n",
      "|               DE8AH|    human|https://fr.wiktio...|         biscazzarle|2024-11-07 16:42:01|    human|https://fr.wiktio...|Modèle:anagrammes...|2024-11-12 15:23:11|\n",
      "+--------------------+---------+--------------------+--------------------+-------------------+---------+--------------------+--------------------+-------------------+\n",
      "\n"
     ]
    },
    {
     "name": "stderr",
     "output_type": "stream",
     "text": [
      "                                                                                \r"
     ]
    },
    {
     "name": "stdout",
     "output_type": "stream",
     "text": [
      "-------------------------------------------\n",
      "Batch: 45\n",
      "-------------------------------------------\n",
      "+--------------------+---------+--------------------+--------------------+-------------------+---------+--------------------+--------------------+-------------------+\n",
      "|           user_name|user_type|                 uri|               title|          timestamp|user_type|                 uri|               title|          timestamp|\n",
      "+--------------------+---------+--------------------+--------------------+-------------------+---------+--------------------+--------------------+-------------------+\n",
      "|      LearnKnowGive1|    human|https://www.wikid...|          Q112456288|2024-11-07 16:42:04|    human|https://www.wikid...|          Q131013740|2024-11-07 16:49:12|\n",
      "|            Camilear|    human|https://en.wikipe...|          KC Santosh|2024-11-07 16:42:04|    human|https://en.wikipe...|        Talk:Wuraola|2024-11-07 16:51:27|\n",
      "|            Camilear|    human|https://en.wikipe...|User talk:Wiki-kc...|2024-11-07 16:42:06|    human|https://en.wikipe...|        Talk:Wuraola|2024-11-07 16:51:27|\n",
      "|    Aditya tamhankar|    human|https://mr.wikipe...|नंदुरबार विधानसभा...|2024-11-07 16:42:03|    human|https://mr.wikipe...|साचा:स्वराज्य शक्...|2024-11-07 16:49:52|\n",
      "|    Aditya tamhankar|    human|https://mr.wikipe...|नंदुरबार विधानसभा...|2024-11-07 16:42:03|    human|https://mr.wikipe...|साचा:स्वराज्य राष...|2024-11-07 16:51:06|\n",
      "|Pickersgill-Cunliffe|    human|https://en.wikipe...|         Henry Ruggs|2024-11-07 16:42:01|    human|https://en.wikipe...|User talk:2A02:C7...|2024-11-07 16:49:07|\n",
      "|Pickersgill-Cunliffe|    human|https://en.wikipe...|         Henry Ruggs|2024-11-07 16:42:01|    human|https://en.wikipe...|User talk:217.43....|2024-11-07 16:50:40|\n",
      "|Pickersgill-Cunliffe|    human|https://en.wikipe...|         Henry Ruggs|2024-11-07 16:42:01|    human|https://en.wikipe...|User talk:78.172....|2024-11-07 16:55:16|\n",
      "|Pickersgill-Cunliffe|    human|https://en.wikipe...|  User talk:Iuhimoth|2024-11-07 16:42:08|    human|https://en.wikipe...|User talk:2A02:C7...|2024-11-07 16:49:07|\n",
      "|Pickersgill-Cunliffe|    human|https://en.wikipe...|  User talk:Iuhimoth|2024-11-07 16:42:08|    human|https://en.wikipe...|User talk:217.43....|2024-11-07 16:50:40|\n",
      "|Pickersgill-Cunliffe|    human|https://en.wikipe...|  User talk:Iuhimoth|2024-11-07 16:42:08|    human|https://en.wikipe...|User talk:78.172....|2024-11-07 16:55:16|\n",
      "|              Namiba|    human|https://en.wikipe...|2015 NIRSA Nation...|2024-11-07 16:42:01|    human|https://en.wikipe...|Category:Soccer c...|2024-11-07 16:50:29|\n",
      "|              Namiba|    human|https://en.wikipe...|2015 NIRSA Nation...|2024-11-07 16:42:01|    human|https://en.wikipe...|Category:Sports c...|2024-11-07 16:51:05|\n",
      "|              Namiba|    human|https://en.wikipe...|2015 NIRSA Nation...|2024-11-07 16:42:01|    human|https://en.wikipe...|Category:College ...|2024-11-12 15:24:07|\n",
      "|              Joorsm|    human|https://li.wikipe...|        Leo Kierkels|2024-11-07 16:42:07|    human|https://li.wikipe...|Categorie:Limburg...|2024-11-07 16:52:09|\n",
      "+--------------------+---------+--------------------+--------------------+-------------------+---------+--------------------+--------------------+-------------------+\n",
      "\n"
     ]
    },
    {
     "name": "stderr",
     "output_type": "stream",
     "text": [
      "                                                                                \r"
     ]
    },
    {
     "name": "stdout",
     "output_type": "stream",
     "text": [
      "-------------------------------------------\n",
      "Batch: 46\n",
      "-------------------------------------------\n",
      "+------------------+---------+--------------------+--------------------+-------------------+---------+--------------------+--------------------+-------------------+\n",
      "|         user_name|user_type|                 uri|               title|          timestamp|user_type|                 uri|               title|          timestamp|\n",
      "+------------------+---------+--------------------+--------------------+-------------------+---------+--------------------+--------------------+-------------------+\n",
      "|    LearnKnowGive1|    human|https://www.wikid...|          Q112456288|2024-11-07 16:42:10|    human|https://www.wikid...|          Q131013740|2024-11-07 16:49:12|\n",
      "|    LearnKnowGive1|    human|https://www.wikid...|          Q112456288|2024-11-07 16:42:12|    human|https://www.wikid...|          Q131013740|2024-11-07 16:49:12|\n",
      "|    LearnKnowGive1|    human|https://www.wikid...|          Q112456288|2024-11-07 16:42:15|    human|https://www.wikid...|          Q131013740|2024-11-07 16:49:12|\n",
      "|        Loper12321|    human|https://www.wikid...|          Q127328073|2024-11-07 16:42:15|    human|https://de.wikipe...|Ljudmila Grankows...|2024-11-12 15:23:44|\n",
      "|           Ow0cast|    human|https://en.wikipe...|List of the most ...|2024-11-07 16:42:13|    human|https://en.wikipe...|User talk:149.34....|2024-11-07 16:53:38|\n",
      "|        ウィ貴公子|    human|https://commons.w...|File:Shibuya Hall...|2024-11-07 16:42:15|    human|https://commons.w...|Category:Shibuya ...|2024-11-07 16:53:42|\n",
      "|InternetArchiveBot|      bot|https://id.wikipe...|Pembicaraan:Salva...|2024-11-07 16:42:13|      bot|https://ckb.wikip...|وتووێژ:محەممەدڕەز...|2024-11-07 16:52:12|\n",
      "|           Ardfern|    human|https://commons.w...|File:Emirates Boe...|2024-11-07 16:42:08|    human|https://commons.w...|Category:Boeing 7...|2024-11-07 16:49:42|\n",
      "|           Ardfern|    human|https://commons.w...|File:Emirates Boe...|2024-11-07 16:42:08|    human|https://commons.w...|Category:Boeing 7...|2024-11-07 16:51:03|\n",
      "+------------------+---------+--------------------+--------------------+-------------------+---------+--------------------+--------------------+-------------------+\n",
      "\n"
     ]
    },
    {
     "name": "stderr",
     "output_type": "stream",
     "text": [
      "                                                                                \r"
     ]
    },
    {
     "name": "stdout",
     "output_type": "stream",
     "text": [
      "-------------------------------------------\n",
      "Batch: 47\n",
      "-------------------------------------------\n",
      "+--------------------+---------+--------------------+--------------------+-------------------+---------+--------------------+--------------------+-------------------+\n",
      "|           user_name|user_type|                 uri|               title|          timestamp|user_type|                 uri|               title|          timestamp|\n",
      "+--------------------+---------+--------------------+--------------------+-------------------+---------+--------------------+--------------------+-------------------+\n",
      "|      LearnKnowGive1|    human|https://www.wikid...|          Q112456288|2024-11-07 16:42:20|    human|https://www.wikid...|          Q131013740|2024-11-07 16:49:12|\n",
      "|      LearnKnowGive1|    human|https://www.wikid...|          Q112456288|2024-11-07 16:42:24|    human|https://www.wikid...|          Q131013740|2024-11-07 16:49:12|\n",
      "|Pickersgill-Cunliffe|    human|https://en.wikipe...|Game (disambiguat...|2024-11-07 16:42:20|    human|https://en.wikipe...|User talk:2A02:C7...|2024-11-07 16:49:07|\n",
      "|Pickersgill-Cunliffe|    human|https://en.wikipe...|Game (disambiguat...|2024-11-07 16:42:20|    human|https://en.wikipe...|User talk:217.43....|2024-11-07 16:50:40|\n",
      "|Pickersgill-Cunliffe|    human|https://en.wikipe...|Game (disambiguat...|2024-11-07 16:42:20|    human|https://en.wikipe...|User talk:78.172....|2024-11-07 16:55:16|\n",
      "|     EmpressHarmonic|    human|https://commons.w...|    Category:Milmake|2024-11-07 16:42:21|    human|https://commons.w...|Category:Prints o...|2024-11-12 15:24:20|\n",
      "|              Abxbay|    human|https://commons.w...|Category:Even (gi...|2024-11-07 16:42:19|    human|https://commons.w...|Category:Everardo...|2024-11-07 16:50:30|\n",
      "|              Abxbay|    human|https://commons.w...|Category:Even (gi...|2024-11-07 16:42:19|    human|https://commons.w...|Category:Everardu...|2024-11-07 16:52:04|\n",
      "|              Abxbay|    human|https://commons.w...|Category:Even (gi...|2024-11-07 16:42:19|    human|https://commons.w...|Category:Everart ...|2024-11-07 16:53:31|\n",
      "|              Namiba|    human|https://en.wikipe...|2017 NIRSA Nation...|2024-11-07 16:42:17|    human|https://en.wikipe...|Category:Soccer c...|2024-11-07 16:50:29|\n",
      "|              Namiba|    human|https://en.wikipe...|2017 NIRSA Nation...|2024-11-07 16:42:17|    human|https://en.wikipe...|Category:Sports c...|2024-11-07 16:51:05|\n",
      "|              Namiba|    human|https://en.wikipe...|2017 NIRSA Nation...|2024-11-07 16:42:17|    human|https://en.wikipe...|Category:College ...|2024-11-12 15:24:07|\n",
      "+--------------------+---------+--------------------+--------------------+-------------------+---------+--------------------+--------------------+-------------------+\n",
      "\n"
     ]
    },
    {
     "name": "stderr",
     "output_type": "stream",
     "text": [
      "                                                                                \r"
     ]
    },
    {
     "name": "stdout",
     "output_type": "stream",
     "text": [
      "-------------------------------------------\n",
      "Batch: 48\n",
      "-------------------------------------------\n",
      "+--------------------+---------+--------------------+--------------------+-------------------+---------+--------------------+--------------------+-------------------+\n",
      "|           user_name|user_type|                 uri|               title|          timestamp|user_type|                 uri|               title|          timestamp|\n",
      "+--------------------+---------+--------------------+--------------------+-------------------+---------+--------------------+--------------------+-------------------+\n",
      "|               Glewe|    human|https://de.wikipe...|Zusatzweiterbildu...|2024-11-07 16:42:28|    human|https://de.wikipe...|Zusatzweiterbildu...|2024-11-07 16:50:18|\n",
      "|      LearnKnowGive1|    human|https://www.wikid...|          Q112456288|2024-11-07 16:42:27|    human|https://www.wikid...|          Q131013740|2024-11-07 16:49:12|\n",
      "|      LearnKnowGive1|    human|https://www.wikid...|          Q112456288|2024-11-07 16:42:31|    human|https://www.wikid...|          Q131013740|2024-11-07 16:49:12|\n",
      "|      AKhaleghizadeh|    human|https://www.wikid...|            Q3726260|2024-11-07 16:42:28|    human|https://fa.wikipe...|سسک درختزار کلاه‌...|2024-11-07 16:50:36|\n",
      "|      AKhaleghizadeh|    human|https://www.wikid...|            Q3726260|2024-11-07 16:42:28|    human|https://fa.wikipe...| سسک درختزار اوگاندا|2024-11-07 16:54:46|\n",
      "|Pickersgill-Cunliffe|    human|https://en.wikipe...|   Jason Lee (actor)|2024-11-07 16:42:24|    human|https://en.wikipe...|User talk:2A02:C7...|2024-11-07 16:49:07|\n",
      "|Pickersgill-Cunliffe|    human|https://en.wikipe...|   Jason Lee (actor)|2024-11-07 16:42:24|    human|https://en.wikipe...|User talk:217.43....|2024-11-07 16:50:40|\n",
      "|Pickersgill-Cunliffe|    human|https://en.wikipe...|   Jason Lee (actor)|2024-11-07 16:42:24|    human|https://en.wikipe...|User talk:78.172....|2024-11-07 16:55:16|\n",
      "|       Mr.Ibrahembot|      bot|https://ar.wikipe...|  تيري وليامز (طبال)|2024-11-07 16:42:27|      bot|https://ar.wikipe...|نقاش:جائزة لاس في...|2024-11-07 16:54:19|\n",
      "|        Andre Engels|    human|https://www.wikid...|          Q131013300|2024-11-07 16:42:25|    human|https://www.wikid...|          Q131013762|2024-11-07 16:49:41|\n",
      "|          M2k~dewiki|    human|https://www.wikid...|          Q124052932|2024-11-07 16:42:31|    human|https://www.wikid...|          Q131013834|2024-11-07 16:51:26|\n",
      "|          M2k~dewiki|    human|https://www.wikid...|          Q124052932|2024-11-07 16:42:31|    human|https://www.wikid...|          Q131013889|2024-11-07 16:52:59|\n",
      "+--------------------+---------+--------------------+--------------------+-------------------+---------+--------------------+--------------------+-------------------+\n",
      "\n"
     ]
    },
    {
     "name": "stderr",
     "output_type": "stream",
     "text": [
      "                                                                                \r"
     ]
    },
    {
     "name": "stdout",
     "output_type": "stream",
     "text": [
      "-------------------------------------------\n",
      "Batch: 49\n",
      "-------------------------------------------\n",
      "+----------+---------+--------------------+----------+-------------------+---------+--------------------+----------+-------------------+\n",
      "| user_name|user_type|                 uri|     title|          timestamp|user_type|                 uri|     title|          timestamp|\n",
      "+----------+---------+--------------------+----------+-------------------+---------+--------------------+----------+-------------------+\n",
      "|M2k~dewiki|    human|https://www.wikid...|Q124052932|2024-11-07 16:42:39|    human|https://www.wikid...|Q131013834|2024-11-07 16:51:26|\n",
      "|M2k~dewiki|    human|https://www.wikid...|Q124052932|2024-11-07 16:42:39|    human|https://www.wikid...|Q131013889|2024-11-07 16:52:59|\n",
      "+----------+---------+--------------------+----------+-------------------+---------+--------------------+----------+-------------------+\n",
      "\n"
     ]
    },
    {
     "name": "stderr",
     "output_type": "stream",
     "text": [
      "                                                                                \r"
     ]
    },
    {
     "name": "stdout",
     "output_type": "stream",
     "text": [
      "-------------------------------------------\n",
      "Batch: 50\n",
      "-------------------------------------------\n",
      "+-----------+---------+--------------------+--------------------+-------------------+---------+--------------------+--------------------+-------------------+\n",
      "|  user_name|user_type|                 uri|               title|          timestamp|user_type|                 uri|               title|          timestamp|\n",
      "+-----------+---------+--------------------+--------------------+-------------------+---------+--------------------+--------------------+-------------------+\n",
      "|        Mpn|    human|https://pl.wikipe...|Wikipedia:Poczeka...|2024-11-07 16:42:43|    human|https://pl.wikipe...|Wikiprojekt:Czy w...|2024-11-07 16:51:25|\n",
      "|        Mpn|    human|https://pl.wikipe...|Wikipedia:Poczeka...|2024-11-07 16:42:43|    human|https://pl.wikipe...|Wikipedia:Poczeka...|2024-11-07 16:55:09|\n",
      "|Craigysgafn|    human|https://cy.wikipe...|Categori:Pobl Fwl...|2024-11-07 16:42:44|    human|https://cy.wikipe...|Categori:Gwleidyd...|2024-11-07 16:49:47|\n",
      "+-----------+---------+--------------------+--------------------+-------------------+---------+--------------------+--------------------+-------------------+\n",
      "\n"
     ]
    },
    {
     "name": "stderr",
     "output_type": "stream",
     "text": [
      "                                                                                \r"
     ]
    },
    {
     "name": "stdout",
     "output_type": "stream",
     "text": [
      "-------------------------------------------\n",
      "Batch: 51\n",
      "-------------------------------------------\n",
      "+------------------+---------+--------------------+--------------------+-------------------+---------+--------------------+-----------------------+-------------------+\n",
      "|         user_name|user_type|                 uri|               title|          timestamp|user_type|                 uri|                  title|          timestamp|\n",
      "+------------------+---------+--------------------+--------------------+-------------------+---------+--------------------+-----------------------+-------------------+\n",
      "|      Stephilippou|    human|https://el.wiktio...|               serve|2024-11-07 16:42:47|    human|https://el.wiktio...|              customers|2024-11-07 16:50:24|\n",
      "|     Ariel Provost|    human|https://www.wikid...|          Q131007792|2024-11-07 16:42:46|    human|https://fr.wikipe...|   Discussion utilis...|2024-11-07 16:53:37|\n",
      "|     Ariel Provost|    human|https://www.wikid...|          Q131007792|2024-11-07 16:42:46|    human|https://fr.wikipe...|   Discussion utilis...|2024-11-12 15:24:12|\n",
      "|       Warburg1866|    human|https://commons.w...|File:Joachim Barr...|2024-11-07 16:42:46|    human|https://commons.w...|         Category:Ogbia|2024-11-07 16:51:06|\n",
      "|          AnRo0002|    human|https://commons.w...|File:AB Stiftskir...|2024-11-07 16:42:47|    human|https://commons.w...|   Category:Monument...|2024-11-07 16:52:14|\n",
      "|        Lakejason0|    human|https://www.media...|Template:MediaWik...|2024-11-07 16:42:44|    human|https://www.media...|   Translations:Temp...|2024-11-07 16:50:08|\n",
      "|        Lakejason0|    human|https://www.media...|Template:MediaWik...|2024-11-07 16:42:44|    human|https://www.media...|   Translations:Temp...|2024-11-07 16:50:50|\n",
      "|        Lakejason0|    human|https://www.media...|Template:MediaWik...|2024-11-07 16:42:44|    human|https://www.media...|   Translations:Temp...|2024-11-07 16:54:41|\n",
      "|InternetArchiveBot|      bot|https://ps.wikipe...|          نانسي ريګن|2024-11-07 16:42:41|      bot|https://ckb.wikip...|   وتووێژ:محەممەدڕەز...|2024-11-07 16:52:12|\n",
      "|InternetArchiveBot|      bot|https://uz.wikipe...|   Stokes egizaklari|2024-11-07 16:42:47|      bot|https://ckb.wikip...|   وتووێژ:محەممەدڕەز...|2024-11-07 16:52:12|\n",
      "|InternetArchiveBot|      bot|https://uk.wikipe...|Скоблікова Юлія К...|2024-11-07 16:42:50|      bot|https://ckb.wikip...|   وتووێژ:محەممەدڕەز...|2024-11-07 16:52:12|\n",
      "|      Andre Engels|    human|https://www.wikid...|          Q131013300|2024-11-07 16:42:47|    human|https://www.wikid...|             Q131013762|2024-11-07 16:49:41|\n",
      "|        Deborahjay|    human|https://www.wikid...|          Q106901266|2024-11-07 16:42:50|    human|https://commons.w...|   Category:Yifat (g...|2024-11-07 16:50:31|\n",
      "|        Deborahjay|    human|https://www.wikid...|          Q106901266|2024-11-07 16:42:51|    human|https://commons.w...|   Category:Yifat (g...|2024-11-07 16:50:31|\n",
      "|        Deborahjay|    human|https://www.wikid...|          Q106901266|2024-11-07 16:42:52|    human|https://commons.w...|   Category:Yifat (g...|2024-11-07 16:50:31|\n",
      "|       BigBullfrog|    human|https://www.wikid...|           Q24987236|2024-11-07 16:42:49|    human|https://zh.wikipe...|Category:拉丁美洲各国裔|2024-11-07 16:50:17|\n",
      "|       BigBullfrog|    human|https://www.wikid...|           Q24987236|2024-11-07 16:42:49|    human|https://zh.wikipe...|  Category:拉丁美洲国家|2024-11-07 16:50:56|\n",
      "|       BigBullfrog|    human|https://www.wikid...|           Q24987236|2024-11-07 16:42:49|    human|https://zh.wikipe...|Category:海外保加利亚人|2024-11-07 16:54:39|\n",
      "|             DE8AH|    human|https://fr.wiktio...|          apportarle|2024-11-07 16:42:45|    human|https://fr.wiktio...|   Modèle:anagrammes...|2024-11-07 16:49:30|\n",
      "|             DE8AH|    human|https://fr.wiktio...|          apportarle|2024-11-07 16:42:45|    human|https://fr.wiktio...|   Modèle:anagrammes...|2024-11-07 16:49:59|\n",
      "+------------------+---------+--------------------+--------------------+-------------------+---------+--------------------+-----------------------+-------------------+\n",
      "only showing top 20 rows\n",
      "\n"
     ]
    },
    {
     "name": "stderr",
     "output_type": "stream",
     "text": [
      "                                                                                \r"
     ]
    },
    {
     "name": "stdout",
     "output_type": "stream",
     "text": [
      "-------------------------------------------\n",
      "Batch: 52\n",
      "-------------------------------------------\n",
      "+----------+---------+--------------------+--------------------+-------------------+---------+--------------------+--------------------+-------------------+\n",
      "| user_name|user_type|                 uri|               title|          timestamp|user_type|                 uri|               title|          timestamp|\n",
      "+----------+---------+--------------------+--------------------+-------------------+---------+--------------------+--------------------+-------------------+\n",
      "|Loper12321|    human|https://de.wikipe...|          Beaudesert|2024-11-07 16:42:56|    human|https://de.wikipe...|Ljudmila Grankows...|2024-11-12 15:23:44|\n",
      "|     Ulamm|    human|https://commons.w...|Category:Kirche B...|2024-11-07 16:42:53|    human|https://commons.w...|Category:Former s...|2024-11-07 16:52:20|\n",
      "|     Ulamm|    human|https://commons.w...|Category:Kirche B...|2024-11-07 16:42:53|    human|https://commons.w...|Category:Schools ...|2024-11-07 16:53:23|\n",
      "|     Ulamm|    human|https://commons.w...|Category:Kirche B...|2024-11-07 16:42:53|    human|https://commons.w...|Category:1960s ch...|2024-11-07 16:55:16|\n",
      "|Deborahjay|    human|https://www.wikid...|          Q106901266|2024-11-07 16:42:53|    human|https://commons.w...|Category:Yifat (g...|2024-11-07 16:50:31|\n",
      "|   Salebot|    human|https://fr.wikipe...|    Hotchkiss School|2024-11-07 16:42:53|      bot|https://fr.wikipe...|Discussion utilis...|2024-11-07 16:48:53|\n",
      "|   Salebot|      bot|https://fr.wikipe...|Discussion utilis...|2024-11-07 16:42:54|      bot|https://fr.wikipe...|Discussion utilis...|2024-11-07 16:48:53|\n",
      "|    Namiba|    human|https://en.wikipe...|2020 WAC women's ...|2024-11-07 16:42:53|    human|https://en.wikipe...|Category:Soccer c...|2024-11-07 16:50:29|\n",
      "|    Namiba|    human|https://en.wikipe...|2020 WAC women's ...|2024-11-07 16:42:53|    human|https://en.wikipe...|Category:Sports c...|2024-11-07 16:51:05|\n",
      "|    Namiba|    human|https://en.wikipe...|2020 WAC women's ...|2024-11-07 16:42:53|    human|https://en.wikipe...|Category:College ...|2024-11-12 15:24:07|\n",
      "+----------+---------+--------------------+--------------------+-------------------+---------+--------------------+--------------------+-------------------+\n",
      "\n"
     ]
    },
    {
     "name": "stderr",
     "output_type": "stream",
     "text": [
      "                                                                                \r"
     ]
    },
    {
     "name": "stdout",
     "output_type": "stream",
     "text": [
      "-------------------------------------------\n",
      "Batch: 53\n",
      "-------------------------------------------\n",
      "+------------------+---------+--------------------+--------------------+-------------------+---------+--------------------+--------------------+-------------------+\n",
      "|         user_name|user_type|                 uri|               title|          timestamp|user_type|                 uri|               title|          timestamp|\n",
      "+------------------+---------+--------------------+--------------------+-------------------+---------+--------------------+--------------------+-------------------+\n",
      "|      Comecaballos|    human|https://es.wikipe...|  Julio César Krause|2024-11-07 16:42:58|    human|https://es.wikipe...|Categoría:Capitan...|2024-11-07 16:53:25|\n",
      "|          Hameryko|    human|https://www.wikid...|     Lexeme:L1376310|2024-11-07 16:43:00|    human|https://www.wikid...|     Lexeme:L1376321|2024-11-07 16:48:39|\n",
      "|          Hameryko|    human|https://www.wikid...|     Lexeme:L1376310|2024-11-07 16:43:00|    human|https://www.wikid...|     Lexeme:L1376322|2024-11-07 16:49:00|\n",
      "|          Hameryko|    human|https://www.wikid...|     Lexeme:L1376310|2024-11-07 16:43:00|    human|https://www.wikid...|     Lexeme:L1376323|2024-11-07 16:51:28|\n",
      "|          Hameryko|    human|https://www.wikid...|     Lexeme:L1376310|2024-11-07 16:43:00|    human|https://www.wikid...|     Lexeme:L1376324|2024-11-07 16:52:16|\n",
      "|          Hameryko|    human|https://www.wikid...|     Lexeme:L1376310|2024-11-07 16:43:00|    human|https://www.wikid...|     Lexeme:L1376325|2024-11-07 16:52:42|\n",
      "|          Hameryko|    human|https://www.wikid...|     Lexeme:L1376310|2024-11-07 16:43:00|    human|https://www.wikid...|     Lexeme:L1376326|2024-11-07 16:52:46|\n",
      "|          Hameryko|    human|https://www.wikid...|     Lexeme:L1376310|2024-11-07 16:43:00|    human|https://www.wikid...|     Lexeme:L1376327|2024-11-07 16:54:50|\n",
      "|InternetArchiveBot|      bot|https://www.wikid...|           Q12160909|2024-11-07 16:42:58|      bot|https://ckb.wikip...|وتووێژ:محەممەدڕەز...|2024-11-07 16:52:12|\n",
      "|        Mateus2019|    human|https://commons.w...|Ascheberg (Westfa...|2024-11-07 16:42:57|    human|https://commons.w...|Category:Gallery ...|2024-11-07 16:50:19|\n",
      "|             DE8AH|    human|https://fr.wiktio...|          abbordarle|2024-11-07 16:42:59|    human|https://fr.wiktio...|Modèle:anagrammes...|2024-11-07 16:49:30|\n",
      "|             DE8AH|    human|https://fr.wiktio...|          abbordarle|2024-11-07 16:42:59|    human|https://fr.wiktio...|Modèle:anagrammes...|2024-11-07 16:49:59|\n",
      "|             DE8AH|    human|https://fr.wiktio...|          abbordarle|2024-11-07 16:42:59|    human|https://fr.wiktio...|Modèle:anagrammes...|2024-11-07 16:51:23|\n",
      "|             DE8AH|    human|https://fr.wiktio...|          abbordarle|2024-11-07 16:42:59|    human|https://fr.wiktio...|Modèle:anagrammes...|2024-11-07 16:51:37|\n",
      "|             DE8AH|    human|https://fr.wiktio...|          abbordarle|2024-11-07 16:42:59|    human|https://fr.wiktio...|Modèle:anagrammes...|2024-11-07 16:52:20|\n",
      "|             DE8AH|    human|https://fr.wiktio...|          abbordarle|2024-11-07 16:42:59|    human|https://fr.wiktio...|Modèle:anagrammes...|2024-11-07 16:52:48|\n",
      "|             DE8AH|    human|https://fr.wiktio...|          abbordarle|2024-11-07 16:42:59|    human|https://fr.wiktio...|Modèle:anagrammes...|2024-11-07 16:55:16|\n",
      "|             DE8AH|    human|https://fr.wiktio...|          abbordarle|2024-11-07 16:42:59|    human|https://fr.wiktio...|Modèle:anagrammes...|2024-11-12 15:23:11|\n",
      "+------------------+---------+--------------------+--------------------+-------------------+---------+--------------------+--------------------+-------------------+\n",
      "\n"
     ]
    },
    {
     "name": "stderr",
     "output_type": "stream",
     "text": [
      "                                                                                \r"
     ]
    },
    {
     "name": "stdout",
     "output_type": "stream",
     "text": [
      "-------------------------------------------\n",
      "Batch: 54\n",
      "-------------------------------------------\n",
      "+----------+---------+--------------------+-------------------+-------------------+---------+--------------------+--------------------+-------------------+\n",
      "| user_name|user_type|                 uri|              title|          timestamp|user_type|                 uri|               title|          timestamp|\n",
      "+----------+---------+--------------------+-------------------+-------------------+---------+--------------------+--------------------+-------------------+\n",
      "|Loper12321|    human|https://de.wikipe...|Benutzer:Loper12321|2024-11-07 16:42:49|    human|https://de.wikipe...|Ljudmila Grankows...|2024-11-12 15:23:44|\n",
      "|  Sławobóg|    human|https://www.wikid...|          Q66963637|2024-11-07 16:43:08|    human|https://hsb.wikti...|Modul:message box...|2024-11-07 16:48:47|\n",
      "|  Sławobóg|    human|https://www.wikid...|          Q66963637|2024-11-07 16:43:08|    human|https://hsb.wikti...|Modul:category tr...|2024-11-07 16:49:50|\n",
      "|  Sławobóg|    human|https://www.wikid...|          Q66963637|2024-11-07 16:43:08|    human|https://hsb.wikti...|Modul:category tr...|2024-11-07 16:50:40|\n",
      "|  Sławobóg|    human|https://www.wikid...|          Q66963637|2024-11-07 16:43:08|    human|https://hsb.wikti...|Modul:category tr...|2024-11-07 16:51:33|\n",
      "|  Sławobóg|    human|https://www.wikid...|          Q66963637|2024-11-07 16:43:08|    human|https://hsb.wikti...|Modul:category tr...|2024-11-07 16:52:34|\n",
      "|  Sławobóg|    human|https://www.wikid...|          Q66963637|2024-11-07 16:43:08|    human|https://hsb.wikti...|Modul:category tr...|2024-11-07 16:53:34|\n",
      "+----------+---------+--------------------+-------------------+-------------------+---------+--------------------+--------------------+-------------------+\n",
      "\n"
     ]
    },
    {
     "name": "stderr",
     "output_type": "stream",
     "text": [
      "                                                                                \r"
     ]
    },
    {
     "name": "stdout",
     "output_type": "stream",
     "text": [
      "-------------------------------------------\n",
      "Batch: 55\n",
      "-------------------------------------------\n",
      "+--------------+---------+--------------------+--------------------+-------------------+---------+--------------------+--------------------+-------------------+\n",
      "|     user_name|user_type|                 uri|               title|          timestamp|user_type|                 uri|               title|          timestamp|\n",
      "+--------------+---------+--------------------+--------------------+-------------------+---------+--------------------+--------------------+-------------------+\n",
      "|Làm Việc Thiện|    human|https://vi.wikiqu...|     Hoàng Hoa Trung|2024-11-07 16:43:11|    human|https://vi.wikipe...|Thảo luận Thành v...|2024-11-07 16:50:57|\n",
      "|Làm Việc Thiện|    human|https://vi.wikiqu...|     Hoàng Hoa Trung|2024-11-07 16:43:11|    human|https://vi.wikipe...|Thảo luận Thành v...|2024-11-07 16:51:51|\n",
      "|        AnPa28|    human|https://de.wikipe...|Wöchentliche Rost...|2024-11-07 16:43:13|    human|https://de.wikipe...|Kategorie:Zeitung...|2024-11-07 16:55:05|\n",
      "|         DE8AH|    human|https://fr.wiktio...|          viscerarne|2024-11-07 16:43:13|    human|https://fr.wiktio...|Modèle:anagrammes...|2024-11-07 16:49:30|\n",
      "|         DE8AH|    human|https://fr.wiktio...|          viscerarne|2024-11-07 16:43:13|    human|https://fr.wiktio...|Modèle:anagrammes...|2024-11-07 16:49:59|\n",
      "|         DE8AH|    human|https://fr.wiktio...|          viscerarne|2024-11-07 16:43:13|    human|https://fr.wiktio...|Modèle:anagrammes...|2024-11-07 16:51:23|\n",
      "|         DE8AH|    human|https://fr.wiktio...|          viscerarne|2024-11-07 16:43:13|    human|https://fr.wiktio...|Modèle:anagrammes...|2024-11-07 16:51:37|\n",
      "|         DE8AH|    human|https://fr.wiktio...|          viscerarne|2024-11-07 16:43:13|    human|https://fr.wiktio...|Modèle:anagrammes...|2024-11-07 16:52:20|\n",
      "|         DE8AH|    human|https://fr.wiktio...|          viscerarne|2024-11-07 16:43:13|    human|https://fr.wiktio...|Modèle:anagrammes...|2024-11-07 16:52:48|\n",
      "|         DE8AH|    human|https://fr.wiktio...|          viscerarne|2024-11-07 16:43:13|    human|https://fr.wiktio...|Modèle:anagrammes...|2024-11-07 16:55:16|\n",
      "|         DE8AH|    human|https://fr.wiktio...|          viscerarne|2024-11-07 16:43:13|    human|https://fr.wiktio...|Modèle:anagrammes...|2024-11-12 15:23:11|\n",
      "|      Jaba1977|    human|https://ka.wikipe...|   გირესუნის მუზეუმი|2024-11-07 16:43:10|    human|https://ka.wikipe...|ეფესოს არქეოლოგიუ...|2024-11-07 16:52:15|\n",
      "+--------------+---------+--------------------+--------------------+-------------------+---------+--------------------+--------------------+-------------------+\n",
      "\n"
     ]
    },
    {
     "name": "stderr",
     "output_type": "stream",
     "text": [
      "                                                                                \r"
     ]
    },
    {
     "name": "stdout",
     "output_type": "stream",
     "text": [
      "-------------------------------------------\n",
      "Batch: 56\n",
      "-------------------------------------------\n",
      "+---------------+---------+--------------------+---------------+-------------------+---------+--------------------+--------------------+-------------------+\n",
      "|      user_name|user_type|                 uri|          title|          timestamp|user_type|                 uri|               title|          timestamp|\n",
      "+---------------+---------+--------------------+---------------+-------------------+---------+--------------------+--------------------+-------------------+\n",
      "|       Hameryko|    human|https://www.wikid...|Lexeme:L1376311|2024-11-07 16:43:15|    human|https://www.wikid...|     Lexeme:L1376321|2024-11-07 16:48:39|\n",
      "|       Hameryko|    human|https://www.wikid...|Lexeme:L1376311|2024-11-07 16:43:15|    human|https://www.wikid...|     Lexeme:L1376322|2024-11-07 16:49:00|\n",
      "|       Hameryko|    human|https://www.wikid...|Lexeme:L1376311|2024-11-07 16:43:15|    human|https://www.wikid...|     Lexeme:L1376323|2024-11-07 16:51:28|\n",
      "|       Hameryko|    human|https://www.wikid...|Lexeme:L1376311|2024-11-07 16:43:15|    human|https://www.wikid...|     Lexeme:L1376324|2024-11-07 16:52:16|\n",
      "|       Hameryko|    human|https://www.wikid...|Lexeme:L1376311|2024-11-07 16:43:15|    human|https://www.wikid...|     Lexeme:L1376325|2024-11-07 16:52:42|\n",
      "|       Hameryko|    human|https://www.wikid...|Lexeme:L1376311|2024-11-07 16:43:15|    human|https://www.wikid...|     Lexeme:L1376326|2024-11-07 16:52:46|\n",
      "|       Hameryko|    human|https://www.wikid...|Lexeme:L1376311|2024-11-07 16:43:15|    human|https://www.wikid...|     Lexeme:L1376327|2024-11-07 16:54:50|\n",
      "|EmpressHarmonic|    human|https://commons.w...| Category:Kombu|2024-11-07 16:43:15|    human|https://commons.w...|Category:Prints o...|2024-11-12 15:24:20|\n",
      "+---------------+---------+--------------------+---------------+-------------------+---------+--------------------+--------------------+-------------------+\n",
      "\n"
     ]
    },
    {
     "name": "stderr",
     "output_type": "stream",
     "text": [
      "                                                                                \r"
     ]
    },
    {
     "name": "stdout",
     "output_type": "stream",
     "text": [
      "-------------------------------------------\n",
      "Batch: 57\n",
      "-------------------------------------------\n",
      "+------------------+---------+--------------------+--------------------+-------------------+---------+--------------------+--------------------+-------------------+\n",
      "|         user_name|user_type|                 uri|               title|          timestamp|user_type|                 uri|               title|          timestamp|\n",
      "+------------------+---------+--------------------+--------------------+-------------------+---------+--------------------+--------------------+-------------------+\n",
      "|          Hameryko|    human|https://www.wikid...|     Lexeme:L1376310|2024-11-07 16:43:23|    human|https://www.wikid...|     Lexeme:L1376321|2024-11-07 16:48:39|\n",
      "|          Hameryko|    human|https://www.wikid...|     Lexeme:L1376310|2024-11-07 16:43:23|    human|https://www.wikid...|     Lexeme:L1376322|2024-11-07 16:49:00|\n",
      "|          Hameryko|    human|https://www.wikid...|     Lexeme:L1376310|2024-11-07 16:43:23|    human|https://www.wikid...|     Lexeme:L1376323|2024-11-07 16:51:28|\n",
      "|          Hameryko|    human|https://www.wikid...|     Lexeme:L1376310|2024-11-07 16:43:23|    human|https://www.wikid...|     Lexeme:L1376324|2024-11-07 16:52:16|\n",
      "|          Hameryko|    human|https://www.wikid...|     Lexeme:L1376310|2024-11-07 16:43:23|    human|https://www.wikid...|     Lexeme:L1376325|2024-11-07 16:52:42|\n",
      "|          Hameryko|    human|https://www.wikid...|     Lexeme:L1376310|2024-11-07 16:43:23|    human|https://www.wikid...|     Lexeme:L1376326|2024-11-07 16:52:46|\n",
      "|          Hameryko|    human|https://www.wikid...|     Lexeme:L1376310|2024-11-07 16:43:23|    human|https://www.wikid...|     Lexeme:L1376327|2024-11-07 16:54:50|\n",
      "|InternetArchiveBot|      bot|https://es.wikipe...|          Río Kerest|2024-11-07 16:43:21|      bot|https://ckb.wikip...|وتووێژ:محەممەدڕەز...|2024-11-07 16:52:12|\n",
      "|            MarSaf|    human|https://commons.w...|Category:Pobedy P...|2024-11-07 16:43:19|    human|https://commons.w...|Category:Ametyevs...|2024-11-07 16:49:01|\n",
      "|       Craigysgafn|    human|https://cy.wikipe...|Categori:Pobl Fwl...|2024-11-07 16:43:20|    human|https://cy.wikipe...|Categori:Gwleidyd...|2024-11-07 16:49:47|\n",
      "+------------------+---------+--------------------+--------------------+-------------------+---------+--------------------+--------------------+-------------------+\n",
      "\n"
     ]
    },
    {
     "name": "stderr",
     "output_type": "stream",
     "text": [
      "                                                                                \r"
     ]
    },
    {
     "name": "stdout",
     "output_type": "stream",
     "text": [
      "-------------------------------------------\n",
      "Batch: 58\n",
      "-------------------------------------------\n",
      "+------------------+---------+--------------------+--------------------+-------------------+---------+--------------------+--------------------+-------------------+\n",
      "|         user_name|user_type|                 uri|               title|          timestamp|user_type|                 uri|               title|          timestamp|\n",
      "+------------------+---------+--------------------+--------------------+-------------------+---------+--------------------+--------------------+-------------------+\n",
      "|        Spanneraol|    human|https://www.wikid...|            Q3487037|2024-11-07 16:43:29|    human|https://en.wikipe...|Talk:Yunior Severino|2024-11-07 16:55:03|\n",
      "|InternetArchiveBot|      bot|https://ba.wikipe...|Ҡатын-ҡыҙҙар хокк...|2024-11-07 16:43:23|      bot|https://ckb.wikip...|وتووێژ:محەممەدڕەز...|2024-11-07 16:52:12|\n",
      "|        Deborahjay|    human|https://www.wikid...|          Q106901266|2024-11-07 16:43:27|    human|https://commons.w...|Category:Yifat (g...|2024-11-07 16:50:31|\n",
      "|             DE8AH|    human|https://fr.wiktio...|        testificarne|2024-11-07 16:43:27|    human|https://fr.wiktio...|Modèle:anagrammes...|2024-11-07 16:49:30|\n",
      "|             DE8AH|    human|https://fr.wiktio...|        testificarne|2024-11-07 16:43:27|    human|https://fr.wiktio...|Modèle:anagrammes...|2024-11-07 16:49:59|\n",
      "|             DE8AH|    human|https://fr.wiktio...|        testificarne|2024-11-07 16:43:27|    human|https://fr.wiktio...|Modèle:anagrammes...|2024-11-07 16:51:23|\n",
      "|             DE8AH|    human|https://fr.wiktio...|        testificarne|2024-11-07 16:43:27|    human|https://fr.wiktio...|Modèle:anagrammes...|2024-11-07 16:51:37|\n",
      "|             DE8AH|    human|https://fr.wiktio...|        testificarne|2024-11-07 16:43:27|    human|https://fr.wiktio...|Modèle:anagrammes...|2024-11-07 16:52:20|\n",
      "|             DE8AH|    human|https://fr.wiktio...|        testificarne|2024-11-07 16:43:27|    human|https://fr.wiktio...|Modèle:anagrammes...|2024-11-07 16:52:48|\n",
      "|             DE8AH|    human|https://fr.wiktio...|        testificarne|2024-11-07 16:43:27|    human|https://fr.wiktio...|Modèle:anagrammes...|2024-11-07 16:55:16|\n",
      "|             DE8AH|    human|https://fr.wiktio...|        testificarne|2024-11-07 16:43:27|    human|https://fr.wiktio...|Modèle:anagrammes...|2024-11-12 15:23:11|\n",
      "|            Namiba|    human|https://en.wikipe...|2024 WNBA All-Sta...|2024-11-07 16:43:23|    human|https://en.wikipe...|Category:Soccer c...|2024-11-07 16:50:29|\n",
      "|            Namiba|    human|https://en.wikipe...|2024 WNBA All-Sta...|2024-11-07 16:43:23|    human|https://en.wikipe...|Category:Sports c...|2024-11-07 16:51:05|\n",
      "|            Namiba|    human|https://en.wikipe...|2024 WNBA All-Sta...|2024-11-07 16:43:23|    human|https://en.wikipe...|Category:College ...|2024-11-12 15:24:07|\n",
      "+------------------+---------+--------------------+--------------------+-------------------+---------+--------------------+--------------------+-------------------+\n",
      "\n"
     ]
    },
    {
     "name": "stderr",
     "output_type": "stream",
     "text": [
      "                                                                                \r"
     ]
    },
    {
     "name": "stdout",
     "output_type": "stream",
     "text": [
      "-------------------------------------------\n",
      "Batch: 59\n",
      "-------------------------------------------\n",
      "+-------------+---------+--------------------+--------------------+-------------------+---------+--------------------+------------------------------------+-------------------+\n",
      "|    user_name|user_type|                 uri|               title|          timestamp|user_type|                 uri|                               title|          timestamp|\n",
      "+-------------+---------+--------------------+--------------------+-------------------+---------+--------------------+------------------------------------+-------------------+\n",
      "|  Eshaq Azizi|    human|https://www.wikid...|            Q3496909|2024-11-07 16:48:42|    human|https://ps.wikipe...|                         نسیم پيدراد|2024-11-07 16:48:38|\n",
      "|     Bpierreb|    human|https://fr.wiktio...|affection de long...|2024-11-07 16:48:38|    human|https://fr.wiktio...|                affections de lon...|2024-11-07 16:51:09|\n",
      "|Ariel Provost|    human|https://fr.wikipe...|  EF Education First|2024-11-07 16:48:38|    human|https://fr.wikipe...|                Discussion utilis...|2024-11-07 16:53:37|\n",
      "|Ariel Provost|    human|https://fr.wikipe...|  EF Education First|2024-11-07 16:48:38|    human|https://fr.wikipe...|                Discussion utilis...|2024-11-12 15:24:12|\n",
      "|  Braveattack|    human|https://ko.wikipe...|                  말|2024-11-07 16:48:38|    human|https://ko.wikipe...|              토론:미로슬라프 바르가|2024-11-12 15:22:40|\n",
      "|  Braveattack|    human|https://ko.wikipe...|                  말|2024-11-07 16:48:38|    human|https://ko.wikipe...|                  토론:에드워드 에츨|2024-11-12 15:22:42|\n",
      "|  Braveattack|    human|https://ko.wikipe...|                  말|2024-11-07 16:48:38|    human|https://ko.wikipe...|              토론:드미트로 모나코우|2024-11-12 15:23:03|\n",
      "|  Braveattack|    human|https://ko.wikipe...|                  말|2024-11-07 16:48:38|    human|https://ko.wikipe...|    토론:루차노 조반네티 (사격 선수)|2024-11-12 15:23:08|\n",
      "|  Braveattack|    human|https://ko.wikipe...|                  말|2024-11-07 16:48:38|    human|https://ko.wikipe...|          토론:피터 윌슨 (사격 선수)|2024-11-12 15:23:40|\n",
      "|  Braveattack|    human|https://ko.wikipe...|                  말|2024-11-07 16:48:38|    human|https://ko.wikipe...|                토론:아흐마드 알막툼|2024-11-12 15:23:45|\n",
      "|  Braveattack|    human|https://ko.wikipe...|                  말|2024-11-07 16:48:38|    human|https://ko.wikipe...|                토론:미하엘 야코지츠|2024-11-12 15:24:13|\n",
      "|  Braveattack|    human|https://ko.wikipe...|                  말|2024-11-07 16:48:38|    human|https://ko.wikipe...|                토론:만프레트 쿠르처|2024-11-12 15:24:28|\n",
      "|  Braveattack|    human|https://ko.wikipe...|                  말|2024-11-07 16:48:38|    human|https://ko.wikipe...|               토론:양링 (사격 선수)|2024-11-12 15:24:30|\n",
      "|  Braveattack|    human|https://ko.wikipe...|                  말|2024-11-07 16:48:38|    human|https://ko.wikipe...|                         토론:자잔보|2024-11-12 15:24:33|\n",
      "|  Braveattack|    human|https://ko.wikipe...|                  말|2024-11-07 16:48:38|    human|https://ko.wikipe...|                토론:흐라치야 페티캰|2024-11-12 15:24:56|\n",
      "|  Braveattack|    human|https://ko.wikipe...|                  말|2024-11-07 16:48:38|    human|https://ko.wikipe...|                  토론:사이토 다쓰루|2024-11-12 15:24:58|\n",
      "|  Braveattack|    human|https://ko.wikipe...|                  말|2024-11-07 16:48:38|    human|https://ko.wikipe...|토론:여름이 끝날 무렵의 라트라비아타|2024-11-12 15:25:22|\n",
      "|  Braveattack|    human|https://ko.wikipe...|                  말|2024-11-07 16:48:38|    human|https://ko.wikipe...|                  토론:정직한 사람들|2024-11-12 15:25:29|\n",
      "|  Braveattack|    human|https://ko.wikipe...|                  말|2024-11-07 16:48:38|    human|https://ko.wikipe...|              토론:이스��일 하즈올루|2024-11-12 15:25:45|\n",
      "|  Braveattack|    human|https://ko.wikipe...|                  말|2024-11-07 16:48:38|    human|https://ko.wikipe...|                  토론:이무라 가즈키|2024-11-12 15:25:47|\n",
      "+-------------+---------+--------------------+--------------------+-------------------+---------+--------------------+------------------------------------+-------------------+\n",
      "only showing top 20 rows\n",
      "\n"
     ]
    },
    {
     "name": "stderr",
     "output_type": "stream",
     "text": [
      "                                                                                \r"
     ]
    },
    {
     "name": "stdout",
     "output_type": "stream",
     "text": [
      "-------------------------------------------\n",
      "Batch: 60\n",
      "-------------------------------------------\n",
      "+-----------+---------+--------------------+--------------------+-------------------+---------+--------------------+------------------------------------+-------------------+\n",
      "|  user_name|user_type|                 uri|               title|          timestamp|user_type|                 uri|                               title|          timestamp|\n",
      "+-----------+---------+--------------------+--------------------+-------------------+---------+--------------------+------------------------------------+-------------------+\n",
      "|       Qcne|    human|https://en.wikipe...|Draft:Joker (Card...|2024-11-07 16:48:46|    human|https://en.wikipe...|                   User talk:Zuraged|2024-11-07 16:48:47|\n",
      "|Braveattack|    human|https://ko.wikipe...|     미뉴에트 고양이|2024-11-07 16:48:43|    human|https://ko.wikipe...|              토론:미로슬라프 바르가|2024-11-12 15:22:40|\n",
      "|Braveattack|    human|https://ko.wikipe...|     미뉴에트 고양이|2024-11-07 16:48:43|    human|https://ko.wikipe...|                  토론:에드워드 에츨|2024-11-12 15:22:42|\n",
      "|Braveattack|    human|https://ko.wikipe...|     미뉴에트 고양이|2024-11-07 16:48:43|    human|https://ko.wikipe...|              토론:드미트로 모나코우|2024-11-12 15:23:03|\n",
      "|Braveattack|    human|https://ko.wikipe...|     미뉴에트 고양이|2024-11-07 16:48:43|    human|https://ko.wikipe...|    토론:루차노 조반네티 (사격 선수)|2024-11-12 15:23:08|\n",
      "|Braveattack|    human|https://ko.wikipe...|     미뉴에트 고양이|2024-11-07 16:48:43|    human|https://ko.wikipe...|          토론:피터 윌슨 (사격 선수)|2024-11-12 15:23:40|\n",
      "|Braveattack|    human|https://ko.wikipe...|     미뉴에트 고양이|2024-11-07 16:48:43|    human|https://ko.wikipe...|                토론:아흐마드 알막툼|2024-11-12 15:23:45|\n",
      "|Braveattack|    human|https://ko.wikipe...|     미뉴에트 고양이|2024-11-07 16:48:43|    human|https://ko.wikipe...|                토론:미하엘 ��코지츠|2024-11-12 15:24:13|\n",
      "|Braveattack|    human|https://ko.wikipe...|     미뉴에트 고양이|2024-11-07 16:48:43|    human|https://ko.wikipe...|                토론:만프레트 쿠르처|2024-11-12 15:24:28|\n",
      "|Braveattack|    human|https://ko.wikipe...|     미뉴에트 고양이|2024-11-07 16:48:43|    human|https://ko.wikipe...|               토론:양링 (사격 선수)|2024-11-12 15:24:30|\n",
      "|Braveattack|    human|https://ko.wikipe...|     미뉴에트 고양이|2024-11-07 16:48:43|    human|https://ko.wikipe...|                         토론:자잔보|2024-11-12 15:24:33|\n",
      "|Braveattack|    human|https://ko.wikipe...|     미뉴에트 고양이|2024-11-07 16:48:43|    human|https://ko.wikipe...|                토론:흐라치야 페티캰|2024-11-12 15:24:56|\n",
      "|Braveattack|    human|https://ko.wikipe...|     미뉴에트 고양이|2024-11-07 16:48:43|    human|https://ko.wikipe...|                  토론:사이토 다쓰루|2024-11-12 15:24:58|\n",
      "|Braveattack|    human|https://ko.wikipe...|     미뉴에트 고양이|2024-11-07 16:48:43|    human|https://ko.wikipe...|토론:여름이 끝날 무렵의 라트라비아타|2024-11-12 15:25:22|\n",
      "|Braveattack|    human|https://ko.wikipe...|     미뉴에트 고양이|2024-11-07 16:48:43|    human|https://ko.wikipe...|                  토론:정직한 사람들|2024-11-12 15:25:29|\n",
      "|Braveattack|    human|https://ko.wikipe...|     미뉴에트 고양이|2024-11-07 16:48:43|    human|https://ko.wikipe...|              토론:이스마일 하즈올루|2024-11-12 15:25:45|\n",
      "|Braveattack|    human|https://ko.wikipe...|     미뉴에트 고양이|2024-11-07 16:48:43|    human|https://ko.wikipe...|                  토론:이무라 가즈키|2024-11-12 15:25:47|\n",
      "|Braveattack|    human|https://ko.wikipe...|                선서|2024-11-07 16:48:45|    human|https://ko.wikipe...|              토론:미로슬라프 바르가|2024-11-12 15:22:40|\n",
      "|Braveattack|    human|https://ko.wikipe...|                선서|2024-11-07 16:48:45|    human|https://ko.wikipe...|                  토론:에드워드 에츨|2024-11-12 15:22:42|\n",
      "|Braveattack|    human|https://ko.wikipe...|                선서|2024-11-07 16:48:45|    human|https://ko.wikipe...|              토론:드미트로 모나코우|2024-11-12 15:23:03|\n",
      "+-----------+---------+--------------------+--------------------+-------------------+---------+--------------------+------------------------------------+-------------------+\n",
      "only showing top 20 rows\n",
      "\n"
     ]
    },
    {
     "name": "stderr",
     "output_type": "stream",
     "text": [
      "                                                                                \r"
     ]
    },
    {
     "name": "stdout",
     "output_type": "stream",
     "text": [
      "-------------------------------------------\n",
      "Batch: 61\n",
      "-------------------------------------------\n",
      "+------------+---------+--------------------+--------------------+-------------------+---------+--------------------+--------------------+-------------------+\n",
      "|   user_name|user_type|                 uri|               title|          timestamp|user_type|                 uri|               title|          timestamp|\n",
      "+------------+---------+--------------------+--------------------+-------------------+---------+--------------------+--------------------+-------------------+\n",
      "|    Hameryko|    human|https://www.wikid...|     Lexeme:L1376321|2024-11-07 16:48:51|    human|https://www.wikid...|     Lexeme:L1376321|2024-11-07 16:48:39|\n",
      "|    Hameryko|    human|https://www.wikid...|     Lexeme:L1376321|2024-11-07 16:48:51|    human|https://www.wikid...|     Lexeme:L1376322|2024-11-07 16:49:00|\n",
      "|    Hameryko|    human|https://www.wikid...|     Lexeme:L1376321|2024-11-07 16:48:51|    human|https://www.wikid...|     Lexeme:L1376323|2024-11-07 16:51:28|\n",
      "|    Hameryko|    human|https://www.wikid...|     Lexeme:L1376321|2024-11-07 16:48:51|    human|https://www.wikid...|     Lexeme:L1376324|2024-11-07 16:52:16|\n",
      "|    Hameryko|    human|https://www.wikid...|     Lexeme:L1376321|2024-11-07 16:48:51|    human|https://www.wikid...|     Lexeme:L1376325|2024-11-07 16:52:42|\n",
      "|    Hameryko|    human|https://www.wikid...|     Lexeme:L1376321|2024-11-07 16:48:51|    human|https://www.wikid...|     Lexeme:L1376326|2024-11-07 16:52:46|\n",
      "|    Hameryko|    human|https://www.wikid...|     Lexeme:L1376321|2024-11-07 16:48:51|    human|https://www.wikid...|     Lexeme:L1376327|2024-11-07 16:54:50|\n",
      "|     Arjoopy|    human|https://commons.w...|File:Großbodungen...|2024-11-07 16:48:48|    human|https://www.wikid...|          Q131013792|2024-11-07 16:50:16|\n",
      "|    DPLA bot|    human|https://www.wikid...|            Q3445045|2024-11-07 16:48:52|      bot|https://commons.w...|Category:Media co...|2024-11-07 16:48:48|\n",
      "|    DPLA bot|    human|https://www.wikid...|            Q3445045|2024-11-07 16:48:52|    human|https://www.wikid...|          Q131013731|2024-11-07 16:48:51|\n",
      "|   Bonhoczys|    human|https://commons.w...|Category:Reformie...|2024-11-07 16:48:51|    human|https://commons.w...|Category:Religion...|2024-11-07 16:53:19|\n",
      "|2.237.220.21|    human|https://it.wikipe...|     Camera dei lord|2024-11-07 16:48:49|    human|https://it.wikipe...|Discussioni utent...|2024-11-07 16:51:01|\n",
      "+------------+---------+--------------------+--------------------+-------------------+---------+--------------------+--------------------+-------------------+\n",
      "\n"
     ]
    },
    {
     "name": "stderr",
     "output_type": "stream",
     "text": [
      "                                                                                \r"
     ]
    },
    {
     "name": "stdout",
     "output_type": "stream",
     "text": [
      "-------------------------------------------\n",
      "Batch: 62\n",
      "-------------------------------------------\n",
      "+------------------+---------+--------------------+--------------------+-------------------+---------+--------------------+------------------------------------+-------------------+\n",
      "|         user_name|user_type|                 uri|               title|          timestamp|user_type|                 uri|                               title|          timestamp|\n",
      "+------------------+---------+--------------------+--------------------+-------------------+---------+--------------------+------------------------------------+-------------------+\n",
      "|         Andrywhyd|    human|https://id.wikipe...|Liga Profesional ...|2024-11-07 16:48:49|    human|https://id.wikipe...|                 Aschraf El Mahdioui|2024-11-07 16:55:10|\n",
      "|        Spanneraol|    human|https://en.wikipe...|          Zack Weiss|2024-11-07 16:48:55|    human|https://en.wikipe...|                Talk:Yunior Severino|2024-11-07 16:55:03|\n",
      "|       Braveattack|    human|https://ko.wikipe...|             르 시드|2024-11-07 16:48:58|    human|https://ko.wikipe...|              토론:미로슬라프 바르가|2024-11-12 15:22:40|\n",
      "|       Braveattack|    human|https://ko.wikipe...|             르 시드|2024-11-07 16:48:58|    human|https://ko.wikipe...|                  토론:에드워드 에츨|2024-11-12 15:22:42|\n",
      "|       Braveattack|    human|https://ko.wikipe...|             르 시드|2024-11-07 16:48:58|    human|https://ko.wikipe...|              토론:드미트로 모나코우|2024-11-12 15:23:03|\n",
      "|       Braveattack|    human|https://ko.wikipe...|             르 시드|2024-11-07 16:48:58|    human|https://ko.wikipe...|    토론:루차노 조반네티 (사격 선수)|2024-11-12 15:23:08|\n",
      "|       Braveattack|    human|https://ko.wikipe...|             르 시드|2024-11-07 16:48:58|    human|https://ko.wikipe...|          토론:피터 윌슨 (사격 선수)|2024-11-12 15:23:40|\n",
      "|       Braveattack|    human|https://ko.wikipe...|             르 시드|2024-11-07 16:48:58|    human|https://ko.wikipe...|                토론:아흐마드 알막툼|2024-11-12 15:23:45|\n",
      "|       Braveattack|    human|https://ko.wikipe...|             르 시드|2024-11-07 16:48:58|    human|https://ko.wikipe...|                토론:미하엘 야코지츠|2024-11-12 15:24:13|\n",
      "|       Braveattack|    human|https://ko.wikipe...|             르 시드|2024-11-07 16:48:58|    human|https://ko.wikipe...|                토론:만프레트 쿠르처|2024-11-12 15:24:28|\n",
      "|       Braveattack|    human|https://ko.wikipe...|             르 시드|2024-11-07 16:48:58|    human|https://ko.wikipe...|               토론:양링 (사격 선수)|2024-11-12 15:24:30|\n",
      "|       Braveattack|    human|https://ko.wikipe...|             르 시드|2024-11-07 16:48:58|    human|https://ko.wikipe...|                         토론:자잔보|2024-11-12 15:24:33|\n",
      "|       Braveattack|    human|https://ko.wikipe...|             르 시드|2024-11-07 16:48:58|    human|https://ko.wikipe...|                토론:흐라치야 ��티캰|2024-11-12 15:24:56|\n",
      "|       Braveattack|    human|https://ko.wikipe...|             르 시드|2024-11-07 16:48:58|    human|https://ko.wikipe...|                  토론:사이토 다쓰루|2024-11-12 15:24:58|\n",
      "|       Braveattack|    human|https://ko.wikipe...|             르 시드|2024-11-07 16:48:58|    human|https://ko.wikipe...|토론:여름이 끝날 무렵의 라트라비아타|2024-11-12 15:25:22|\n",
      "|       Braveattack|    human|https://ko.wikipe...|             르 시드|2024-11-07 16:48:58|    human|https://ko.wikipe...|                  토론:정직한 사람들|2024-11-12 15:25:29|\n",
      "|       Braveattack|    human|https://ko.wikipe...|             르 시드|2024-11-07 16:48:58|    human|https://ko.wikipe...|              토론:이스마일 하즈올루|2024-11-12 15:25:45|\n",
      "|       Braveattack|    human|https://ko.wikipe...|             르 시드|2024-11-07 16:48:58|    human|https://ko.wikipe...|                  토론:이무라 가즈키|2024-11-12 15:25:47|\n",
      "|InternetArchiveBot|      bot|https://kn.wikipe...|     ಬ್ರ್ಯಾಡ್‌ ಪಿಟ್‌|2024-11-07 16:48:56|      bot|https://ckb.wikip...|                وتووێژ:محەممەدڕەز...|2024-11-07 16:52:12|\n",
      "|            ValJor|    human|https://pt.wiktio...|Categoria:Dissíla...|2024-11-07 16:48:54|    human|https://pt.wiktio...|                Categoria:Entrada...|2024-11-07 16:51:52|\n",
      "+------------------+---------+--------------------+--------------------+-------------------+---------+--------------------+------------------------------------+-------------------+\n",
      "only showing top 20 rows\n",
      "\n"
     ]
    },
    {
     "name": "stderr",
     "output_type": "stream",
     "text": [
      "                                                                                \r"
     ]
    },
    {
     "name": "stdout",
     "output_type": "stream",
     "text": [
      "-------------------------------------------\n",
      "Batch: 63\n",
      "-------------------------------------------\n",
      "+--------------------+---------+--------------------+--------------------+-------------------+---------+--------------------+--------------------+-------------------+\n",
      "|           user_name|user_type|                 uri|               title|          timestamp|user_type|                 uri|               title|          timestamp|\n",
      "+--------------------+---------+--------------------+--------------------+-------------------+---------+--------------------+--------------------+-------------------+\n",
      "|                Qcne|    human|https://en.wikipe...|   User:Qcne/AfC log|2024-11-07 16:48:36|    human|https://en.wikipe...|   User talk:Zuraged|2024-11-07 16:48:47|\n",
      "|       Ariel Provost|    human|https://fr.wikipe...|Discussion utilis...|2024-11-07 16:49:01|    human|https://fr.wikipe...|Discussion utilis...|2024-11-07 16:53:37|\n",
      "|       Ariel Provost|    human|https://fr.wikipe...|Discussion utilis...|2024-11-07 16:49:01|    human|https://fr.wikipe...|Discussion utilis...|2024-11-12 15:24:12|\n",
      "|            Hameryko|    human|https://www.wikid...|     Lexeme:L1376322|2024-11-07 16:49:06|    human|https://www.wikid...|     Lexeme:L1376321|2024-11-07 16:48:39|\n",
      "|            Hameryko|    human|https://www.wikid...|     Lexeme:L1376322|2024-11-07 16:49:06|    human|https://www.wikid...|     Lexeme:L1376322|2024-11-07 16:49:00|\n",
      "|            Hameryko|    human|https://www.wikid...|     Lexeme:L1376322|2024-11-07 16:49:06|    human|https://www.wikid...|     Lexeme:L1376323|2024-11-07 16:51:28|\n",
      "|            Hameryko|    human|https://www.wikid...|     Lexeme:L1376322|2024-11-07 16:49:06|    human|https://www.wikid...|     Lexeme:L1376324|2024-11-07 16:52:16|\n",
      "|            Hameryko|    human|https://www.wikid...|     Lexeme:L1376322|2024-11-07 16:49:06|    human|https://www.wikid...|     Lexeme:L1376325|2024-11-07 16:52:42|\n",
      "|            Hameryko|    human|https://www.wikid...|     Lexeme:L1376322|2024-11-07 16:49:06|    human|https://www.wikid...|     Lexeme:L1376326|2024-11-07 16:52:46|\n",
      "|            Hameryko|    human|https://www.wikid...|     Lexeme:L1376322|2024-11-07 16:49:06|    human|https://www.wikid...|     Lexeme:L1376327|2024-11-07 16:54:50|\n",
      "|  InternetArchiveBot|      bot|https://zh.wikipe...|  約會大作戰劇集列表|2024-11-07 16:49:00|      bot|https://ckb.wikip...|وتووێژ:محەممەدڕەز...|2024-11-07 16:52:12|\n",
      "|  InternetArchiveBot|      bot|https://ru.wikipe...|  Хонг Мао и Лань Ту|2024-11-07 16:49:06|      bot|https://ckb.wikip...|وتووێژ:محەممەدڕەز...|2024-11-07 16:52:12|\n",
      "|  InternetArchiveBot|      bot|https://es.wikipe...|        Río Kirzhach|2024-11-07 16:49:06|      bot|https://ckb.wikip...|وتووێژ:محەممەدڕەز...|2024-11-07 16:52:12|\n",
      "|Pickersgill-Cunliffe|    human|https://en.wikipe...|         Dave Cantin|2024-11-07 16:49:05|    human|https://en.wikipe...|User talk:2A02:C7...|2024-11-07 16:49:07|\n",
      "|Pickersgill-Cunliffe|    human|https://en.wikipe...|         Dave Cantin|2024-11-07 16:49:05|    human|https://en.wikipe...|User talk:217.43....|2024-11-07 16:50:40|\n",
      "|Pickersgill-Cunliffe|    human|https://en.wikipe...|         Dave Cantin|2024-11-07 16:49:05|    human|https://en.wikipe...|User talk:78.172....|2024-11-07 16:55:16|\n",
      "|           Jason.nlw|    human|https://www.wikid...|          Q131013725|2024-11-07 16:49:02|    human|https://www.wikid...|          Q131013725|2024-11-07 16:48:42|\n",
      "|            Thiotrix|    human|https://www.wikid...|           Q18096946|2024-11-07 16:49:07|    human|https://species.w...|Category:Thomas J...|2024-11-07 16:51:48|\n",
      "|            Thiotrix|    human|https://www.wikid...|           Q18096946|2024-11-07 16:49:07|    human|https://species.w...|    Thomas Jurkschat|2024-11-07 16:54:34|\n",
      "|        Dorcas Atule|    human|https://www.wikid...|          Q131013723|2024-11-07 16:49:06|    human|https://www.wikid...|          Q131013723|2024-11-07 16:48:41|\n",
      "+--------------------+---------+--------------------+--------------------+-------------------+---------+--------------------+--------------------+-------------------+\n",
      "only showing top 20 rows\n",
      "\n"
     ]
    },
    {
     "name": "stderr",
     "output_type": "stream",
     "text": [
      "                                                                                \r"
     ]
    },
    {
     "name": "stdout",
     "output_type": "stream",
     "text": [
      "-------------------------------------------\n",
      "Batch: 64\n",
      "-------------------------------------------\n",
      "+---------------+---------+--------------------+--------------------+-------------------+---------+--------------------+--------------------+-------------------+\n",
      "|      user_name|user_type|                 uri|               title|          timestamp|user_type|                 uri|               title|          timestamp|\n",
      "+---------------+---------+--------------------+--------------------+-------------------+---------+--------------------+--------------------+-------------------+\n",
      "|       Bpierreb|    human|https://fr.wiktio...|affection de long...|2024-11-07 16:49:08|    human|https://fr.wiktio...|affections de lon...|2024-11-07 16:51:09|\n",
      "|       Hameryko|    human|https://www.wikid...|     Lexeme:L1376321|2024-11-07 16:49:14|    human|https://www.wikid...|     Lexeme:L1376321|2024-11-07 16:48:39|\n",
      "|       Hameryko|    human|https://www.wikid...|     Lexeme:L1376321|2024-11-07 16:49:14|    human|https://www.wikid...|     Lexeme:L1376322|2024-11-07 16:49:00|\n",
      "|       Hameryko|    human|https://www.wikid...|     Lexeme:L1376321|2024-11-07 16:49:14|    human|https://www.wikid...|     Lexeme:L1376323|2024-11-07 16:51:28|\n",
      "|       Hameryko|    human|https://www.wikid...|     Lexeme:L1376321|2024-11-07 16:49:14|    human|https://www.wikid...|     Lexeme:L1376324|2024-11-07 16:52:16|\n",
      "|       Hameryko|    human|https://www.wikid...|     Lexeme:L1376321|2024-11-07 16:49:14|    human|https://www.wikid...|     Lexeme:L1376325|2024-11-07 16:52:42|\n",
      "|       Hameryko|    human|https://www.wikid...|     Lexeme:L1376321|2024-11-07 16:49:14|    human|https://www.wikid...|     Lexeme:L1376326|2024-11-07 16:52:46|\n",
      "|       Hameryko|    human|https://www.wikid...|     Lexeme:L1376321|2024-11-07 16:49:14|    human|https://www.wikid...|     Lexeme:L1376327|2024-11-07 16:54:50|\n",
      "|EmpressHarmonic|    human|https://commons.w...|Category:Food of ...|2024-11-07 16:49:13|    human|https://commons.w...|Category:Prints o...|2024-11-12 15:24:20|\n",
      "|      Jason.nlw|    human|https://www.wikid...|          Q131013725|2024-11-07 16:49:09|    human|https://www.wikid...|          Q131013725|2024-11-07 16:48:42|\n",
      "|      Jason.nlw|    human|https://www.wikid...|          Q131013725|2024-11-07 16:49:15|    human|https://www.wikid...|          Q131013725|2024-11-07 16:48:42|\n",
      "|   KellyWendorf|    human|https://en.wikipe...|User:KellyWendorf...|2024-11-07 16:49:08|    human|https://en.wikipe...|User talk:KellyWe...|2024-11-07 16:49:09|\n",
      "|         MarSaf|    human|https://commons.w...|Category:Ametyevs...|2024-11-07 16:49:11|    human|https://commons.w...|Category:Ametyevs...|2024-11-07 16:49:01|\n",
      "|      Xacaranda|    human|https://es.wikipe...|          Sean Combs|2024-11-07 16:49:09|    human|https://es.wikipe...|Usuario discusión...|2024-11-07 16:51:23|\n",
      "|    Njaralibera|    human|https://mg.wiktio...|         ἀλετρίβανος|2024-11-07 16:49:10|    human|https://mg.wiktio...|              Ἀλιλάτ|2024-11-07 16:50:16|\n",
      "+---------------+---------+--------------------+--------------------+-------------------+---------+--------------------+--------------------+-------------------+\n",
      "\n"
     ]
    },
    {
     "name": "stderr",
     "output_type": "stream",
     "text": [
      "                                                                                \r"
     ]
    },
    {
     "name": "stdout",
     "output_type": "stream",
     "text": [
      "-------------------------------------------\n",
      "Batch: 65\n",
      "-------------------------------------------\n",
      "+-----------+---------+--------------------+---------------------+-------------------+---------+--------------------+-----------------------+-------------------+\n",
      "|  user_name|user_type|                 uri|                title|          timestamp|user_type|                 uri|                  title|          timestamp|\n",
      "+-----------+---------+--------------------+---------------------+-------------------+---------+--------------------+-----------------------+-------------------+\n",
      "|Eshaq Azizi|    human|https://ps.wikipe...|          نسیم پيدراد|2024-11-07 16:49:15|    human|https://ps.wikipe...|            نسیم پيدراد|2024-11-07 16:48:38|\n",
      "|    Tosefta|    human|https://www.wikid...|            Q12212399|2024-11-07 16:49:17|    human|https://he.wikipe...|               דיר כיפא|2024-11-07 16:49:15|\n",
      "|    Ardfern|    human|https://commons.w...| Category:Boeing 7...|2024-11-07 16:49:16|    human|https://commons.w...|   Category:Boeing 7...|2024-11-07 16:49:42|\n",
      "|    Ardfern|    human|https://commons.w...| Category:Boeing 7...|2024-11-07 16:49:16|    human|https://commons.w...|   Category:Boeing 7...|2024-11-07 16:51:03|\n",
      "|  Avestaboy|    human|https://ku.wikipe...| Kategorî:Şoreşger...|2024-11-07 16:49:21|    human|https://ku.wikipe...|   Kategorî:Serokdew...|2024-11-07 16:52:07|\n",
      "|BigBullfrog|    human|https://zh.wikipe...|Category:各大洲各國裔|2024-11-07 16:49:21|    human|https://zh.wikipe...|Category:拉丁美洲各国裔|2024-11-07 16:50:17|\n",
      "|BigBullfrog|    human|https://zh.wikipe...|Category:各大洲各國裔|2024-11-07 16:49:21|    human|https://zh.wikipe...|  Category:拉丁美洲国家|2024-11-07 16:50:56|\n",
      "|BigBullfrog|    human|https://zh.wikipe...|Category:各大洲各國裔|2024-11-07 16:49:21|    human|https://zh.wikipe...|Category:海外保加利亚人|2024-11-07 16:54:39|\n",
      "+-----------+---------+--------------------+---------------------+-------------------+---------+--------------------+-----------------------+-------------------+\n",
      "\n"
     ]
    },
    {
     "name": "stderr",
     "output_type": "stream",
     "text": [
      "                                                                                \r"
     ]
    },
    {
     "name": "stdout",
     "output_type": "stream",
     "text": [
      "-------------------------------------------\n",
      "Batch: 66\n",
      "-------------------------------------------\n",
      "+------------------+---------+--------------------+--------------------+-------------------+---------+--------------------+--------------------+-------------------+\n",
      "|         user_name|user_type|                 uri|               title|          timestamp|user_type|                 uri|               title|          timestamp|\n",
      "+------------------+---------+--------------------+--------------------+-------------------+---------+--------------------+--------------------+-------------------+\n",
      "|      Stephilippou|    human|https://el.wiktio...|            customer|2024-11-07 16:49:21|    human|https://el.wiktio...|           customers|2024-11-07 16:50:24|\n",
      "|       DavidMCEddy|    human|https://www.wikid...|          Q131013576|2024-11-07 16:49:27|    human|https://www.wikid...|          Q131013865|2024-11-07 16:52:16|\n",
      "|         Duppertip|    human|https://uk.wikipe...|Шаргородська місь...|2024-11-07 16:49:21|    human|https://uk.wikipe...|Категорія:Населен...|2024-11-07 16:51:28|\n",
      "|          Hameryko|    human|https://www.wikid...|     Lexeme:L1376322|2024-11-07 16:49:22|    human|https://www.wikid...|     Lexeme:L1376321|2024-11-07 16:48:39|\n",
      "|          Hameryko|    human|https://www.wikid...|     Lexeme:L1376322|2024-11-07 16:49:22|    human|https://www.wikid...|     Lexeme:L1376322|2024-11-07 16:49:00|\n",
      "|          Hameryko|    human|https://www.wikid...|     Lexeme:L1376322|2024-11-07 16:49:22|    human|https://www.wikid...|     Lexeme:L1376323|2024-11-07 16:51:28|\n",
      "|          Hameryko|    human|https://www.wikid...|     Lexeme:L1376322|2024-11-07 16:49:22|    human|https://www.wikid...|     Lexeme:L1376324|2024-11-07 16:52:16|\n",
      "|          Hameryko|    human|https://www.wikid...|     Lexeme:L1376322|2024-11-07 16:49:22|    human|https://www.wikid...|     Lexeme:L1376325|2024-11-07 16:52:42|\n",
      "|          Hameryko|    human|https://www.wikid...|     Lexeme:L1376322|2024-11-07 16:49:22|    human|https://www.wikid...|     Lexeme:L1376326|2024-11-07 16:52:46|\n",
      "|          Hameryko|    human|https://www.wikid...|     Lexeme:L1376322|2024-11-07 16:49:22|    human|https://www.wikid...|     Lexeme:L1376327|2024-11-07 16:54:50|\n",
      "|InternetArchiveBot|      bot|https://ru.wikine...|Тегеран вновь при...|2024-11-07 16:49:27|      bot|https://ckb.wikip...|وتووێژ:محەممەدڕەز...|2024-11-07 16:52:12|\n",
      "|   EmpressHarmonic|    human|https://commons.w...|Category:Dishes o...|2024-11-07 16:49:27|    human|https://commons.w...|Category:Prints o...|2024-11-12 15:24:20|\n",
      "|         Jason.nlw|    human|https://www.wikid...|          Q131013725|2024-11-07 16:49:27|    human|https://www.wikid...|          Q131013725|2024-11-07 16:48:42|\n",
      "|      Dorcas Atule|    human|https://www.wikid...|          Q131013723|2024-11-07 16:49:27|    human|https://www.wikid...|          Q131013723|2024-11-07 16:48:41|\n",
      "|      Dorcas Atule|    human|https://www.wikid...|          Q131013723|2024-11-07 16:49:27|    human|https://www.wikid...|          Q131013858|2024-11-07 16:52:07|\n",
      "|            MarSaf|    human|https://commons.w...|Category:Ametyevs...|2024-11-07 16:49:25|    human|https://commons.w...|Category:Ametyevs...|2024-11-07 16:49:01|\n",
      "+------------------+---------+--------------------+--------------------+-------------------+---------+--------------------+--------------------+-------------------+\n",
      "\n"
     ]
    },
    {
     "name": "stderr",
     "output_type": "stream",
     "text": [
      "                                                                                \r"
     ]
    },
    {
     "name": "stdout",
     "output_type": "stream",
     "text": [
      "-------------------------------------------\n",
      "Batch: 67\n",
      "-------------------------------------------\n",
      "+--------------+---------+--------------------+--------------------+-------------------+---------+--------------------+--------------------+-------------------+\n",
      "|     user_name|user_type|                 uri|               title|          timestamp|user_type|                 uri|               title|          timestamp|\n",
      "+--------------+---------+--------------------+--------------------+-------------------+---------+--------------------+--------------------+-------------------+\n",
      "|       Peadara|    human|https://www.wikid...|          Q115910318|2024-11-07 16:49:31|    human|https://ar.wikipe...|جائزة لاس فيغاس ا...|2024-11-07 16:48:37|\n",
      "|LearnKnowGive1|    human|https://www.wikid...|          Q131013740|2024-11-07 16:49:33|    human|https://www.wikid...|          Q131013740|2024-11-07 16:49:12|\n",
      "|LearnKnowGive1|    human|https://www.wikid...|          Q131013740|2024-11-07 16:49:33|    human|https://www.wikid...|          Q131013740|2024-11-07 16:49:12|\n",
      "|LearnKnowGive1|    human|https://www.wikid...|          Q131013740|2024-11-07 16:49:34|    human|https://www.wikid...|          Q131013740|2024-11-07 16:49:12|\n",
      "|    Spanneraol|    human|https://en.wikipe...|         Josh Winder|2024-11-07 16:49:29|    human|https://en.wikipe...|Talk:Yunior Severino|2024-11-07 16:55:03|\n",
      "|     Bonhoczys|    human|https://commons.w...|Category:Reformie...|2024-11-07 16:49:31|    human|https://commons.w...|Category:Religion...|2024-11-07 16:53:19|\n",
      "+--------------+---------+--------------------+--------------------+-------------------+---------+--------------------+--------------------+-------------------+\n",
      "\n"
     ]
    },
    {
     "name": "stderr",
     "output_type": "stream",
     "text": [
      "                                                                                \r"
     ]
    },
    {
     "name": "stdout",
     "output_type": "stream",
     "text": [
      "-------------------------------------------\n",
      "Batch: 68\n",
      "-------------------------------------------\n",
      "+------------------+---------+--------------------+--------------------+-------------------+---------+--------------------+--------------------+-------------------+\n",
      "|         user_name|user_type|                 uri|               title|          timestamp|user_type|                 uri|               title|          timestamp|\n",
      "+------------------+---------+--------------------+--------------------+-------------------+---------+--------------------+--------------------+-------------------+\n",
      "|       Eshaq Azizi|    human|https://ps.wikipe...|         نسیم پيدراد|2024-11-07 16:49:33|    human|https://ps.wikipe...|         نسیم پيدراد|2024-11-07 16:48:38|\n",
      "|       DavidMCEddy|    human|https://www.wikid...|          Q131013576|2024-11-07 16:49:36|    human|https://www.wikid...|          Q131013865|2024-11-07 16:52:16|\n",
      "|             Ulamm|    human|https://commons.w...|Category:St. Elis...|2024-11-07 16:49:36|    human|https://commons.w...|Category:Former s...|2024-11-07 16:52:20|\n",
      "|             Ulamm|    human|https://commons.w...|Category:St. Elis...|2024-11-07 16:49:36|    human|https://commons.w...|Category:Schools ...|2024-11-07 16:53:23|\n",
      "|             Ulamm|    human|https://commons.w...|Category:St. Elis...|2024-11-07 16:49:36|    human|https://commons.w...|Category:1960s ch...|2024-11-07 16:55:16|\n",
      "|InternetArchiveBot|      bot|https://en.wikipe...|       Jimmy Adegoke|2024-11-07 16:49:38|      bot|https://ckb.wikip...|وتووێژ:محەممەدڕەز...|2024-11-07 16:52:12|\n",
      "|         Jason.nlw|    human|https://www.wikid...|          Q131013725|2024-11-07 16:49:35|    human|https://www.wikid...|          Q131013725|2024-11-07 16:48:42|\n",
      "+------------------+---------+--------------------+--------------------+-------------------+---------+--------------------+--------------------+-------------------+\n",
      "\n"
     ]
    },
    {
     "name": "stderr",
     "output_type": "stream",
     "text": [
      "                                                                                \r"
     ]
    },
    {
     "name": "stdout",
     "output_type": "stream",
     "text": [
      "-------------------------------------------\n",
      "Batch: 69\n",
      "-------------------------------------------\n",
      "+------------------+---------+--------------------+--------------------+-------------------+---------+--------------------+--------------------+-------------------+\n",
      "|         user_name|user_type|                 uri|               title|          timestamp|user_type|                 uri|               title|          timestamp|\n",
      "+------------------+---------+--------------------+--------------------+-------------------+---------+--------------------+--------------------+-------------------+\n",
      "|           Voârlou|    human|https://en.wiktio...|              guiore|2024-11-07 16:49:44|    human|https://en.wiktio...|             dainsie|2024-11-07 16:52:27|\n",
      "|           Voârlou|    human|https://en.wiktio...|              guiore|2024-11-07 16:49:44|    human|https://en.wiktio...|             pyeuvre|2024-11-07 16:54:29|\n",
      "|           Tosefta|    human|https://he.wikipe...|            דיר כיפא|2024-11-07 16:49:44|    human|https://he.wikipe...|            דיר כיפא|2024-11-07 16:49:15|\n",
      "|            Rc1959|    human|https://commons.w...|File:Ivry (école ...|2024-11-07 16:49:39|    human|https://commons.w...|Category:Ivry-sur...|2024-11-07 16:50:35|\n",
      "|            Rc1959|    human|https://commons.w...|File:Ivry (école ...|2024-11-07 16:49:39|    human|https://commons.w...|Category:Val-de-M...|2024-11-07 16:51:35|\n",
      "|InternetArchiveBot|      bot|https://de.wikipe...|       Carmen Lomana|2024-11-07 16:49:39|      bot|https://ckb.wikip...|وتووێژ:محەممەدڕەز...|2024-11-07 16:52:12|\n",
      "|   EmpressHarmonic|    human|https://commons.w...|Category:Cuisine ...|2024-11-07 16:49:42|    human|https://commons.w...|Category:Prints o...|2024-11-12 15:24:20|\n",
      "|     Mr.Ibrahembot|      bot|https://ar.wikipe...|           آدم بيجلي|2024-11-07 16:49:37|      bot|https://ar.wikipe...|نقاش:جائزة لاس في...|2024-11-07 16:54:19|\n",
      "|      Andre Engels|    human|https://www.wikid...|          Q131013762|2024-11-07 16:49:44|    human|https://www.wikid...|          Q131013762|2024-11-07 16:49:41|\n",
      "|          Armbrust|    human|https://en.wikipe...|Wikipedia:Feature...|2024-11-07 16:49:44|    human|https://en.wikipe...|File:2021 stormin...|2024-11-07 16:49:44|\n",
      "|          Armbrust|    human|https://en.wikipe...|Template:Announce...|2024-11-07 16:49:45|    human|https://en.wikipe...|File:2021 stormin...|2024-11-07 16:49:44|\n",
      "|             DE8AH|    human|https://fr.wiktio...|        battagliarle|2024-11-07 16:49:44|    human|https://fr.wiktio...|Modèle:anagrammes...|2024-11-07 16:49:30|\n",
      "|             DE8AH|    human|https://fr.wiktio...|        battagliarle|2024-11-07 16:49:44|    human|https://fr.wiktio...|Modèle:anagrammes...|2024-11-07 16:49:59|\n",
      "|             DE8AH|    human|https://fr.wiktio...|        battagliarle|2024-11-07 16:49:44|    human|https://fr.wiktio...|Modèle:anagrammes...|2024-11-07 16:51:23|\n",
      "|             DE8AH|    human|https://fr.wiktio...|        battagliarle|2024-11-07 16:49:44|    human|https://fr.wiktio...|Modèle:anagrammes...|2024-11-07 16:51:37|\n",
      "|             DE8AH|    human|https://fr.wiktio...|        battagliarle|2024-11-07 16:49:44|    human|https://fr.wiktio...|Modèle:anagrammes...|2024-11-07 16:52:20|\n",
      "|             DE8AH|    human|https://fr.wiktio...|        battagliarle|2024-11-07 16:49:44|    human|https://fr.wiktio...|Modèle:anagrammes...|2024-11-07 16:52:48|\n",
      "|             DE8AH|    human|https://fr.wiktio...|        battagliarle|2024-11-07 16:49:44|    human|https://fr.wiktio...|Modèle:anagrammes...|2024-11-07 16:55:16|\n",
      "|             DE8AH|    human|https://fr.wiktio...|        battagliarle|2024-11-07 16:49:44|    human|https://fr.wiktio...|Modèle:anagrammes...|2024-11-12 15:23:11|\n",
      "|       Njaralibera|    human|https://mg.wiktio...|                ἁλία|2024-11-07 16:49:43|    human|https://mg.wiktio...|              Ἀλιλάτ|2024-11-07 16:50:16|\n",
      "+------------------+---------+--------------------+--------------------+-------------------+---------+--------------------+--------------------+-------------------+\n",
      "only showing top 20 rows\n",
      "\n"
     ]
    },
    {
     "name": "stderr",
     "output_type": "stream",
     "text": [
      "                                                                                \r"
     ]
    },
    {
     "name": "stdout",
     "output_type": "stream",
     "text": [
      "-------------------------------------------\n",
      "Batch: 70\n",
      "-------------------------------------------\n",
      "+--------------------+---------+--------------------+--------------------+-------------------+---------+--------------------+--------------------+-------------------+\n",
      "|           user_name|user_type|                 uri|               title|          timestamp|user_type|                 uri|               title|          timestamp|\n",
      "+--------------------+---------+--------------------+--------------------+-------------------+---------+--------------------+--------------------+-------------------+\n",
      "|              Drm310|    human|https://en.wikipe...|   User:Jordan Samhi|2024-11-07 16:49:47|    human|https://en.wikipe...|User talk:Jordan ...|2024-11-07 16:49:51|\n",
      "|      LearnKnowGive1|    human|https://www.wikid...|          Q131013740|2024-11-07 16:49:47|    human|https://www.wikid...|          Q131013740|2024-11-07 16:49:12|\n",
      "|            Laffuble|    human|https://en.wikipe...|    User talk:Gnoeee|2024-11-07 16:49:45|    human|https://en.wikipe...|       User:Laffuble|2024-11-07 16:51:44|\n",
      "|Noah.Albert.ZivMilFü|    human|https://commons.w...|File:Defense.gov ...|2024-11-07 16:49:47|    human|https://commons.w...|Category:People w...|2024-11-07 16:50:08|\n",
      "|           Jason.nlw|    human|https://www.wikid...|          Q131013725|2024-11-07 16:49:46|    human|https://www.wikid...|          Q131013725|2024-11-07 16:48:42|\n",
      "|    Michael.C.Wright|    human|https://www.wikid...|          Q131013759|2024-11-07 16:49:50|    human|https://www.wikid...|          Q131013759|2024-11-07 16:49:38|\n",
      "|            Armbrust|    human|https://en.wikipe...|Wikipedia:Feature...|2024-11-07 16:49:44|    human|https://en.wikipe...|File:2021 stormin...|2024-11-07 16:49:44|\n",
      "|            Armbrust|    human|https://en.wikipe...|Wikipedia:Feature...|2024-11-07 16:49:45|    human|https://en.wikipe...|File:2021 stormin...|2024-11-07 16:49:44|\n",
      "|            Armbrust|    human|https://en.wikipe...| Wikipedia:Goings-on|2024-11-07 16:49:44|    human|https://en.wikipe...|File:2021 stormin...|2024-11-07 16:49:44|\n",
      "|            Armbrust|    human|https://en.wikipe...|Wikipedia:Feature...|2024-11-07 16:49:46|    human|https://en.wikipe...|File:2021 stormin...|2024-11-07 16:49:44|\n",
      "|            Armbrust|    human|https://en.wikipe...|Wikipedia:Feature...|2024-11-07 16:49:46|    human|https://en.wikipe...|File:2021 stormin...|2024-11-07 16:49:44|\n",
      "|        Dorcas Atule|    human|https://www.wikid...|          Q131013723|2024-11-07 16:49:49|    human|https://www.wikid...|          Q131013723|2024-11-07 16:48:41|\n",
      "|        Dorcas Atule|    human|https://www.wikid...|          Q131013723|2024-11-07 16:49:49|    human|https://www.wikid...|          Q131013858|2024-11-07 16:52:07|\n",
      "+--------------------+---------+--------------------+--------------------+-------------------+---------+--------------------+--------------------+-------------------+\n",
      "\n"
     ]
    },
    {
     "name": "stderr",
     "output_type": "stream",
     "text": [
      "                                                                                \r"
     ]
    },
    {
     "name": "stdout",
     "output_type": "stream",
     "text": [
      "-------------------------------------------\n",
      "Batch: 71\n",
      "-------------------------------------------\n",
      "+-----------+---------+--------------------+--------------------+-------------------+---------+--------------------+--------------------+-------------------+\n",
      "|  user_name|user_type|                 uri|               title|          timestamp|user_type|                 uri|               title|          timestamp|\n",
      "+-----------+---------+--------------------+--------------------+-------------------+---------+--------------------+--------------------+-------------------+\n",
      "|Dragonoid76|    human|https://en.wiktio...|                खनति|2024-11-07 16:49:47|    human|https://en.wiktio...|            खनिष्यति|2024-11-07 16:52:12|\n",
      "|Dragonoid76|    human|https://en.wiktio...|                खनति|2024-11-07 16:49:47|    human|https://en.wiktio...|               खनिता|2024-11-07 16:52:38|\n",
      "|Dragonoid76|    human|https://en.wiktio...|                खनति|2024-11-07 16:49:47|    human|https://en.wiktio...|              अखनीत्|2024-11-07 16:53:39|\n",
      "|Dragonoid76|    human|https://en.wiktio...|                खनति|2024-11-07 16:49:47|    human|https://en.wiktio...|             अखानीत्|2024-11-07 16:53:52|\n",
      "|Dragonoid76|    human|https://en.wiktio...|                खनति|2024-11-07 16:49:47|    human|https://en.wiktio...|             खन्यात्|2024-11-07 16:54:51|\n",
      "|Dragonoid76|    human|https://en.wiktio...|                खनति|2024-11-07 16:49:47|    human|https://en.wiktio...|              खायात्|2024-11-07 16:55:15|\n",
      "|   Armbrust|    human|https://en.wikipe...|Wikipedia:Feature...|2024-11-07 16:49:53|    human|https://en.wikipe...|File:2021 stormin...|2024-11-07 16:49:44|\n",
      "|        Mpn|    human|https://pl.wikipe...|   Nitidula carnaria|2024-11-07 16:49:53|    human|https://pl.wikipe...|Wikiprojekt:Czy w...|2024-11-07 16:51:25|\n",
      "|        Mpn|    human|https://pl.wikipe...|   Nitidula carnaria|2024-11-07 16:49:53|    human|https://pl.wikipe...|Wikipedia:Poczeka...|2024-11-07 16:55:09|\n",
      "|     Abxbay|    human|https://commons.w...|File:Everardo Dia...|2024-11-07 16:49:50|    human|https://commons.w...|Category:Everardo...|2024-11-07 16:50:30|\n",
      "|     Abxbay|    human|https://commons.w...|File:Everardo Dia...|2024-11-07 16:49:50|    human|https://commons.w...|Category:Everardu...|2024-11-07 16:52:04|\n",
      "|     Abxbay|    human|https://commons.w...|File:Everardo Dia...|2024-11-07 16:49:50|    human|https://commons.w...|Category:Everart ...|2024-11-07 16:53:31|\n",
      "+-----------+---------+--------------------+--------------------+-------------------+---------+--------------------+--------------------+-------------------+\n",
      "\n"
     ]
    },
    {
     "name": "stderr",
     "output_type": "stream",
     "text": [
      "                                                                                \r"
     ]
    },
    {
     "name": "stdout",
     "output_type": "stream",
     "text": [
      "-------------------------------------------\n",
      "Batch: 72\n",
      "-------------------------------------------\n",
      "+------------------+---------+--------------------+--------------------+-------------------+---------+--------------------+--------------------+-------------------+\n",
      "|         user_name|user_type|                 uri|               title|          timestamp|user_type|                 uri|               title|          timestamp|\n",
      "+------------------+---------+--------------------+--------------------+-------------------+---------+--------------------+--------------------+-------------------+\n",
      "|    LearnKnowGive1|    human|https://www.wikid...|          Q131013740|2024-11-07 16:49:57|    human|https://www.wikid...|          Q131013740|2024-11-07 16:49:12|\n",
      "|       DavidMCEddy|    human|https://www.wikid...|          Q131013576|2024-11-07 16:50:00|    human|https://www.wikid...|          Q131013865|2024-11-07 16:52:16|\n",
      "|InternetArchiveBot|      bot|https://kn.wikipe...|              ಬ್ಲಾಗ್|2024-11-07 16:50:00|      bot|https://ckb.wikip...|وتووێژ:محەممەدڕەز...|2024-11-07 16:52:12|\n",
      "|        Igor123121|    human|https://pl.wikine...|Album Doja Cat „A...|2024-11-07 16:49:59|    human|https://pl.wikine...|Album Doja Cat „A...|2024-11-07 16:49:45|\n",
      "|        Igor123121|    human|https://pl.wikine...|Album Doja Cat „A...|2024-11-07 16:49:59|    human|https://www.wikid...|          Q131013770|2024-11-07 16:49:50|\n",
      "|        Igor123121|    human|https://pl.wikine...|Album Doja Cat „A...|2024-11-07 16:49:59|    human|https://pl.wikine...|Album Jessie Ware...|2024-11-07 16:51:18|\n",
      "|        Igor123121|    human|https://pl.wikine...|Album Doja Cat „A...|2024-11-07 16:49:59|    human|https://www.wikid...|          Q131013833|2024-11-07 16:51:26|\n",
      "|        Igor123121|    human|https://pl.wikine...|Album Doja Cat „A...|2024-11-07 16:49:59|    human|https://pl.wikine...|Album Juice Wrld ...|2024-11-07 16:54:01|\n",
      "|   EmpressHarmonic|    human|https://commons.w...|Category:Food fes...|2024-11-07 16:50:01|    human|https://commons.w...|Category:Prints o...|2024-11-12 15:24:20|\n",
      "|  Michael.C.Wright|    human|https://www.wikid...|          Q131013759|2024-11-07 16:49:58|    human|https://www.wikid...|          Q131013759|2024-11-07 16:49:38|\n",
      "|          Sławobóg|    human|https://www.wikid...|          Q105048369|2024-11-07 16:49:59|    human|https://hsb.wikti...|Modul:message box...|2024-11-07 16:48:47|\n",
      "|          Sławobóg|    human|https://www.wikid...|          Q105048369|2024-11-07 16:49:59|    human|https://hsb.wikti...|Modul:category tr...|2024-11-07 16:49:50|\n",
      "|          Sławobóg|    human|https://www.wikid...|          Q105048369|2024-11-07 16:49:59|    human|https://hsb.wikti...|Modul:category tr...|2024-11-07 16:50:40|\n",
      "|          Sławobóg|    human|https://www.wikid...|          Q105048369|2024-11-07 16:49:59|    human|https://hsb.wikti...|Modul:category tr...|2024-11-07 16:51:33|\n",
      "|          Sławobóg|    human|https://www.wikid...|          Q105048369|2024-11-07 16:49:59|    human|https://hsb.wikti...|Modul:category tr...|2024-11-07 16:52:34|\n",
      "|          Sławobóg|    human|https://www.wikid...|          Q105048369|2024-11-07 16:49:59|    human|https://hsb.wikti...|Modul:category tr...|2024-11-07 16:53:34|\n",
      "+------------------+---------+--------------------+--------------------+-------------------+---------+--------------------+--------------------+-------------------+\n",
      "\n"
     ]
    },
    {
     "name": "stderr",
     "output_type": "stream",
     "text": [
      "                                                                                \r"
     ]
    },
    {
     "name": "stdout",
     "output_type": "stream",
     "text": [
      "-------------------------------------------\n",
      "Batch: 73\n",
      "-------------------------------------------\n",
      "+--------------------+---------+--------------------+--------------------+-------------------+---------+--------------------+--------------------+-------------------+\n",
      "|           user_name|user_type|                 uri|               title|          timestamp|user_type|                 uri|               title|          timestamp|\n",
      "+--------------------+---------+--------------------+--------------------+-------------------+---------+--------------------+--------------------+-------------------+\n",
      "|      LearnKnowGive1|    human|https://www.wikid...|          Q131013740|2024-11-07 16:50:03|    human|https://www.wikid...|          Q131013740|2024-11-07 16:49:12|\n",
      "|          Igor123121|    human|https://www.wikid...|          Q131013770|2024-11-07 16:50:06|    human|https://pl.wikine...|Album Doja Cat „A...|2024-11-07 16:49:45|\n",
      "|          Igor123121|    human|https://www.wikid...|          Q131013770|2024-11-07 16:50:06|    human|https://www.wikid...|          Q131013770|2024-11-07 16:49:50|\n",
      "|          Igor123121|    human|https://www.wikid...|          Q131013770|2024-11-07 16:50:06|    human|https://pl.wikine...|Album Jessie Ware...|2024-11-07 16:51:18|\n",
      "|          Igor123121|    human|https://www.wikid...|          Q131013770|2024-11-07 16:50:06|    human|https://www.wikid...|          Q131013833|2024-11-07 16:51:26|\n",
      "|          Igor123121|    human|https://www.wikid...|          Q131013770|2024-11-07 16:50:06|    human|https://pl.wikine...|Album Juice Wrld ...|2024-11-07 16:54:01|\n",
      "|           Bonhoczys|    human|https://commons.w...|Category:Kloster ...|2024-11-07 16:50:08|    human|https://commons.w...|Category:Religion...|2024-11-07 16:53:19|\n",
      "|The Squirrel Cons...|    human|https://commons.w...|File:Pdfresizer.c...|2024-11-07 16:50:05|    human|https://commons.w...|Commons:Deletion ...|2024-11-07 16:50:06|\n",
      "|The Squirrel Cons...|    human|https://commons.w...|User talk:Pandude...|2024-11-07 16:50:08|    human|https://commons.w...|Commons:Deletion ...|2024-11-07 16:50:06|\n",
      "|    Michael.C.Wright|    human|https://www.wikid...|          Q131013759|2024-11-07 16:50:06|    human|https://www.wikid...|          Q131013759|2024-11-07 16:49:38|\n",
      "|        Dorcas Atule|    human|https://www.wikid...|          Q131013723|2024-11-07 16:50:07|    human|https://www.wikid...|          Q131013723|2024-11-07 16:48:41|\n",
      "|        Dorcas Atule|    human|https://www.wikid...|          Q131013723|2024-11-07 16:50:07|    human|https://www.wikid...|          Q131013858|2024-11-07 16:52:07|\n",
      "|            Ясамойла|    human|https://be-tarask...|Катэгорыя:Драматы...|2024-11-07 16:50:03|    human|https://be-tarask...|Катэгорыя:Драматы...|2024-11-07 16:49:37|\n",
      "|            Ясамойла|    human|https://be-tarask...|Катэгорыя:Драматы...|2024-11-07 16:50:03|    human|https://be-tarask...|Катэгорыя:Японскі...|2024-11-07 16:51:59|\n",
      "|            Ясамойла|    human|https://be-tarask...|Катэгорыя:Драматы...|2024-11-07 16:50:03|    human|https://be-tarask...|Катэгорыя:Гістары...|2024-11-07 16:55:08|\n",
      "|            SchroCat|    human|https://en.wikipe...|Wikipedia:Feature...|2024-11-07 16:49:53|    human|https://en.wikipe...|Wikipedia:Feature...|2024-11-07 16:48:46|\n",
      "|      SrpskiAnonimac|    human|https://sr.wikipe...|         Sava Centar|2024-11-07 16:50:04|    human|https://sr.wikipe...|       Центар \"Сава\"|2024-11-07 16:49:20|\n",
      "|              Namiba|    human|https://en.wikipe...| Phoenix Banat Storm|2024-11-07 16:50:07|    human|https://en.wikipe...|Category:Soccer c...|2024-11-07 16:50:29|\n",
      "|              Namiba|    human|https://en.wikipe...| Phoenix Banat Storm|2024-11-07 16:50:07|    human|https://en.wikipe...|Category:Sports c...|2024-11-07 16:51:05|\n",
      "|              Namiba|    human|https://en.wikipe...| Phoenix Banat Storm|2024-11-07 16:50:07|    human|https://en.wikipe...|Category:College ...|2024-11-12 15:24:07|\n",
      "+--------------------+---------+--------------------+--------------------+-------------------+---------+--------------------+--------------------+-------------------+\n",
      "\n"
     ]
    },
    {
     "name": "stderr",
     "output_type": "stream",
     "text": [
      "                                                                                \r"
     ]
    },
    {
     "name": "stdout",
     "output_type": "stream",
     "text": [
      "-------------------------------------------\n",
      "Batch: 74\n",
      "-------------------------------------------\n",
      "+--------------------+---------+--------------------+--------------------+-------------------+---------+--------------------+--------------------+-------------------+\n",
      "|           user_name|user_type|                 uri|               title|          timestamp|user_type|                 uri|               title|          timestamp|\n",
      "+--------------------+---------+--------------------+--------------------+-------------------+---------+--------------------+--------------------+-------------------+\n",
      "|        Stephilippou|    human|https://el.wiktio...|            customer|2024-11-07 16:50:11|    human|https://el.wiktio...|           customers|2024-11-07 16:50:24|\n",
      "|          Lakejason0|    human|https://www.media...|Template:MediaWik...|2024-11-07 16:50:10|    human|https://www.media...|Translations:Temp...|2024-11-07 16:50:08|\n",
      "|          Lakejason0|    human|https://www.media...|Template:MediaWik...|2024-11-07 16:50:10|    human|https://www.media...|Translations:Temp...|2024-11-07 16:50:50|\n",
      "|          Lakejason0|    human|https://www.media...|Template:MediaWik...|2024-11-07 16:50:10|    human|https://www.media...|Translations:Temp...|2024-11-07 16:54:41|\n",
      "|              Rc1959|    human|https://commons.w...|File:Gare frigori...|2024-11-07 16:50:09|    human|https://commons.w...|Category:Ivry-sur...|2024-11-07 16:50:35|\n",
      "|              Rc1959|    human|https://commons.w...|File:Gare frigori...|2024-11-07 16:50:09|    human|https://commons.w...|Category:Val-de-M...|2024-11-07 16:51:35|\n",
      "|               Ulamm|    human|https://commons.w...|Category:St. Elis...|2024-11-07 16:50:11|    human|https://commons.w...|Category:Former s...|2024-11-07 16:52:20|\n",
      "|               Ulamm|    human|https://commons.w...|Category:St. Elis...|2024-11-07 16:50:11|    human|https://commons.w...|Category:Schools ...|2024-11-07 16:53:23|\n",
      "|               Ulamm|    human|https://commons.w...|Category:St. Elis...|2024-11-07 16:50:11|    human|https://commons.w...|Category:1960s ch...|2024-11-07 16:55:16|\n",
      "|           Jason.nlw|    human|https://www.wikid...|          Q131013725|2024-11-07 16:50:10|    human|https://www.wikid...|          Q131013725|2024-11-07 16:48:42|\n",
      "|The Squirrel Cons...|    human|https://commons.w...|Commons:Deletion ...|2024-11-07 16:50:07|    human|https://commons.w...|Commons:Deletion ...|2024-11-07 16:50:06|\n",
      "|    Michael.C.Wright|    human|https://www.wikid...|          Q131013759|2024-11-07 16:50:14|    human|https://www.wikid...|          Q131013759|2024-11-07 16:49:38|\n",
      "|             StarDeg|    human|https://www.wikid...|             Q574896|2024-11-07 16:50:15|    human|https://be.wikipe...|         Рэйчэл Рыўз|2024-11-07 16:49:48|\n",
      "|          M2k~dewiki|    human|https://de.wikipe...|Karl Heinrich Lieser|2024-11-07 16:50:09|    human|https://www.wikid...|          Q131013834|2024-11-07 16:51:26|\n",
      "|          M2k~dewiki|    human|https://de.wikipe...|Karl Heinrich Lieser|2024-11-07 16:50:09|    human|https://www.wikid...|          Q131013889|2024-11-07 16:52:59|\n",
      "|                 Mpn|    human|https://pl.wikipe...|   Nitidula carnaria|2024-11-07 16:50:13|    human|https://pl.wikipe...|Wikiprojekt:Czy w...|2024-11-07 16:51:25|\n",
      "|                 Mpn|    human|https://pl.wikipe...|   Nitidula carnaria|2024-11-07 16:50:13|    human|https://pl.wikipe...|Wikipedia:Poczeka...|2024-11-07 16:55:09|\n",
      "|               DE8AH|    human|https://fr.wiktio...|      mammoleggiarle|2024-11-07 16:50:13|    human|https://fr.wiktio...|Modèle:anagrammes...|2024-11-07 16:49:30|\n",
      "|               DE8AH|    human|https://fr.wiktio...|      mammoleggiarle|2024-11-07 16:50:13|    human|https://fr.wiktio...|Modèle:anagrammes...|2024-11-07 16:49:59|\n",
      "|               DE8AH|    human|https://fr.wiktio...|      mammoleggiarle|2024-11-07 16:50:13|    human|https://fr.wiktio...|Modèle:anagrammes...|2024-11-07 16:51:23|\n",
      "+--------------------+---------+--------------------+--------------------+-------------------+---------+--------------------+--------------------+-------------------+\n",
      "only showing top 20 rows\n",
      "\n"
     ]
    },
    {
     "name": "stderr",
     "output_type": "stream",
     "text": [
      "                                                                                \r"
     ]
    },
    {
     "name": "stdout",
     "output_type": "stream",
     "text": [
      "-------------------------------------------\n",
      "Batch: 75\n",
      "-------------------------------------------\n",
      "+--------------------+---------+--------------------+--------------------+-------------------+---------+--------------------+--------------------+-------------------+\n",
      "|           user_name|user_type|                 uri|               title|          timestamp|user_type|                 uri|               title|          timestamp|\n",
      "+--------------------+---------+--------------------+--------------------+-------------------+---------+--------------------+--------------------+-------------------+\n",
      "|             Voârlou|    human|https://en.wiktio...|               marci|2024-11-07 16:50:18|    human|https://en.wiktio...|             dainsie|2024-11-07 16:52:27|\n",
      "|             Voârlou|    human|https://en.wiktio...|               marci|2024-11-07 16:50:18|    human|https://en.wiktio...|             pyeuvre|2024-11-07 16:54:29|\n",
      "|      LearnKnowGive1|    human|https://www.wikid...|          Q131013740|2024-11-07 16:50:19|    human|https://www.wikid...|          Q131013740|2024-11-07 16:49:12|\n",
      "|Noah.Albert.ZivMilFü|    human|https://commons.w...|Category:People w...|2024-11-07 16:50:22|    human|https://commons.w...|Category:People w...|2024-11-07 16:50:08|\n",
      "|Pickersgill-Cunliffe|    human|https://en.wikipe...|User talk:False i...|2024-11-07 16:50:20|    human|https://en.wikipe...|User talk:2A02:C7...|2024-11-07 16:49:07|\n",
      "|Pickersgill-Cunliffe|    human|https://en.wikipe...|User talk:False i...|2024-11-07 16:50:20|    human|https://en.wikipe...|User talk:217.43....|2024-11-07 16:50:40|\n",
      "|Pickersgill-Cunliffe|    human|https://en.wikipe...|User talk:False i...|2024-11-07 16:50:20|    human|https://en.wikipe...|User talk:78.172....|2024-11-07 16:55:16|\n",
      "|Pickersgill-Cunliffe|    human|https://en.wikipe...|         Bow Wow Wow|2024-11-07 16:50:18|    human|https://en.wikipe...|User talk:2A02:C7...|2024-11-07 16:49:07|\n",
      "|Pickersgill-Cunliffe|    human|https://en.wikipe...|         Bow Wow Wow|2024-11-07 16:50:18|    human|https://en.wikipe...|User talk:217.43....|2024-11-07 16:50:40|\n",
      "|Pickersgill-Cunliffe|    human|https://en.wikipe...|         Bow Wow Wow|2024-11-07 16:50:18|    human|https://en.wikipe...|User talk:78.172....|2024-11-07 16:55:16|\n",
      "|     EmpressHarmonic|    human|https://commons.w...|Category:Food mar...|2024-11-07 16:50:18|    human|https://commons.w...|Category:Prints o...|2024-11-12 15:24:20|\n",
      "|    Michael.C.Wright|    human|https://www.wikid...|          Q131013759|2024-11-07 16:50:23|    human|https://www.wikid...|          Q131013759|2024-11-07 16:49:38|\n",
      "|         Craigysgafn|    human|https://cy.wikipe...|Categori:Aelodau ...|2024-11-07 16:50:20|    human|https://cy.wikipe...|Categori:Gwleidyd...|2024-11-07 16:49:47|\n",
      "+--------------------+---------+--------------------+--------------------+-------------------+---------+--------------------+--------------------+-------------------+\n",
      "\n"
     ]
    },
    {
     "name": "stderr",
     "output_type": "stream",
     "text": [
      "                                                                                \r"
     ]
    },
    {
     "name": "stdout",
     "output_type": "stream",
     "text": [
      "-------------------------------------------\n",
      "Batch: 76\n",
      "-------------------------------------------\n",
      "+-------------------+---------+--------------------+--------------------+-------------------+---------+--------------------+-----------------------+-------------------+\n",
      "|          user_name|user_type|                 uri|               title|          timestamp|user_type|                 uri|                  title|          timestamp|\n",
      "+-------------------+---------+--------------------+--------------------+-------------------+---------+--------------------+-----------------------+-------------------+\n",
      "|        DavidMCEddy|    human|https://www.wikid...|          Q131013576|2024-11-07 16:50:27|    human|https://www.wikid...|             Q131013865|2024-11-07 16:52:16|\n",
      "| InternetArchiveBot|      bot|https://tr.wikipe...|            Moo Deng|2024-11-07 16:50:28|      bot|https://ckb.wikip...|   وتووێژ:محەممەدڕەز...|2024-11-07 16:52:12|\n",
      "|      Mr.Ibrahembot|      bot|https://www.wikid...|          Q131013797|2024-11-07 16:50:29|      bot|https://ar.wikipe...|   نقاش:ج��ئزة لاس في...|2024-11-07 16:54:19|\n",
      "|           Ясамойла|    human|https://www.wikid...|            Q8562503|2024-11-07 16:50:25|    human|https://be-tarask...|   Катэгорыя:Драматы...|2024-11-07 16:49:37|\n",
      "|           Ясамойла|    human|https://www.wikid...|            Q8562503|2024-11-07 16:50:25|    human|https://be-tarask...|   Катэгорыя:Японскі...|2024-11-07 16:51:59|\n",
      "|           Ясамойла|    human|https://www.wikid...|            Q8562503|2024-11-07 16:50:25|    human|https://be-tarask...|   Катэгорыя:Гістары...|2024-11-07 16:55:08|\n",
      "|        BigBullfrog|    human|https://www.wikid...|          Q110819525|2024-11-07 16:50:29|    human|https://zh.wikipe...|Category:拉丁美洲各国裔|2024-11-07 16:50:17|\n",
      "|        BigBullfrog|    human|https://www.wikid...|          Q110819525|2024-11-07 16:50:29|    human|https://zh.wikipe...|  Category:拉丁美洲国家|2024-11-07 16:50:56|\n",
      "|        BigBullfrog|    human|https://www.wikid...|          Q110819525|2024-11-07 16:50:29|    human|https://zh.wikipe...|Category:海外保加利亚人|2024-11-07 16:54:39|\n",
      "|              DE8AH|    human|https://fr.wiktio...|Modèle:anagrammes...|2024-11-07 16:50:27|    human|https://fr.wiktio...|   Modèle:anagrammes...|2024-11-07 16:49:30|\n",
      "|              DE8AH|    human|https://fr.wiktio...|Modèle:anagrammes...|2024-11-07 16:50:27|    human|https://fr.wiktio...|   Modèle:anagrammes...|2024-11-07 16:49:59|\n",
      "|              DE8AH|    human|https://fr.wiktio...|Modèle:anagrammes...|2024-11-07 16:50:27|    human|https://fr.wiktio...|   Modèle:anagrammes...|2024-11-07 16:51:23|\n",
      "|              DE8AH|    human|https://fr.wiktio...|Modèle:anagrammes...|2024-11-07 16:50:27|    human|https://fr.wiktio...|   Modèle:anagrammes...|2024-11-07 16:51:37|\n",
      "|              DE8AH|    human|https://fr.wiktio...|Modèle:anagrammes...|2024-11-07 16:50:27|    human|https://fr.wiktio...|   Modèle:anagrammes...|2024-11-07 16:52:20|\n",
      "|              DE8AH|    human|https://fr.wiktio...|Modèle:anagrammes...|2024-11-07 16:50:27|    human|https://fr.wiktio...|   Modèle:anagrammes...|2024-11-07 16:52:48|\n",
      "|              DE8AH|    human|https://fr.wiktio...|Modèle:anagrammes...|2024-11-07 16:50:27|    human|https://fr.wiktio...|   Modèle:anagrammes...|2024-11-07 16:55:16|\n",
      "|              DE8AH|    human|https://fr.wiktio...|Modèle:anagrammes...|2024-11-07 16:50:27|    human|https://fr.wiktio...|   Modèle:anagrammes...|2024-11-12 15:23:11|\n",
      "|               YBot|      bot|https://tr.wikipe...|       Berhan Şimşek|2024-11-07 16:50:22|      bot|https://tr.wikipe...|   Kullanıcı mesaj:B...|2024-11-12 15:24:33|\n",
      "|               YBot|      bot|https://tr.wikipe...|Şablon:Görevliler...|2024-11-07 16:50:23|      bot|https://tr.wikipe...|   Kullanıcı mesaj:B...|2024-11-12 15:24:33|\n",
      "|محمد أمين الطرابلسي|    human|https://fr.wikipe...|Affaire Baltasar ...|2024-11-07 16:50:26|    human|https://en.wikipe...|   2023 UNAF U-20 To...|2024-11-12 15:25:32|\n",
      "+-------------------+---------+--------------------+--------------------+-------------------+---------+--------------------+-----------------------+-------------------+\n",
      "\n"
     ]
    },
    {
     "name": "stderr",
     "output_type": "stream",
     "text": [
      "                                                                                \r"
     ]
    },
    {
     "name": "stdout",
     "output_type": "stream",
     "text": [
      "-------------------------------------------\n",
      "Batch: 77\n",
      "-------------------------------------------\n",
      "+-------------+---------+--------------------+--------------------+-------------------+---------+--------------------+--------------------+-------------------+\n",
      "|    user_name|user_type|                 uri|               title|          timestamp|user_type|                 uri|               title|          timestamp|\n",
      "+-------------+---------+--------------------+--------------------+-------------------+---------+--------------------+--------------------+-------------------+\n",
      "|         Qcne|    human|https://en.wikipe...| User talk:Haybale23|2024-11-07 16:50:33|    human|https://en.wikipe...|   User talk:Zuraged|2024-11-07 16:48:47|\n",
      "|     Hameryko|    human|https://www.wikid...|     Lexeme:L1376321|2024-11-07 16:50:33|    human|https://www.wikid...|     Lexeme:L1376321|2024-11-07 16:48:39|\n",
      "|     Hameryko|    human|https://www.wikid...|     Lexeme:L1376321|2024-11-07 16:50:33|    human|https://www.wikid...|     Lexeme:L1376322|2024-11-07 16:49:00|\n",
      "|     Hameryko|    human|https://www.wikid...|     Lexeme:L1376321|2024-11-07 16:50:33|    human|https://www.wikid...|     Lexeme:L1376323|2024-11-07 16:51:28|\n",
      "|     Hameryko|    human|https://www.wikid...|     Lexeme:L1376321|2024-11-07 16:50:33|    human|https://www.wikid...|     Lexeme:L1376324|2024-11-07 16:52:16|\n",
      "|     Hameryko|    human|https://www.wikid...|     Lexeme:L1376321|2024-11-07 16:50:33|    human|https://www.wikid...|     Lexeme:L1376325|2024-11-07 16:52:42|\n",
      "|     Hameryko|    human|https://www.wikid...|     Lexeme:L1376321|2024-11-07 16:50:33|    human|https://www.wikid...|     Lexeme:L1376326|2024-11-07 16:52:46|\n",
      "|     Hameryko|    human|https://www.wikid...|     Lexeme:L1376321|2024-11-07 16:50:33|    human|https://www.wikid...|     Lexeme:L1376327|2024-11-07 16:54:50|\n",
      "|Mr.Ibrahembot|      bot|https://www.wikid...|          Q131013796|2024-11-07 16:50:29|      bot|https://ar.wikipe...|نقاش:جائزة لاس في...|2024-11-07 16:54:19|\n",
      "|Mr.Ibrahembot|      bot|https://www.wikid...|          Q131013795|2024-11-07 16:50:30|      bot|https://ar.wikipe...|نقاش:جائزة لاس في...|2024-11-07 16:54:19|\n",
      "|Mr.Ibrahembot|      bot|https://www.wikid...|          Q131013794|2024-11-07 16:50:31|      bot|https://ar.wikipe...|نقاش:جائزة لاس في...|2024-11-07 16:54:19|\n",
      "|Mr.Ibrahembot|      bot|https://www.wikid...|          Q131013788|2024-11-07 16:50:32|      bot|https://ar.wikipe...|نقاش:جائزة لاس في...|2024-11-07 16:54:19|\n",
      "|    Jason.nlw|    human|https://www.wikid...|          Q131013725|2024-11-07 16:50:31|    human|https://www.wikid...|          Q131013725|2024-11-07 16:48:42|\n",
      "|Mr.Ibrahembot|      bot|https://www.wikid...|          Q131013787|2024-11-07 16:50:32|      bot|https://ar.wikipe...|نقاش:جائزة لاس في...|2024-11-07 16:54:19|\n",
      "|Mr.Ibrahembot|      bot|https://www.wikid...|          Q131013786|2024-11-07 16:50:33|      bot|https://ar.wikipe...|نقاش:جائزة لاس في...|2024-11-07 16:54:19|\n",
      "|Mr.Ibrahembot|      bot|https://www.wikid...|          Q131013784|2024-11-07 16:50:33|      bot|https://ar.wikipe...|نقاش:جائزة لاس في...|2024-11-07 16:54:19|\n",
      "|Mr.Ibrahembot|      bot|https://www.wikid...|          Q131013780|2024-11-07 16:50:34|      bot|https://ar.wikipe...|نقاش:جائزة لاس في...|2024-11-07 16:54:19|\n",
      "|Mr.Ibrahembot|      bot|https://www.wikid...|          Q131013778|2024-11-07 16:50:35|      bot|https://ar.wikipe...|نقاش:جائزة لاس في...|2024-11-07 16:54:19|\n",
      "|   Lesiakower|    human|https://pl.wiktio...|         plac budowy|2024-11-07 16:50:32|    human|https://pl.wiktio...|       building site|2024-11-07 16:52:53|\n",
      "| October Ends|    human|https://fr.wikipe...|Arões (Vale de Ca...|2024-11-07 16:50:28|    human|https://fr.wikipe...|Junqueira (Vale d...|2024-11-07 16:54:06|\n",
      "+-------------+---------+--------------------+--------------------+-------------------+---------+--------------------+--------------------+-------------------+\n",
      "only showing top 20 rows\n",
      "\n"
     ]
    },
    {
     "name": "stderr",
     "output_type": "stream",
     "text": [
      "                                                                                \r"
     ]
    },
    {
     "name": "stdout",
     "output_type": "stream",
     "text": [
      "-------------------------------------------\n",
      "Batch: 78\n",
      "-------------------------------------------\n",
      "+--------------------+---------+--------------------+---------------+-------------------+---------+--------------------+--------------------+-------------------+\n",
      "|           user_name|user_type|                 uri|          title|          timestamp|user_type|                 uri|               title|          timestamp|\n",
      "+--------------------+---------+--------------------+---------------+-------------------+---------+--------------------+--------------------+-------------------+\n",
      "|      AKhaleghizadeh|    human|https://www.wikid...|       Q3302095|2024-11-07 16:50:38|    human|https://fa.wikipe...|سسک درختزار کلاه‌...|2024-11-07 16:50:36|\n",
      "|      AKhaleghizadeh|    human|https://www.wikid...|       Q3302095|2024-11-07 16:50:38|    human|https://fa.wikipe...| سسک درختزار اوگاندا|2024-11-07 16:54:46|\n",
      "|            Hameryko|    human|https://www.wikid...|Lexeme:L1376322|2024-11-07 16:50:40|    human|https://www.wikid...|     Lexeme:L1376321|2024-11-07 16:48:39|\n",
      "|            Hameryko|    human|https://www.wikid...|Lexeme:L1376322|2024-11-07 16:50:40|    human|https://www.wikid...|     Lexeme:L1376322|2024-11-07 16:49:00|\n",
      "|            Hameryko|    human|https://www.wikid...|Lexeme:L1376322|2024-11-07 16:50:40|    human|https://www.wikid...|     Lexeme:L1376323|2024-11-07 16:51:28|\n",
      "|            Hameryko|    human|https://www.wikid...|Lexeme:L1376322|2024-11-07 16:50:40|    human|https://www.wikid...|     Lexeme:L1376324|2024-11-07 16:52:16|\n",
      "|            Hameryko|    human|https://www.wikid...|Lexeme:L1376322|2024-11-07 16:50:40|    human|https://www.wikid...|     Lexeme:L1376325|2024-11-07 16:52:42|\n",
      "|            Hameryko|    human|https://www.wikid...|Lexeme:L1376322|2024-11-07 16:50:40|    human|https://www.wikid...|     Lexeme:L1376326|2024-11-07 16:52:46|\n",
      "|            Hameryko|    human|https://www.wikid...|Lexeme:L1376322|2024-11-07 16:50:40|    human|https://www.wikid...|     Lexeme:L1376327|2024-11-07 16:54:50|\n",
      "|Pickersgill-Cunliffe|    human|https://en.wikipe...|  Rory Jennings|2024-11-07 16:50:38|    human|https://en.wikipe...|User talk:2A02:C7...|2024-11-07 16:49:07|\n",
      "|Pickersgill-Cunliffe|    human|https://en.wikipe...|  Rory Jennings|2024-11-07 16:50:38|    human|https://en.wikipe...|User talk:217.43....|2024-11-07 16:50:40|\n",
      "|Pickersgill-Cunliffe|    human|https://en.wikipe...|  Rory Jennings|2024-11-07 16:50:38|    human|https://en.wikipe...|User talk:78.172....|2024-11-07 16:55:16|\n",
      "|       Mr.Ibrahembot|      bot|https://www.wikid...|     Q131013773|2024-11-07 16:50:36|      bot|https://ar.wikipe...|نقاش:جائزة لاس في...|2024-11-07 16:54:19|\n",
      "|       Mr.Ibrahembot|      bot|https://www.wikid...|     Q131013769|2024-11-07 16:50:37|      bot|https://ar.wikipe...|نقاش:جائزة لاس في...|2024-11-07 16:54:19|\n",
      "|       Mr.Ibrahembot|      bot|https://www.wikid...|     Q131013768|2024-11-07 16:50:37|      bot|https://ar.wikipe...|نقاش:جائزة لاس في...|2024-11-07 16:54:19|\n",
      "|       Mr.Ibrahembot|      bot|https://www.wikid...|     Q131013765|2024-11-07 16:50:38|      bot|https://ar.wikipe...|نقاش:جائزة لاس في...|2024-11-07 16:54:19|\n",
      "|       Mr.Ibrahembot|      bot|https://www.wikid...|     Q131013760|2024-11-07 16:50:39|      bot|https://ar.wikipe...|نقاش:جائزة لاس في...|2024-11-07 16:54:19|\n",
      "|       Mr.Ibrahembot|      bot|https://www.wikid...|     Q131013759|2024-11-07 16:50:40|      bot|https://ar.wikipe...|نقاش:جائزة لاس في...|2024-11-07 16:54:19|\n",
      "|       Mr.Ibrahembot|      bot|https://www.wikid...|     Q131013757|2024-11-07 16:50:40|      bot|https://ar.wikipe...|نقاش:جائزة لاس في...|2024-11-07 16:54:19|\n",
      "|       Mr.Ibrahembot|      bot|https://www.wikid...|     Q131013756|2024-11-07 16:50:41|      bot|https://ar.wikipe...|نقاش:جائزة لاس في...|2024-11-07 16:54:19|\n",
      "+--------------------+---------+--------------------+---------------+-------------------+---------+--------------------+--------------------+-------------------+\n",
      "only showing top 20 rows\n",
      "\n"
     ]
    },
    {
     "name": "stderr",
     "output_type": "stream",
     "text": [
      "                                                                                \r"
     ]
    },
    {
     "name": "stdout",
     "output_type": "stream",
     "text": [
      "-------------------------------------------\n",
      "Batch: 79\n",
      "-------------------------------------------\n",
      "+--------------------+---------+--------------------+--------------------+-------------------+---------+--------------------+--------------------+-------------------+\n",
      "|           user_name|user_type|                 uri|               title|          timestamp|user_type|                 uri|               title|          timestamp|\n",
      "+--------------------+---------+--------------------+--------------------+-------------------+---------+--------------------+--------------------+-------------------+\n",
      "|          Spanneraol|    human|https://en.wikipe...|        Rylan Bannon|2024-11-07 16:50:40|    human|https://en.wikipe...|Talk:Yunior Severino|2024-11-07 16:55:03|\n",
      "|Noah.Albert.ZivMilFü|    human|https://commons.w...|File:Official gre...|2024-11-07 16:50:42|    human|https://commons.w...|Category:People w...|2024-11-07 16:50:08|\n",
      "|          PhilKnight|    human|https://en.wikipe...|Wikipedia:Adminis...|2024-11-07 16:50:44|    human|https://en.wikipe...|User talk:216.73....|2024-11-07 16:49:08|\n",
      "|Pickersgill-Cunliffe|    human|https://en.wikipe...|     The Casagrandes|2024-11-07 16:50:40|    human|https://en.wikipe...|User talk:2A02:C7...|2024-11-07 16:49:07|\n",
      "|Pickersgill-Cunliffe|    human|https://en.wikipe...|     The Casagrandes|2024-11-07 16:50:40|    human|https://en.wikipe...|User talk:217.43....|2024-11-07 16:50:40|\n",
      "|Pickersgill-Cunliffe|    human|https://en.wikipe...|     The Casagrandes|2024-11-07 16:50:40|    human|https://en.wikipe...|User talk:78.172....|2024-11-07 16:55:16|\n",
      "|Pickersgill-Cunliffe|    human|https://en.wikipe...|User talk:2603:60...|2024-11-07 16:50:43|    human|https://en.wikipe...|User talk:2A02:C7...|2024-11-07 16:49:07|\n",
      "|Pickersgill-Cunliffe|    human|https://en.wikipe...|User talk:2603:60...|2024-11-07 16:50:43|    human|https://en.wikipe...|User talk:217.43....|2024-11-07 16:50:40|\n",
      "|Pickersgill-Cunliffe|    human|https://en.wikipe...|User talk:2603:60...|2024-11-07 16:50:43|    human|https://en.wikipe...|User talk:78.172....|2024-11-07 16:55:16|\n",
      "|             Ardfern|    human|https://commons.w...|Category:Boeing 7...|2024-11-07 16:50:43|    human|https://commons.w...|Category:Boeing 7...|2024-11-07 16:49:42|\n",
      "|             Ardfern|    human|https://commons.w...|Category:Boeing 7...|2024-11-07 16:50:43|    human|https://commons.w...|Category:Boeing 7...|2024-11-07 16:51:03|\n",
      "|           Bonhoczys|    human|https://commons.w...|Category:Reformie...|2024-11-07 16:50:42|    human|https://commons.w...|Category:Religion...|2024-11-07 16:53:19|\n",
      "|       Mr.Ibrahembot|      bot|https://www.wikid...|          Q131013749|2024-11-07 16:50:42|      bot|https://ar.wikipe...|نقاش:جائزة لاس في...|2024-11-07 16:54:19|\n",
      "|       Mr.Ibrahembot|      bot|https://www.wikid...|          Q131013748|2024-11-07 16:50:43|      bot|https://ar.wikipe...|نقاش:جائزة لاس في...|2024-11-07 16:54:19|\n",
      "|       Mr.Ibrahembot|      bot|https://www.wikid...|          Q131013746|2024-11-07 16:50:43|      bot|https://ar.wikipe...|نقا��:جائزة لاس في...|2024-11-07 16:54:19|\n",
      "|       Mr.Ibrahembot|      bot|https://www.wikid...|          Q131013745|2024-11-07 16:50:44|      bot|https://ar.wikipe...|نقاش:جائزة لاس في...|2024-11-07 16:54:19|\n",
      "|       Mr.Ibrahembot|      bot|https://www.wikid...|          Q131013744|2024-11-07 16:50:45|      bot|https://ar.wikipe...|نقاش:جائزة لاس في...|2024-11-07 16:54:19|\n",
      "|       Mr.Ibrahembot|      bot|https://www.wikid...|          Q131013741|2024-11-07 16:50:45|      bot|https://ar.wikipe...|نقاش:جائزة لاس في...|2024-11-07 16:54:19|\n",
      "|       Mr.Ibrahembot|      bot|https://www.wikid...|          Q131013738|2024-11-07 16:50:46|      bot|https://ar.wikipe...|نقاش:جائزة لاس في...|2024-11-07 16:54:19|\n",
      "|       Mr.Ibrahembot|      bot|https://www.wikid...|          Q131013737|2024-11-07 16:50:47|      bot|https://ar.wikipe...|نقاش:جائزة لاس في...|2024-11-07 16:54:19|\n",
      "+--------------------+---------+--------------------+--------------------+-------------------+---------+--------------------+--------------------+-------------------+\n",
      "only showing top 20 rows\n",
      "\n"
     ]
    },
    {
     "name": "stderr",
     "output_type": "stream",
     "text": [
      "                                                                                \r"
     ]
    },
    {
     "name": "stdout",
     "output_type": "stream",
     "text": [
      "-------------------------------------------\n",
      "Batch: 80\n",
      "-------------------------------------------\n",
      "+-------------+---------+--------------------+--------------------+-------------------+---------+--------------------+--------------------+-------------------+\n",
      "|    user_name|user_type|                 uri|               title|          timestamp|user_type|                 uri|               title|          timestamp|\n",
      "+-------------+---------+--------------------+--------------------+-------------------+---------+--------------------+--------------------+-------------------+\n",
      "|    Duppertip|    human|https://uk.wikipe...|Шаблон:Шаргородсь...|2024-11-07 16:50:50|    human|https://uk.wikipe...|Категорія:Населен...|2024-11-07 16:51:28|\n",
      "|     咽頭べさ|    human|https://mnw.wikti...|                  ꪀꪴ|2024-11-07 16:50:51|    human|https://mnw.wikti...|                  ꪀꪴ|2024-11-07 16:49:32|\n",
      "|     咽頭べさ|    human|https://mnw.wikti...|                  ꪀꪴ|2024-11-07 16:50:51|    human|https://mnw.wikti...|ထာမ်ပလိက်:blt-pro...|2024-11-07 16:53:16|\n",
      "|     咽頭べさ|    human|https://mnw.wikti...|                  ꪀꪴ|2024-11-07 16:50:51|    human|https://www.wikid...|          Q131013908|2024-11-07 16:53:38|\n",
      "|      Arjoopy|    human|https://www.wikid...|          Q131013792|2024-11-07 16:50:47|    human|https://www.wikid...|          Q131013792|2024-11-07 16:50:16|\n",
      "|      Arjoopy|    human|https://www.wikid...|          Q131013792|2024-11-07 16:50:48|    human|https://www.wikid...|          Q131013792|2024-11-07 16:50:16|\n",
      "|Mr.Ibrahembot|      bot|https://www.wikid...|          Q131013736|2024-11-07 16:50:47|      bot|https://ar.wikipe...|نقاش:جائزة لاس في...|2024-11-07 16:54:19|\n",
      "|Mr.Ibrahembot|      bot|https://www.wikid...|          Q131013735|2024-11-07 16:50:48|      bot|https://ar.wikipe...|نقاش:جائزة لاس في...|2024-11-07 16:54:19|\n",
      "|Mr.Ibrahembot|      bot|https://www.wikid...|          Q131013733|2024-11-07 16:50:49|      bot|https://ar.wikipe...|نقاش:جائ��ة لاس في...|2024-11-07 16:54:19|\n",
      "|Mr.Ibrahembot|      bot|https://www.wikid...|          Q131013734|2024-11-07 16:50:49|      bot|https://ar.wikipe...|نقاش:جائزة لاس في...|2024-11-07 16:54:19|\n",
      "|Mr.Ibrahembot|      bot|https://www.wikid...|          Q131013732|2024-11-07 16:50:50|      bot|https://ar.wikipe...|نقاش:جائزة لاس في...|2024-11-07 16:54:19|\n",
      "|Mr.Ibrahembot|      bot|https://www.wikid...|          Q131013731|2024-11-07 16:50:50|      bot|https://ar.wikipe...|نقاش:جائزة لاس في...|2024-11-07 16:54:19|\n",
      "|Mr.Ibrahembot|      bot|https://www.wikid...|          Q131013730|2024-11-07 16:50:51|      bot|https://ar.wikipe...|نقاش:جائزة لاس في...|2024-11-07 16:54:19|\n",
      "|Mr.Ibrahembot|      bot|https://www.wikid...|          Q131013729|2024-11-07 16:50:51|      bot|https://ar.wikipe...|نقاش:جائزة لاس في...|2024-11-07 16:54:19|\n",
      "|Mr.Ibrahembot|      bot|https://www.wikid...|          Q131013728|2024-11-07 16:50:52|      bot|https://ar.wikipe...|نقاش:جائزة لاس في...|2024-11-07 16:54:19|\n",
      "|Mr.Ibrahembot|      bot|https://www.wikid...|          Q131013727|2024-11-07 16:50:53|      bot|https://ar.wikipe...|نقاش:جائزة لاس في...|2024-11-07 16:54:19|\n",
      "|   M2k~dewiki|    human|https://www.wikid...|          Q131013704|2024-11-07 16:50:51|    human|https://www.wikid...|          Q131013834|2024-11-07 16:51:26|\n",
      "|   M2k~dewiki|    human|https://www.wikid...|          Q131013704|2024-11-07 16:50:51|    human|https://www.wikid...|          Q131013889|2024-11-07 16:52:59|\n",
      "|   M2k~dewiki|    human|https://www.wikid...|          Q131013704|2024-11-07 16:50:52|    human|https://www.wikid...|          Q131013834|2024-11-07 16:51:26|\n",
      "|   M2k~dewiki|    human|https://www.wikid...|          Q131013704|2024-11-07 16:50:52|    human|https://www.wikid...|          Q131013889|2024-11-07 16:52:59|\n",
      "+-------------+---------+--------------------+--------------------+-------------------+---------+--------------------+--------------------+-------------------+\n",
      "only showing top 20 rows\n",
      "\n"
     ]
    },
    {
     "name": "stderr",
     "output_type": "stream",
     "text": [
      "                                                                                \r"
     ]
    },
    {
     "name": "stdout",
     "output_type": "stream",
     "text": [
      "-------------------------------------------\n",
      "Batch: 81\n",
      "-------------------------------------------\n",
      "+--------------------+---------+--------------------+--------------------+-------------------+---------+--------------------+--------------------+-------------------+\n",
      "|           user_name|user_type|                 uri|               title|          timestamp|user_type|                 uri|               title|          timestamp|\n",
      "+--------------------+---------+--------------------+--------------------+-------------------+---------+--------------------+--------------------+-------------------+\n",
      "|            Bpierreb|    human|https://fr.wiktio...|affection de long...|2024-11-07 16:50:54|    human|https://fr.wiktio...|affections de lon...|2024-11-07 16:51:09|\n",
      "|          Lakejason0|    human|https://www.media...|Template:MediaWik...|2024-11-07 16:50:52|    human|https://www.media...|Translations:Temp...|2024-11-07 16:50:08|\n",
      "|          Lakejason0|    human|https://www.media...|Template:MediaWik...|2024-11-07 16:50:52|    human|https://www.media...|Translations:Temp...|2024-11-07 16:50:50|\n",
      "|          Lakejason0|    human|https://www.media...|Template:MediaWik...|2024-11-07 16:50:52|    human|https://www.media...|Translations:Temp...|2024-11-07 16:54:41|\n",
      "|      Làm Việc Thiện|    human|https://vi.wikipe...|Phân biệt khu vực...|2024-11-07 16:50:55|    human|https://vi.wikipe...|Thảo luận Thành v...|2024-11-07 16:50:57|\n",
      "|      Làm Việc Thiện|    human|https://vi.wikipe...|Phân biệt khu vực...|2024-11-07 16:50:55|    human|https://vi.wikipe...|Thảo luận Thành v...|2024-11-07 16:51:51|\n",
      "|Noah.Albert.ZivMilFü|    human|https://commons.w...|File:Official gre...|2024-11-07 16:50:53|    human|https://commons.w...|Category:People w...|2024-11-07 16:50:08|\n",
      "|       Mr.Ibrahembot|      bot|https://www.wikid...|          Q131013726|2024-11-07 16:50:53|      bot|https://ar.wikipe...|نقاش:جائزة لاس في...|2024-11-07 16:54:19|\n",
      "|       Mr.Ibrahembot|      bot|https://www.wikid...|          Q131013724|2024-11-07 16:50:54|      bot|https://ar.wikipe...|نقاش:جائزة لاس في...|2024-11-07 16:54:19|\n",
      "|       Mr.Ibrahembot|      bot|https://www.wikid...|          Q131013716|2024-11-07 16:50:55|      bot|https://ar.wikipe...|نقاش:جائزة لاس في...|2024-11-07 16:54:19|\n",
      "|       Mr.Ibrahembot|      bot|https://www.wikid...|          Q131013712|2024-11-07 16:50:56|      bot|https://ar.wikipe...|نقاش:جائزة لاس في...|2024-11-07 16:54:19|\n",
      "|       Mr.Ibrahembot|      bot|https://www.wikid...|          Q131013711|2024-11-07 16:50:56|      bot|https://ar.wikipe...|نقاش:جائزة لاس في...|2024-11-07 16:54:19|\n",
      "|       Mr.Ibrahembot|      bot|https://www.wikid...|          Q131013710|2024-11-07 16:50:57|      bot|https://ar.wikipe...|نقاش:جائزة لاس في...|2024-11-07 16:54:19|\n",
      "|       Mr.Ibrahembot|      bot|https://www.wikid...|          Q131013709|2024-11-07 16:50:58|      bot|https://ar.wikipe...|نقاش:جائزة لاس في...|2024-11-07 16:54:19|\n",
      "|              AnPa28|    human|https://de.wikipe...|Norddeutsche Neue...|2024-11-07 16:50:53|    human|https://de.wikipe...|Kategorie:Zeitung...|2024-11-07 16:55:05|\n",
      "|          M2k~dewiki|    human|https://www.wikid...|          Q131013704|2024-11-07 16:50:53|    human|https://www.wikid...|          Q131013834|2024-11-07 16:51:26|\n",
      "|          M2k~dewiki|    human|https://www.wikid...|          Q131013704|2024-11-07 16:50:53|    human|https://www.wikid...|          Q131013889|2024-11-07 16:52:59|\n",
      "|          M2k~dewiki|    human|https://www.wikid...|          Q131013704|2024-11-07 16:50:53|    human|https://www.wikid...|          Q131013834|2024-11-07 16:51:26|\n",
      "|          M2k~dewiki|    human|https://www.wikid...|          Q131013704|2024-11-07 16:50:53|    human|https://www.wikid...|          Q131013889|2024-11-07 16:52:59|\n",
      "|          M2k~dewiki|    human|https://www.wikid...|          Q131013704|2024-11-07 16:50:54|    human|https://www.wikid...|          Q131013834|2024-11-07 16:51:26|\n",
      "+--------------------+---------+--------------------+--------------------+-------------------+---------+--------------------+--------------------+-------------------+\n",
      "only showing top 20 rows\n",
      "\n"
     ]
    },
    {
     "name": "stderr",
     "output_type": "stream",
     "text": [
      "                                                                                \r"
     ]
    },
    {
     "name": "stdout",
     "output_type": "stream",
     "text": [
      "-------------------------------------------\n",
      "Batch: 82\n",
      "-------------------------------------------\n",
      "+---------------+---------+--------------------+--------------------+-------------------+---------+--------------------+--------------------+-------------------+\n",
      "|      user_name|user_type|                 uri|               title|          timestamp|user_type|                 uri|               title|          timestamp|\n",
      "+---------------+---------+--------------------+--------------------+-------------------+---------+--------------------+--------------------+-------------------+\n",
      "|         EyeBot|    human|https://ru.wikipe...|              Татары|2024-11-07 16:50:58|    human|https://ru.wikipe...|Обсуждение участн...|2024-11-07 16:51:01|\n",
      "|         EyeBot|    human|https://ru.wikipe...|              Татары|2024-11-07 16:50:58|    human|https://ru.wikipe...|Обсуждение участн...|2024-11-12 15:23:59|\n",
      "|         EyeBot|    human|https://ru.wikipe...|              Татары|2024-11-07 16:50:58|    human|https://ru.wikipe...|Обсуждение участн...|2024-11-12 15:24:44|\n",
      "| LearnKnowGive1|    human|https://www.wikid...|          Q131013674|2024-11-07 16:51:00|    human|https://www.wikid...|          Q131013740|2024-11-07 16:49:12|\n",
      "|   Beşiktaşlı48|    human|https://www.wikid...|           Q13101144|2024-11-07 16:51:00|    human|https://tr.wikipe...|           Şablon:Rl|2024-11-07 16:50:44|\n",
      "|   Beşiktaşlı48|    human|https://www.wikid...|           Q13101144|2024-11-07 16:51:00|    human|https://tr.wikipe...|Kategori:Ragbi li...|2024-11-07 16:55:16|\n",
      "|        Arjoopy|    human|https://www.wikid...|          Q131013792|2024-11-07 16:51:02|    human|https://www.wikid...|          Q131013792|2024-11-07 16:50:16|\n",
      "|  Albarubescens|    human|https://commons.w...|File:Xerocomellus...|2024-11-07 16:51:00|    human|https://commons.w...|Category:Xerocome...|2024-11-07 16:51:23|\n",
      "|     Winkekatze|    human|https://www.wikid...|          Q105548569|2024-11-07 16:51:00|    human|https://de.wikipe...|   Adam Berdichevsky|2024-11-07 16:50:40|\n",
      "|EmpressHarmonic|    human|https://commons.w...|Category:Food ind...|2024-11-07 16:50:57|    human|https://commons.w...|Category:Prints o...|2024-11-12 15:24:20|\n",
      "|  Mr.Ibrahembot|      bot|https://www.wikid...|          Q131013708|2024-11-07 16:50:58|      bot|https://ar.wikipe...|نقاش:جائزة لاس في...|2024-11-07 16:54:19|\n",
      "|  Mr.Ibrahembot|      bot|https://www.wikid...|          Q131013705|2024-11-07 16:50:59|      bot|https://ar.wikipe...|نقاش:جائزة لاس في...|2024-11-07 16:54:19|\n",
      "|  Mr.Ibrahembot|      bot|https://www.wikid...|          Q131013703|2024-11-07 16:51:00|      bot|https://ar.wikipe...|نقاش:جائزة لاس في...|2024-11-07 16:54:19|\n",
      "|  Mr.Ibrahembot|      bot|https://www.wikid...|          Q131013702|2024-11-07 16:51:00|      bot|https://ar.wikipe...|نقاش:جائزة لاس في...|2024-11-07 16:54:19|\n",
      "|  Mr.Ibrahembot|      bot|https://www.wikid...|          Q131013701|2024-11-07 16:51:05|      bot|https://ar.wikipe...|نقاش:جائزة لاس في...|2024-11-07 16:54:19|\n",
      "|   Dorcas Atule|    human|https://www.wikid...|          Q131013723|2024-11-07 16:51:05|    human|https://www.wikid...|          Q131013723|2024-11-07 16:48:41|\n",
      "|   Dorcas Atule|    human|https://www.wikid...|          Q131013723|2024-11-07 16:51:05|    human|https://www.wikid...|          Q131013858|2024-11-07 16:52:07|\n",
      "|    Craigysgafn|    human|https://cy.wikipe...|Categori:Prif Wei...|2024-11-07 16:50:58|    human|https://cy.wikipe...|Categori:Gwleidyd...|2024-11-07 16:49:47|\n",
      "|         Joorsm|    human|https://li.wikipe...|       Ruben Nicolai|2024-11-07 16:51:04|    human|https://li.wikipe...|Categorie:Limburg...|2024-11-07 16:52:09|\n",
      "+---------------+---------+--------------------+--------------------+-------------------+---------+--------------------+--------------------+-------------------+\n",
      "\n"
     ]
    },
    {
     "name": "stderr",
     "output_type": "stream",
     "text": [
      "                                                                                \r"
     ]
    },
    {
     "name": "stdout",
     "output_type": "stream",
     "text": [
      "-------------------------------------------\n",
      "Batch: 83\n",
      "-------------------------------------------\n",
      "+--------------------+---------+--------------------+--------------------+-------------------+---------+--------------------+--------------------+-------------------+\n",
      "|           user_name|user_type|                 uri|               title|          timestamp|user_type|                 uri|               title|          timestamp|\n",
      "+--------------------+---------+--------------------+--------------------+-------------------+---------+--------------------+--------------------+-------------------+\n",
      "|      LearnKnowGive1|    human|https://www.wikid...|          Q131013674|2024-11-07 16:51:09|    human|https://www.wikid...|          Q131013740|2024-11-07 16:49:12|\n",
      "|             Kuskrey|    human|https://simple.wi...|            Kadhalan|2024-11-07 16:51:06|    human|https://simple.wi...|Wikipedia:Request...|2024-11-07 16:52:38|\n",
      "|  Super-Wiki-Patrool|    human|https://ru.wikipe...|              Чучело|2024-11-07 16:51:08|    human|https://ru.wikiqu...|              Чучело|2024-11-07 16:49:15|\n",
      "|  Super-Wiki-Patrool|    human|https://ru.wikipe...|              Чучело|2024-11-07 16:51:08|    human|https://ru.wikiqu...|          Белый гриб|2024-11-07 16:53:24|\n",
      "|  Super-Wiki-Patrool|    human|https://ru.wikipe...|              Чучело|2024-11-07 16:51:08|    human|https://ru.wikiqu...|              Купена|2024-11-07 16:55:13|\n",
      "|Noah.Albert.ZivMilFü|    human|https://commons.w...|File:Sir Percy Ba...|2024-11-07 16:51:05|    human|https://commons.w...|Category:People w...|2024-11-07 16:50:08|\n",
      "|       Mr.Ibrahembot|      bot|https://www.wikid...|          Q131013700|2024-11-07 16:51:05|      bot|https://ar.wikipe...|نقاش:جائزة لاس في...|2024-11-07 16:54:19|\n",
      "|       Mr.Ibrahembot|      bot|https://www.wikid...|          Q131013699|2024-11-07 16:51:06|      bot|https://ar.wikipe...|نقاش:جائزة لاس في...|2024-11-07 16:54:19|\n",
      "|       Mr.Ibrahembot|      bot|https://www.wikid...|          Q131013698|2024-11-07 16:51:07|      bot|https://ar.wikipe...|نقاش:جائزة لاس في...|2024-11-07 16:54:19|\n",
      "|       Mr.Ibrahembot|      bot|https://www.wikid...|          Q131013696|2024-11-07 16:51:07|      bot|https://ar.wikipe...|نقاش:جائزة لاس في...|2024-11-07 16:54:19|\n",
      "|       Mr.Ibrahembot|      bot|https://www.wikid...|          Q131013695|2024-11-07 16:51:08|      bot|https://ar.wikipe...|نقاش:جائزة لاس في...|2024-11-07 16:54:19|\n",
      "|       Mr.Ibrahembot|      bot|https://www.wikid...|          Q131013693|2024-11-07 16:51:08|      bot|https://ar.wikipe...|نقاش:جائزة لاس في...|2024-11-07 16:54:19|\n",
      "|       Mr.Ibrahembot|      bot|https://www.wikid...|          Q131013692|2024-11-07 16:51:09|      bot|https://ar.wikipe...|نقاش:جائزة لاس في...|2024-11-07 16:54:19|\n",
      "|       Mr.Ibrahembot|      bot|https://www.wikid...|          Q131013690|2024-11-07 16:51:10|      bot|https://ar.wikipe...|نقاش:جائزة لاس في...|2024-11-07 16:54:19|\n",
      "|       Mr.Ibrahembot|      bot|https://www.wikid...|          Q131013689|2024-11-07 16:51:10|      bot|https://ar.wikipe...|نقاش:جائزة لاس في...|2024-11-07 16:54:19|\n",
      "|          Mateus2019|    human|https://commons.w...|            Anröchte|2024-11-07 16:51:08|    human|https://commons.w...|Category:Gallery ...|2024-11-07 16:50:19|\n",
      "|          44 Gabriel|    human|https://en.wikipe...|Draft:Derby do Minho|2024-11-07 16:51:07|    human|https://en.wikipe...|User:44 Gabriel/s...|2024-11-07 16:52:13|\n",
      "|               DE8AH|    human|https://fr.wiktio...|           rinviarle|2024-11-07 16:51:09|    human|https://fr.wiktio...|Modèle:anagrammes...|2024-11-07 16:49:30|\n",
      "|               DE8AH|    human|https://fr.wiktio...|           rinviarle|2024-11-07 16:51:09|    human|https://fr.wiktio...|Modèle:anagrammes...|2024-11-07 16:49:59|\n",
      "|               DE8AH|    human|https://fr.wiktio...|           rinviarle|2024-11-07 16:51:09|    human|https://fr.wiktio...|Modèle:anagrammes...|2024-11-07 16:51:23|\n",
      "+--------------------+---------+--------------------+--------------------+-------------------+---------+--------------------+--------------------+-------------------+\n",
      "only showing top 20 rows\n",
      "\n"
     ]
    },
    {
     "name": "stderr",
     "output_type": "stream",
     "text": [
      "                                                                                \r"
     ]
    },
    {
     "name": "stdout",
     "output_type": "stream",
     "text": [
      "-------------------------------------------\n",
      "Batch: 84\n",
      "-------------------------------------------\n",
      "+---------------+---------+--------------------+--------------------+-------------------+---------+--------------------+-----------------------+-------------------+\n",
      "|      user_name|user_type|                 uri|               title|          timestamp|user_type|                 uri|                  title|          timestamp|\n",
      "+---------------+---------+--------------------+--------------------+-------------------+---------+--------------------+-----------------------+-------------------+\n",
      "|         ValJor|    human|https://pt.wiktio...|                язык|2024-11-07 16:51:15|    human|https://pt.wiktio...|   Categoria:Entrada...|2024-11-07 16:51:52|\n",
      "|  Mr.Ibrahembot|      bot|https://www.wikid...|          Q131013688|2024-11-07 16:51:11|      bot|https://ar.wikipe...|   نقاش:جائزة لاس في...|2024-11-07 16:54:19|\n",
      "|  Mr.Ibrahembot|      bot|https://www.wikid...|          Q131013681|2024-11-07 16:51:12|      bot|https://ar.wikipe...|   نقاش:جائزة لاس في...|2024-11-07 16:54:19|\n",
      "|  Mr.Ibrahembot|      bot|https://www.wikid...|          Q131013672|2024-11-07 16:51:13|      bot|https://ar.wikipe...|   نقاش:جائزة لاس في...|2024-11-07 16:54:19|\n",
      "|  Mr.Ibrahembot|      bot|https://www.wikid...|          Q131013668|2024-11-07 16:51:14|      bot|https://ar.wikipe...|   نقاش:جائزة لاس في...|2024-11-07 16:54:19|\n",
      "|  Mr.Ibrahembot|      bot|https://www.wikid...|          Q131013666|2024-11-07 16:51:15|      bot|https://ar.wikipe...|   نقاش:جائزة لاس في...|2024-11-07 16:54:19|\n",
      "|  Mr.Ibrahembot|      bot|https://www.wikid...|          Q131013665|2024-11-07 16:51:15|      bot|https://ar.wikipe...|   نقاش:جائزة لاس في...|2024-11-07 16:54:19|\n",
      "|  Mr.Ibrahembot|      bot|https://www.wikid...|          Q131013663|2024-11-07 16:51:16|      bot|https://ar.wikipe...|   نقاش:جائزة لاس في...|2024-11-07 16:54:19|\n",
      "|Felis domestica|    human|https://commons.w...|Category:Stielers...|2024-11-07 16:51:14|    human|https://commons.w...|   Category:Stielers...|2024-11-07 16:49:25|\n",
      "|Felis domestica|    human|https://commons.w...|Category:Stielers...|2024-11-07 16:51:14|    human|https://commons.w...|   Category:Przewodn...|2024-11-07 16:54:46|\n",
      "|Felis domestica|    human|https://commons.w...|Category:Stielers...|2024-11-07 16:51:14|    human|https://commons.w...|   Category:Przewodn...|2024-11-07 16:55:10|\n",
      "|         MarSaf|    human|https://commons.w...|File:Казань. Амет...|2024-11-07 16:51:14|    human|https://commons.w...|   Category:Ametyevs...|2024-11-07 16:49:01|\n",
      "|    BigBullfrog|    human|https://www.wikid...|            Q7299228|2024-11-07 16:51:14|    human|https://zh.wikipe...|Category:拉丁美洲各国裔|2024-11-07 16:50:17|\n",
      "|    BigBullfrog|    human|https://www.wikid...|            Q7299228|2024-11-07 16:51:14|    human|https://zh.wikipe...|  Category:拉丁美洲国家|2024-11-07 16:50:56|\n",
      "|    BigBullfrog|    human|https://www.wikid...|            Q7299228|2024-11-07 16:51:14|    human|https://zh.wikipe...|Category:海外保加利亚人|2024-11-07 16:54:39|\n",
      "+---------------+---------+--------------------+--------------------+-------------------+---------+--------------------+-----------------------+-------------------+\n",
      "\n"
     ]
    },
    {
     "name": "stderr",
     "output_type": "stream",
     "text": [
      "                                                                                \r"
     ]
    },
    {
     "name": "stdout",
     "output_type": "stream",
     "text": [
      "-------------------------------------------\n",
      "Batch: 85\n",
      "-------------------------------------------\n",
      "+--------------------+---------+--------------------+--------------------+-------------------+---------+--------------------+--------------------+-------------------+\n",
      "|           user_name|user_type|                 uri|               title|          timestamp|user_type|                 uri|               title|          timestamp|\n",
      "+--------------------+---------+--------------------+--------------------+-------------------+---------+--------------------+--------------------+-------------------+\n",
      "|              EyeBot|    human|https://ru.wikipe...|Участник:EyeBot/О...|2024-11-07 16:51:02|    human|https://ru.wikipe...|Обсуждение участн...|2024-11-07 16:51:01|\n",
      "|              EyeBot|    human|https://ru.wikipe...|Участник:EyeBot/О...|2024-11-07 16:51:02|    human|https://ru.wikipe...|Обсуждение участн...|2024-11-12 15:23:59|\n",
      "|              EyeBot|    human|https://ru.wikipe...|Участник:EyeBot/О...|2024-11-07 16:51:02|    human|https://ru.wikipe...|Обсуждение участн...|2024-11-12 15:24:44|\n",
      "|      LearnKnowGive1|    human|https://www.wikid...|          Q131013674|2024-11-07 16:51:17|    human|https://www.wikid...|          Q131013740|2024-11-07 16:49:12|\n",
      "|       Ariel Provost|    human|https://fr.wikipe...|Discussion utilis...|2024-11-07 16:51:18|    human|https://fr.wikipe...|Discussion utilis...|2024-11-07 16:53:37|\n",
      "|       Ariel Provost|    human|https://fr.wikipe...|Discussion utilis...|2024-11-07 16:51:18|    human|https://fr.wikipe...|Discussion utilis...|2024-11-12 15:24:12|\n",
      "|      Làm Việc Thiện|    human|https://vi.wikipe...|Thành viên:Làm Vi...|2024-11-07 16:50:59|    human|https://vi.wikipe...|Thảo luận Thành v...|2024-11-07 16:50:57|\n",
      "|      Làm Việc Thiện|    human|https://vi.wikipe...|Thành viên:Làm Vi...|2024-11-07 16:50:59|    human|https://vi.wikipe...|Thảo luận Thành v...|2024-11-07 16:51:51|\n",
      "|Noah.Albert.ZivMilFü|    human|https://commons.w...|File:Sir Percy Ba...|2024-11-07 16:51:21|    human|https://commons.w...|Category:People w...|2024-11-07 16:50:08|\n",
      "|Pickersgill-Cunliffe|    human|https://en.wikipe...|User talk:False i...|2024-11-07 16:51:21|    human|https://en.wikipe...|User talk:2A02:C7...|2024-11-07 16:49:07|\n",
      "|Pickersgill-Cunliffe|    human|https://en.wikipe...|User talk:False i...|2024-11-07 16:51:21|    human|https://en.wikipe...|User talk:217.43....|2024-11-07 16:50:40|\n",
      "|Pickersgill-Cunliffe|    human|https://en.wikipe...|User talk:False i...|2024-11-07 16:51:21|    human|https://en.wikipe...|User talk:78.172....|2024-11-07 16:55:16|\n",
      "|       Mr.Ibrahembot|      bot|https://www.wikid...|          Q131013660|2024-11-07 16:51:17|      bot|https://ar.wikipe...|نقاش:جائزة لاس في...|2024-11-07 16:54:19|\n",
      "|       Mr.Ibrahembot|      bot|https://www.wikid...|          Q131013659|2024-11-07 16:51:17|      bot|https://ar.wikipe...|نقاش:جائزة لاس في...|2024-11-07 16:54:19|\n",
      "|       Mr.Ibrahembot|      bot|https://www.wikid...|          Q131013658|2024-11-07 16:51:18|      bot|https://ar.wikipe...|نقاش:جائزة لاس في...|2024-11-07 16:54:19|\n",
      "|       Mr.Ibrahembot|      bot|https://www.wikid...|          Q131013653|2024-11-07 16:51:19|      bot|https://ar.wikipe...|نقاش:جائزة لاس في...|2024-11-07 16:54:19|\n",
      "|       Mr.Ibrahembot|      bot|https://www.wikid...|          Q131013652|2024-11-07 16:51:20|      bot|https://ar.wikipe...|نقاش:جائزة لاس في...|2024-11-07 16:54:19|\n",
      "|       Mr.Ibrahembot|      bot|https://www.wikid...|          Q131013648|2024-11-07 16:51:20|      bot|https://ar.wikipe...|نقاش:جائزة لاس في...|2024-11-07 16:54:19|\n",
      "|       Mr.Ibrahembot|      bot|https://www.wikid...|          Q131013647|2024-11-07 16:51:21|      bot|https://ar.wikipe...|نقاش:جائزة لاس في...|2024-11-07 16:54:19|\n",
      "|       Mr.Ibrahembot|      bot|https://www.wikid...|          Q131013646|2024-11-07 16:51:21|      bot|https://ar.wikipe...|��قاش:جائزة لاس في...|2024-11-07 16:54:19|\n",
      "+--------------------+---------+--------------------+--------------------+-------------------+---------+--------------------+--------------------+-------------------+\n",
      "\n"
     ]
    },
    {
     "name": "stderr",
     "output_type": "stream",
     "text": [
      "                                                                                \r"
     ]
    },
    {
     "name": "stdout",
     "output_type": "stream",
     "text": [
      "-------------------------------------------\n",
      "Batch: 86\n",
      "-------------------------------------------\n",
      "+--------------+---------+--------------------+--------------------+-------------------+---------+--------------------+--------------------+-------------------+\n",
      "|     user_name|user_type|                 uri|               title|          timestamp|user_type|                 uri|               title|          timestamp|\n",
      "+--------------+---------+--------------------+--------------------+-------------------+---------+--------------------+--------------------+-------------------+\n",
      "|    Spanneraol|    human|https://en.wikipe...|Minnesota Twins m...|2024-11-07 16:51:18|    human|https://en.wikipe...|Talk:Yunior Severino|2024-11-07 16:55:03|\n",
      "|Làm Việc Thiện|    human|https://vi.wikipe...|       Strepsitthini|2024-11-07 16:51:22|    human|https://vi.wikipe...|Thảo luận Thành v...|2024-11-07 16:50:57|\n",
      "|Làm Việc Thiện|    human|https://vi.wikipe...|       Strepsitthini|2024-11-07 16:51:22|    human|https://vi.wikipe...|Thảo luận Thành v...|2024-11-07 16:51:51|\n",
      "|Làm Việc Thiện|    human|https://vi.wikipe...|Thảo luận Thành v...|2024-11-07 16:51:24|    human|https://vi.wikipe...|Thảo luận Thành v...|2024-11-07 16:50:57|\n",
      "|Làm Việc Thiện|    human|https://vi.wikipe...|Thảo luận Thành v...|2024-11-07 16:51:24|    human|https://vi.wikipe...|Thảo luận Thành v...|2024-11-07 16:51:51|\n",
      "|       Arjoopy|    human|https://www.wikid...|          Q131013792|2024-11-07 16:51:27|    human|https://www.wikid...|          Q131013792|2024-11-07 16:50:16|\n",
      "| Mr.Ibrahembot|      bot|https://www.wikid...|          Q131013644|2024-11-07 16:51:22|      bot|https://ar.wikipe...|نقاش:جائزة لاس في...|2024-11-07 16:54:19|\n",
      "| Mr.Ibrahembot|      bot|https://www.wikid...|          Q131013640|2024-11-07 16:51:23|      bot|https://ar.wikipe...|نقاش:جائزة لاس في...|2024-11-07 16:54:19|\n",
      "|      Thiotrix|    human|https://species.w...|Andrewsiella (Fra...|2024-11-07 16:51:23|    human|https://species.w...|Category:Thomas J...|2024-11-07 16:51:48|\n",
      "|      Thiotrix|    human|https://species.w...|Andrewsiella (Fra...|2024-11-07 16:51:23|    human|https://species.w...|    Thomas Jurkschat|2024-11-07 16:54:34|\n",
      "| Mr.Ibrahembot|      bot|https://www.wikid...|          Q131013633|2024-11-07 16:51:24|      bot|https://ar.wikipe...|نقاش:جائزة لاس في...|2024-11-07 16:54:19|\n",
      "| Mr.Ibrahembot|      bot|https://ar.wikipe...|نادي آر إس سي إنت...|2024-11-07 16:51:22|      bot|https://ar.wikipe...|نقاش:جائزة لاس في...|2024-11-07 16:54:19|\n",
      "| Mr.Ibrahembot|      bot|https://www.wikid...|          Q131013628|2024-11-07 16:51:25|      bot|https://ar.wikipe...|نقاش:جائزة لاس في...|2024-11-07 16:54:19|\n",
      "| Mr.Ibrahembot|      bot|https://www.wikid...|          Q131013627|2024-11-07 16:51:25|      bot|https://ar.wikipe...|نقاش:جائزة لاس في...|2024-11-07 16:54:19|\n",
      "| Mr.Ibrahembot|      bot|https://www.wikid...|          Q131013626|2024-11-07 16:51:26|      bot|https://ar.wikipe...|نقاش:جائزة لاس في...|2024-11-07 16:54:19|\n",
      "| Mr.Ibrahembot|      bot|https://www.wikid...|          Q131013623|2024-11-07 16:51:27|      bot|https://ar.wikipe...|نقاش:جائزة لاس في...|2024-11-07 16:54:19|\n",
      "| Mr.Ibrahembot|      bot|https://www.wikid...|          Q131013617|2024-11-07 16:51:28|      bot|https://ar.wikipe...|نقاش:جائزة لاس في...|2024-11-07 16:54:19|\n",
      "|   Craigysgafn|    human|https://cy.wikipe...|Categori:Gwleidyd...|2024-11-07 16:51:23|    human|https://cy.wikipe...|Categori:Gwleidyd...|2024-11-07 16:49:47|\n",
      "+--------------+---------+--------------------+--------------------+-------------------+---------+--------------------+--------------------+-------------------+\n",
      "\n"
     ]
    },
    {
     "name": "stderr",
     "output_type": "stream",
     "text": [
      "                                                                                \r"
     ]
    },
    {
     "name": "stdout",
     "output_type": "stream",
     "text": [
      "-------------------------------------------\n",
      "Batch: 87\n",
      "-------------------------------------------\n",
      "+--------------------+---------+--------------------+--------------------+-------------------+---------+--------------------+--------------------+-------------------+\n",
      "|           user_name|user_type|                 uri|               title|          timestamp|user_type|                 uri|               title|          timestamp|\n",
      "+--------------------+---------+--------------------+--------------------+-------------------+---------+--------------------+--------------------+-------------------+\n",
      "|      LearnKnowGive1|    human|https://www.wikid...|          Q131013674|2024-11-07 16:51:32|    human|https://www.wikid...|          Q131013740|2024-11-07 16:49:12|\n",
      "|          Igor123121|    human|https://www.wikid...|          Q131013833|2024-11-07 16:51:31|    human|https://pl.wikine...|Album Doja Cat „A...|2024-11-07 16:49:45|\n",
      "|          Igor123121|    human|https://www.wikid...|          Q131013833|2024-11-07 16:51:31|    human|https://www.wikid...|          Q131013770|2024-11-07 16:49:50|\n",
      "|          Igor123121|    human|https://www.wikid...|          Q131013833|2024-11-07 16:51:31|    human|https://pl.wikine...|Album Jessie Ware...|2024-11-07 16:51:18|\n",
      "|          Igor123121|    human|https://www.wikid...|          Q131013833|2024-11-07 16:51:31|    human|https://www.wikid...|          Q131013833|2024-11-07 16:51:26|\n",
      "|          Igor123121|    human|https://www.wikid...|          Q131013833|2024-11-07 16:51:31|    human|https://pl.wikine...|Album Juice Wrld ...|2024-11-07 16:54:01|\n",
      "|     EmpressHarmonic|    human|https://commons.w...|Category:Food sho...|2024-11-07 16:51:30|    human|https://commons.w...|Category:Prints o...|2024-11-12 15:24:20|\n",
      "|       Mr.Ibrahembot|      bot|https://www.wikid...|          Q131013616|2024-11-07 16:51:28|      bot|https://ar.wikipe...|نقاش:جائزة لاس في...|2024-11-07 16:54:19|\n",
      "|       Mr.Ibrahembot|      bot|https://www.wikid...|          Q131013615|2024-11-07 16:51:29|      bot|https://ar.wikipe...|نقاش:جائزة لاس في...|2024-11-07 16:54:19|\n",
      "|       Mr.Ibrahembot|      bot|https://ar.wikipe...|     روبلي دونغليسون|2024-11-07 16:51:26|      bot|https://ar.wikipe...|نقاش:جائزة لاس في...|2024-11-07 16:54:19|\n",
      "|       Mr.Ibrahembot|      bot|https://www.wikid...|          Q131013612|2024-11-07 16:51:29|      bot|https://ar.wikipe...|نقاش:جائزة لاس في...|2024-11-07 16:54:19|\n",
      "|       Mr.Ibrahembot|      bot|https://www.wikid...|          Q131013608|2024-11-07 16:51:30|      bot|https://ar.wikipe...|نقاش:جائزة لاس في...|2024-11-07 16:54:19|\n",
      "|       Mr.Ibrahembot|      bot|https://www.wikid...|          Q131013607|2024-11-07 16:51:31|      bot|https://ar.wikipe...|نقاش:جائزة لاس في...|2024-11-07 16:54:19|\n",
      "|       Mr.Ibrahembot|      bot|https://ar.wikipe...|     روبلي دونغليسون|2024-11-07 16:51:29|      bot|https://ar.wikipe...|نقاش:جائزة لاس في...|2024-11-07 16:54:19|\n",
      "|       Mr.Ibrahembot|      bot|https://www.wikid...|          Q131013599|2024-11-07 16:51:32|      bot|https://ar.wikipe...|نقاش:جائزة لاس في...|2024-11-07 16:54:19|\n",
      "|The Squirrel Cons...|    human|https://commons.w...|  File:Njmnjnjjn.jpg|2024-11-07 16:51:28|    human|https://commons.w...|Commons:Deletion ...|2024-11-07 16:50:06|\n",
      "|                 Mpn|    human|https://pl.wikipe...|   Nitidula carnaria|2024-11-07 16:51:31|    human|https://pl.wikipe...|Wikiprojekt:Czy w...|2024-11-07 16:51:25|\n",
      "|                 Mpn|    human|https://pl.wikipe...|   Nitidula carnaria|2024-11-07 16:51:31|    human|https://pl.wikipe...|Wikipedia:Poczeka...|2024-11-07 16:55:09|\n",
      "|         Petersmeter|    human|https://en.wikipe...|     Poroporo Island|2024-11-07 16:51:28|    human|https://en.wikipe...|      Motutui Island|2024-11-12 15:25:17|\n",
      "+--------------------+---------+--------------------+--------------------+-------------------+---------+--------------------+--------------------+-------------------+\n",
      "\n"
     ]
    },
    {
     "name": "stderr",
     "output_type": "stream",
     "text": [
      "                                                                                \r"
     ]
    },
    {
     "name": "stdout",
     "output_type": "stream",
     "text": [
      "-------------------------------------------\n",
      "Batch: 88\n",
      "-------------------------------------------\n",
      "+--------------------+---------+--------------------+--------------------+-------------------+---------+--------------------+--------------------+-------------------+\n",
      "|           user_name|user_type|                 uri|               title|          timestamp|user_type|                 uri|               title|          timestamp|\n",
      "+--------------------+---------+--------------------+--------------------+-------------------+---------+--------------------+--------------------+-------------------+\n",
      "|            AnRo0002|    human|https://commons.w...|File:AB Stiftskir...|2024-11-07 16:51:39|    human|https://commons.w...|Category:Monument...|2024-11-07 16:52:14|\n",
      "|             Arjoopy|    human|https://www.wikid...|          Q131013792|2024-11-07 16:51:33|    human|https://www.wikid...|          Q131013792|2024-11-07 16:50:16|\n",
      "|Pickersgill-Cunliffe|    human|https://en.wikipe...|Alcohol consumpti...|2024-11-07 16:51:33|    human|https://en.wikipe...|User talk:2A02:C7...|2024-11-07 16:49:07|\n",
      "|Pickersgill-Cunliffe|    human|https://en.wikipe...|Alcohol consumpti...|2024-11-07 16:51:33|    human|https://en.wikipe...|User talk:217.43....|2024-11-07 16:50:40|\n",
      "|Pickersgill-Cunliffe|    human|https://en.wikipe...|Alcohol consumpti...|2024-11-07 16:51:33|    human|https://en.wikipe...|User talk:78.172....|2024-11-07 16:55:16|\n",
      "|Pickersgill-Cunliffe|    human|https://en.wikipe...|  User talk:Darbyeme|2024-11-07 16:51:34|    human|https://en.wikipe...|User talk:2A02:C7...|2024-11-07 16:49:07|\n",
      "|Pickersgill-Cunliffe|    human|https://en.wikipe...|  User talk:Darbyeme|2024-11-07 16:51:34|    human|https://en.wikipe...|User talk:217.43....|2024-11-07 16:50:40|\n",
      "|Pickersgill-Cunliffe|    human|https://en.wikipe...|  User talk:Darbyeme|2024-11-07 16:51:34|    human|https://en.wikipe...|User talk:78.172....|2024-11-07 16:55:16|\n",
      "|       Albarubescens|    human|https://commons.w...|Category:Xerocome...|2024-11-07 16:51:36|    human|https://commons.w...|Category:Xerocome...|2024-11-07 16:51:23|\n",
      "|       Mr.Ibrahembot|      bot|https://www.wikid...|          Q131013590|2024-11-07 16:51:33|      bot|https://ar.wikipe...|نقاش:جائزة لاس في...|2024-11-07 16:54:19|\n",
      "|       Mr.Ibrahembot|      bot|https://www.wikid...|          Q131013587|2024-11-07 16:51:34|      bot|https://ar.wikipe...|نقاش:جائزة لاس في...|2024-11-07 16:54:19|\n",
      "|       Mr.Ibrahembot|      bot|https://ar.wikipe...|          آدا كليمنت|2024-11-07 16:51:31|      bot|https://ar.wikipe...|نقاش:جائزة لاس في...|2024-11-07 16:54:19|\n",
      "|       Mr.Ibrahembot|      bot|https://www.wikid...|          Q131013585|2024-11-07 16:51:35|      bot|https://ar.wikipe...|نقاش:جائزة لاس في...|2024-11-07 16:54:19|\n",
      "|       Mr.Ibrahembot|      bot|https://www.wikid...|          Q131013584|2024-11-07 16:51:35|      bot|https://ar.wikipe...|نقاش:جائزة لاس في...|2024-11-07 16:54:19|\n",
      "|       Mr.Ibrahembot|      bot|https://www.wikid...|          Q131013583|2024-11-07 16:51:36|      bot|https://ar.wikipe...|نقاش:جائزة لاس في...|2024-11-07 16:54:19|\n",
      "|       Mr.Ibrahembot|      bot|https://www.wikid...|          Q131013576|2024-11-07 16:51:37|      bot|https://ar.wikipe...|نقاش:جائزة لاس في...|2024-11-07 16:54:19|\n",
      "|              J 1982|    human|https://www.wikid...|          Q105616920|2024-11-07 16:51:34|    human|https://www.wikid...|          Q131013942|2024-11-07 16:53:56|\n",
      "|          M2k~dewiki|    human|https://www.wikid...|          Q131013834|2024-11-07 16:51:35|    human|https://www.wikid...|          Q131013834|2024-11-07 16:51:26|\n",
      "|          M2k~dewiki|    human|https://www.wikid...|          Q131013834|2024-11-07 16:51:35|    human|https://www.wikid...|          Q131013889|2024-11-07 16:52:59|\n",
      "|            Baldfran|    human|https://ca.wikipe...|     Usuari:Baldfran|2024-11-07 16:51:33|    human|https://ca.wikipe...|Elle s'appelait S...|2024-11-07 16:50:05|\n",
      "+--------------------+---------+--------------------+--------------------+-------------------+---------+--------------------+--------------------+-------------------+\n",
      "only showing top 20 rows\n",
      "\n"
     ]
    },
    {
     "name": "stderr",
     "output_type": "stream",
     "text": [
      "                                                                                \r"
     ]
    },
    {
     "name": "stdout",
     "output_type": "stream",
     "text": [
      "-------------------------------------------\n",
      "Batch: 89\n",
      "-------------------------------------------\n",
      "+--------------------+---------+--------------------+--------------------+-------------------+---------+--------------------+--------------------+-------------------+\n",
      "|           user_name|user_type|                 uri|               title|          timestamp|user_type|                 uri|               title|          timestamp|\n",
      "+--------------------+---------+--------------------+--------------------+-------------------+---------+--------------------+--------------------+-------------------+\n",
      "|               Glewe|    human|https://de.wikipe...|         Kardiologie|2024-11-07 16:51:39|    human|https://de.wikipe...|Zusatzweiterbildu...|2024-11-07 16:50:18|\n",
      "|      Làm Việc Thiện|    human|https://vi.wikipe...|Thành viên:Làm Vi...|2024-11-07 16:51:26|    human|https://vi.wikipe...|Thảo luận Thành v...|2024-11-07 16:50:57|\n",
      "|      Làm Việc Thiện|    human|https://vi.wikipe...|Thành viên:Làm Vi...|2024-11-07 16:51:26|    human|https://vi.wikipe...|Thảo luận Thành v...|2024-11-07 16:51:51|\n",
      "|            Hameryko|    human|https://www.wikid...|     Lexeme:L1376323|2024-11-07 16:51:43|    human|https://www.wikid...|     Lexeme:L1376321|2024-11-07 16:48:39|\n",
      "|            Hameryko|    human|https://www.wikid...|     Lexeme:L1376323|2024-11-07 16:51:43|    human|https://www.wikid...|     Lexeme:L1376322|2024-11-07 16:49:00|\n",
      "|            Hameryko|    human|https://www.wikid...|     Lexeme:L1376323|2024-11-07 16:51:43|    human|https://www.wikid...|     Lexeme:L1376323|2024-11-07 16:51:28|\n",
      "|            Hameryko|    human|https://www.wikid...|     Lexeme:L1376323|2024-11-07 16:51:43|    human|https://www.wikid...|     Lexeme:L1376324|2024-11-07 16:52:16|\n",
      "|            Hameryko|    human|https://www.wikid...|     Lexeme:L1376323|2024-11-07 16:51:43|    human|https://www.wikid...|     Lexeme:L1376325|2024-11-07 16:52:42|\n",
      "|            Hameryko|    human|https://www.wikid...|     Lexeme:L1376323|2024-11-07 16:51:43|    human|https://www.wikid...|     Lexeme:L1376326|2024-11-07 16:52:46|\n",
      "|            Hameryko|    human|https://www.wikid...|     Lexeme:L1376323|2024-11-07 16:51:43|    human|https://www.wikid...|     Lexeme:L1376327|2024-11-07 16:54:50|\n",
      "|             Arjoopy|    human|https://www.wikid...|          Q131013792|2024-11-07 16:51:41|    human|https://www.wikid...|          Q131013792|2024-11-07 16:50:16|\n",
      "|Pickersgill-Cunliffe|    human|https://en.wikipe...|User talk:195.224...|2024-11-07 16:51:41|    human|https://en.wikipe...|User talk:2A02:C7...|2024-11-07 16:49:07|\n",
      "|Pickersgill-Cunliffe|    human|https://en.wikipe...|User talk:195.224...|2024-11-07 16:51:41|    human|https://en.wikipe...|User talk:217.43....|2024-11-07 16:50:40|\n",
      "|Pickersgill-Cunliffe|    human|https://en.wikipe...|User talk:195.224...|2024-11-07 16:51:41|    human|https://en.wikipe...|User talk:78.172....|2024-11-07 16:55:16|\n",
      "|     EmpressHarmonic|    human|https://commons.w...|Category:Food sho...|2024-11-07 16:51:40|    human|https://commons.w...|Category:Prints o...|2024-11-12 15:24:20|\n",
      "|       Mr.Ibrahembot|      bot|https://ar.wikipe...|            آدا أدلر|2024-11-07 16:51:40|      bot|https://ar.wikipe...|نقاش:جائزة لاس في...|2024-11-07 16:54:19|\n",
      "|                 Mpn|    human|https://pl.wikipe...|Wikiprojekt:Czy w...|2024-11-07 16:51:25|    human|https://pl.wikipe...|Wikiprojekt:Czy w...|2024-11-07 16:51:25|\n",
      "|                 Mpn|    human|https://pl.wikipe...|Wikiprojekt:Czy w...|2024-11-07 16:51:25|    human|https://pl.wikipe...|Wikipedia:Poczeka...|2024-11-07 16:55:09|\n",
      "|                 Mpn|    human|https://pl.wikipe...|Wikiprojekt:Zoologia|2024-11-07 16:51:36|    human|https://pl.wikipe...|Wikiprojekt:Czy w...|2024-11-07 16:51:25|\n",
      "|                 Mpn|    human|https://pl.wikipe...|Wikiprojekt:Zoologia|2024-11-07 16:51:36|    human|https://pl.wikipe...|Wikipedia:Poczeka...|2024-11-07 16:55:09|\n",
      "+--------------------+---------+--------------------+--------------------+-------------------+---------+--------------------+--------------------+-------------------+\n",
      "only showing top 20 rows\n",
      "\n"
     ]
    },
    {
     "name": "stderr",
     "output_type": "stream",
     "text": [
      "                                                                                \r"
     ]
    },
    {
     "name": "stdout",
     "output_type": "stream",
     "text": [
      "-------------------------------------------\n",
      "Batch: 90\n",
      "-------------------------------------------\n",
      "+--------------------+---------+--------------------+--------------------+-------------------+---------+--------------------+-----------------------+-------------------+\n",
      "|           user_name|user_type|                 uri|               title|          timestamp|user_type|                 uri|                  title|          timestamp|\n",
      "+--------------------+---------+--------------------+--------------------+-------------------+---------+--------------------+-----------------------+-------------------+\n",
      "|              Drm310|    human|https://en.wikipe...|User talk:Jordan ...|2024-11-07 16:51:51|    human|https://en.wikipe...|   User talk:Jordan ...|2024-11-07 16:49:51|\n",
      "|      LearnKnowGive1|    human|https://www.wikid...|          Q131013674|2024-11-07 16:51:48|    human|https://www.wikid...|             Q131013740|2024-11-07 16:49:12|\n",
      "|         Warburg1866|    human|https://commons.w...|File:A River betw...|2024-11-07 16:51:50|    human|https://commons.w...|         Category:Ogbia|2024-11-07 16:51:06|\n",
      "|      Làm Việc Thiện|    human|https://vi.wikipe...|       Tĩnh mạch rốn|2024-11-07 16:51:50|    human|https://vi.wikipe...|   Thảo luận Thành v...|2024-11-07 16:50:57|\n",
      "|      Làm Việc Thiện|    human|https://vi.wikipe...|       Tĩnh mạch rốn|2024-11-07 16:51:50|    human|https://vi.wikipe...|   Thảo luận Thành v...|2024-11-07 16:51:51|\n",
      "|Noah.Albert.ZivMilFü|    human|https://commons.w...|File:Defense.gov ...|2024-11-07 16:51:47|    human|https://commons.w...|   Category:People w...|2024-11-07 16:50:08|\n",
      "|Pickersgill-Cunliffe|    human|https://en.wikipe...|  Battle of Waterloo|2024-11-07 16:51:35|    human|https://en.wikipe...|   User talk:2A02:C7...|2024-11-07 16:49:07|\n",
      "|Pickersgill-Cunliffe|    human|https://en.wikipe...|  Battle of Waterloo|2024-11-07 16:51:35|    human|https://en.wikipe...|   User talk:217.43....|2024-11-07 16:50:40|\n",
      "|Pickersgill-Cunliffe|    human|https://en.wikipe...|  Battle of Waterloo|2024-11-07 16:51:35|    human|https://en.wikipe...|   User talk:78.172....|2024-11-07 16:55:16|\n",
      "|          Igor123121|    human|https://pl.wikine...|Album Jessie Ware...|2024-11-07 16:51:48|    human|https://pl.wikine...|   Album Doja Cat „A...|2024-11-07 16:49:45|\n",
      "|          Igor123121|    human|https://pl.wikine...|Album Jessie Ware...|2024-11-07 16:51:48|    human|https://www.wikid...|             Q131013770|2024-11-07 16:49:50|\n",
      "|          Igor123121|    human|https://pl.wikine...|Album Jessie Ware...|2024-11-07 16:51:48|    human|https://pl.wikine...|   Album Jessie Ware...|2024-11-07 16:51:18|\n",
      "|          Igor123121|    human|https://pl.wikine...|Album Jessie Ware...|2024-11-07 16:51:48|    human|https://www.wikid...|             Q131013833|2024-11-07 16:51:26|\n",
      "|          Igor123121|    human|https://pl.wikine...|Album Jessie Ware...|2024-11-07 16:51:48|    human|https://pl.wikine...|   Album Juice Wrld ...|2024-11-07 16:54:01|\n",
      "|          M2k~dewiki|    human|https://de.wikipe...|  Harold Etherington|2024-11-07 16:51:52|    human|https://www.wikid...|             Q131013834|2024-11-07 16:51:26|\n",
      "|          M2k~dewiki|    human|https://de.wikipe...|  Harold Etherington|2024-11-07 16:51:52|    human|https://www.wikid...|             Q131013889|2024-11-07 16:52:59|\n",
      "|Captain Ben Richards|    human|https://www.wikid...|             Q194137|2024-11-07 16:51:51|    human|https://be.wikipe...|   Паўночны Ледавіты...|2024-11-07 16:53:23|\n",
      "|Captain Ben Richards|    human|https://www.wikid...|             Q194137|2024-11-07 16:51:52|    human|https://be.wikipe...|   Паўночны Ледавіты...|2024-11-07 16:53:23|\n",
      "|         BigBullfrog|    human|https://zh.wikipe...| Category:巴巴多斯裔|2024-11-07 16:51:51|    human|https://zh.wikipe...|Category:拉丁美洲各国裔|2024-11-07 16:50:17|\n",
      "|         BigBullfrog|    human|https://zh.wikipe...| Category:巴巴多斯裔|2024-11-07 16:51:51|    human|https://zh.wikipe...|  Category:拉丁美洲国家|2024-11-07 16:50:56|\n",
      "+--------------------+---------+--------------------+--------------------+-------------------+---------+--------------------+-----------------------+-------------------+\n",
      "only showing top 20 rows\n",
      "\n"
     ]
    },
    {
     "name": "stderr",
     "output_type": "stream",
     "text": [
      "                                                                                \r"
     ]
    },
    {
     "name": "stdout",
     "output_type": "stream",
     "text": [
      "-------------------------------------------\n",
      "Batch: 91\n",
      "-------------------------------------------\n",
      "+---------------+---------+--------------------+--------------------+-------------------+---------+--------------------+--------------------+-------------------+\n",
      "|      user_name|user_type|                 uri|               title|          timestamp|user_type|                 uri|               title|          timestamp|\n",
      "+---------------+---------+--------------------+--------------------+-------------------+---------+--------------------+--------------------+-------------------+\n",
      "|       Camilear|    human|https://en.wikipe...|  Ipadeola (surname)|2024-11-07 16:51:53|    human|https://en.wikipe...|        Talk:Wuraola|2024-11-07 16:51:27|\n",
      "|EmpressHarmonic|    human|https://commons.w...|Category:Food in ...|2024-11-07 16:51:52|    human|https://commons.w...|Category:Prints o...|2024-11-12 15:24:20|\n",
      "|     Mateus2019|    human|https://commons.w...|               Balve|2024-11-07 16:51:56|    human|https://commons.w...|Category:Gallery ...|2024-11-07 16:50:19|\n",
      "|        StarDeg|    human|https://be.wikipe...|         Рэйчэл Рыўз|2024-11-07 16:51:52|    human|https://be.wikipe...|         Рэйчэл Рыўз|2024-11-07 16:49:48|\n",
      "|       SchroCat|    human|https://en.wikipe...|      Martha Bradley|2024-11-07 16:51:52|    human|https://en.wikipe...|Wikipedia:Feature...|2024-11-07 16:48:46|\n",
      "+---------------+---------+--------------------+--------------------+-------------------+---------+--------------------+--------------------+-------------------+\n",
      "\n"
     ]
    },
    {
     "name": "stderr",
     "output_type": "stream",
     "text": [
      "                                                                                \r"
     ]
    },
    {
     "name": "stdout",
     "output_type": "stream",
     "text": [
      "-------------------------------------------\n",
      "Batch: 92\n",
      "-------------------------------------------\n",
      "+--------------------+---------+--------------------+--------------------+-------------------+---------+--------------------+--------------------+-------------------+\n",
      "|           user_name|user_type|                 uri|               title|          timestamp|user_type|                 uri|               title|          timestamp|\n",
      "+--------------------+---------+--------------------+--------------------+-------------------+---------+--------------------+--------------------+-------------------+\n",
      "|      LearnKnowGive1|    human|https://www.wikid...|          Q131013674|2024-11-07 16:52:00|    human|https://www.wikid...|          Q131013740|2024-11-07 16:49:12|\n",
      "|      AKhaleghizadeh|    human|https://fa.wikipe...|سسک درختزار کلاه‌...|2024-11-07 16:52:00|    human|https://fa.wikipe...|سسک درختزار کلاه‌...|2024-11-07 16:50:36|\n",
      "|      AKhaleghizadeh|    human|https://fa.wikipe...|سسک درختزار کلاه‌...|2024-11-07 16:52:00|    human|https://fa.wikipe...| سسک درختزار اوگاندا|2024-11-07 16:54:46|\n",
      "|        Comecaballos|    human|https://es.wikipe...| Luis Jorge Arigotti|2024-11-07 16:51:59|    human|https://es.wikipe...|Categoría:Capitan...|2024-11-07 16:53:25|\n",
      "|  InternetArchiveBot|      bot|https://ckb.wikip...|    محەممەدڕەزا عارف|2024-11-07 16:52:00|      bot|https://ckb.wikip...|وتووێژ:محەممەدڕەز...|2024-11-07 16:52:12|\n",
      "|Pickersgill-Cunliffe|    human|https://en.wikipe...|           Minnesota|2024-11-07 16:51:51|    human|https://en.wikipe...|User talk:2A02:C7...|2024-11-07 16:49:07|\n",
      "|Pickersgill-Cunliffe|    human|https://en.wikipe...|           Minnesota|2024-11-07 16:51:51|    human|https://en.wikipe...|User talk:217.43....|2024-11-07 16:50:40|\n",
      "|Pickersgill-Cunliffe|    human|https://en.wikipe...|           Minnesota|2024-11-07 16:51:51|    human|https://en.wikipe...|User talk:78.172....|2024-11-07 16:55:16|\n",
      "+--------------------+---------+--------------------+--------------------+-------------------+---------+--------------------+--------------------+-------------------+\n",
      "\n"
     ]
    },
    {
     "name": "stderr",
     "output_type": "stream",
     "text": [
      "                                                                                \r"
     ]
    },
    {
     "name": "stdout",
     "output_type": "stream",
     "text": [
      "-------------------------------------------\n",
      "Batch: 93\n",
      "-------------------------------------------\n",
      "+------------------+---------+--------------------+--------------------+-------------------+---------+--------------------+--------------------+-------------------+\n",
      "|         user_name|user_type|                 uri|               title|          timestamp|user_type|                 uri|               title|          timestamp|\n",
      "+------------------+---------+--------------------+--------------------+-------------------+---------+--------------------+--------------------+-------------------+\n",
      "|             Ulamm|    human|https://commons.w...|Category:Evangeli...|2024-11-07 16:52:03|    human|https://commons.w...|Category:Former s...|2024-11-07 16:52:20|\n",
      "|             Ulamm|    human|https://commons.w...|Category:Evangeli...|2024-11-07 16:52:03|    human|https://commons.w...|Category:Schools ...|2024-11-07 16:53:23|\n",
      "|             Ulamm|    human|https://commons.w...|Category:Evangeli...|2024-11-07 16:52:03|    human|https://commons.w...|Category:1960s ch...|2024-11-07 16:55:16|\n",
      "|         Bahar1397|    human|https://www.wikid...|            Q2713264|2024-11-07 16:52:06|    human|https://fa.wikipe...|دیلی هرالد (بریتا...|2024-11-07 16:52:04|\n",
      "|InternetArchiveBot|      bot|https://ca.wikipe...|        Sadaf Asgari|2024-11-07 16:52:03|      bot|https://ckb.wikip...|وتووێژ:محەممەدڕەز...|2024-11-07 16:52:12|\n",
      "|        Igor123121|    human|https://pl.wikine...|Album Doja Cat „A...|2024-11-07 16:52:06|    human|https://pl.wikine...|Album Doja Cat „A...|2024-11-07 16:49:45|\n",
      "|        Igor123121|    human|https://pl.wikine...|Album Doja Cat „A...|2024-11-07 16:52:06|    human|https://www.wikid...|          Q131013770|2024-11-07 16:49:50|\n",
      "|        Igor123121|    human|https://pl.wikine...|Album Doja Cat „A...|2024-11-07 16:52:06|    human|https://pl.wikine...|Album Jessie Ware...|2024-11-07 16:51:18|\n",
      "|        Igor123121|    human|https://pl.wikine...|Album Doja Cat „A...|2024-11-07 16:52:06|    human|https://www.wikid...|          Q131013833|2024-11-07 16:51:26|\n",
      "|        Igor123121|    human|https://pl.wikine...|Album Doja Cat „A...|2024-11-07 16:52:06|    human|https://pl.wikine...|Album Juice Wrld ...|2024-11-07 16:54:01|\n",
      "|   EmpressHarmonic|    human|https://commons.w...|Category:Food in ...|2024-11-07 16:52:05|    human|https://commons.w...|Category:Prints o...|2024-11-12 15:24:20|\n",
      "|  Michael.C.Wright|    human|https://www.wikid...|          Q131013759|2024-11-07 16:52:06|    human|https://www.wikid...|          Q131013759|2024-11-07 16:49:38|\n",
      "|               Mpn|    human|https://pl.wikipe...|Wikiprojekt:Czy w...|2024-11-07 16:52:06|    human|https://pl.wikipe...|Wikiprojekt:Czy w...|2024-11-07 16:51:25|\n",
      "|               Mpn|    human|https://pl.wikipe...|Wikiprojekt:Czy w...|2024-11-07 16:52:06|    human|https://pl.wikipe...|Wikipedia:Poczeka...|2024-11-07 16:55:09|\n",
      "|             DE8AH|    human|https://fr.wiktio...|          ricorcarle|2024-11-07 16:52:06|    human|https://fr.wiktio...|Modèle:anagrammes...|2024-11-07 16:49:30|\n",
      "|             DE8AH|    human|https://fr.wiktio...|          ricorcarle|2024-11-07 16:52:06|    human|https://fr.wiktio...|Modèle:anagrammes...|2024-11-07 16:49:59|\n",
      "|             DE8AH|    human|https://fr.wiktio...|          ricorcarle|2024-11-07 16:52:06|    human|https://fr.wiktio...|Modèle:anagrammes...|2024-11-07 16:51:23|\n",
      "|             DE8AH|    human|https://fr.wiktio...|          ricorcarle|2024-11-07 16:52:06|    human|https://fr.wiktio...|Modèle:anagrammes...|2024-11-07 16:51:37|\n",
      "|             DE8AH|    human|https://fr.wiktio...|          ricorcarle|2024-11-07 16:52:06|    human|https://fr.wiktio...|Modèle:anagrammes...|2024-11-07 16:52:20|\n",
      "|             DE8AH|    human|https://fr.wiktio...|          ricorcarle|2024-11-07 16:52:06|    human|https://fr.wiktio...|Modèle:anagrammes...|2024-11-07 16:52:48|\n",
      "+------------------+---------+--------------------+--------------------+-------------------+---------+--------------------+--------------------+-------------------+\n",
      "only showing top 20 rows\n",
      "\n"
     ]
    },
    {
     "name": "stderr",
     "output_type": "stream",
     "text": [
      "                                                                                \r"
     ]
    },
    {
     "name": "stdout",
     "output_type": "stream",
     "text": [
      "-------------------------------------------\n",
      "Batch: 94\n",
      "-------------------------------------------\n",
      "+--------------------+---------+--------------------+--------------------+-------------------+---------+--------------------+--------------------+-------------------+\n",
      "|           user_name|user_type|                 uri|               title|          timestamp|user_type|                 uri|               title|          timestamp|\n",
      "+--------------------+---------+--------------------+--------------------+-------------------+---------+--------------------+--------------------+-------------------+\n",
      "|  Super-Wiki-Patrool|    human|https://ru.wikiqu...|           Калужница|2024-11-07 16:52:08|    human|https://ru.wikiqu...|              Чучело|2024-11-07 16:49:15|\n",
      "|  Super-Wiki-Patrool|    human|https://ru.wikiqu...|           Калужница|2024-11-07 16:52:08|    human|https://ru.wikiqu...|          Белый гриб|2024-11-07 16:53:24|\n",
      "|  Super-Wiki-Patrool|    human|https://ru.wikiqu...|           Калужница|2024-11-07 16:52:08|    human|https://ru.wikiqu...|              Купена|2024-11-07 16:55:13|\n",
      "|             Arjoopy|    human|https://www.wikid...|          Q131013792|2024-11-07 16:52:08|    human|https://www.wikid...|          Q131013792|2024-11-07 16:50:16|\n",
      "|Pickersgill-Cunliffe|    human|https://en.wikipe...|     The Casagrandes|2024-11-07 16:52:08|    human|https://en.wikipe...|User talk:2A02:C7...|2024-11-07 16:49:07|\n",
      "|Pickersgill-Cunliffe|    human|https://en.wikipe...|     The Casagrandes|2024-11-07 16:52:08|    human|https://en.wikipe...|User talk:217.43....|2024-11-07 16:50:40|\n",
      "|Pickersgill-Cunliffe|    human|https://en.wikipe...|     The Casagrandes|2024-11-07 16:52:08|    human|https://en.wikipe...|User talk:78.172....|2024-11-07 16:55:16|\n",
      "|           Bonhoczys|    human|https://commons.w...|Category:Katholis...|2024-11-07 16:52:10|    human|https://commons.w...|Category:Religion...|2024-11-07 16:53:19|\n",
      "|          Lesiakower|    human|https://pl.wiktio...|   construction site|2024-11-07 16:52:10|    human|https://pl.wiktio...|       building site|2024-11-07 16:52:53|\n",
      "|          Deborahjay|    human|https://commons.w...|    File:שוש ויג.jpg|2024-11-07 16:52:10|    human|https://commons.w...|Category:Yifat (g...|2024-11-07 16:50:31|\n",
      "+--------------------+---------+--------------------+--------------------+-------------------+---------+--------------------+--------------------+-------------------+\n",
      "\n"
     ]
    },
    {
     "name": "stderr",
     "output_type": "stream",
     "text": [
      "                                                                                \r"
     ]
    },
    {
     "name": "stdout",
     "output_type": "stream",
     "text": [
      "-------------------------------------------\n",
      "Batch: 95\n",
      "-------------------------------------------\n",
      "+--------------------+---------+--------------------+--------------------+-------------------+---------+--------------------+--------------------+-------------------+\n",
      "|           user_name|user_type|                 uri|               title|          timestamp|user_type|                 uri|               title|          timestamp|\n",
      "+--------------------+---------+--------------------+--------------------+-------------------+---------+--------------------+--------------------+-------------------+\n",
      "|       Ariel Provost|    human|https://fr.wikipe...|Discussion utilis...|2024-11-07 16:52:15|    human|https://fr.wikipe...|Discussion utilis...|2024-11-07 16:53:37|\n",
      "|       Ariel Provost|    human|https://fr.wikipe...|Discussion utilis...|2024-11-07 16:52:15|    human|https://fr.wikipe...|Discussion utilis...|2024-11-12 15:24:12|\n",
      "|             Tosefta|    human|https://www.wikid...|           Q12212399|2024-11-07 16:52:13|    human|https://he.wikipe...|            דיר כיפא|2024-11-07 16:49:15|\n",
      "|           Duppertip|    human|https://uk.wikipe...|            Шаргород|2024-11-07 16:52:12|    human|https://uk.wikipe...|Категорія:Населен...|2024-11-07 16:51:28|\n",
      "|      Làm Việc Thiện|    human|https://vi.wikipe...|Thành viên:Làm Vi...|2024-11-07 16:51:54|    human|https://vi.wikipe...|Thảo luận Thành v...|2024-11-07 16:50:57|\n",
      "|      Làm Việc Thiện|    human|https://vi.wikipe...|Thành viên:Làm Vi...|2024-11-07 16:51:54|    human|https://vi.wikipe...|Thảo luận Thành v...|2024-11-07 16:51:51|\n",
      "|The Squirrel Cons...|    human|https://commons.w...|Commons:Deletion ...|2024-11-07 16:52:15|    human|https://commons.w...|Commons:Deletion ...|2024-11-07 16:50:06|\n",
      "+--------------------+---------+--------------------+--------------------+-------------------+---------+--------------------+--------------------+-------------------+\n",
      "\n"
     ]
    },
    {
     "name": "stderr",
     "output_type": "stream",
     "text": [
      "                                                                                \r"
     ]
    },
    {
     "name": "stdout",
     "output_type": "stream",
     "text": [
      "-------------------------------------------\n",
      "Batch: 96\n",
      "-------------------------------------------\n",
      "+----------------+---------+--------------------+--------------------+-------------------+---------+--------------------+--------------------+-------------------+\n",
      "|       user_name|user_type|                 uri|               title|          timestamp|user_type|                 uri|               title|          timestamp|\n",
      "+----------------+---------+--------------------+--------------------+-------------------+---------+--------------------+--------------------+-------------------+\n",
      "|Aditya tamhankar|    human|https://mr.wikipe...|चिंचवड विधानसभा म...|2024-11-07 16:52:20|    human|https://mr.wikipe...|साचा:स्वराज्य शक्...|2024-11-07 16:49:52|\n",
      "|Aditya tamhankar|    human|https://mr.wikipe...|चिंचवड विधानसभा म...|2024-11-07 16:52:20|    human|https://mr.wikipe...|साचा:स्वराज्य राष...|2024-11-07 16:51:06|\n",
      "|      Igor123121|    human|https://pl.wikine...|Album Future i Me...|2024-11-07 16:52:19|    human|https://pl.wikine...|Album Doja Cat „A...|2024-11-07 16:49:45|\n",
      "|      Igor123121|    human|https://pl.wikine...|Album Future i Me...|2024-11-07 16:52:19|    human|https://www.wikid...|          Q131013770|2024-11-07 16:49:50|\n",
      "|      Igor123121|    human|https://pl.wikine...|Album Future i Me...|2024-11-07 16:52:19|    human|https://pl.wikine...|Album Jessie Ware...|2024-11-07 16:51:18|\n",
      "|      Igor123121|    human|https://pl.wikine...|Album Future i Me...|2024-11-07 16:52:19|    human|https://www.wikid...|          Q131013833|2024-11-07 16:51:26|\n",
      "|      Igor123121|    human|https://pl.wikine...|Album Future i Me...|2024-11-07 16:52:19|    human|https://pl.wikine...|Album Juice Wrld ...|2024-11-07 16:54:01|\n",
      "|          MarSaf|    human|https://commons.w...|File:Казань. Стан...|2024-11-07 16:52:17|    human|https://commons.w...|Category:Ametyevs...|2024-11-07 16:49:01|\n",
      "|        Ясамойла|    human|https://www.wikid...|            Q6294102|2024-11-07 16:52:19|    human|https://be-tarask...|Катэгорыя:Драматы...|2024-11-07 16:49:37|\n",
      "|        Ясамойла|    human|https://www.wikid...|            Q6294102|2024-11-07 16:52:19|    human|https://be-tarask...|Катэгорыя:Японскі...|2024-11-07 16:51:59|\n",
      "|        Ясамойла|    human|https://www.wikid...|            Q6294102|2024-11-07 16:52:19|    human|https://be-tarask...|Катэгорыя:Гістары...|2024-11-07 16:55:08|\n",
      "|     Craigysgafn|    human|https://cy.wikipe...|Categori:Gwleidyd...|2024-11-07 16:52:19|    human|https://cy.wikipe...|Categori:Gwleidyd...|2024-11-07 16:49:47|\n",
      "+----------------+---------+--------------------+--------------------+-------------------+---------+--------------------+--------------------+-------------------+\n",
      "\n"
     ]
    },
    {
     "name": "stderr",
     "output_type": "stream",
     "text": [
      "                                                                                \r"
     ]
    },
    {
     "name": "stdout",
     "output_type": "stream",
     "text": [
      "-------------------------------------------\n",
      "Batch: 97\n",
      "-------------------------------------------\n",
      "+--------------+---------+--------------------+-------------------------------+-------------------+---------+--------------------+-----------------------+-------------------+\n",
      "|     user_name|user_type|                 uri|                          title|          timestamp|user_type|                 uri|                  title|          timestamp|\n",
      "+--------------+---------+--------------------+-------------------------------+-------------------+---------+--------------------+-----------------------+-------------------+\n",
      "|LearnKnowGive1|    human|https://www.wikid...|                     Q131013674|2024-11-07 16:52:26|    human|https://www.wikid...|             Q131013740|2024-11-07 16:49:12|\n",
      "| Jordi escarre|    human|https://www.wikid...|                       Q6019544|2024-11-07 16:52:22|    human|https://ca.wikipe...|     Misterix (revista)|2024-11-07 16:52:20|\n",
      "|    ウィ貴公子|    human|https://commons.w...|File:渋ビルヂング 渋谷センタ...|2024-11-07 16:52:23|    human|https://commons.w...|   Category:Shibuya ...|2024-11-07 16:53:42|\n",
      "|       Arjoopy|    human|https://www.wikid...|                     Q131013792|2024-11-07 16:52:22|    human|https://www.wikid...|             Q131013792|2024-11-07 16:50:16|\n",
      "|     WikiTatik|    human|https://www.wikid...|                       Q1461050|2024-11-07 16:52:23|    human|https://hy.wikipe...|   Սայմոն Ջոնսոն (ec...|2024-11-07 16:50:47|\n",
      "|     WikiTatik|    human|https://www.wikid...|                       Q1461050|2024-11-07 16:52:24|    human|https://hy.wikipe...|   Սայմոն Ջոնսոն (ec...|2024-11-07 16:50:47|\n",
      "|   BigBullfrog|    human|https://zh.wikipe...|            Category:白俄羅斯裔|2024-11-07 16:52:23|    human|https://zh.wikipe...|Category:拉丁美洲各国裔|2024-11-07 16:50:17|\n",
      "|   BigBullfrog|    human|https://zh.wikipe...|            Category:白俄羅斯裔|2024-11-07 16:52:23|    human|https://zh.wikipe...|  Category:拉丁美洲国家|2024-11-07 16:50:56|\n",
      "|   BigBullfrog|    human|https://zh.wikipe...|            Category:白俄羅斯裔|2024-11-07 16:52:23|    human|https://zh.wikipe...|Category:海外保加利亚人|2024-11-07 16:54:39|\n",
      "|          YBot|      bot|https://tr.wikipe...|           Bernard Tissier d...|2024-11-07 16:52:22|      bot|https://tr.wikipe...|   Kullanıcı mesaj:B...|2024-11-12 15:24:33|\n",
      "+--------------+---------+--------------------+-------------------------------+-------------------+---------+--------------------+-----------------------+-------------------+\n",
      "\n"
     ]
    },
    {
     "name": "stderr",
     "output_type": "stream",
     "text": [
      "                                                                                \r"
     ]
    },
    {
     "name": "stdout",
     "output_type": "stream",
     "text": [
      "-------------------------------------------\n",
      "Batch: 98\n",
      "-------------------------------------------\n",
      "+--------------------+---------+--------------------+------------------------+-------------------+---------+--------------------+--------------------+-------------------+\n",
      "|           user_name|user_type|                 uri|                   title|          timestamp|user_type|                 uri|               title|          timestamp|\n",
      "+--------------------+---------+--------------------+------------------------+-------------------+---------+--------------------+--------------------+-------------------+\n",
      "|         Cerebral726|    human|https://en.wikipe...|      Charles L. Venable|2024-11-07 16:52:26|    human|https://en.wikipe...|   Charles l venable|2024-11-07 16:48:55|\n",
      "|         Eshaq Azizi|    human|https://ps.wikipe...|             ساوي (فيلم)|2024-11-07 16:52:30|    human|https://ps.wikipe...|         نسیم پيدراد|2024-11-07 16:48:38|\n",
      "|           Pierre cb|    human|https://fr.wikipe...|    Utilisateur:Pierr...|2024-11-07 16:52:30|    human|https://fr.wikipe...|Gyre d'Amérique c...|2024-11-07 16:49:21|\n",
      "|            Hameryko|    human|https://www.wikid...|         Lexeme:L1376324|2024-11-07 16:52:27|    human|https://www.wikid...|     Lexeme:L1376321|2024-11-07 16:48:39|\n",
      "|            Hameryko|    human|https://www.wikid...|         Lexeme:L1376324|2024-11-07 16:52:27|    human|https://www.wikid...|     Lexeme:L1376322|2024-11-07 16:49:00|\n",
      "|            Hameryko|    human|https://www.wikid...|         Lexeme:L1376324|2024-11-07 16:52:27|    human|https://www.wikid...|     Lexeme:L1376323|2024-11-07 16:51:28|\n",
      "|            Hameryko|    human|https://www.wikid...|         Lexeme:L1376324|2024-11-07 16:52:27|    human|https://www.wikid...|     Lexeme:L1376324|2024-11-07 16:52:16|\n",
      "|            Hameryko|    human|https://www.wikid...|         Lexeme:L1376324|2024-11-07 16:52:27|    human|https://www.wikid...|     Lexeme:L1376325|2024-11-07 16:52:42|\n",
      "|            Hameryko|    human|https://www.wikid...|         Lexeme:L1376324|2024-11-07 16:52:27|    human|https://www.wikid...|     Lexeme:L1376326|2024-11-07 16:52:46|\n",
      "|            Hameryko|    human|https://www.wikid...|         Lexeme:L1376324|2024-11-07 16:52:27|    human|https://www.wikid...|     Lexeme:L1376327|2024-11-07 16:54:50|\n",
      "|Pickersgill-Cunliffe|    human|https://en.wikipe...|      Battle of Waterloo|2024-11-07 16:52:16|    human|https://en.wikipe...|User talk:2A02:C7...|2024-11-07 16:49:07|\n",
      "|Pickersgill-Cunliffe|    human|https://en.wikipe...|      Battle of Waterloo|2024-11-07 16:52:16|    human|https://en.wikipe...|User talk:217.43....|2024-11-07 16:50:40|\n",
      "|Pickersgill-Cunliffe|    human|https://en.wikipe...|      Battle of Waterloo|2024-11-07 16:52:16|    human|https://en.wikipe...|User talk:78.172....|2024-11-07 16:55:16|\n",
      "|       Albarubescens|    human|https://commons.w...|    File:Xerocomellus...|2024-11-07 16:52:29|    human|https://commons.w...|Category:Xerocome...|2024-11-07 16:51:23|\n",
      "|     EmpressHarmonic|    human|https://commons.w...|    Category:Food sto...|2024-11-07 16:52:27|    human|https://commons.w...|Category:Prints o...|2024-11-12 15:24:20|\n",
      "|    NicolasMachiavel|    human|https://www.wikid...|              Q131013863|2024-11-07 16:52:29|    human|https://fr.wikipe...|Thyene volombavat...|2024-11-07 16:51:31|\n",
      "|    NicolasMachiavel|    human|https://www.wikid...|              Q131013863|2024-11-07 16:52:29|    human|https://www.wikid...|          Q131013863|2024-11-07 16:52:15|\n",
      "|          M2k~dewiki|    human|https://de.wikipe...|      Harold Etherington|2024-11-07 16:52:27|    human|https://www.wikid...|          Q131013834|2024-11-07 16:51:26|\n",
      "|          M2k~dewiki|    human|https://de.wikipe...|      Harold Etherington|2024-11-07 16:52:27|    human|https://www.wikid...|          Q131013889|2024-11-07 16:52:59|\n",
      "|              高浩哲|    human|https://commons.w...|File:亞通客運KKB-7502...|2024-11-07 16:52:28|    human|https://commons.w...|Category:Orange B...|2024-11-07 16:49:41|\n",
      "+--------------------+---------+--------------------+------------------------+-------------------+---------+--------------------+--------------------+-------------------+\n",
      "only showing top 20 rows\n",
      "\n"
     ]
    },
    {
     "name": "stderr",
     "output_type": "stream",
     "text": [
      "                                                                                \r"
     ]
    },
    {
     "name": "stdout",
     "output_type": "stream",
     "text": [
      "-------------------------------------------\n",
      "Batch: 99\n",
      "-------------------------------------------\n",
      "+------------------+---------+--------------------+----------------+-------------------+---------+--------------------+--------------------+-------------------+\n",
      "|         user_name|user_type|                 uri|           title|          timestamp|user_type|                 uri|               title|          timestamp|\n",
      "+------------------+---------+--------------------+----------------+-------------------+---------+--------------------+--------------------+-------------------+\n",
      "|InternetArchiveBot|      bot|https://zh.wikipe...| 約會程式 (黑鏡)|2024-11-07 16:52:25|      bot|https://ckb.wikip...|وتووێژ:محەممەدڕەز...|2024-11-07 16:52:12|\n",
      "|           Arjoopy|    human|https://www.wikid...|      Q131013792|2024-11-07 16:52:34|    human|https://www.wikid...|          Q131013792|2024-11-07 16:50:16|\n",
      "|           StarDeg|    human|https://be.wikipe...|Крысціян Лінднер|2024-11-07 16:52:30|    human|https://be.wikipe...|         Рэйчэл Рыўз|2024-11-07 16:49:48|\n",
      "|             DE8AH|    human|https://fr.wiktio...|    avventurarle|2024-11-07 16:52:34|    human|https://fr.wiktio...|Modèle:anagrammes...|2024-11-07 16:49:30|\n",
      "|             DE8AH|    human|https://fr.wiktio...|    avventurarle|2024-11-07 16:52:34|    human|https://fr.wiktio...|Modèle:anagrammes...|2024-11-07 16:49:59|\n",
      "|             DE8AH|    human|https://fr.wiktio...|    avventurarle|2024-11-07 16:52:34|    human|https://fr.wiktio...|Modèle:anagrammes...|2024-11-07 16:51:23|\n",
      "|             DE8AH|    human|https://fr.wiktio...|    avventurarle|2024-11-07 16:52:34|    human|https://fr.wiktio...|Modèle:anagrammes...|2024-11-07 16:51:37|\n",
      "|             DE8AH|    human|https://fr.wiktio...|    avventurarle|2024-11-07 16:52:34|    human|https://fr.wiktio...|Modèle:anagrammes...|2024-11-07 16:52:20|\n",
      "|             DE8AH|    human|https://fr.wiktio...|    avventurarle|2024-11-07 16:52:34|    human|https://fr.wiktio...|Modèle:anagrammes...|2024-11-07 16:52:48|\n",
      "|             DE8AH|    human|https://fr.wiktio...|    avventurarle|2024-11-07 16:52:34|    human|https://fr.wiktio...|Modèle:anagrammes...|2024-11-07 16:55:16|\n",
      "|             DE8AH|    human|https://fr.wiktio...|    avventurarle|2024-11-07 16:52:34|    human|https://fr.wiktio...|Modèle:anagrammes...|2024-11-12 15:23:11|\n",
      "|          Jaba1977|    human|https://www.wikid...|        Q1346784|2024-11-07 16:52:33|    human|https://ka.wikipe...|ეფესოს არქეოლოგიუ...|2024-11-07 16:52:15|\n",
      "+------------------+---------+--------------------+----------------+-------------------+---------+--------------------+--------------------+-------------------+\n",
      "\n"
     ]
    },
    {
     "name": "stderr",
     "output_type": "stream",
     "text": [
      "                                                                                \r"
     ]
    },
    {
     "name": "stdout",
     "output_type": "stream",
     "text": [
      "-------------------------------------------\n",
      "Batch: 100\n",
      "-------------------------------------------\n",
      "+------------------+---------+--------------------+--------------------+-------------------+---------+--------------------+--------------------+-------------------+\n",
      "|         user_name|user_type|                 uri|               title|          timestamp|user_type|                 uri|               title|          timestamp|\n",
      "+------------------+---------+--------------------+--------------------+-------------------+---------+--------------------+--------------------+-------------------+\n",
      "|    LearnKnowGive1|    human|https://www.wikid...|          Q131013674|2024-11-07 16:52:39|    human|https://www.wikid...|          Q131013740|2024-11-07 16:49:12|\n",
      "|InternetArchiveBot|      bot|https://ru.wikine...|Тегеран освободил...|2024-11-07 16:52:37|      bot|https://ckb.wikip...|وتووێژ:محەممەدڕەز...|2024-11-07 16:52:12|\n",
      "|InternetArchiveBot|      bot|https://tt.wikipe...|  Пальяйш (Баррейру)|2024-11-07 16:52:37|      bot|https://ckb.wikip...|وت��وێژ:محەممەدڕەز...|2024-11-07 16:52:12|\n",
      "|        Mateus2019|    human|https://commons.w...|            Anröchte|2024-11-07 16:52:38|    human|https://commons.w...|Category:Gallery ...|2024-11-07 16:50:19|\n",
      "|            J 1982|    human|https://www.wikid...|           Q10699807|2024-11-07 16:52:36|    human|https://www.wikid...|          Q131013942|2024-11-07 16:53:56|\n",
      "|            J 1982|    human|https://www.wikid...|           Q10699807|2024-11-07 16:52:36|    human|https://www.wikid...|          Q131013942|2024-11-07 16:53:56|\n",
      "|            J 1982|    human|https://www.wikid...|           Q10699807|2024-11-07 16:52:37|    human|https://www.wikid...|          Q131013942|2024-11-07 16:53:56|\n",
      "|      Ottawahitech|    human|https://en.wikiqu...|              Reddit|2024-11-07 16:52:39|    human|https://en.wikiqu...|           Ellen Pao|2024-11-07 16:54:27|\n",
      "|  NicolasMachiavel|    human|https://www.wikid...|          Q131013863|2024-11-07 16:52:37|    human|https://fr.wikipe...|Thyene volombavat...|2024-11-07 16:51:31|\n",
      "|  NicolasMachiavel|    human|https://www.wikid...|          Q131013863|2024-11-07 16:52:37|    human|https://www.wikid...|          Q131013863|2024-11-07 16:52:15|\n",
      "|             Gadir|    human|https://az.wikipe...|Qaralama müzakirə...|2024-11-07 16:52:37|    human|https://az.wikipe...|İstifadəçi müzaki...|2024-11-07 16:52:23|\n",
      "+------------------+---------+--------------------+--------------------+-------------------+---------+--------------------+--------------------+-------------------+\n",
      "\n"
     ]
    },
    {
     "name": "stderr",
     "output_type": "stream",
     "text": [
      "                                                                                \r"
     ]
    },
    {
     "name": "stdout",
     "output_type": "stream",
     "text": [
      "-------------------------------------------\n",
      "Batch: 101\n",
      "-------------------------------------------\n",
      "+-----------+---------+--------------------+--------------------+-------------------+---------+--------------------+--------------------+-------------------+\n",
      "|  user_name|user_type|                 uri|               title|          timestamp|user_type|                 uri|               title|          timestamp|\n",
      "+-----------+---------+--------------------+--------------------+-------------------+---------+--------------------+--------------------+-------------------+\n",
      "|   Bpierreb|    human|https://fr.wiktio...|affection de long...|2024-11-07 16:52:42|    human|https://fr.wiktio...|affections de lon...|2024-11-07 16:51:09|\n",
      "|கி.மூர்த்தி|    human|https://www.wikid...|           Q13111872|2024-11-07 16:52:42|    human|https://ta.wikipe...|          சங்கரோத்து|2024-11-07 16:52:37|\n",
      "|   Camilear|    human|https://en.wikipe...|             Wuraola|2024-11-07 16:52:40|    human|https://en.wikipe...|        Talk:Wuraola|2024-11-07 16:51:27|\n",
      "|    Hyméros|    human|https://commons.w...|File:SARAH KALUME...|2024-11-07 16:52:40|    human|https://commons.w...|Commons:Deletion ...|2024-11-07 16:52:41|\n",
      "+-----------+---------+--------------------+--------------------+-------------------+---------+--------------------+--------------------+-------------------+\n",
      "\n"
     ]
    },
    {
     "name": "stderr",
     "output_type": "stream",
     "text": [
      "                                                                                \r"
     ]
    },
    {
     "name": "stdout",
     "output_type": "stream",
     "text": [
      "-------------------------------------------\n",
      "Batch: 102\n",
      "-------------------------------------------\n",
      "+----------------+---------+--------------------+--------------------+-------------------+---------+--------------------+--------------------+-------------------+\n",
      "|       user_name|user_type|                 uri|               title|          timestamp|user_type|                 uri|               title|          timestamp|\n",
      "+----------------+---------+--------------------+--------------------+-------------------+---------+--------------------+--------------------+-------------------+\n",
      "|    Sunny365days|    human|https://www.wikid...|           Q18655576|2024-11-07 16:52:47|    human|https://ru.wikipe...|   Минерва (картина)|2024-11-07 16:52:23|\n",
      "|    Sunny365days|    human|https://www.wikid...|           Q18655576|2024-11-07 16:52:47|    human|https://ru.wikipe...|Обсуждение:Минерв...|2024-11-07 16:54:06|\n",
      "|     Warburg1866|    human|https://commons.w...|File:Azibaola and...|2024-11-07 16:52:45|    human|https://commons.w...|      Category:Ogbia|2024-11-07 16:51:06|\n",
      "|         Hyméros|    human|https://commons.w...|Commons:Deletion ...|2024-11-07 16:52:41|    human|https://commons.w...|Commons:Deletion ...|2024-11-07 16:52:41|\n",
      "|         Hyméros|    human|https://commons.w...|User talk:AdamLyn...|2024-11-07 16:52:43|    human|https://commons.w...|Commons:Deletion ...|2024-11-07 16:52:41|\n",
      "|   Albarubescens|    human|https://commons.w...|File:Xerocomellus...|2024-11-07 16:52:46|    human|https://commons.w...|Category:Xerocome...|2024-11-07 16:51:23|\n",
      "|NicolasMachiavel|    human|https://www.wikid...|          Q131013863|2024-11-07 16:52:47|    human|https://fr.wikipe...|Thyene volombavat...|2024-11-07 16:51:31|\n",
      "|NicolasMachiavel|    human|https://www.wikid...|          Q131013863|2024-11-07 16:52:47|    human|https://www.wikid...|          Q131013863|2024-11-07 16:52:15|\n",
      "|        Sławobóg|    human|https://www.wikid...|           Q53269927|2024-11-07 16:52:44|    human|https://hsb.wikti...|Modul:message box...|2024-11-07 16:48:47|\n",
      "|        Sławobóg|    human|https://www.wikid...|           Q53269927|2024-11-07 16:52:44|    human|https://hsb.wikti...|Modul:category tr...|2024-11-07 16:49:50|\n",
      "|        Sławobóg|    human|https://www.wikid...|           Q53269927|2024-11-07 16:52:44|    human|https://hsb.wikti...|Modul:category tr...|2024-11-07 16:50:40|\n",
      "|        Sławobóg|    human|https://www.wikid...|           Q53269927|2024-11-07 16:52:44|    human|https://hsb.wikti...|Modul:category tr...|2024-11-07 16:51:33|\n",
      "|        Sławobóg|    human|https://www.wikid...|           Q53269927|2024-11-07 16:52:44|    human|https://hsb.wikti...|Modul:category tr...|2024-11-07 16:52:34|\n",
      "|        Sławobóg|    human|https://www.wikid...|           Q53269927|2024-11-07 16:52:44|    human|https://hsb.wikti...|Modul:category tr...|2024-11-07 16:53:34|\n",
      "|       Xacaranda|    human|https://es.wikipe...|Wikipedia:Tablón ...|2024-11-07 16:52:44|    human|https://es.wikipe...|Usuario discusión...|2024-11-07 16:51:23|\n",
      "|       TI Buhari|    human|https://ta.wikiso...|அட்டவணை:சீறாப்புர...|2024-11-07 16:52:44|    human|https://ta.wikiso...|பக்கம்:சீறாப்புரா...|2024-11-07 16:51:55|\n",
      "+----------------+---------+--------------------+--------------------+-------------------+---------+--------------------+--------------------+-------------------+\n",
      "\n"
     ]
    },
    {
     "name": "stderr",
     "output_type": "stream",
     "text": [
      "                                                                                \r"
     ]
    },
    {
     "name": "stdout",
     "output_type": "stream",
     "text": [
      "-------------------------------------------\n",
      "Batch: 103\n",
      "-------------------------------------------\n",
      "+---------+---------+--------------------+--------------------+-------------------+---------+--------------------+--------------------+-------------------+\n",
      "|user_name|user_type|                 uri|               title|          timestamp|user_type|                 uri|               title|          timestamp|\n",
      "+---------+---------+--------------------+--------------------+-------------------+---------+--------------------+--------------------+-------------------+\n",
      "| 咽頭べさ|    human|https://th.wiktio...|  แม่แบบ:blt-pronoun|2024-11-07 16:52:48|    human|https://mnw.wikti...|                  ꪀꪴ|2024-11-07 16:49:32|\n",
      "| 咽頭べさ|    human|https://th.wiktio...|  แม่แบบ:blt-pronoun|2024-11-07 16:52:48|    human|https://mnw.wikti...|ထာမ်ပလိက်:blt-pro...|2024-11-07 16:53:16|\n",
      "| 咽頭べさ|    human|https://th.wiktio...|  แม่แบบ:blt-pronoun|2024-11-07 16:52:48|    human|https://www.wikid...|          Q131013908|2024-11-07 16:53:38|\n",
      "|Bonhoczys|    human|https://commons.w...|Category:Reformie...|2024-11-07 16:52:48|    human|https://commons.w...|Category:Religion...|2024-11-07 16:53:19|\n",
      "|Avestaboy|    human|https://www.wikid...|            Q7130095|2024-11-07 16:52:48|    human|https://ku.wikipe...|Kategorî:Serokdew...|2024-11-07 16:52:07|\n",
      "+---------+---------+--------------------+--------------------+-------------------+---------+--------------------+--------------------+-------------------+\n",
      "\n"
     ]
    },
    {
     "name": "stderr",
     "output_type": "stream",
     "text": [
      "                                                                                \r"
     ]
    },
    {
     "name": "stdout",
     "output_type": "stream",
     "text": [
      "-------------------------------------------\n",
      "Batch: 104\n",
      "-------------------------------------------\n",
      "+------------------+---------+--------------------+--------------------+-------------------+---------+--------------------+--------------------+-------------------+\n",
      "|         user_name|user_type|                 uri|               title|          timestamp|user_type|                 uri|               title|          timestamp|\n",
      "+------------------+---------+--------------------+--------------------+-------------------+---------+--------------------+--------------------+-------------------+\n",
      "|     DoubleGrazing|    human|https://en.wikipe...|User talk:ItsAndr...|2024-11-07 16:52:52|    human|https://en.wikipe...|User talk:ItsAndr...|2024-11-07 16:52:10|\n",
      "|           Tosefta|    human|https://he.wikipe...|            דיר כיפא|2024-11-07 16:52:54|    human|https://he.wikipe...|            דיר כיפא|2024-11-07 16:49:15|\n",
      "|          Chesspac|    human|https://fr.wiktio...|               memor|2024-11-07 16:52:53|    human|https://fr.wiktio...|           memoratim|2024-11-07 16:51:23|\n",
      "|          Chesspac|    human|https://fr.wiktio...|               memor|2024-11-07 16:52:53|    human|https://fr.wiktio...|             moratim|2024-11-07 16:55:19|\n",
      "|          Chesspac|    human|https://fr.wiktio...|               memor|2024-11-07 16:52:53|    human|https://fr.wiktio...|         invitabilis|2024-11-12 15:24:17|\n",
      "|          Hameryko|    human|https://www.wikid...|     Lexeme:L1376325|2024-11-07 16:52:54|    human|https://www.wikid...|     Lexeme:L1376321|2024-11-07 16:48:39|\n",
      "|          Hameryko|    human|https://www.wikid...|     Lexeme:L1376325|2024-11-07 16:52:54|    human|https://www.wikid...|     Lexeme:L1376322|2024-11-07 16:49:00|\n",
      "|          Hameryko|    human|https://www.wikid...|     Lexeme:L1376325|2024-11-07 16:52:54|    human|https://www.wikid...|     Lexeme:L1376323|2024-11-07 16:51:28|\n",
      "|          Hameryko|    human|https://www.wikid...|     Lexeme:L1376325|2024-11-07 16:52:54|    human|https://www.wikid...|     Lexeme:L1376324|2024-11-07 16:52:16|\n",
      "|          Hameryko|    human|https://www.wikid...|     Lexeme:L1376325|2024-11-07 16:52:54|    human|https://www.wikid...|     Lexeme:L1376325|2024-11-07 16:52:42|\n",
      "|          Hameryko|    human|https://www.wikid...|     Lexeme:L1376325|2024-11-07 16:52:54|    human|https://www.wikid...|     Lexeme:L1376326|2024-11-07 16:52:46|\n",
      "|          Hameryko|    human|https://www.wikid...|     Lexeme:L1376325|2024-11-07 16:52:54|    human|https://www.wikid...|     Lexeme:L1376327|2024-11-07 16:54:50|\n",
      "|        YogSothoth|    human|https://it.wikipe...|Giochi della I Ol...|2024-11-07 16:52:51|    human|https://it.wikipe...|Discussioni utent...|2024-11-07 16:53:17|\n",
      "|InternetArchiveBot|      bot|https://ca.wikipe...|           Sadako 3D|2024-11-07 16:52:54|      bot|https://ckb.wikip...|وتووێژ:محەممەدڕەز...|2024-11-07 16:52:12|\n",
      "|           Arjoopy|    human|https://commons.w...|Category:Bergfrie...|2024-11-07 16:52:56|    human|https://www.wikid...|          Q131013792|2024-11-07 16:50:16|\n",
      "|   EmpressHarmonic|    human|https://commons.w...|Category:Food pac...|2024-11-07 16:52:53|    human|https://commons.w...|Category:Prints o...|2024-11-12 15:24:20|\n",
      "|     Mr.Ibrahembot|      bot|https://ar.wikipe...|           لورا لومر|2024-11-07 16:52:49|      bot|https://ar.wikipe...|نقاش:جائزة لاس في...|2024-11-07 16:54:19|\n",
      "|  NicolasMachiavel|    human|https://www.wikid...|          Q131013863|2024-11-07 16:52:54|    human|https://fr.wikipe...|Thyene volombavat...|2024-11-07 16:51:31|\n",
      "|  NicolasMachiavel|    human|https://www.wikid...|          Q131013863|2024-11-07 16:52:54|    human|https://www.wikid...|          Q131013863|2024-11-07 16:52:15|\n",
      "|           StarDeg|    human|https://be.wikipe...|         Рэйчэл Рыўз|2024-11-07 16:52:55|    human|https://be.wikipe...|         Рэйчэл Рыўз|2024-11-07 16:49:48|\n",
      "+------------------+---------+--------------------+--------------------+-------------------+---------+--------------------+--------------------+-------------------+\n",
      "only showing top 20 rows\n",
      "\n"
     ]
    },
    {
     "name": "stderr",
     "output_type": "stream",
     "text": [
      "                                                                                \r"
     ]
    },
    {
     "name": "stdout",
     "output_type": "stream",
     "text": [
      "-------------------------------------------\n",
      "Batch: 105\n",
      "-------------------------------------------\n",
      "+------------------+---------+--------------------+--------------------+-------------------+---------+--------------------+--------------------+-------------------+\n",
      "|         user_name|user_type|                 uri|               title|          timestamp|user_type|                 uri|               title|          timestamp|\n",
      "+------------------+---------+--------------------+--------------------+-------------------+---------+--------------------+--------------------+-------------------+\n",
      "|            Rc1959|    human|https://commons.w...|File:Gare frigori...|2024-11-07 16:52:59|    human|https://commons.w...|Category:Ivry-sur...|2024-11-07 16:50:35|\n",
      "|            Rc1959|    human|https://commons.w...|File:Gare frigori...|2024-11-07 16:52:59|    human|https://commons.w...|Category:Val-de-M...|2024-11-07 16:51:35|\n",
      "|          Hameryko|    human|https://www.wikid...|     Lexeme:L1376326|2024-11-07 16:52:58|    human|https://www.wikid...|     Lexeme:L1376321|2024-11-07 16:48:39|\n",
      "|          Hameryko|    human|https://www.wikid...|     Lexeme:L1376326|2024-11-07 16:52:58|    human|https://www.wikid...|     Lexeme:L1376322|2024-11-07 16:49:00|\n",
      "|          Hameryko|    human|https://www.wikid...|     Lexeme:L1376326|2024-11-07 16:52:58|    human|https://www.wikid...|     Lexeme:L1376323|2024-11-07 16:51:28|\n",
      "|          Hameryko|    human|https://www.wikid...|     Lexeme:L1376326|2024-11-07 16:52:58|    human|https://www.wikid...|     Lexeme:L1376324|2024-11-07 16:52:16|\n",
      "|          Hameryko|    human|https://www.wikid...|     Lexeme:L1376326|2024-11-07 16:52:58|    human|https://www.wikid...|     Lexeme:L1376325|2024-11-07 16:52:42|\n",
      "|          Hameryko|    human|https://www.wikid...|     Lexeme:L1376326|2024-11-07 16:52:58|    human|https://www.wikid...|     Lexeme:L1376326|2024-11-07 16:52:46|\n",
      "|          Hameryko|    human|https://www.wikid...|     Lexeme:L1376326|2024-11-07 16:52:58|    human|https://www.wikid...|     Lexeme:L1376327|2024-11-07 16:54:50|\n",
      "|InternetArchiveBot|      bot|https://tt.wikipe...|    Пальяйш (Сертан)|2024-11-07 16:52:59|      bot|https://ckb.wikip...|وتووێژ:محەممەدڕەز...|2024-11-07 16:52:12|\n",
      "|         Avestaboy|    human|https://www.wikid...|            Q7130095|2024-11-07 16:52:59|    human|https://ku.wikipe...|Kategorî:Serokdew...|2024-11-07 16:52:07|\n",
      "|        M2k~dewiki|    human|https://www.wikid...|          Q131013889|2024-11-07 16:53:03|    human|https://www.wikid...|          Q131013834|2024-11-07 16:51:26|\n",
      "|        M2k~dewiki|    human|https://www.wikid...|          Q131013889|2024-11-07 16:53:03|    human|https://www.wikid...|          Q131013889|2024-11-07 16:52:59|\n",
      "|        M2k~dewiki|    human|https://www.wikid...|          Q131013889|2024-11-07 16:53:03|    human|https://www.wikid...|          Q131013834|2024-11-07 16:51:26|\n",
      "|        M2k~dewiki|    human|https://www.wikid...|          Q131013889|2024-11-07 16:53:03|    human|https://www.wikid...|          Q131013889|2024-11-07 16:52:59|\n",
      "|             DE8AH|    human|https://fr.wiktio...|Modèle:anagrammes...|2024-11-07 16:53:02|    human|https://fr.wiktio...|Modèle:anagrammes...|2024-11-07 16:49:30|\n",
      "|             DE8AH|    human|https://fr.wiktio...|Modèle:anagrammes...|2024-11-07 16:53:02|    human|https://fr.wiktio...|Modèle:anagrammes...|2024-11-07 16:49:59|\n",
      "|             DE8AH|    human|https://fr.wiktio...|Modèle:anagrammes...|2024-11-07 16:53:02|    human|https://fr.wiktio...|Modèle:anagrammes...|2024-11-07 16:51:23|\n",
      "|             DE8AH|    human|https://fr.wiktio...|Modèle:anagrammes...|2024-11-07 16:53:02|    human|https://fr.wiktio...|Modèle:anagrammes...|2024-11-07 16:51:37|\n",
      "|             DE8AH|    human|https://fr.wiktio...|Modèle:anagrammes...|2024-11-07 16:53:02|    human|https://fr.wiktio...|Modèle:anagrammes...|2024-11-07 16:52:20|\n",
      "+------------------+---------+--------------------+--------------------+-------------------+---------+--------------------+--------------------+-------------------+\n",
      "only showing top 20 rows\n",
      "\n"
     ]
    },
    {
     "name": "stderr",
     "output_type": "stream",
     "text": [
      "                                                                                \r"
     ]
    },
    {
     "name": "stdout",
     "output_type": "stream",
     "text": [
      "-------------------------------------------\n",
      "Batch: 106\n",
      "-------------------------------------------\n",
      "+----------------+---------+--------------------+--------------------+-------------------+---------+--------------------+--------------------+-------------------+\n",
      "|       user_name|user_type|                 uri|               title|          timestamp|user_type|                 uri|               title|          timestamp|\n",
      "+----------------+---------+--------------------+--------------------+-------------------+---------+--------------------+--------------------+-------------------+\n",
      "|           Glewe|    human|https://de.wikipe...|Liste ärztlicher ...|2024-11-07 16:53:08|    human|https://de.wikipe...|Zusatzweiterbildu...|2024-11-07 16:50:18|\n",
      "|  LearnKnowGive1|    human|https://www.wikid...|          Q131013674|2024-11-07 16:53:06|    human|https://www.wikid...|          Q131013740|2024-11-07 16:49:12|\n",
      "|        Hameryko|    human|https://www.wikid...|     Lexeme:L1376325|2024-11-07 16:53:07|    human|https://www.wikid...|     Lexeme:L1376321|2024-11-07 16:48:39|\n",
      "|        Hameryko|    human|https://www.wikid...|     Lexeme:L1376325|2024-11-07 16:53:07|    human|https://www.wikid...|     Lexeme:L1376322|2024-11-07 16:49:00|\n",
      "|        Hameryko|    human|https://www.wikid...|     Lexeme:L1376325|2024-11-07 16:53:07|    human|https://www.wikid...|     Lexeme:L1376323|2024-11-07 16:51:28|\n",
      "|        Hameryko|    human|https://www.wikid...|     Lexeme:L1376325|2024-11-07 16:53:07|    human|https://www.wikid...|     Lexeme:L1376324|2024-11-07 16:52:16|\n",
      "|        Hameryko|    human|https://www.wikid...|     Lexeme:L1376325|2024-11-07 16:53:07|    human|https://www.wikid...|     Lexeme:L1376325|2024-11-07 16:52:42|\n",
      "|        Hameryko|    human|https://www.wikid...|     Lexeme:L1376325|2024-11-07 16:53:07|    human|https://www.wikid...|     Lexeme:L1376326|2024-11-07 16:52:46|\n",
      "|        Hameryko|    human|https://www.wikid...|     Lexeme:L1376325|2024-11-07 16:53:07|    human|https://www.wikid...|     Lexeme:L1376327|2024-11-07 16:54:50|\n",
      "|           Ulamm|    human|https://commons.w...|Category:Former s...|2024-11-07 16:53:06|    human|https://commons.w...|Category:Former s...|2024-11-07 16:52:20|\n",
      "|           Ulamm|    human|https://commons.w...|Category:Former s...|2024-11-07 16:53:06|    human|https://commons.w...|Category:Schools ...|2024-11-07 16:53:23|\n",
      "|           Ulamm|    human|https://commons.w...|Category:Former s...|2024-11-07 16:53:06|    human|https://commons.w...|Category:1960s ch...|2024-11-07 16:55:16|\n",
      "|   Albarubescens|    human|https://commons.w...|File:Xerocomellus...|2024-11-07 16:53:06|    human|https://commons.w...|Category:Xerocome...|2024-11-07 16:51:23|\n",
      "|NicolasMachiavel|    human|https://www.wikid...|          Q131013863|2024-11-07 16:53:05|    human|https://fr.wikipe...|Thyene volombavat...|2024-11-07 16:51:31|\n",
      "|NicolasMachiavel|    human|https://www.wikid...|          Q131013863|2024-11-07 16:53:05|    human|https://www.wikid...|          Q131013863|2024-11-07 16:52:15|\n",
      "|      M2k~dewiki|    human|https://www.wikid...|          Q131013889|2024-11-07 16:53:08|    human|https://www.wikid...|          Q131013834|2024-11-07 16:51:26|\n",
      "|      M2k~dewiki|    human|https://www.wikid...|          Q131013889|2024-11-07 16:53:08|    human|https://www.wikid...|          Q131013889|2024-11-07 16:52:59|\n",
      "|          MarSaf|    human|https://commons.w...|File:Казань. Тран...|2024-11-07 16:53:08|    human|https://commons.w...|Category:Ametyevs...|2024-11-07 16:49:01|\n",
      "|          Joorsm|    human|https://li.wikipe...|       Ruben Nicolai|2024-11-07 16:53:09|    human|https://li.wikipe...|Categorie:Limburg...|2024-11-07 16:52:09|\n",
      "+----------------+---------+--------------------+--------------------+-------------------+---------+--------------------+--------------------+-------------------+\n",
      "\n"
     ]
    },
    {
     "name": "stderr",
     "output_type": "stream",
     "text": [
      "                                                                                \r"
     ]
    },
    {
     "name": "stdout",
     "output_type": "stream",
     "text": [
      "-------------------------------------------\n",
      "Batch: 107\n",
      "-------------------------------------------\n",
      "+----------+---------+--------------------+--------------------+-------------------+---------+--------------------+--------------------+-------------------+\n",
      "| user_name|user_type|                 uri|               title|          timestamp|user_type|                 uri|               title|          timestamp|\n",
      "+----------+---------+--------------------+--------------------+-------------------+---------+--------------------+--------------------+-------------------+\n",
      "|       OJJ|    human|https://cs.wikipe...|   Dji Osmo Pocket 3|2024-11-07 16:53:12|    human|https://cs.wikipe...|Diskuse s wikiped...|2024-11-07 16:52:40|\n",
      "|QBA-II-bot|      bot|https://ru.wikipe...|Википедия:Запросы...|2024-11-07 16:53:10|    human|https://ru.wikipe...|Обсуждение участн...|2024-11-07 16:53:58|\n",
      "|QBA-II-bot|      bot|https://ru.wikipe...|Википедия:Запросы...|2024-11-07 16:53:10|    human|https://ru.wikipe...|Обсуждение участн...|2024-11-12 15:24:19|\n",
      "+----------+---------+--------------------+--------------------+-------------------+---------+--------------------+--------------------+-------------------+\n",
      "\n"
     ]
    },
    {
     "name": "stderr",
     "output_type": "stream",
     "text": [
      "                                                                                \r"
     ]
    },
    {
     "name": "stdout",
     "output_type": "stream",
     "text": [
      "-------------------------------------------\n",
      "Batch: 108\n",
      "-------------------------------------------\n",
      "+--------------------+---------+--------------------+--------------------+-------------------+---------+--------------------+--------------------+-------------------+\n",
      "|           user_name|user_type|                 uri|               title|          timestamp|user_type|                 uri|               title|          timestamp|\n",
      "+--------------------+---------+--------------------+--------------------+-------------------+---------+--------------------+--------------------+-------------------+\n",
      "|      LearnKnowGive1|    human|https://www.wikid...|          Q131013674|2024-11-07 16:53:18|    human|https://www.wikid...|          Q131013740|2024-11-07 16:49:12|\n",
      "|            AnRo0002|    human|https://commons.w...|File:AB Stiftskir...|2024-11-07 16:53:19|    human|https://commons.w...|Category:Monument...|2024-11-07 16:52:14|\n",
      "|Noah.Albert.ZivMilFü|    human|https://de.wikipe...|Benutzer:Noah.Alb...|2024-11-07 16:53:17|    human|https://commons.w...|Category:People w...|2024-11-07 16:50:08|\n",
      "|            Hameryko|    human|https://www.wikid...|     Lexeme:L1376326|2024-11-07 16:53:16|    human|https://www.wikid...|     Lexeme:L1376321|2024-11-07 16:48:39|\n",
      "|            Hameryko|    human|https://www.wikid...|     Lexeme:L1376326|2024-11-07 16:53:16|    human|https://www.wikid...|     Lexeme:L1376322|2024-11-07 16:49:00|\n",
      "|            Hameryko|    human|https://www.wikid...|     Lexeme:L1376326|2024-11-07 16:53:16|    human|https://www.wikid...|     Lexeme:L1376323|2024-11-07 16:51:28|\n",
      "|            Hameryko|    human|https://www.wikid...|     Lexeme:L1376326|2024-11-07 16:53:16|    human|https://www.wikid...|     Lexeme:L1376324|2024-11-07 16:52:16|\n",
      "|            Hameryko|    human|https://www.wikid...|     Lexeme:L1376326|2024-11-07 16:53:16|    human|https://www.wikid...|     Lexeme:L1376325|2024-11-07 16:52:42|\n",
      "|            Hameryko|    human|https://www.wikid...|     Lexeme:L1376326|2024-11-07 16:53:16|    human|https://www.wikid...|     Lexeme:L1376326|2024-11-07 16:52:46|\n",
      "|            Hameryko|    human|https://www.wikid...|     Lexeme:L1376326|2024-11-07 16:53:16|    human|https://www.wikid...|     Lexeme:L1376327|2024-11-07 16:54:50|\n",
      "|  InternetArchiveBot|      bot|https://th.wikipe...|   พิชญา สุนทรญาณกิจ|2024-11-07 16:53:16|      bot|https://ckb.wikip...|وتووێژ:محەممەدڕەز...|2024-11-07 16:52:12|\n",
      "|     EmpressHarmonic|    human|https://commons.w...|Category:Food in ...|2024-11-07 16:53:19|    human|https://commons.w...|Category:Prints o...|2024-11-12 15:24:20|\n",
      "|     Felis domestica|    human|https://commons.w...|Category:Krótki p...|2024-11-07 16:53:20|    human|https://commons.w...|Category:Stielers...|2024-11-07 16:49:25|\n",
      "|     Felis domestica|    human|https://commons.w...|Category:Krótki p...|2024-11-07 16:53:20|    human|https://commons.w...|Category:Przewodn...|2024-11-07 16:54:46|\n",
      "|     Felis domestica|    human|https://commons.w...|Category:Krótki p...|2024-11-07 16:53:20|    human|https://commons.w...|Category:Przewodn...|2024-11-07 16:55:10|\n",
      "|              AnPa28|    human|https://de.wikipe...|   Rostocker Zeitung|2024-11-07 16:53:18|    human|https://de.wikipe...|Kategorie:Zeitung...|2024-11-07 16:55:05|\n",
      "|          M2k~dewiki|    human|https://www.wikid...|          Q131013889|2024-11-07 16:53:19|    human|https://www.wikid...|          Q131013834|2024-11-07 16:51:26|\n",
      "|          M2k~dewiki|    human|https://www.wikid...|          Q131013889|2024-11-07 16:53:19|    human|https://www.wikid...|          Q131013889|2024-11-07 16:52:59|\n",
      "|          M2k~dewiki|    human|https://www.wikid...|          Q131013889|2024-11-07 16:53:20|    human|https://www.wikid...|          Q131013834|2024-11-07 16:51:26|\n",
      "|          M2k~dewiki|    human|https://www.wikid...|          Q131013889|2024-11-07 16:53:20|    human|https://www.wikid...|          Q131013889|2024-11-07 16:52:59|\n",
      "+--------------------+---------+--------------------+--------------------+-------------------+---------+--------------------+--------------------+-------------------+\n",
      "only showing top 20 rows\n",
      "\n"
     ]
    },
    {
     "name": "stderr",
     "output_type": "stream",
     "text": [
      "                                                                                \r"
     ]
    },
    {
     "name": "stdout",
     "output_type": "stream",
     "text": [
      "-------------------------------------------\n",
      "Batch: 109\n",
      "-------------------------------------------\n",
      "+--------------------+---------+--------------------+--------------------+-------------------+---------+--------------------+--------------------+-------------------+\n",
      "|           user_name|user_type|                 uri|               title|          timestamp|user_type|                 uri|               title|          timestamp|\n",
      "+--------------------+---------+--------------------+--------------------+-------------------+---------+--------------------+--------------------+-------------------+\n",
      "|             Ow0cast|    human|https://en.wikipe...|Battle of Qara-Ha...|2024-11-07 16:53:22|    human|https://en.wikipe...|User talk:149.34....|2024-11-07 16:53:38|\n",
      "|           Pierre cb|    human|https://fr.wikipe...|Utilisateur:Pierr...|2024-11-07 16:53:21|    human|https://fr.wikipe...|Gyre d'Amérique c...|2024-11-07 16:49:21|\n",
      "|  InternetArchiveBot|      bot|https://tt.wikipe...|  Пальяйш (Транкозу)|2024-11-07 16:53:21|      bot|https://ckb.wikip...|وتووێژ:محەمم��دڕەز...|2024-11-07 16:52:12|\n",
      "|Pickersgill-Cunliffe|    human|https://en.wikipe...|Alcohol consumpti...|2024-11-07 16:53:20|    human|https://en.wikipe...|User talk:2A02:C7...|2024-11-07 16:49:07|\n",
      "|Pickersgill-Cunliffe|    human|https://en.wikipe...|Alcohol consumpti...|2024-11-07 16:53:20|    human|https://en.wikipe...|User talk:217.43....|2024-11-07 16:50:40|\n",
      "|Pickersgill-Cunliffe|    human|https://en.wikipe...|Alcohol consumpti...|2024-11-07 16:53:20|    human|https://en.wikipe...|User talk:78.172....|2024-11-07 16:55:16|\n",
      "|          M2k~dewiki|    human|https://www.wikid...|          Q131013889|2024-11-07 16:53:21|    human|https://www.wikid...|          Q131013834|2024-11-07 16:51:26|\n",
      "|          M2k~dewiki|    human|https://www.wikid...|          Q131013889|2024-11-07 16:53:21|    human|https://www.wikid...|          Q131013889|2024-11-07 16:52:59|\n",
      "|          M2k~dewiki|    human|https://www.wikid...|          Q131013889|2024-11-07 16:53:22|    human|https://www.wikid...|          Q131013834|2024-11-07 16:51:26|\n",
      "|          M2k~dewiki|    human|https://www.wikid...|          Q131013889|2024-11-07 16:53:22|    human|https://www.wikid...|          Q131013889|2024-11-07 16:52:59|\n",
      "|          M2k~dewiki|    human|https://www.wikid...|          Q131013889|2024-11-07 16:53:22|    human|https://www.wikid...|          Q131013834|2024-11-07 16:51:26|\n",
      "|          M2k~dewiki|    human|https://www.wikid...|          Q131013889|2024-11-07 16:53:22|    human|https://www.wikid...|          Q131013889|2024-11-07 16:52:59|\n",
      "+--------------------+---------+--------------------+--------------------+-------------------+---------+--------------------+--------------------+-------------------+\n",
      "\n"
     ]
    },
    {
     "name": "stderr",
     "output_type": "stream",
     "text": [
      "                                                                                \r"
     ]
    },
    {
     "name": "stdout",
     "output_type": "stream",
     "text": [
      "-------------------------------------------\n",
      "Batch: 110\n",
      "-------------------------------------------\n",
      "+--------------------+---------+--------------------+--------------------+-------------------+---------+--------------------+--------------------+-------------------+\n",
      "|           user_name|user_type|                 uri|               title|          timestamp|user_type|                 uri|               title|          timestamp|\n",
      "+--------------------+---------+--------------------+--------------------+-------------------+---------+--------------------+--------------------+-------------------+\n",
      "|Muhammad Rasya Al...|    human|https://en.wikipe...|User:Muhammad Ras...|2024-11-07 16:53:29|    human|https://en.wikipe...|User:Muhammad Ras...|2024-11-07 16:53:00|\n",
      "|         Warburg1866|    human|https://commons.w...|File:Azibaola edu...|2024-11-07 16:53:29|    human|https://commons.w...|      Category:Ogbia|2024-11-07 16:51:06|\n",
      "|            Hameryko|    human|https://www.wikid...|     Lexeme:L1376325|2024-11-07 16:53:27|    human|https://www.wikid...|     Lexeme:L1376321|2024-11-07 16:48:39|\n",
      "|            Hameryko|    human|https://www.wikid...|     Lexeme:L1376325|2024-11-07 16:53:27|    human|https://www.wikid...|     Lexeme:L1376322|2024-11-07 16:49:00|\n",
      "|            Hameryko|    human|https://www.wikid...|     Lexeme:L1376325|2024-11-07 16:53:27|    human|https://www.wikid...|     Lexeme:L1376323|2024-11-07 16:51:28|\n",
      "|            Hameryko|    human|https://www.wikid...|     Lexeme:L1376325|2024-11-07 16:53:27|    human|https://www.wikid...|     Lexeme:L1376324|2024-11-07 16:52:16|\n",
      "|            Hameryko|    human|https://www.wikid...|     Lexeme:L1376325|2024-11-07 16:53:27|    human|https://www.wikid...|     Lexeme:L1376325|2024-11-07 16:52:42|\n",
      "|            Hameryko|    human|https://www.wikid...|     Lexeme:L1376325|2024-11-07 16:53:27|    human|https://www.wikid...|     Lexeme:L1376326|2024-11-07 16:52:46|\n",
      "|            Hameryko|    human|https://www.wikid...|     Lexeme:L1376325|2024-11-07 16:53:27|    human|https://www.wikid...|     Lexeme:L1376327|2024-11-07 16:54:50|\n",
      "|     EmpressHarmonic|    human|https://commons.w...|Category:Barbecue...|2024-11-07 16:53:30|    human|https://commons.w...|Category:Prints o...|2024-11-12 15:24:20|\n",
      "|           Avestaboy|    human|https://ku.wikipe...|Kategorî:Serokdew...|2024-11-07 16:53:31|    human|https://ku.wikipe...|Kategorî:Serokdew...|2024-11-07 16:52:07|\n",
      "|                YBot|      bot|https://tr.wikipe...|         Bessie Love|2024-11-07 16:53:29|      bot|https://tr.wikipe...|Kullanıcı mesaj:B...|2024-11-12 15:24:33|\n",
      "|Inaki Irazabalbeitia|    human|https://www.wikid...|             Q418088|2024-11-07 16:53:29|    human|https://eu.wikipe...|        Arilo-haluro|2024-11-07 16:52:57|\n",
      "+--------------------+---------+--------------------+--------------------+-------------------+---------+--------------------+--------------------+-------------------+\n",
      "\n"
     ]
    },
    {
     "name": "stderr",
     "output_type": "stream",
     "text": [
      "                                                                                \r"
     ]
    },
    {
     "name": "stdout",
     "output_type": "stream",
     "text": [
      "-------------------------------------------\n",
      "Batch: 111\n",
      "-------------------------------------------\n",
      "+------------------+---------+--------------------+--------------------+-------------------+---------+--------------------+--------------------+-------------------+\n",
      "|         user_name|user_type|                 uri|               title|          timestamp|user_type|                 uri|               title|          timestamp|\n",
      "+------------------+---------+--------------------+--------------------+-------------------+---------+--------------------+--------------------+-------------------+\n",
      "|          Hameryko|    human|https://www.wikid...|     Lexeme:L1376326|2024-11-07 16:53:36|    human|https://www.wikid...|     Lexeme:L1376321|2024-11-07 16:48:39|\n",
      "|          Hameryko|    human|https://www.wikid...|     Lexeme:L1376326|2024-11-07 16:53:36|    human|https://www.wikid...|     Lexeme:L1376322|2024-11-07 16:49:00|\n",
      "|          Hameryko|    human|https://www.wikid...|     Lexeme:L1376326|2024-11-07 16:53:36|    human|https://www.wikid...|     Lexeme:L1376323|2024-11-07 16:51:28|\n",
      "|          Hameryko|    human|https://www.wikid...|     Lexeme:L1376326|2024-11-07 16:53:36|    human|https://www.wikid...|     Lexeme:L1376324|2024-11-07 16:52:16|\n",
      "|          Hameryko|    human|https://www.wikid...|     Lexeme:L1376326|2024-11-07 16:53:36|    human|https://www.wikid...|     Lexeme:L1376325|2024-11-07 16:52:42|\n",
      "|          Hameryko|    human|https://www.wikid...|     Lexeme:L1376326|2024-11-07 16:53:36|    human|https://www.wikid...|     Lexeme:L1376326|2024-11-07 16:52:46|\n",
      "|          Hameryko|    human|https://www.wikid...|     Lexeme:L1376326|2024-11-07 16:53:36|    human|https://www.wikid...|     Lexeme:L1376327|2024-11-07 16:54:50|\n",
      "|InternetArchiveBot|      bot|https://tg.wikipe...|      Комрон Раҳимов|2024-11-07 16:53:32|      bot|https://ckb.wikip...|وتووێژ:محەممەدڕەز...|2024-11-07 16:52:12|\n",
      "|InternetArchiveBot|      bot|https://eu.wikipe...|Alycia J. Weinberger|2024-11-07 16:53:34|      bot|https://ckb.wikip...|وتووێژ:محەممەدڕەز...|2024-11-07 16:52:12|\n",
      "|        Max Tenche|    human|https://cv.wikipe...|Елшанка (Татищево...|2024-11-07 16:53:36|    human|https://cv.wikipe...|Шаблон:Урӑх пӗлте...|2024-11-07 16:53:23|\n",
      "|        44 Gabriel|    human|https://en.wikipe...|User:44 Gabriel/s...|2024-11-07 16:53:34|    human|https://en.wikipe...|User:44 Gabriel/s...|2024-11-07 16:52:13|\n",
      "|       Craigysgafn|    human|https://cy.wikipe...|Categori:Swyddogi...|2024-11-07 16:53:33|    human|https://cy.wikipe...|Categori:Gwleidyd...|2024-11-07 16:49:47|\n",
      "+------------------+---------+--------------------+--------------------+-------------------+---------+--------------------+--------------------+-------------------+\n",
      "\n"
     ]
    },
    {
     "name": "stderr",
     "output_type": "stream",
     "text": [
      "                                                                                \r"
     ]
    },
    {
     "name": "stdout",
     "output_type": "stream",
     "text": [
      "-------------------------------------------\n",
      "Batch: 112\n",
      "-------------------------------------------\n",
      "+--------------------+---------+--------------------+--------------------+-------------------+---------+--------------------+--------------------+-------------------+\n",
      "|           user_name|user_type|                 uri|               title|          timestamp|user_type|                 uri|               title|          timestamp|\n",
      "+--------------------+---------+--------------------+--------------------+-------------------+---------+--------------------+--------------------+-------------------+\n",
      "|           Andrywhyd|    human|https://id.wikipe...|Liga Profesional ...|2024-11-07 16:53:38|    human|https://id.wikipe...| Aschraf El Mahdioui|2024-11-07 16:55:10|\n",
      "|     Felis domestica|    human|https://commons.w...|Category:Krótki p...|2024-11-07 16:53:43|    human|https://commons.w...|Category:Stielers...|2024-11-07 16:49:25|\n",
      "|     Felis domestica|    human|https://commons.w...|Category:Krótki p...|2024-11-07 16:53:43|    human|https://commons.w...|Category:Przewodn...|2024-11-07 16:54:46|\n",
      "|     Felis domestica|    human|https://commons.w...|Category:Krótki p...|2024-11-07 16:53:43|    human|https://commons.w...|Category:Przewodn...|2024-11-07 16:55:10|\n",
      "|        2.237.220.21|    human|https://it.wikipe...|         Clara Bindi|2024-11-07 16:53:38|    human|https://it.wikipe...|Discussioni utent...|2024-11-07 16:51:01|\n",
      "|Captain Ben Richards|    human|https://www.wikid...|             Q194137|2024-11-07 16:53:44|    human|https://be.wikipe...|Паўночны Ледавіты...|2024-11-07 16:53:23|\n",
      "|              Joorsm|    human|https://li.wikipe...|     Raymond Clement|2024-11-07 16:53:45|    human|https://li.wikipe...|Categorie:Limburg...|2024-11-07 16:52:09|\n",
      "+--------------------+---------+--------------------+--------------------+-------------------+---------+--------------------+--------------------+-------------------+\n",
      "\n"
     ]
    },
    {
     "name": "stderr",
     "output_type": "stream",
     "text": [
      "                                                                                \r"
     ]
    },
    {
     "name": "stdout",
     "output_type": "stream",
     "text": [
      "-------------------------------------------\n",
      "Batch: 113\n",
      "-------------------------------------------\n",
      "+--------------------+---------+--------------------+--------------------+-------------------+---------+--------------------+--------------------+-------------------+\n",
      "|           user_name|user_type|                 uri|               title|          timestamp|user_type|                 uri|               title|          timestamp|\n",
      "+--------------------+---------+--------------------+--------------------+-------------------+---------+--------------------+--------------------+-------------------+\n",
      "|     Klostergårdaren|    human|https://www.wikid...|            Q1450128|2024-11-07 16:53:48|    human|https://sv.wikipe...|     Franziska Heinz|2024-11-07 16:53:18|\n",
      "|Pickersgill-Cunliffe|    human|https://en.wikipe...|  Battle of Waterloo|2024-11-07 16:53:36|    human|https://en.wikipe...|User talk:2A02:C7...|2024-11-07 16:49:07|\n",
      "|Pickersgill-Cunliffe|    human|https://en.wikipe...|  Battle of Waterloo|2024-11-07 16:53:36|    human|https://en.wikipe...|User talk:217.43....|2024-11-07 16:50:40|\n",
      "|Pickersgill-Cunliffe|    human|https://en.wikipe...|  Battle of Waterloo|2024-11-07 16:53:36|    human|https://en.wikipe...|User talk:78.172....|2024-11-07 16:55:16|\n",
      "|     EmpressHarmonic|    human|https://commons.w...|Category:Barbecue...|2024-11-07 16:53:51|    human|https://commons.w...|Category:Prints o...|2024-11-12 15:24:20|\n",
      "|          44 Gabriel|    human|https://en.wikipe...|User:44 Gabriel/s...|2024-11-07 16:53:49|    human|https://en.wikipe...|User:44 Gabriel/s...|2024-11-07 16:52:13|\n",
      "|              MarSaf|    human|https://commons.w...|File:Казань. Вид ...|2024-11-07 16:53:51|    human|https://commons.w...|Category:Ametyevs...|2024-11-07 16:49:01|\n",
      "|                YBot|      bot|https://tr.wikipe...|    Beş Uygar Kabile|2024-11-07 16:53:49|      bot|https://tr.wikipe...|Kullanıcı mesaj:B...|2024-11-12 15:24:33|\n",
      "+--------------------+---------+--------------------+--------------------+-------------------+---------+--------------------+--------------------+-------------------+\n",
      "\n"
     ]
    },
    {
     "name": "stderr",
     "output_type": "stream",
     "text": [
      "                                                                                \r"
     ]
    },
    {
     "name": "stdout",
     "output_type": "stream",
     "text": [
      "-------------------------------------------\n",
      "Batch: 114\n",
      "-------------------------------------------\n",
      "+--------------+---------+--------------------+--------------------+-------------------+---------+--------------------+-----------------------+-------------------+\n",
      "|     user_name|user_type|                 uri|               title|          timestamp|user_type|                 uri|                  title|          timestamp|\n",
      "+--------------+---------+--------------------+--------------------+-------------------+---------+--------------------+-----------------------+-------------------+\n",
      "|LearnKnowGive1|    human|https://www.wikid...|          Q131013674|2024-11-07 16:53:56|    human|https://www.wikid...|             Q131013740|2024-11-07 16:49:12|\n",
      "|   Warburg1866|    human|https://commons.w...|File:The Honorabl...|2024-11-07 16:53:53|    human|https://commons.w...|         Category:Ogbia|2024-11-07 16:51:06|\n",
      "|    M2k~dewiki|    human|https://de.wikipe...|  Harold Etherington|2024-11-07 16:53:54|    human|https://www.wikid...|             Q131013834|2024-11-07 16:51:26|\n",
      "|    M2k~dewiki|    human|https://de.wikipe...|  Harold Etherington|2024-11-07 16:53:54|    human|https://www.wikid...|             Q131013889|2024-11-07 16:52:59|\n",
      "|   BigBullfrog|    human|https://zh.wikipe...| Category:保加利亞裔|2024-11-07 16:53:54|    human|https://zh.wikipe...|Category:拉丁美洲各国裔|2024-11-07 16:50:17|\n",
      "|   BigBullfrog|    human|https://zh.wikipe...| Category:保加利亞裔|2024-11-07 16:53:54|    human|https://zh.wikipe...|  Category:拉丁美洲国家|2024-11-07 16:50:56|\n",
      "|   BigBullfrog|    human|https://zh.wikipe...| Category:保加利亞裔|2024-11-07 16:53:54|    human|https://zh.wikipe...|Category:海外保加利亚人|2024-11-07 16:54:39|\n",
      "|         DE8AH|    human|https://fr.wiktio...|           chiavarle|2024-11-07 16:53:52|    human|https://fr.wiktio...|   Modèle:anagrammes...|2024-11-07 16:49:30|\n",
      "|         DE8AH|    human|https://fr.wiktio...|           chiavarle|2024-11-07 16:53:52|    human|https://fr.wiktio...|   Modèle:anagrammes...|2024-11-07 16:49:59|\n",
      "|         DE8AH|    human|https://fr.wiktio...|           chiavarle|2024-11-07 16:53:52|    human|https://fr.wiktio...|   Modèle:anagrammes...|2024-11-07 16:51:23|\n",
      "|         DE8AH|    human|https://fr.wiktio...|           chiavarle|2024-11-07 16:53:52|    human|https://fr.wiktio...|   Modèle:anagrammes...|2024-11-07 16:51:37|\n",
      "|         DE8AH|    human|https://fr.wiktio...|           chiavarle|2024-11-07 16:53:52|    human|https://fr.wiktio...|   Modèle:anagrammes...|2024-11-07 16:52:20|\n",
      "|         DE8AH|    human|https://fr.wiktio...|           chiavarle|2024-11-07 16:53:52|    human|https://fr.wiktio...|   Modèle:anagrammes...|2024-11-07 16:52:48|\n",
      "|         DE8AH|    human|https://fr.wiktio...|           chiavarle|2024-11-07 16:53:52|    human|https://fr.wiktio...|   Modèle:anagrammes...|2024-11-07 16:55:16|\n",
      "|         DE8AH|    human|https://fr.wiktio...|           chiavarle|2024-11-07 16:53:52|    human|https://fr.wiktio...|   Modèle:anagrammes...|2024-11-12 15:23:11|\n",
      "+--------------+---------+--------------------+--------------------+-------------------+---------+--------------------+-----------------------+-------------------+\n",
      "\n"
     ]
    },
    {
     "name": "stderr",
     "output_type": "stream",
     "text": [
      "                                                                                \r"
     ]
    },
    {
     "name": "stdout",
     "output_type": "stream",
     "text": [
      "-------------------------------------------\n",
      "Batch: 115\n",
      "-------------------------------------------\n",
      "+--------------------+---------+--------------------+--------------------+-------------------+---------+--------------------+--------------------+-------------------+\n",
      "|           user_name|user_type|                 uri|               title|          timestamp|user_type|                 uri|               title|          timestamp|\n",
      "+--------------------+---------+--------------------+--------------------+-------------------+---------+--------------------+--------------------+-------------------+\n",
      "|  Super-Wiki-Patrool|    human|https://www.wikid...|              Q19740|2024-11-07 16:54:01|    human|https://ru.wikiqu...|              Чучело|2024-11-07 16:49:15|\n",
      "|  Super-Wiki-Patrool|    human|https://www.wikid...|              Q19740|2024-11-07 16:54:01|    human|https://ru.wikiqu...|          Белый гриб|2024-11-07 16:53:24|\n",
      "|  Super-Wiki-Patrool|    human|https://www.wikid...|              Q19740|2024-11-07 16:54:01|    human|https://ru.wikiqu...|              Купен��|2024-11-07 16:55:13|\n",
      "|       Jordi escarre|    human|https://www.wikid...|            Q6019544|2024-11-07 16:54:02|    human|https://ca.wikipe...|  Misterix (revista)|2024-11-07 16:52:20|\n",
      "|            Hameryko|    human|https://www.wikid...|      Lexeme:L651314|2024-11-07 16:54:05|    human|https://www.wikid...|     Lexeme:L1376321|2024-11-07 16:48:39|\n",
      "|            Hameryko|    human|https://www.wikid...|      Lexeme:L651314|2024-11-07 16:54:05|    human|https://www.wikid...|     Lexeme:L1376322|2024-11-07 16:49:00|\n",
      "|            Hameryko|    human|https://www.wikid...|      Lexeme:L651314|2024-11-07 16:54:05|    human|https://www.wikid...|     Lexeme:L1376323|2024-11-07 16:51:28|\n",
      "|            Hameryko|    human|https://www.wikid...|      Lexeme:L651314|2024-11-07 16:54:05|    human|https://www.wikid...|     Lexeme:L1376324|2024-11-07 16:52:16|\n",
      "|            Hameryko|    human|https://www.wikid...|      Lexeme:L651314|2024-11-07 16:54:05|    human|https://www.wikid...|     Lexeme:L1376325|2024-11-07 16:52:42|\n",
      "|            Hameryko|    human|https://www.wikid...|      Lexeme:L651314|2024-11-07 16:54:05|    human|https://www.wikid...|     Lexeme:L1376326|2024-11-07 16:52:46|\n",
      "|            Hameryko|    human|https://www.wikid...|      Lexeme:L651314|2024-11-07 16:54:05|    human|https://www.wikid...|     Lexeme:L1376327|2024-11-07 16:54:50|\n",
      "|  InternetArchiveBot|      bot|https://en.wikipe...|     Jimmy Akingbola|2024-11-07 16:53:58|      bot|https://ckb.wikip...|وتووێژ:محەممەدڕەز...|2024-11-07 16:52:12|\n",
      "|Pickersgill-Cunliffe|    human|https://en.wikipe...|             Ram Jam|2024-11-07 16:53:59|    human|https://en.wikipe...|User talk:2A02:C7...|2024-11-07 16:49:07|\n",
      "|Pickersgill-Cunliffe|    human|https://en.wikipe...|             Ram Jam|2024-11-07 16:53:59|    human|https://en.wikipe...|User talk:217.43....|2024-11-07 16:50:40|\n",
      "|Pickersgill-Cunliffe|    human|https://en.wikipe...|             Ram Jam|2024-11-07 16:53:59|    human|https://en.wikipe...|User talk:78.172....|2024-11-07 16:55:16|\n",
      "|Pickersgill-Cunliffe|    human|https://en.wikipe...|User talk:47.184....|2024-11-07 16:54:01|    human|https://en.wikipe...|User talk:2A02:C7...|2024-11-07 16:49:07|\n",
      "|Pickersgill-Cunliffe|    human|https://en.wikipe...|User talk:47.184....|2024-11-07 16:54:01|    human|https://en.wikipe...|User talk:217.43....|2024-11-07 16:50:40|\n",
      "|Pickersgill-Cunliffe|    human|https://en.wikipe...|User talk:47.184....|2024-11-07 16:54:01|    human|https://en.wikipe...|User talk:78.172....|2024-11-07 16:55:16|\n",
      "|        Andre Engels|    human|https://www.wikid...|          Q131013762|2024-11-07 16:54:00|    human|https://www.wikid...|          Q131013762|2024-11-07 16:49:41|\n",
      "|            Ясамойла|    human|https://be-tarask...|        Сем самураяў|2024-11-07 16:53:57|    human|https://be-tarask...|Катэгорыя:Драматы...|2024-11-07 16:49:37|\n",
      "+--------------------+---------+--------------------+--------------------+-------------------+---------+--------------------+--------------------+-------------------+\n",
      "only showing top 20 rows\n",
      "\n"
     ]
    },
    {
     "name": "stderr",
     "output_type": "stream",
     "text": [
      "                                                                                \r"
     ]
    },
    {
     "name": "stdout",
     "output_type": "stream",
     "text": [
      "-------------------------------------------\n",
      "Batch: 116\n",
      "-------------------------------------------\n",
      "+--------------------+---------+--------------------+--------------------+-------------------+---------+--------------------+--------------------+-------------------+\n",
      "|           user_name|user_type|                 uri|               title|          timestamp|user_type|                 uri|               title|          timestamp|\n",
      "+--------------------+---------+--------------------+--------------------+-------------------+---------+--------------------+--------------------+-------------------+\n",
      "|            Chesspac|    human|https://fr.wiktio...|               memor|2024-11-07 16:54:06|    human|https://fr.wiktio...|           memoratim|2024-11-07 16:51:23|\n",
      "|            Chesspac|    human|https://fr.wiktio...|               memor|2024-11-07 16:54:06|    human|https://fr.wiktio...|             moratim|2024-11-07 16:55:19|\n",
      "|            Chesspac|    human|https://fr.wiktio...|               memor|2024-11-07 16:54:06|    human|https://fr.wiktio...|         invitabilis|2024-11-12 15:24:17|\n",
      "|Pickersgill-Cunliffe|    human|https://en.wikipe...|User talk:2603:60...|2024-11-07 16:54:07|    human|https://en.wikipe...|User talk:2A02:C7...|2024-11-07 16:49:07|\n",
      "|Pickersgill-Cunliffe|    human|https://en.wikipe...|User talk:2603:60...|2024-11-07 16:54:07|    human|https://en.wikipe...|User talk:217.43....|2024-11-07 16:50:40|\n",
      "|Pickersgill-Cunliffe|    human|https://en.wikipe...|User talk:2603:60...|2024-11-07 16:54:07|    human|https://en.wikipe...|User talk:78.172....|2024-11-07 16:55:16|\n",
      "|Pickersgill-Cunliffe|    human|https://en.wikipe...|     The Casagrandes|2024-11-07 16:54:04|    human|https://en.wikipe...|User talk:2A02:C7...|2024-11-07 16:49:07|\n",
      "|Pickersgill-Cunliffe|    human|https://en.wikipe...|     The Casagrandes|2024-11-07 16:54:04|    human|https://en.wikipe...|User talk:217.43....|2024-11-07 16:50:40|\n",
      "|Pickersgill-Cunliffe|    human|https://en.wikipe...|     The Casagrandes|2024-11-07 16:54:04|    human|https://en.wikipe...|User talk:78.172....|2024-11-07 16:55:16|\n",
      "|     EmpressHarmonic|    human|https://commons.w...|Category:Food was...|2024-11-07 16:54:10|    human|https://commons.w...|Category:Prints o...|2024-11-12 15:24:20|\n",
      "|          Mateus2019|    human|https://commons.w...|               Balve|2024-11-07 16:54:04|    human|https://commons.w...|Category:Gallery ...|2024-11-07 16:50:19|\n",
      "|          Lesiakower|    human|https://pl.wiktio...|     kamień węgielny|2024-11-07 16:54:06|    human|https://pl.wiktio...|       building site|2024-11-07 16:52:53|\n",
      "|        Dorcas Atule|    human|https://www.wikid...|          Q131013858|2024-11-07 16:54:05|    human|https://www.wikid...|          Q131013723|2024-11-07 16:48:41|\n",
      "|        Dorcas Atule|    human|https://www.wikid...|          Q131013858|2024-11-07 16:54:05|    human|https://www.wikid...|          Q131013858|2024-11-07 16:52:07|\n",
      "|         Craigysgafn|    human|https://cy.wikipe...|Categori:Aelodau ...|2024-11-07 16:54:06|    human|https://cy.wikipe...|Categori:Gwleidyd...|2024-11-07 16:49:47|\n",
      "|               DE8AH|    human|https://fr.wiktio...|         invogliarle|2024-11-07 16:54:06|    human|https://fr.wiktio...|Modèle:anagrammes...|2024-11-07 16:49:30|\n",
      "|               DE8AH|    human|https://fr.wiktio...|         invogliarle|2024-11-07 16:54:06|    human|https://fr.wiktio...|Modèle:anagrammes...|2024-11-07 16:49:59|\n",
      "|               DE8AH|    human|https://fr.wiktio...|         invogliarle|2024-11-07 16:54:06|    human|https://fr.wiktio...|Modèle:anagrammes...|2024-11-07 16:51:23|\n",
      "|               DE8AH|    human|https://fr.wiktio...|         invogliarle|2024-11-07 16:54:06|    human|https://fr.wiktio...|Modèle:anagrammes...|2024-11-07 16:51:37|\n",
      "|               DE8AH|    human|https://fr.wiktio...|         invogliarle|2024-11-07 16:54:06|    human|https://fr.wiktio...|Modèle:anagrammes...|2024-11-07 16:52:20|\n",
      "+--------------------+---------+--------------------+--------------------+-------------------+---------+--------------------+--------------------+-------------------+\n",
      "only showing top 20 rows\n",
      "\n"
     ]
    },
    {
     "name": "stderr",
     "output_type": "stream",
     "text": [
      "                                                                                \r"
     ]
    },
    {
     "name": "stdout",
     "output_type": "stream",
     "text": [
      "-------------------------------------------\n",
      "Batch: 117\n",
      "-------------------------------------------\n",
      "+---------------+---------+--------------------+--------------------+-------------------+---------+--------------------+--------------------+-------------------+\n",
      "|      user_name|user_type|                 uri|               title|          timestamp|user_type|                 uri|               title|          timestamp|\n",
      "+---------------+---------+--------------------+--------------------+-------------------+---------+--------------------+--------------------+-------------------+\n",
      "|       Hameryko|    human|https://www.wikid...|      Lexeme:L651314|2024-11-07 16:54:15|    human|https://www.wikid...|     Lexeme:L1376321|2024-11-07 16:48:39|\n",
      "|       Hameryko|    human|https://www.wikid...|      Lexeme:L651314|2024-11-07 16:54:15|    human|https://www.wikid...|     Lexeme:L1376322|2024-11-07 16:49:00|\n",
      "|       Hameryko|    human|https://www.wikid...|      Lexeme:L651314|2024-11-07 16:54:15|    human|https://www.wikid...|     Lexeme:L1376323|2024-11-07 16:51:28|\n",
      "|       Hameryko|    human|https://www.wikid...|      Lexeme:L651314|2024-11-07 16:54:15|    human|https://www.wikid...|     Lexeme:L1376324|2024-11-07 16:52:16|\n",
      "|       Hameryko|    human|https://www.wikid...|      Lexeme:L651314|2024-11-07 16:54:15|    human|https://www.wikid...|     Lexeme:L1376325|2024-11-07 16:52:42|\n",
      "|       Hameryko|    human|https://www.wikid...|      Lexeme:L651314|2024-11-07 16:54:15|    human|https://www.wikid...|     Lexeme:L1376326|2024-11-07 16:52:46|\n",
      "|       Hameryko|    human|https://www.wikid...|      Lexeme:L651314|2024-11-07 16:54:15|    human|https://www.wikid...|     Lexeme:L1376327|2024-11-07 16:54:50|\n",
      "|          Ulamm|    human|https://commons.w...|Category:Schools ...|2024-11-07 16:54:18|    human|https://commons.w...|Category:Former s...|2024-11-07 16:52:20|\n",
      "|          Ulamm|    human|https://commons.w...|Category:Schools ...|2024-11-07 16:54:18|    human|https://commons.w...|Category:Schools ...|2024-11-07 16:53:23|\n",
      "|          Ulamm|    human|https://commons.w...|Category:Schools ...|2024-11-07 16:54:18|    human|https://commons.w...|Category:1960s ch...|2024-11-07 16:55:16|\n",
      "|Marcel coenders|    human|https://nl.wiktio...|          afleesloep|2024-11-07 16:54:13|    human|https://nl.wiktio...|  aartsroddelaarster|2024-11-12 15:23:05|\n",
      "|Marcel coenders|    human|https://nl.wiktio...|          afleesloep|2024-11-07 16:54:13|    human|https://nl.wiktio...| aartsroddelaarsters|2024-11-12 15:24:08|\n",
      "|Marcel coenders|    human|https://nl.wiktio...|          afleesloep|2024-11-07 16:54:13|    human|https://nl.wiktio...|aartsroddelaarste...|2024-11-12 15:25:11|\n",
      "|     Igor123121|    human|https://www.wikid...|          Q131013968|2024-11-07 16:54:16|    human|https://pl.wikine...|Album Doja Cat „A...|2024-11-07 16:49:45|\n",
      "|     Igor123121|    human|https://www.wikid...|          Q131013968|2024-11-07 16:54:16|    human|https://www.wikid...|          Q131013770|2024-11-07 16:49:50|\n",
      "|     Igor123121|    human|https://www.wikid...|          Q131013968|2024-11-07 16:54:16|    human|https://pl.wikine...|Album Jessie Ware...|2024-11-07 16:51:18|\n",
      "|     Igor123121|    human|https://www.wikid...|          Q131013968|2024-11-07 16:54:16|    human|https://www.wikid...|          Q131013833|2024-11-07 16:51:26|\n",
      "|     Igor123121|    human|https://www.wikid...|          Q131013968|2024-11-07 16:54:16|    human|https://pl.wikine...|Album Juice Wrld ...|2024-11-07 16:54:01|\n",
      "|       Elebayev|    human|https://ky.wikipe...|        Дауд Гросман|2024-11-07 16:54:15|    human|https://ky.wikipe...|        Дауд Гросман|2024-11-07 16:49:49|\n",
      "|       Elebayev|    human|https://ky.wikipe...|        Дауд Гросман|2024-11-07 16:54:15|    human|https://ky.wikipe...|Категория:Ысрайыл...|2024-11-07 16:51:38|\n",
      "+---------------+---------+--------------------+--------------------+-------------------+---------+--------------------+--------------------+-------------------+\n",
      "only showing top 20 rows\n",
      "\n"
     ]
    },
    {
     "name": "stderr",
     "output_type": "stream",
     "text": [
      "                                                                                \r"
     ]
    },
    {
     "name": "stdout",
     "output_type": "stream",
     "text": [
      "-------------------------------------------\n",
      "Batch: 118\n",
      "-------------------------------------------\n",
      "+---------------+---------+--------------------+--------------------+-------------------+---------+--------------------+--------------------+-------------------+\n",
      "|      user_name|user_type|                 uri|               title|          timestamp|user_type|                 uri|               title|          timestamp|\n",
      "+---------------+---------+--------------------+--------------------+-------------------+---------+--------------------+--------------------+-------------------+\n",
      "|    Warburg1866|    human|https://commons.w...|File:The Honorabl...|2024-11-07 16:54:19|    human|https://commons.w...|      Category:Ogbia|2024-11-07 16:51:06|\n",
      "|EmpressHarmonic|    human|https://commons.w...|Category:Trays wi...|2024-11-07 16:54:23|    human|https://commons.w...|Category:Prints o...|2024-11-12 15:24:20|\n",
      "|  Mr.Ibrahembot|      bot|https://ar.wikipe...|نقاش:جائزة لاس في...|2024-11-07 16:54:21|      bot|https://ar.wikipe...|نقاش:جائزة لاس في...|2024-11-07 16:54:19|\n",
      "|  Mr.Ibrahembot|      bot|https://ar.wikipe...|         عقدة المنقذ|2024-11-07 16:54:23|      bot|https://ar.wikipe...|نقاش:جائزة لاس في...|2024-11-07 16:54:19|\n",
      "+---------------+---------+--------------------+--------------------+-------------------+---------+--------------------+--------------------+-------------------+\n",
      "\n"
     ]
    },
    {
     "name": "stderr",
     "output_type": "stream",
     "text": [
      "                                                                                \r"
     ]
    },
    {
     "name": "stdout",
     "output_type": "stream",
     "text": [
      "-------------------------------------------\n",
      "Batch: 119\n",
      "-------------------------------------------\n",
      "+------------------+---------+--------------------+--------------------+-------------------+---------+--------------------+--------------------+-------------------+\n",
      "|         user_name|user_type|                 uri|               title|          timestamp|user_type|                 uri|               title|          timestamp|\n",
      "+------------------+---------+--------------------+--------------------+-------------------+---------+--------------------+--------------------+-------------------+\n",
      "|    LearnKnowGive1|    human|https://www.wikid...|          Q131013674|2024-11-07 16:54:31|    human|https://www.wikid...|          Q131013740|2024-11-07 16:49:12|\n",
      "|          Hameryko|    human|https://www.wikid...|      Lexeme:L651314|2024-11-07 16:54:29|    human|https://www.wikid...|     Lexeme:L1376321|2024-11-07 16:48:39|\n",
      "|          Hameryko|    human|https://www.wikid...|      Lexeme:L651314|2024-11-07 16:54:29|    human|https://www.wikid...|     Lexeme:L1376322|2024-11-07 16:49:00|\n",
      "|          Hameryko|    human|https://www.wikid...|      Lexeme:L651314|2024-11-07 16:54:29|    human|https://www.wikid...|     Lexeme:L1376323|2024-11-07 16:51:28|\n",
      "|          Hameryko|    human|https://www.wikid...|      Lexeme:L651314|2024-11-07 16:54:29|    human|https://www.wikid...|     Lexeme:L1376324|2024-11-07 16:52:16|\n",
      "|          Hameryko|    human|https://www.wikid...|      Lexeme:L651314|2024-11-07 16:54:29|    human|https://www.wikid...|     Lexeme:L1376325|2024-11-07 16:52:42|\n",
      "|          Hameryko|    human|https://www.wikid...|      Lexeme:L651314|2024-11-07 16:54:29|    human|https://www.wikid...|     Lexeme:L1376326|2024-11-07 16:52:46|\n",
      "|          Hameryko|    human|https://www.wikid...|      Lexeme:L651314|2024-11-07 16:54:29|    human|https://www.wikid...|     Lexeme:L1376327|2024-11-07 16:54:50|\n",
      "|InternetArchiveBot|      bot|https://ckb.wikip...| محەممەدی مەلا کەریم|2024-11-07 16:54:30|      bot|https://ckb.wikip...|وتووێژ:محەممەدڕەز...|2024-11-07 16:52:12|\n",
      "|   EmpressHarmonic|    human|https://commons.w...|Category:Traditio...|2024-11-07 16:54:27|    human|https://commons.w...|Category:Prints o...|2024-11-12 15:24:20|\n",
      "|     Mr.Ibrahembot|      bot|https://ar.wikipe...|           نهر أليتش|2024-11-07 16:54:25|      bot|https://ar.wikipe...|نقاش:جائزة لاس في...|2024-11-07 16:54:19|\n",
      "|           StarDeg|    human|https://be.wikipe...|     Вялікая сямёрка|2024-11-07 16:54:32|    human|https://be.wikipe...|         Рэйчэл Рыўз|2024-11-07 16:49:48|\n",
      "|         কুমুদ ঘোষ|    human|https://www.wikid...|             Q374805|2024-11-07 16:54:26|    human|https://as.wikipe...|       কাঠনি‍ বোৱাৰী|2024-11-07 16:54:23|\n",
      "|            Joorsm|    human|https://li.wikipe...|        Toon Hermans|2024-11-07 16:54:28|    human|https://li.wikipe...|Categorie:Limburg...|2024-11-07 16:52:09|\n",
      "+------------------+---------+--------------------+--------------------+-------------------+---------+--------------------+--------------------+-------------------+\n",
      "\n"
     ]
    },
    {
     "name": "stderr",
     "output_type": "stream",
     "text": [
      "                                                                                \r"
     ]
    },
    {
     "name": "stdout",
     "output_type": "stream",
     "text": [
      "-------------------------------------------\n",
      "Batch: 120\n",
      "-------------------------------------------\n",
      "+--------------------+---------+--------------------+--------------------+-------------------+---------+--------------------+--------------------+-------------------+\n",
      "|           user_name|user_type|                 uri|               title|          timestamp|user_type|                 uri|               title|          timestamp|\n",
      "+--------------------+---------+--------------------+--------------------+-------------------+---------+--------------------+--------------------+-------------------+\n",
      "|            Bpierreb|    human|https://fr.wiktio...|affection de long...|2024-11-07 16:54:37|    human|https://fr.wiktio...|affections de lon...|2024-11-07 16:51:09|\n",
      "|      LearnKnowGive1|    human|https://www.wikid...|          Q131013674|2024-11-07 16:54:36|    human|https://www.wikid...|          Q131013740|2024-11-07 16:49:12|\n",
      "|            AnRo0002|    human|https://commons.w...|File:AB Stiftskir...|2024-11-07 16:54:34|    human|https://commons.w...|Category:Monument...|2024-11-07 16:52:14|\n",
      "|         DavidMCEddy|    human|https://www.wikid...|          Q131013865|2024-11-07 16:54:37|    human|https://www.wikid...|          Q131013865|2024-11-07 16:52:16|\n",
      "|             Hyméros|    human|https://fr.wikipe...|        Sarah Kalume|2024-11-07 16:54:31|    human|https://commons.w...|Commons:Deletion ...|2024-11-07 16:52:41|\n",
      "|  InternetArchiveBot|      bot|https://tt.wikipe...|             Пальяса|2024-11-07 16:54:36|      bot|https://ckb.wikip...|وتووێژ:محەممەدڕەز...|2024-11-07 16:52:12|\n",
      "|           WikiTatik|    human|https://www.wikid...|            Q1461050|2024-11-07 16:54:35|    human|https://hy.wikipe...|Սայմոն Ջոնսոն (ec...|2024-11-07 16:50:47|\n",
      "|     EmpressHarmonic|    human|https://commons.w...|Category:Food for...|2024-11-07 16:54:37|    human|https://commons.w...|Category:Prints o...|2024-11-12 15:24:20|\n",
      "|        Andre Engels|    human|https://www.wikid...|          Q131013762|2024-11-07 16:54:37|    human|https://www.wikid...|          Q131013762|2024-11-07 16:49:41|\n",
      "|              J 1982|    human|https://www.wikid...|          Q131013942|2024-11-07 16:54:37|    human|https://www.wikid...|          Q131013942|2024-11-07 16:53:56|\n",
      "|              J 1982|    human|https://www.wikid...|          Q131013942|2024-11-07 16:54:38|    human|https://www.wikid...|          Q131013942|2024-11-07 16:53:56|\n",
      "|            Sławobóg|    human|https://hsb.wikti...|Modul:category tr...|2024-11-07 16:54:35|    human|https://hsb.wikti...|Modul:message box...|2024-11-07 16:48:47|\n",
      "|            Sławobóg|    human|https://hsb.wikti...|Modul:category tr...|2024-11-07 16:54:35|    human|https://hsb.wikti...|Modul:category tr...|2024-11-07 16:49:50|\n",
      "|            Sławobóg|    human|https://hsb.wikti...|Modul:category tr...|2024-11-07 16:54:35|    human|https://hsb.wikti...|Modul:category tr...|2024-11-07 16:50:40|\n",
      "|            Sławobóg|    human|https://hsb.wikti...|Modul:category tr...|2024-11-07 16:54:35|    human|https://hsb.wikti...|Modul:category tr...|2024-11-07 16:51:33|\n",
      "|            Sławobóg|    human|https://hsb.wikti...|Modul:category tr...|2024-11-07 16:54:35|    human|https://hsb.wikti...|Modul:category tr...|2024-11-07 16:52:34|\n",
      "|            Sławobóg|    human|https://hsb.wikti...|Modul:category tr...|2024-11-07 16:54:35|    human|https://hsb.wikti...|Modul:category tr...|2024-11-07 16:53:34|\n",
      "|Inaki Irazabalbeitia|    human|https://eu.wikipe...|        Arilo-haluro|2024-11-07 16:54:34|    human|https://eu.wikipe...|        Arilo-haluro|2024-11-07 16:52:57|\n",
      "+--------------------+---------+--------------------+--------------------+-------------------+---------+--------------------+--------------------+-------------------+\n",
      "\n"
     ]
    },
    {
     "name": "stderr",
     "output_type": "stream",
     "text": [
      "                                                                                \r"
     ]
    },
    {
     "name": "stdout",
     "output_type": "stream",
     "text": [
      "-------------------------------------------\n",
      "Batch: 121\n",
      "-------------------------------------------\n",
      "+------------------+---------+--------------------+--------------------+-------------------+---------+--------------------+--------------------+-------------------+\n",
      "|         user_name|user_type|                 uri|               title|          timestamp|user_type|                 uri|               title|          timestamp|\n",
      "+------------------+---------+--------------------+--------------------+-------------------+---------+--------------------+--------------------+-------------------+\n",
      "|      Stephilippou|    human|https://el.wiktio...|                high|2024-11-07 16:54:38|    human|https://el.wiktio...|           customers|2024-11-07 16:50:24|\n",
      "|    LearnKnowGive1|    human|https://www.wikid...|          Q131013674|2024-11-07 16:54:38|    human|https://www.wikid...|          Q131013740|2024-11-07 16:49:12|\n",
      "|    LearnKnowGive1|    human|https://www.wikid...|          Q131013674|2024-11-07 16:54:41|    human|https://www.wikid...|          Q131013740|2024-11-07 16:49:12|\n",
      "|    LearnKnowGive1|    human|https://www.wikid...|          Q131013674|2024-11-07 16:54:42|    human|https://www.wikid...|          Q131013740|2024-11-07 16:49:12|\n",
      "|          Pasicles|    human|https://en.wikiso...|Page:Ad Lucilium ...|2024-11-07 16:54:42|    human|https://en.wikiso...|Page:Ad Lucilium ...|2024-11-07 16:48:59|\n",
      "|          Pasicles|    human|https://en.wikiso...|Page:Ad Lucilium ...|2024-11-07 16:54:42|    human|https://en.wikiso...|Page:Ad Lucilium ...|2024-11-07 16:53:42|\n",
      "|          Pasicles|    human|https://en.wikiso...|Page:Ad Lucilium ...|2024-11-07 16:54:42|    human|https://en.wikiso...|Page:The King of ...|2024-11-12 15:22:37|\n",
      "|          Pasicles|    human|https://en.wikiso...|Page:Ad Lucilium ...|2024-11-07 16:54:42|    human|https://en.wikiso...|Page:The King of ...|2024-11-12 15:23:17|\n",
      "|          Pasicles|    human|https://en.wikiso...|Page:Ad Lucilium ...|2024-11-07 16:54:42|    human|https://en.wikiso...|Page:The King of ...|2024-11-12 15:24:09|\n",
      "|          Pasicles|    human|https://en.wikiso...|Page:Ad Lucilium ...|2024-11-07 16:54:42|    human|https://en.wikiso...|Page:The King of ...|2024-11-12 15:24:51|\n",
      "|          Pasicles|    human|https://en.wikiso...|Page:Ad Lucilium ...|2024-11-07 16:54:42|    human|https://en.wikiso...|Page:The King of ...|2024-11-12 15:25:31|\n",
      "|InternetArchiveBot|      bot|https://ckb.wikip...|وتووێژ:محەممەدی م...|2024-11-07 16:54:42|      bot|https://ckb.wikip...|وتووێژ:محەممەدڕەز...|2024-11-07 16:52:12|\n",
      "|            J 1982|    human|https://www.wikid...|          Q131013942|2024-11-07 16:54:40|    human|https://www.wikid...|          Q131013942|2024-11-07 16:53:56|\n",
      "|            J 1982|    human|https://www.wikid...|          Q131013942|2024-11-07 16:54:41|    human|https://www.wikid...|          Q131013942|2024-11-07 16:53:56|\n",
      "|            J 1982|    human|https://www.wikid...|          Q131013942|2024-11-07 16:54:42|    human|https://www.wikid...|          Q131013942|2024-11-07 16:53:56|\n",
      "|            J 1982|    human|https://www.wikid...|          Q131013942|2024-11-07 16:54:42|    human|https://www.wikid...|          Q131013942|2024-11-07 16:53:56|\n",
      "|            J 1982|    human|https://www.wikid...|          Q131013942|2024-11-07 16:54:43|    human|https://www.wikid...|          Q131013942|2024-11-07 16:53:56|\n",
      "|      Dorcas Atule|    human|https://www.wikid...|          Q131013858|2024-11-07 16:54:39|    human|https://www.wikid...|          Q131013723|2024-11-07 16:48:41|\n",
      "|      Dorcas Atule|    human|https://www.wikid...|          Q131013858|2024-11-07 16:54:39|    human|https://www.wikid...|          Q131013858|2024-11-07 16:52:07|\n",
      "|            MarSaf|    human|https://commons.w...|File:Казань. Вид ...|2024-11-07 16:54:40|    human|https://commons.w...|Category:Ametyevs...|2024-11-07 16:49:01|\n",
      "+------------------+---------+--------------------+--------------------+-------------------+---------+--------------------+--------------------+-------------------+\n",
      "only showing top 20 rows\n",
      "\n"
     ]
    },
    {
     "name": "stderr",
     "output_type": "stream",
     "text": [
      "                                                                                \r"
     ]
    },
    {
     "name": "stdout",
     "output_type": "stream",
     "text": [
      "-------------------------------------------\n",
      "Batch: 122\n",
      "-------------------------------------------\n",
      "+--------------+---------+--------------------+--------------------+-------------------+---------+--------------------+--------------------+-------------------+\n",
      "|     user_name|user_type|                 uri|               title|          timestamp|user_type|                 uri|               title|          timestamp|\n",
      "+--------------+---------+--------------------+--------------------+-------------------+---------+--------------------+--------------------+-------------------+\n",
      "|LearnKnowGive1|    human|https://www.wikid...|          Q131013674|2024-11-07 16:54:46|    human|https://www.wikid...|          Q131013740|2024-11-07 16:49:12|\n",
      "|LearnKnowGive1|    human|https://www.wikid...|          Q131013674|2024-11-07 16:54:48|    human|https://www.wikid...|          Q131013740|2024-11-07 16:49:12|\n",
      "|AKhaleghizadeh|    human|https://www.wikid...|            Q2667807|2024-11-07 16:54:48|    human|https://fa.wikipe...|سسک درختزار کلاه‌...|2024-11-07 16:50:36|\n",
      "|AKhaleghizadeh|    human|https://www.wikid...|            Q2667807|2024-11-07 16:54:48|    human|https://fa.wikipe...| سسک درختزار اوگاندا|2024-11-07 16:54:46|\n",
      "|  Beşiktaşlı48|    human|https://tr.wikipe...|           Şablon:Rl|2024-11-07 16:54:47|    human|https://tr.wikipe...|           Şablon:Rl|2024-11-07 16:50:44|\n",
      "|  Beşiktaşlı48|    human|https://tr.wikipe...|           Şablon:Rl|2024-11-07 16:54:47|    human|https://tr.wikipe...|Kategori:Ragbi li...|2024-11-07 16:55:16|\n",
      "|    Lakejason0|    human|https://www.media...|Template:MediaWik...|2024-11-07 16:54:43|    human|https://www.media...|Translations:Temp...|2024-11-07 16:50:08|\n",
      "|    Lakejason0|    human|https://www.media...|Template:MediaWik...|2024-11-07 16:54:43|    human|https://www.media...|Translations:Temp...|2024-11-07 16:50:50|\n",
      "|    Lakejason0|    human|https://www.media...|Template:MediaWik...|2024-11-07 16:54:43|    human|https://www.media...|Translations:Temp...|2024-11-07 16:54:41|\n",
      "|     Avestaboy|    human|https://ku.wikipe...|Kategorî:Serokdew...|2024-11-07 16:54:48|    human|https://ku.wikipe...|Kategorî:Serokdew...|2024-11-07 16:52:07|\n",
      "+--------------+---------+--------------------+--------------------+-------------------+---------+--------------------+--------------------+-------------------+\n",
      "\n"
     ]
    },
    {
     "name": "stderr",
     "output_type": "stream",
     "text": [
      "                                                                                \r"
     ]
    },
    {
     "name": "stdout",
     "output_type": "stream",
     "text": [
      "-------------------------------------------\n",
      "Batch: 123\n",
      "-------------------------------------------\n",
      "+---------------+---------+--------------------+--------------------+-------------------+---------+--------------------+-----------------------+-------------------+\n",
      "|      user_name|user_type|                 uri|               title|          timestamp|user_type|                 uri|                  title|          timestamp|\n",
      "+---------------+---------+--------------------+--------------------+-------------------+---------+--------------------+-----------------------+-------------------+\n",
      "|       Bpierreb|    human|https://fr.wiktio...|affection de long...|2024-11-07 16:54:54|    human|https://fr.wiktio...|   affections de lon...|2024-11-07 16:51:09|\n",
      "|EmpressHarmonic|    human|https://commons.w...|Category:Haru no ...|2024-11-07 16:54:51|    human|https://commons.w...|   Category:Prints o...|2024-11-12 15:24:20|\n",
      "|         J 1982|    human|https://www.wikid...|          Q131013942|2024-11-07 16:54:54|    human|https://www.wikid...|             Q131013942|2024-11-07 16:53:56|\n",
      "|     44 Gabriel|    human|https://en.wikipe...|Draft:Derby do Minho|2024-11-07 16:54:49|    human|https://en.wikipe...|   User:44 Gabriel/s...|2024-11-07 16:52:13|\n",
      "|        Polmars|    human|https://fr.wikipe...|Se souvenir d'une...|2024-11-07 16:54:55|    human|https://fr.wikipe...|   Discussion:Se sou...|2024-11-07 16:55:13|\n",
      "|    BigBullfrog|    human|https://www.wikid...|            Q9649168|2024-11-07 16:54:54|    human|https://zh.wikipe...|Category:拉丁美洲各国裔|2024-11-07 16:50:17|\n",
      "|    BigBullfrog|    human|https://www.wikid...|            Q9649168|2024-11-07 16:54:54|    human|https://zh.wikipe...|  Category:拉丁美洲国家|2024-11-07 16:50:56|\n",
      "|    BigBullfrog|    human|https://www.wikid...|            Q9649168|2024-11-07 16:54:54|    human|https://zh.wikipe...|Category:海外保加利亚人|2024-11-07 16:54:39|\n",
      "+---------------+---------+--------------------+--------------------+-------------------+---------+--------------------+-----------------------+-------------------+\n",
      "\n"
     ]
    },
    {
     "name": "stderr",
     "output_type": "stream",
     "text": [
      "                                                                                \r"
     ]
    },
    {
     "name": "stdout",
     "output_type": "stream",
     "text": [
      "-------------------------------------------\n",
      "Batch: 124\n",
      "-------------------------------------------\n",
      "+------------+---------+--------------------+--------------------+-------------------+---------+--------------------+--------------------+-------------------+\n",
      "|   user_name|user_type|                 uri|               title|          timestamp|user_type|                 uri|               title|          timestamp|\n",
      "+------------+---------+--------------------+--------------------+-------------------+---------+--------------------+--------------------+-------------------+\n",
      "|    RAleh111|    human|https://be.wikiso...|Старонка:Лучынка ...|2024-11-07 16:54:57|    human|https://be.wikiso...|Старонка:Лучынка ...|2024-11-07 16:54:04|\n",
      "| DavidMCEddy|    human|https://www.wikid...|          Q131013865|2024-11-07 16:54:57|    human|https://www.wikid...|          Q131013865|2024-11-07 16:52:16|\n",
      "|    Hameryko|    human|https://www.wikid...|     Lexeme:L1376327|2024-11-07 16:54:58|    human|https://www.wikid...|     Lexeme:L1376321|2024-11-07 16:48:39|\n",
      "|    Hameryko|    human|https://www.wikid...|     Lexeme:L1376327|2024-11-07 16:54:58|    human|https://www.wikid...|     Lexeme:L1376322|2024-11-07 16:49:00|\n",
      "|    Hameryko|    human|https://www.wikid...|     Lexeme:L1376327|2024-11-07 16:54:58|    human|https://www.wikid...|     Lexeme:L1376323|2024-11-07 16:51:28|\n",
      "|    Hameryko|    human|https://www.wikid...|     Lexeme:L1376327|2024-11-07 16:54:58|    human|https://www.wikid...|     Lexeme:L1376324|2024-11-07 16:52:16|\n",
      "|    Hameryko|    human|https://www.wikid...|     Lexeme:L1376327|2024-11-07 16:54:58|    human|https://www.wikid...|     Lexeme:L1376325|2024-11-07 16:52:42|\n",
      "|    Hameryko|    human|https://www.wikid...|     Lexeme:L1376327|2024-11-07 16:54:58|    human|https://www.wikid...|     Lexeme:L1376326|2024-11-07 16:52:46|\n",
      "|    Hameryko|    human|https://www.wikid...|     Lexeme:L1376327|2024-11-07 16:54:58|    human|https://www.wikid...|     Lexeme:L1376327|2024-11-07 16:54:50|\n",
      "|  YogSothoth|    human|https://it.wikipe...|  Pilastri (Bondeno)|2024-11-07 16:54:58|    human|https://it.wikipe...|Discussioni utent...|2024-11-07 16:53:17|\n",
      "|       Ulamm|    human|https://commons.w...|Category:Evangeli...|2024-11-07 16:54:59|    human|https://commons.w...|Category:Former s...|2024-11-07 16:52:20|\n",
      "|       Ulamm|    human|https://commons.w...|Category:Evangeli...|2024-11-07 16:54:59|    human|https://commons.w...|Category:Schools ...|2024-11-07 16:53:23|\n",
      "|       Ulamm|    human|https://commons.w...|Category:Evangeli...|2024-11-07 16:54:59|    human|https://commons.w...|Category:1960s ch...|2024-11-07 16:55:16|\n",
      "|Andre Engels|    human|https://www.wikid...|          Q131013762|2024-11-07 16:55:01|    human|https://www.wikid...|          Q131013762|2024-11-07 16:49:41|\n",
      "|  44 Gabriel|    human|https://en.wikipe...|Draft:Derby do Minho|2024-11-07 16:54:59|    human|https://en.wikipe...|User:44 Gabriel/s...|2024-11-07 16:52:13|\n",
      "|Dorcas Atule|    human|https://www.wikid...|          Q131013858|2024-11-07 16:54:57|    human|https://www.wikid...|          Q131013723|2024-11-07 16:48:41|\n",
      "|Dorcas Atule|    human|https://www.wikid...|          Q131013858|2024-11-07 16:54:57|    human|https://www.wikid...|          Q131013858|2024-11-07 16:52:07|\n",
      "|       DE8AH|    human|https://fr.wiktio...|       morsicchiarle|2024-11-07 16:54:57|    human|https://fr.wiktio...|Modèle:anagrammes...|2024-11-07 16:49:30|\n",
      "|       DE8AH|    human|https://fr.wiktio...|       morsicchiarle|2024-11-07 16:54:57|    human|https://fr.wiktio...|Modèle:anagrammes...|2024-11-07 16:49:59|\n",
      "|       DE8AH|    human|https://fr.wiktio...|       morsicchiarle|2024-11-07 16:54:57|    human|https://fr.wiktio...|Modèle:anagrammes...|2024-11-07 16:51:23|\n",
      "+------------+---------+--------------------+--------------------+-------------------+---------+--------------------+--------------------+-------------------+\n",
      "only showing top 20 rows\n",
      "\n"
     ]
    },
    {
     "name": "stderr",
     "output_type": "stream",
     "text": [
      "                                                                                \r"
     ]
    },
    {
     "name": "stdout",
     "output_type": "stream",
     "text": [
      "-------------------------------------------\n",
      "Batch: 125\n",
      "-------------------------------------------\n",
      "+---------------+---------+--------------------+--------------------+-------------------+---------+--------------------+--------------------+-------------------+\n",
      "|      user_name|user_type|                 uri|               title|          timestamp|user_type|                 uri|               title|          timestamp|\n",
      "+---------------+---------+--------------------+--------------------+-------------------+---------+--------------------+--------------------+-------------------+\n",
      "|EmpressHarmonic|    human|https://commons.w...|Category:Christma...|2024-11-07 16:55:05|    human|https://commons.w...|Category:Prints o...|2024-11-12 15:24:20|\n",
      "|         J 1982|    human|https://www.wikid...|          Q131013942|2024-11-07 16:55:03|    human|https://www.wikid...|          Q131013942|2024-11-07 16:53:56|\n",
      "|         J 1982|    human|https://www.wikid...|          Q131013942|2024-11-07 16:55:06|    human|https://www.wikid...|          Q131013942|2024-11-07 16:53:56|\n",
      "+---------------+---------+--------------------+--------------------+-------------------+---------+--------------------+--------------------+-------------------+\n",
      "\n"
     ]
    },
    {
     "name": "stderr",
     "output_type": "stream",
     "text": [
      "                                                                                \r"
     ]
    },
    {
     "name": "stdout",
     "output_type": "stream",
     "text": [
      "-------------------------------------------\n",
      "Batch: 126\n",
      "-------------------------------------------\n",
      "+--------------------+---------+--------------------+--------------------+-------------------+---------+--------------------+--------------------+-------------------+\n",
      "|           user_name|user_type|                 uri|               title|          timestamp|user_type|                 uri|               title|          timestamp|\n",
      "+--------------------+---------+--------------------+--------------------+-------------------+---------+--------------------+--------------------+-------------------+\n",
      "|       Jordi escarre|    human|https://www.wikid...|            Q6019544|2024-11-07 16:55:13|    human|https://ca.wikipe...|  Misterix (revista)|2024-11-07 16:52:20|\n",
      "|         DavidMCEddy|    human|https://www.wikid...|          Q131013865|2024-11-07 16:55:15|    human|https://www.wikid...|          Q131013865|2024-11-07 16:52:16|\n",
      "|           Duppertip|    human|https://uk.wikipe...|          Лісничівка|2024-11-07 16:55:13|    human|https://uk.wikipe...|Категорія:Насел��н...|2024-11-07 16:51:28|\n",
      "|        Comecaballos|    human|https://es.wikipe...|  Francisco Manrique|2024-11-07 16:55:09|    human|https://es.wikipe...|Categoría:Capitan...|2024-11-07 16:53:25|\n",
      "|            Hameryko|    human|https://www.wikid...|      Lexeme:L645452|2024-11-07 16:55:16|    human|https://www.wikid...|     Lexeme:L1376321|2024-11-07 16:48:39|\n",
      "|            Hameryko|    human|https://www.wikid...|      Lexeme:L645452|2024-11-07 16:55:16|    human|https://www.wikid...|     Lexeme:L1376322|2024-11-07 16:49:00|\n",
      "|            Hameryko|    human|https://www.wikid...|      Lexeme:L645452|2024-11-07 16:55:16|    human|https://www.wikid...|     Lexeme:L1376323|2024-11-07 16:51:28|\n",
      "|            Hameryko|    human|https://www.wikid...|      Lexeme:L645452|2024-11-07 16:55:16|    human|https://www.wikid...|     Lexeme:L1376324|2024-11-07 16:52:16|\n",
      "|            Hameryko|    human|https://www.wikid...|      Lexeme:L645452|2024-11-07 16:55:16|    human|https://www.wikid...|     Lexeme:L1376325|2024-11-07 16:52:42|\n",
      "|            Hameryko|    human|https://www.wikid...|      Lexeme:L645452|2024-11-07 16:55:16|    human|https://www.wikid...|     Lexeme:L1376326|2024-11-07 16:52:46|\n",
      "|            Hameryko|    human|https://www.wikid...|      Lexeme:L645452|2024-11-07 16:55:16|    human|https://www.wikid...|     Lexeme:L1376327|2024-11-07 16:54:50|\n",
      "|  InternetArchiveBot|      bot|https://uk.wikipe...|   Сковорода-Експрес|2024-11-07 16:55:11|      bot|https://ckb.wikip...|وتووێژ:محەممەدڕەز...|2024-11-07 16:52:12|\n",
      "|Pickersgill-Cunliffe|    human|https://en.wikipe...|Capture of Baghda...|2024-11-07 16:55:14|    human|https://en.wikipe...|User talk:2A02:C7...|2024-11-07 16:49:07|\n",
      "|Pickersgill-Cunliffe|    human|https://en.wikipe...|Capture of Baghda...|2024-11-07 16:55:14|    human|https://en.wikipe...|User talk:217.43....|2024-11-07 16:50:40|\n",
      "|Pickersgill-Cunliffe|    human|https://en.wikipe...|Capture of Baghda...|2024-11-07 16:55:14|    human|https://en.wikipe...|User talk:78.172....|2024-11-07 16:55:16|\n",
      "|          Chrisguise|    human|https://en.wikiso...|Page:Christopher ...|2024-11-07 16:55:14|    human|https://en.wikiso...|Page:Christopher ...|2024-11-07 16:49:33|\n",
      "|          Chrisguise|    human|https://en.wikiso...|Page:Christopher ...|2024-11-07 16:55:14|    human|https://en.wikiso...|Page:Christopher ...|2024-11-07 16:51:47|\n",
      "|          Chrisguise|    human|https://en.wikiso...|Page:Christopher ...|2024-11-07 16:55:14|    human|https://en.wikiso...|Page:Christopher ...|2024-11-07 16:54:53|\n",
      "|           Avestaboy|    human|https://ku.wikipe...|Kategorî:Serokdew...|2024-11-07 16:55:13|    human|https://ku.wikipe...|Kategorî:Serokdew...|2024-11-07 16:52:07|\n",
      "|             Ciacho5|    human|https://pl.wikipe...|Dyskusja wikipedy...|2024-11-07 16:55:14|    human|https://commons.w...|Category:Second l...|2024-11-07 16:51:38|\n",
      "+--------------------+---------+--------------------+--------------------+-------------------+---------+--------------------+--------------------+-------------------+\n",
      "only showing top 20 rows\n",
      "\n"
     ]
    },
    {
     "name": "stderr",
     "output_type": "stream",
     "text": [
      "                                                                                \r"
     ]
    },
    {
     "name": "stdout",
     "output_type": "stream",
     "text": [
      "-------------------------------------------\n",
      "Batch: 127\n",
      "-------------------------------------------\n",
      "+------------------+---------+--------------------+--------------------+-------------------+---------+--------------------+--------------------+-------------------+\n",
      "|         user_name|user_type|                 uri|               title|          timestamp|user_type|                 uri|               title|          timestamp|\n",
      "+------------------+---------+--------------------+--------------------+-------------------+---------+--------------------+--------------------+-------------------+\n",
      "|InternetArchiveBot|      bot|https://ml.wikipe...|         റിക്കി കെജ്|2024-11-12 14:28:04|      bot|https://ckb.wikip...|وتووێژ:محەممەدڕەز...|2024-11-07 16:52:12|\n",
      "|   EmpressHarmonic|    human|https://commons.w...|Category:Convenie...|2024-11-07 16:55:19|    human|https://commons.w...|Category:Prints o...|2024-11-12 15:24:20|\n",
      "|     Mr.Ibrahembot|      bot|https://www.wikid...|          Q131014091|2024-11-07 16:55:18|      bot|https://ar.wikipe...|نقاش:جائ��ة لاس في...|2024-11-07 16:54:19|\n",
      "|     Mr.Ibrahembot|      bot|https://www.wikid...|          Q131014088|2024-11-07 16:55:19|      bot|https://ar.wikipe...|نقاش:جائزة لاس في...|2024-11-07 16:54:19|\n",
      "|         Gray eyes|    human|https://www.wikid...|            Q2626523|2024-11-12 14:28:08|    human|https://ko.wikipe...|           쇠네 나치|2024-11-12 15:24:45|\n",
      "|               Mpn|    human|https://pl.wikipe...|Dyskusja wikipedy...|2024-11-07 16:55:14|    human|https://pl.wikipe...|Wikiprojekt:Czy w...|2024-11-07 16:51:25|\n",
      "|               Mpn|    human|https://pl.wikipe...|Dyskusja wikipedy...|2024-11-07 16:55:14|    human|https://pl.wikipe...|Wikipedia:Poczeka...|2024-11-07 16:55:09|\n",
      "|           Kuba349|    human|https://pl.wikipe...|         Jim Justice|2024-11-07 16:55:16|    human|https://pl.wikipe...|         Jim Justice|2024-11-07 16:52:25|\n",
      "+------------------+---------+--------------------+--------------------+-------------------+---------+--------------------+--------------------+-------------------+\n",
      "\n"
     ]
    },
    {
     "name": "stderr",
     "output_type": "stream",
     "text": [
      "                                                                                \r"
     ]
    },
    {
     "name": "stdout",
     "output_type": "stream",
     "text": [
      "-------------------------------------------\n",
      "Batch: 128\n",
      "-------------------------------------------\n",
      "+-----------+---------+--------------------+--------------------+-------------------+---------+--------------------+--------------------+-------------------+\n",
      "|  user_name|user_type|                 uri|               title|          timestamp|user_type|                 uri|               title|          timestamp|\n",
      "+-----------+---------+--------------------+--------------------+-------------------+---------+--------------------+--------------------+-------------------+\n",
      "|  Pierre cb|    human|https://commons.w...|File:Algae Boom i...|2024-11-12 14:28:08|    human|https://fr.wikipe...|Gyre d'Amérique c...|2024-11-07 16:49:21|\n",
      "|  Hagougaga|    human|https://www.wikid...|          Q131153666|2024-11-12 14:28:08|    human|https://www.wikid...|          Q131154035|2024-11-12 15:23:00|\n",
      "|  Hagougaga|    human|https://www.wikid...|          Q131153666|2024-11-12 14:28:08|    human|https://www.wikid...|          Q131154039|2024-11-12 15:23:52|\n",
      "|  Hagougaga|    human|https://www.wikid...|          Q131153666|2024-11-12 14:28:08|    human|https://www.wikid...|          Q131154044|2024-11-12 15:25:03|\n",
      "|      DE8AH|    human|https://fr.wiktio...|         fiammatagli|2024-11-12 14:28:11|    human|https://fr.wiktio...|Modèle:anagrammes...|2024-11-07 16:49:30|\n",
      "|      DE8AH|    human|https://fr.wiktio...|         fiammatagli|2024-11-12 14:28:11|    human|https://fr.wiktio...|Modèle:anagrammes...|2024-11-07 16:49:59|\n",
      "|      DE8AH|    human|https://fr.wiktio...|         fiammatagli|2024-11-12 14:28:11|    human|https://fr.wiktio...|Modèle:anagrammes...|2024-11-07 16:51:23|\n",
      "|      DE8AH|    human|https://fr.wiktio...|         fiammatagli|2024-11-12 14:28:11|    human|https://fr.wiktio...|Modèle:anagrammes...|2024-11-07 16:51:37|\n",
      "|      DE8AH|    human|https://fr.wiktio...|         fiammatagli|2024-11-12 14:28:11|    human|https://fr.wiktio...|Modèle:anagrammes...|2024-11-07 16:52:20|\n",
      "|      DE8AH|    human|https://fr.wiktio...|         fiammatagli|2024-11-12 14:28:11|    human|https://fr.wiktio...|Modèle:anagrammes...|2024-11-07 16:52:48|\n",
      "|      DE8AH|    human|https://fr.wiktio...|         fiammatagli|2024-11-12 14:28:11|    human|https://fr.wiktio...|Modèle:anagrammes...|2024-11-07 16:55:16|\n",
      "|      DE8AH|    human|https://fr.wiktio...|         fiammatagli|2024-11-12 14:28:11|    human|https://fr.wiktio...|Modèle:anagrammes...|2024-11-12 15:23:11|\n",
      "|Farragutful|    human|https://commons.w...|File:Booth House ...|2024-11-12 14:28:12|    human|https://commons.w...|Category:Bikeways...|2024-11-12 15:22:44|\n",
      "+-----------+---------+--------------------+--------------------+-------------------+---------+--------------------+--------------------+-------------------+\n",
      "\n"
     ]
    },
    {
     "name": "stderr",
     "output_type": "stream",
     "text": [
      "                                                                                \r"
     ]
    },
    {
     "name": "stdout",
     "output_type": "stream",
     "text": [
      "-------------------------------------------\n",
      "Batch: 129\n",
      "-------------------------------------------\n",
      "+---------------+---------+--------------------+--------------------+-------------------+---------+--------------------+--------------------+-------------------+\n",
      "|      user_name|user_type|                 uri|               title|          timestamp|user_type|                 uri|               title|          timestamp|\n",
      "+---------------+---------+--------------------+--------------------+-------------------+---------+--------------------+--------------------+-------------------+\n",
      "|       Chesspac|    human|https://fr.wiktio...|               sicco|2024-11-12 14:28:17|    human|https://fr.wiktio...|           memoratim|2024-11-07 16:51:23|\n",
      "|       Chesspac|    human|https://fr.wiktio...|               sicco|2024-11-12 14:28:17|    human|https://fr.wiktio...|             moratim|2024-11-07 16:55:19|\n",
      "|       Chesspac|    human|https://fr.wiktio...|               sicco|2024-11-12 14:28:17|    human|https://fr.wiktio...|         invitabilis|2024-11-12 15:24:17|\n",
      "|      Hagougaga|    human|https://www.wikid...|          Q131153661|2024-11-12 14:28:16|    human|https://www.wikid...|          Q131154035|2024-11-12 15:23:00|\n",
      "|      Hagougaga|    human|https://www.wikid...|          Q131153661|2024-11-12 14:28:16|    human|https://www.wikid...|          Q131154039|2024-11-12 15:23:52|\n",
      "|      Hagougaga|    human|https://www.wikid...|          Q131153661|2024-11-12 14:28:16|    human|https://www.wikid...|          Q131154044|2024-11-12 15:25:03|\n",
      "|EmpressHarmonic|    human|https://commons.w...|Category:Promptua...|2024-11-12 14:28:13|    human|https://commons.w...|Category:Prints o...|2024-11-12 15:24:20|\n",
      "+---------------+---------+--------------------+--------------------+-------------------+---------+--------------------+--------------------+-------------------+\n",
      "\n"
     ]
    },
    {
     "name": "stderr",
     "output_type": "stream",
     "text": [
      "                                                                                \r"
     ]
    },
    {
     "name": "stdout",
     "output_type": "stream",
     "text": [
      "-------------------------------------------\n",
      "Batch: 130\n",
      "-------------------------------------------\n",
      "+------------------+---------+--------------------+------------+-------------------+---------+--------------------+--------------------+-------------------+\n",
      "|         user_name|user_type|                 uri|       title|          timestamp|user_type|                 uri|               title|          timestamp|\n",
      "+------------------+---------+--------------------+------------+-------------------+---------+--------------------+--------------------+-------------------+\n",
      "|InternetArchiveBot|      bot|https://tr.wikipe...|Rail Baltica|2024-11-12 14:28:21|      bot|https://ckb.wikip...|وتووێژ:محەممەدڕەز...|2024-11-07 16:52:12|\n",
      "|           Polmars|    human|https://fr.wikipe...|  IXe siècle|2024-11-12 14:28:22|    human|https://fr.wikipe...|Discussion:Se sou...|2024-11-07 16:55:13|\n",
      "+------------------+---------+--------------------+------------+-------------------+---------+--------------------+--------------------+-------------------+\n",
      "\n"
     ]
    },
    {
     "name": "stderr",
     "output_type": "stream",
     "text": [
      "                                                                                \r"
     ]
    },
    {
     "name": "stdout",
     "output_type": "stream",
     "text": [
      "-------------------------------------------\n",
      "Batch: 131\n",
      "-------------------------------------------\n",
      "+---------------+---------+--------------------+--------------------+-------------------+---------+--------------------+--------------------+-------------------+\n",
      "|      user_name|user_type|                 uri|               title|          timestamp|user_type|                 uri|               title|          timestamp|\n",
      "+---------------+---------+--------------------+--------------------+-------------------+---------+--------------------+--------------------+-------------------+\n",
      "|      Hagougaga|    human|https://www.wikid...|          Q131153658|2024-11-12 14:28:29|    human|https://www.wikid...|          Q131154035|2024-11-12 15:23:00|\n",
      "|      Hagougaga|    human|https://www.wikid...|          Q131153658|2024-11-12 14:28:29|    human|https://www.wikid...|          Q131154039|2024-11-12 15:23:52|\n",
      "|      Hagougaga|    human|https://www.wikid...|          Q131153658|2024-11-12 14:28:29|    human|https://www.wikid...|          Q131154044|2024-11-12 15:25:03|\n",
      "|EmpressHarmonic|    human|https://commons.w...|Category:Promptua...|2024-11-12 14:28:26|    human|https://commons.w...|Category:Prints o...|2024-11-12 15:24:20|\n",
      "|          DE8AH|    human|https://fr.wiktio...|      rincanagliarli|2024-11-12 14:28:29|    human|https://fr.wiktio...|Modèle:anagrammes...|2024-11-07 16:49:30|\n",
      "|          DE8AH|    human|https://fr.wiktio...|      rincanagliarli|2024-11-12 14:28:29|    human|https://fr.wiktio...|Modèle:anagrammes...|2024-11-07 16:49:59|\n",
      "|          DE8AH|    human|https://fr.wiktio...|      rincanagliarli|2024-11-12 14:28:29|    human|https://fr.wiktio...|Modèle:anagrammes...|2024-11-07 16:51:23|\n",
      "|          DE8AH|    human|https://fr.wiktio...|      rincanagliarli|2024-11-12 14:28:29|    human|https://fr.wiktio...|Modèle:anagrammes...|2024-11-07 16:51:37|\n",
      "|          DE8AH|    human|https://fr.wiktio...|      rincanagliarli|2024-11-12 14:28:29|    human|https://fr.wiktio...|Modèle:anagrammes...|2024-11-07 16:52:20|\n",
      "|          DE8AH|    human|https://fr.wiktio...|      rincanagliarli|2024-11-12 14:28:29|    human|https://fr.wiktio...|Modèle:anagrammes...|2024-11-07 16:52:48|\n",
      "|          DE8AH|    human|https://fr.wiktio...|      rincanagliarli|2024-11-12 14:28:29|    human|https://fr.wiktio...|Modèle:anagrammes...|2024-11-07 16:55:16|\n",
      "|          DE8AH|    human|https://fr.wiktio...|      rincanagliarli|2024-11-12 14:28:29|    human|https://fr.wiktio...|Modèle:anagrammes...|2024-11-12 15:23:11|\n",
      "+---------------+---------+--------------------+--------------------+-------------------+---------+--------------------+--------------------+-------------------+\n",
      "\n"
     ]
    },
    {
     "name": "stderr",
     "output_type": "stream",
     "text": [
      "                                                                                \r"
     ]
    },
    {
     "name": "stdout",
     "output_type": "stream",
     "text": [
      "-------------------------------------------\n",
      "Batch: 132\n",
      "-------------------------------------------\n",
      "+--------------------+---------+--------------------+--------------------+-------------------+---------+--------------------+--------------------+-------------------+\n",
      "|           user_name|user_type|                 uri|               title|          timestamp|user_type|                 uri|               title|          timestamp|\n",
      "+--------------------+---------+--------------------+--------------------+-------------------+---------+--------------------+--------------------+-------------------+\n",
      "|               Glewe|    human|https://de.wikipe...|Kassenärztliche V...|2024-11-12 14:28:34|    human|https://de.wikipe...|Zusatzweiterbildu...|2024-11-07 16:50:18|\n",
      "|         VihirLak007|    human|https://meta.wiki...|    User:VihirLak007|2024-11-12 14:28:36|    human|https://si.wikipe...|නව ගිවිසුම තුළ ජේ...|2024-11-07 16:54:59|\n",
      "|  InternetArchiveBot|      bot|https://nl.wikipe...|        Emile Salkin|2024-11-12 14:28:34|      bot|https://ckb.wikip...|وتووێ��:محەممەدڕەز...|2024-11-07 16:52:12|\n",
      "|Captain Ben Richards|    human|https://be.wikipe...|         Лясная быль|2024-11-12 14:28:32|    human|https://be.wikipe...|Паўночны Ледавіты...|2024-11-07 16:53:23|\n",
      "+--------------------+---------+--------------------+--------------------+-------------------+---------+--------------------+--------------------+-------------------+\n",
      "\n"
     ]
    },
    {
     "name": "stderr",
     "output_type": "stream",
     "text": [
      "                                                                                \r"
     ]
    },
    {
     "name": "stdout",
     "output_type": "stream",
     "text": [
      "-------------------------------------------\n",
      "Batch: 133\n",
      "-------------------------------------------\n",
      "+-----------+---------+--------------------+--------------------+-------------------+---------+--------------------+--------------------+-------------------+\n",
      "|  user_name|user_type|                 uri|               title|          timestamp|user_type|                 uri|               title|          timestamp|\n",
      "+-----------+---------+--------------------+--------------------+-------------------+---------+--------------------+--------------------+-------------------+\n",
      "|  Hagougaga|    human|https://www.wikid...|          Q131153658|2024-11-12 14:28:44|    human|https://www.wikid...|          Q131154035|2024-11-12 15:23:00|\n",
      "|  Hagougaga|    human|https://www.wikid...|          Q131153658|2024-11-12 14:28:44|    human|https://www.wikid...|          Q131154039|2024-11-12 15:23:52|\n",
      "|  Hagougaga|    human|https://www.wikid...|          Q131153658|2024-11-12 14:28:44|    human|https://www.wikid...|          Q131154044|2024-11-12 15:25:03|\n",
      "|Farragutful|    human|https://commons.w...|File:Jones-court-...|2024-11-12 14:28:41|    human|https://commons.w...|Category:Bikeways...|2024-11-12 15:22:44|\n",
      "+-----------+---------+--------------------+--------------------+-------------------+---------+--------------------+--------------------+-------------------+\n",
      "\n"
     ]
    },
    {
     "name": "stderr",
     "output_type": "stream",
     "text": [
      "                                                                                \r"
     ]
    },
    {
     "name": "stdout",
     "output_type": "stream",
     "text": [
      "-------------------------------------------\n",
      "Batch: 134\n",
      "-------------------------------------------\n",
      "+----------+---------+--------------------+--------------------+-------------------+---------+--------------------+--------------------+-------------------+\n",
      "| user_name|user_type|                 uri|               title|          timestamp|user_type|                 uri|               title|          timestamp|\n",
      "+----------+---------+--------------------+--------------------+-------------------+---------+--------------------+--------------------+-------------------+\n",
      "|      Qcne|    human|https://en.wikipe...|   Draft:Blue's spot|2024-11-12 14:28:45|    human|https://en.wikipe...|   User talk:Zuraged|2024-11-07 16:48:47|\n",
      "|      Qcne|    human|https://en.wikipe...| Draft:Allie's Story|2024-11-12 14:28:50|    human|https://en.wikipe...|   User talk:Zuraged|2024-11-07 16:48:47|\n",
      "|      Qcne|    human|https://en.wikipe...|User talk:209.7.6...|2024-11-12 14:28:51|    human|https://en.wikipe...|   User talk:Zuraged|2024-11-07 16:48:47|\n",
      "|M2k~dewiki|    human|https://www.wikid...|          Q131152684|2024-11-12 14:28:48|    human|https://www.wikid...|          Q131013834|2024-11-07 16:51:26|\n",
      "|M2k~dewiki|    human|https://www.wikid...|          Q131152684|2024-11-12 14:28:48|    human|https://www.wikid...|          Q131013889|2024-11-07 16:52:59|\n",
      "|     DE8AH|    human|https://fr.wiktio...|         alimentarli|2024-11-12 14:28:46|    human|https://fr.wiktio...|Modèle:anagrammes...|2024-11-07 16:49:30|\n",
      "|     DE8AH|    human|https://fr.wiktio...|         alimentarli|2024-11-12 14:28:46|    human|https://fr.wiktio...|Modèle:anagrammes...|2024-11-07 16:49:59|\n",
      "|     DE8AH|    human|https://fr.wiktio...|         alimentarli|2024-11-12 14:28:46|    human|https://fr.wiktio...|Modèle:anagrammes...|2024-11-07 16:51:23|\n",
      "|     DE8AH|    human|https://fr.wiktio...|         alimentarli|2024-11-12 14:28:46|    human|https://fr.wiktio...|Modèle:anagrammes...|2024-11-07 16:51:37|\n",
      "|     DE8AH|    human|https://fr.wiktio...|         alimentarli|2024-11-12 14:28:46|    human|https://fr.wiktio...|Modèle:anagrammes...|2024-11-07 16:52:20|\n",
      "|     DE8AH|    human|https://fr.wiktio...|         alimentarli|2024-11-12 14:28:46|    human|https://fr.wiktio...|Modèle:anagrammes...|2024-11-07 16:52:48|\n",
      "|     DE8AH|    human|https://fr.wiktio...|         alimentarli|2024-11-12 14:28:46|    human|https://fr.wiktio...|Modèle:anagrammes...|2024-11-07 16:55:16|\n",
      "|     DE8AH|    human|https://fr.wiktio...|         alimentarli|2024-11-12 14:28:46|    human|https://fr.wiktio...|Modèle:anagrammes...|2024-11-12 15:23:11|\n",
      "+----------+---------+--------------------+--------------------+-------------------+---------+--------------------+--------------------+-------------------+\n",
      "\n"
     ]
    },
    {
     "name": "stderr",
     "output_type": "stream",
     "text": [
      "                                                                                \r"
     ]
    },
    {
     "name": "stdout",
     "output_type": "stream",
     "text": [
      "-------------------------------------------\n",
      "Batch: 135\n",
      "-------------------------------------------\n",
      "+-----------+---------+--------------------+--------------------+-------------------+---------+--------------------+--------------------+-------------------+\n",
      "|  user_name|user_type|                 uri|               title|          timestamp|user_type|                 uri|               title|          timestamp|\n",
      "+-----------+---------+--------------------+--------------------+-------------------+---------+--------------------+--------------------+-------------------+\n",
      "|      Glewe|    human|https://de.wikipe...|Kassenärztliche V...|2024-11-12 14:28:56|    human|https://de.wikipe...|Zusatzweiterbildu...|2024-11-07 16:50:18|\n",
      "|  Hagougaga|    human|https://www.wikid...|          Q131153659|2024-11-12 14:28:54|    human|https://www.wikid...|          Q131154035|2024-11-12 15:23:00|\n",
      "|  Hagougaga|    human|https://www.wikid...|          Q131153659|2024-11-12 14:28:54|    human|https://www.wikid...|          Q131154039|2024-11-12 15:23:52|\n",
      "|  Hagougaga|    human|https://www.wikid...|          Q131153659|2024-11-12 14:28:54|    human|https://www.wikid...|          Q131154044|2024-11-12 15:25:03|\n",
      "| M2k~dewiki|    human|https://www.wikid...|          Q131152684|2024-11-12 14:28:56|    human|https://www.wikid...|          Q131013834|2024-11-07 16:51:26|\n",
      "| M2k~dewiki|    human|https://www.wikid...|          Q131152684|2024-11-12 14:28:56|    human|https://www.wikid...|          Q131013889|2024-11-07 16:52:59|\n",
      "|Petersmeter|    human|https://en.wikipe...|Motu Tapu (Bora B...|2024-11-12 14:28:55|    human|https://en.wikipe...|      Motutui Island|2024-11-12 15:25:17|\n",
      "|     Joorsm|    human|https://li.wikipe...|Categorie:Greunlandj|2024-11-12 14:28:52|    human|https://li.wikipe...|Categorie:Limburg...|2024-11-07 16:52:09|\n",
      "+-----------+---------+--------------------+--------------------+-------------------+---------+--------------------+--------------------+-------------------+\n",
      "\n"
     ]
    },
    {
     "name": "stderr",
     "output_type": "stream",
     "text": [
      "                                                                                \r"
     ]
    },
    {
     "name": "stdout",
     "output_type": "stream",
     "text": [
      "-------------------------------------------\n",
      "Batch: 136\n",
      "-------------------------------------------\n",
      "+------------------+---------+--------------------+--------------------+-------------------+---------+--------------------+--------------------+-------------------+\n",
      "|         user_name|user_type|                 uri|               title|          timestamp|user_type|                 uri|               title|          timestamp|\n",
      "+------------------+---------+--------------------+--------------------+-------------------+---------+--------------------+--------------------+-------------------+\n",
      "|InternetArchiveBot|      bot|https://pa.wikipe...|ਰੌਦ੍ਰਮ੍ ਰਣਮ੍ ਰੁਧਿਰਮ੍|2024-11-12 14:28:57|      bot|https://ckb.wikip...|وتووێژ:محەممەدڕەز...|2024-11-07 16:52:12|\n",
      "|         Hagougaga|    human|https://www.wikid...|          Q131153661|2024-11-12 14:29:01|    human|https://www.wikid...|          Q131154035|2024-11-12 15:23:00|\n",
      "|         Hagougaga|    human|https://www.wikid...|          Q131153661|2024-11-12 14:29:01|    human|https://www.wikid...|          Q131154039|2024-11-12 15:23:52|\n",
      "|         Hagougaga|    human|https://www.wikid...|          Q131153661|2024-11-12 14:29:01|    human|https://www.wikid...|          Q131154044|2024-11-12 15:25:03|\n",
      "|   EmpressHarmonic|    human|https://commons.w...|Category:Rom in d...|2024-11-12 14:29:00|    human|https://commons.w...|Category:Prints o...|2024-11-12 15:24:20|\n",
      "+------------------+---------+--------------------+--------------------+-------------------+---------+--------------------+--------------------+-------------------+\n",
      "\n"
     ]
    },
    {
     "name": "stderr",
     "output_type": "stream",
     "text": [
      "                                                                                \r"
     ]
    },
    {
     "name": "stdout",
     "output_type": "stream",
     "text": [
      "-------------------------------------------\n",
      "Batch: 137\n",
      "-------------------------------------------\n",
      "+----------+---------+--------------------+--------------------+-------------------+---------+--------------------+--------------------+-------------------+\n",
      "| user_name|user_type|                 uri|               title|          timestamp|user_type|                 uri|               title|          timestamp|\n",
      "+----------+---------+--------------------+--------------------+-------------------+---------+--------------------+--------------------+-------------------+\n",
      "| Pierre cb|    human|https://commons.w...|File:Annotated Zu...|2024-11-12 14:29:07|    human|https://fr.wikipe...|Gyre d'Amérique c...|2024-11-07 16:49:21|\n",
      "| Hagougaga|    human|https://www.wikid...|          Q131153663|2024-11-12 14:29:08|    human|https://www.wikid...|          Q131154035|2024-11-12 15:23:00|\n",
      "| Hagougaga|    human|https://www.wikid...|          Q131153663|2024-11-12 14:29:08|    human|https://www.wikid...|          Q131154039|2024-11-12 15:23:52|\n",
      "| Hagougaga|    human|https://www.wikid...|          Q131153663|2024-11-12 14:29:08|    human|https://www.wikid...|          Q131154044|2024-11-12 15:25:03|\n",
      "|M2k~dewiki|    human|https://www.wikid...|          Q131152684|2024-11-12 14:29:04|    human|https://www.wikid...|          Q131013834|2024-11-07 16:51:26|\n",
      "|M2k~dewiki|    human|https://www.wikid...|          Q131152684|2024-11-12 14:29:04|    human|https://www.wikid...|          Q131013889|2024-11-07 16:52:59|\n",
      "+----------+---------+--------------------+--------------------+-------------------+---------+--------------------+--------------------+-------------------+\n",
      "\n"
     ]
    },
    {
     "name": "stderr",
     "output_type": "stream",
     "text": [
      "                                                                                \r"
     ]
    },
    {
     "name": "stdout",
     "output_type": "stream",
     "text": [
      "-------------------------------------------\n",
      "Batch: 138\n",
      "-------------------------------------------\n",
      "+------------------+---------+--------------------+--------------------+-------------------+---------+--------------------+--------------------+-------------------+\n",
      "|         user_name|user_type|                 uri|               title|          timestamp|user_type|                 uri|               title|          timestamp|\n",
      "+------------------+---------+--------------------+--------------------+-------------------+---------+--------------------+--------------------+-------------------+\n",
      "|InternetArchiveBot|      bot|https://uk.wikipe...|Срібний лавровий ...|2024-11-12 14:29:11|      bot|https://ckb.wikip...|وتووێژ:محەممەدڕەز...|2024-11-07 16:52:12|\n",
      "|   EmpressHarmonic|    human|https://commons.w...|Category:Rom in d...|2024-11-12 14:29:12|    human|https://commons.w...|Category:Prints o...|2024-11-12 15:24:20|\n",
      "|        M2k~dewiki|    human|https://www.wikid...|          Q131152684|2024-11-12 14:29:14|    human|https://www.wikid...|          Q131013834|2024-11-07 16:51:26|\n",
      "|        M2k~dewiki|    human|https://www.wikid...|          Q131152684|2024-11-12 14:29:14|    human|https://www.wikid...|          Q131013889|2024-11-07 16:52:59|\n",
      "|     Masterstrock1|    human|https://commons.w...|File:Kamahi Devi ...|2024-11-12 14:29:12|    human|https://hi.wikipe...|          कमाही देवी|2024-11-12 15:23:37|\n",
      "|     Masterstrock1|    human|https://commons.w...|File:Kamahi Devi ...|2024-11-12 14:29:12|    human|https://www.wikid...|          Q131154038|2024-11-12 15:23:40|\n",
      "|            Joorsm|    human|https://www.wikid...|            Q6319684|2024-11-12 14:29:12|    human|https://li.wikipe...|Categorie:Limburg...|2024-11-07 16:52:09|\n",
      "+------------------+---------+--------------------+--------------------+-------------------+---------+--------------------+--------------------+-------------------+\n",
      "\n"
     ]
    },
    {
     "name": "stderr",
     "output_type": "stream",
     "text": [
      "                                                                                \r"
     ]
    },
    {
     "name": "stdout",
     "output_type": "stream",
     "text": [
      "-------------------------------------------\n",
      "Batch: 139\n",
      "-------------------------------------------\n",
      "+------------------+---------+--------------------+--------------------+-------------------+---------+--------------------+--------------------+-------------------+\n",
      "|         user_name|user_type|                 uri|               title|          timestamp|user_type|                 uri|               title|          timestamp|\n",
      "+------------------+---------+--------------------+--------------------+-------------------+---------+--------------------+--------------------+-------------------+\n",
      "|       VihirLak007|    human|https://si.wikipe...|                 රෝස|2024-11-12 14:29:19|    human|https://si.wikipe...|නව ගිවිසුම තුළ ජේ...|2024-11-07 16:54:59|\n",
      "|InternetArchiveBot|      bot|https://uk.wikipe...|Срібний легіон Ам...|2024-11-12 14:29:15|      bot|https://ckb.wikip...|وتووێژ:محەممەدڕەز...|2024-11-07 16:52:12|\n",
      "|         Hagougaga|    human|https://www.wikid...|          Q131153666|2024-11-12 14:29:16|    human|https://www.wikid...|          Q131154035|2024-11-12 15:23:00|\n",
      "|         Hagougaga|    human|https://www.wikid...|          Q131153666|2024-11-12 14:29:16|    human|https://www.wikid...|          Q131154039|2024-11-12 15:23:52|\n",
      "|         Hagougaga|    human|https://www.wikid...|          Q131153666|2024-11-12 14:29:16|    human|https://www.wikid...|          Q131154044|2024-11-12 15:25:03|\n",
      "|   EmpressHarmonic|    human|https://commons.w...|Category:Rom in d...|2024-11-12 14:29:17|    human|https://commons.w...|Category:Prints o...|2024-11-12 15:24:20|\n",
      "+------------------+---------+--------------------+--------------------+-------------------+---------+--------------------+--------------------+-------------------+\n",
      "\n"
     ]
    },
    {
     "name": "stderr",
     "output_type": "stream",
     "text": [
      "                                                                                \r"
     ]
    },
    {
     "name": "stdout",
     "output_type": "stream",
     "text": [
      "-------------------------------------------\n",
      "Batch: 140\n",
      "-------------------------------------------\n",
      "+---------------+---------+--------------------+--------------------+-------------------+---------+--------------------+--------------------+-------------------+\n",
      "|      user_name|user_type|                 uri|               title|          timestamp|user_type|                 uri|               title|          timestamp|\n",
      "+---------------+---------+--------------------+--------------------+-------------------+---------+--------------------+--------------------+-------------------+\n",
      "|           Qcne|    human|https://en.wikipe...|   User:Qcne/AfC log|2024-11-12 14:28:46|    human|https://en.wikipe...|   User talk:Zuraged|2024-11-07 16:48:47|\n",
      "|      Hagougaga|    human|https://www.wikid...|          Q131153667|2024-11-12 14:29:22|    human|https://www.wikid...|          Q131154035|2024-11-12 15:23:00|\n",
      "|      Hagougaga|    human|https://www.wikid...|          Q131153667|2024-11-12 14:29:22|    human|https://www.wikid...|          Q131154039|2024-11-12 15:23:52|\n",
      "|      Hagougaga|    human|https://www.wikid...|          Q131153667|2024-11-12 14:29:22|    human|https://www.wikid...|          Q131154044|2024-11-12 15:25:03|\n",
      "|EmpressHarmonic|    human|https://commons.w...|Category:Rom in d...|2024-11-12 14:29:22|    human|https://commons.w...|Category:Prints o...|2024-11-12 15:24:20|\n",
      "|          DE8AH|    human|https://fr.wiktio...|         scozzonarli|2024-11-12 14:29:25|    human|https://fr.wiktio...|Modèle:anagrammes...|2024-11-07 16:49:30|\n",
      "|          DE8AH|    human|https://fr.wiktio...|         scozzonarli|2024-11-12 14:29:25|    human|https://fr.wiktio...|Modèle:anagrammes...|2024-11-07 16:49:59|\n",
      "|          DE8AH|    human|https://fr.wiktio...|         scozzonarli|2024-11-12 14:29:25|    human|https://fr.wiktio...|Modèle:anagrammes...|2024-11-07 16:51:23|\n",
      "|          DE8AH|    human|https://fr.wiktio...|         scozzonarli|2024-11-12 14:29:25|    human|https://fr.wiktio...|Modèle:anagrammes...|2024-11-07 16:51:37|\n",
      "|          DE8AH|    human|https://fr.wiktio...|         scozzonarli|2024-11-12 14:29:25|    human|https://fr.wiktio...|Modèle:anagrammes...|2024-11-07 16:52:20|\n",
      "|          DE8AH|    human|https://fr.wiktio...|         scozzonarli|2024-11-12 14:29:25|    human|https://fr.wiktio...|Modèle:anagrammes...|2024-11-07 16:52:48|\n",
      "|          DE8AH|    human|https://fr.wiktio...|         scozzonarli|2024-11-12 14:29:25|    human|https://fr.wiktio...|Modèle:anagrammes...|2024-11-07 16:55:16|\n",
      "|          DE8AH|    human|https://fr.wiktio...|         scozzonarli|2024-11-12 14:29:25|    human|https://fr.wiktio...|Modèle:anagrammes...|2024-11-12 15:23:11|\n",
      "+---------------+---------+--------------------+--------------------+-------------------+---------+--------------------+--------------------+-------------------+\n",
      "\n"
     ]
    },
    {
     "name": "stderr",
     "output_type": "stream",
     "text": [
      "                                                                                \r"
     ]
    },
    {
     "name": "stdout",
     "output_type": "stream",
     "text": [
      "-------------------------------------------\n",
      "Batch: 141\n",
      "-------------------------------------------\n",
      "+------------------+---------+--------------------+--------------------+-------------------+---------+--------------------+--------------------+-------------------+\n",
      "|         user_name|user_type|                 uri|               title|          timestamp|user_type|                 uri|               title|          timestamp|\n",
      "+------------------+---------+--------------------+--------------------+-------------------+---------+--------------------+--------------------+-------------------+\n",
      "|              Qcne|    human|https://en.wikipe...|Draft:The Childre...|2024-11-12 14:29:30|    human|https://en.wikipe...|   User talk:Zuraged|2024-11-07 16:48:47|\n",
      "|InternetArchiveBot|      bot|https://ru.wikipe...|               Хэбэй|2024-11-12 14:29:28|      bot|https://ckb.wikip...|وتووێژ:محەممەدڕەز...|2024-11-07 16:52:12|\n",
      "|         Hagougaga|    human|https://www.wikid...|          Q131153668|2024-11-12 14:29:29|    human|https://www.wikid...|          Q131154035|2024-11-12 15:23:00|\n",
      "|         Hagougaga|    human|https://www.wikid...|          Q131153668|2024-11-12 14:29:29|    human|https://www.wikid...|          Q131154039|2024-11-12 15:23:52|\n",
      "|         Hagougaga|    human|https://www.wikid...|          Q131153668|2024-11-12 14:29:29|    human|https://www.wikid...|          Q131154044|2024-11-12 15:25:03|\n",
      "|   EmpressHarmonic|    human|https://commons.w...|Category:Rom in d...|2024-11-12 14:29:31|    human|https://commons.w...|Category:Prints o...|2024-11-12 15:24:20|\n",
      "|           Nehaoua|    human|https://ar.wikipe...|أحداث أمستردام (ن...|2024-11-12 14:29:29|    human|https://ar.wikipe...|   قالب:مقاطعة نيورو|2024-11-12 15:24:54|\n",
      "|        M2k~dewiki|    human|https://www.wikid...|          Q131152684|2024-11-12 14:29:29|    human|https://www.wikid...|          Q131013834|2024-11-07 16:51:26|\n",
      "|        M2k~dewiki|    human|https://www.wikid...|          Q131152684|2024-11-12 14:29:29|    human|https://www.wikid...|          Q131013889|2024-11-07 16:52:59|\n",
      "|       Farragutful|    human|https://commons.w...|File:Happy Joe's.jpg|2024-11-12 14:29:32|    human|https://commons.w...|Category:Bikeways...|2024-11-12 15:22:44|\n",
      "+------------------+---------+--------------------+--------------------+-------------------+---------+--------------------+--------------------+-------------------+\n",
      "\n"
     ]
    },
    {
     "name": "stderr",
     "output_type": "stream",
     "text": [
      "                                                                                \r"
     ]
    },
    {
     "name": "stdout",
     "output_type": "stream",
     "text": [
      "-------------------------------------------\n",
      "Batch: 142\n",
      "-------------------------------------------\n",
      "+------------------+---------+--------------------+--------------------+-------------------+---------+--------------------+--------------------+-------------------+\n",
      "|         user_name|user_type|                 uri|               title|          timestamp|user_type|                 uri|               title|          timestamp|\n",
      "+------------------+---------+--------------------+--------------------+-------------------+---------+--------------------+--------------------+-------------------+\n",
      "|InternetArchiveBot|      bot|https://uk.wikipe...|Срібний м'яч (Бра...|2024-11-12 14:29:26|      bot|https://ckb.wikip...|وتووێژ:محەممەدڕەز...|2024-11-07 16:52:12|\n",
      "|         Hagougaga|    human|https://www.wikid...|          Q131153671|2024-11-12 14:29:36|    human|https://www.wikid...|          Q131154035|2024-11-12 15:23:00|\n",
      "|         Hagougaga|    human|https://www.wikid...|          Q131153671|2024-11-12 14:29:36|    human|https://www.wikid...|          Q131154039|2024-11-12 15:23:52|\n",
      "|         Hagougaga|    human|https://www.wikid...|          Q131153671|2024-11-12 14:29:36|    human|https://www.wikid...|          Q131154044|2024-11-12 15:25:03|\n",
      "+------------------+---------+--------------------+--------------------+-------------------+---------+--------------------+--------------------+-------------------+\n",
      "\n"
     ]
    },
    {
     "name": "stderr",
     "output_type": "stream",
     "text": [
      "                                                                                \r"
     ]
    },
    {
     "name": "stdout",
     "output_type": "stream",
     "text": [
      "-------------------------------------------\n",
      "Batch: 143\n",
      "-------------------------------------------\n",
      "+---------------+---------+--------------------+--------------------+-------------------+---------+--------------------+--------------------+-------------------+\n",
      "|      user_name|user_type|                 uri|               title|          timestamp|user_type|                 uri|               title|          timestamp|\n",
      "+---------------+---------+--------------------+--------------------+-------------------+---------+--------------------+--------------------+-------------------+\n",
      "|    கி.மூர்த்தி|    human|https://ta.wikipe...|        அலையடிக்குது|2024-11-12 14:29:41|    human|https://ta.wikipe...|          சங்கரோத்து|2024-11-07 16:52:37|\n",
      "|      Hagougaga|    human|https://www.wikid...|          Q131153673|2024-11-12 14:29:43|    human|https://www.wikid...|          Q131154035|2024-11-12 15:23:00|\n",
      "|      Hagougaga|    human|https://www.wikid...|          Q131153673|2024-11-12 14:29:43|    human|https://www.wikid...|          Q131154039|2024-11-12 15:23:52|\n",
      "|      Hagougaga|    human|https://www.wikid...|          Q131153673|2024-11-12 14:29:43|    human|https://www.wikid...|          Q131154044|2024-11-12 15:25:03|\n",
      "|EmpressHarmonic|    human|https://commons.w...|Category:Rom in d...|2024-11-12 14:29:40|    human|https://commons.w...|Category:Prints o...|2024-11-12 15:24:20|\n",
      "|          DE8AH|    human|https://fr.wiktio...|      accapricciarle|2024-11-12 14:29:42|    human|https://fr.wiktio...|Modèle:anagrammes...|2024-11-07 16:49:30|\n",
      "|          DE8AH|    human|https://fr.wiktio...|      accapricciarle|2024-11-12 14:29:42|    human|https://fr.wiktio...|Modèle:anagrammes...|2024-11-07 16:49:59|\n",
      "|          DE8AH|    human|https://fr.wiktio...|      accapricciarle|2024-11-12 14:29:42|    human|https://fr.wiktio...|Modèle:anagrammes...|2024-11-07 16:51:23|\n",
      "|          DE8AH|    human|https://fr.wiktio...|      accapricciarle|2024-11-12 14:29:42|    human|https://fr.wiktio...|Modèle:anagrammes...|2024-11-07 16:51:37|\n",
      "|          DE8AH|    human|https://fr.wiktio...|      accapricciarle|2024-11-12 14:29:42|    human|https://fr.wiktio...|Modèle:anagrammes...|2024-11-07 16:52:20|\n",
      "|          DE8AH|    human|https://fr.wiktio...|      accapricciarle|2024-11-12 14:29:42|    human|https://fr.wiktio...|Modèle:anagrammes...|2024-11-07 16:52:48|\n",
      "|          DE8AH|    human|https://fr.wiktio...|      accapricciarle|2024-11-12 14:29:42|    human|https://fr.wiktio...|Modèle:anagrammes...|2024-11-07 16:55:16|\n",
      "|          DE8AH|    human|https://fr.wiktio...|      accapricciarle|2024-11-12 14:29:42|    human|https://fr.wiktio...|Modèle:anagrammes...|2024-11-12 15:23:11|\n",
      "+---------------+---------+--------------------+--------------------+-------------------+---------+--------------------+--------------------+-------------------+\n",
      "\n"
     ]
    },
    {
     "name": "stderr",
     "output_type": "stream",
     "text": [
      "                                                                                \r"
     ]
    },
    {
     "name": "stdout",
     "output_type": "stream",
     "text": [
      "-------------------------------------------\n",
      "Batch: 144\n",
      "-------------------------------------------\n",
      "+------------------+---------+--------------------+--------------------+-------------------+---------+--------------------+--------------------+-------------------+\n",
      "|         user_name|user_type|                 uri|               title|          timestamp|user_type|                 uri|               title|          timestamp|\n",
      "+------------------+---------+--------------------+--------------------+-------------------+---------+--------------------+--------------------+-------------------+\n",
      "|InternetArchiveBot|      bot|https://uk.wikipe...|       Срібний скарб|2024-11-12 14:29:44|      bot|https://ckb.wikip...|وتووێژ:محەممەدڕەز...|2024-11-07 16:52:12|\n",
      "|         Hagougaga|    human|https://www.wikid...|          Q131153674|2024-11-12 14:29:51|    human|https://www.wikid...|          Q131154035|2024-11-12 15:23:00|\n",
      "|         Hagougaga|    human|https://www.wikid...|          Q131153674|2024-11-12 14:29:51|    human|https://www.wikid...|          Q131154039|2024-11-12 15:23:52|\n",
      "|         Hagougaga|    human|https://www.wikid...|          Q131153674|2024-11-12 14:29:51|    human|https://www.wikid...|          Q131154044|2024-11-12 15:25:03|\n",
      "|   EmpressHarmonic|    human|https://commons.w...|Category:Rom in d...|2024-11-12 14:29:51|    human|https://commons.w...|Category:Prints o...|2024-11-12 15:24:20|\n",
      "|     Masterstrock1|    human|https://commons.w...|File:Kamahi Devi ...|2024-11-12 14:29:50|    human|https://hi.wikipe...|          कमाही देवी|2024-11-12 15:23:37|\n",
      "|     Masterstrock1|    human|https://commons.w...|File:Kamahi Devi ...|2024-11-12 14:29:50|    human|https://www.wikid...|          Q131154038|2024-11-12 15:23:40|\n",
      "+------------------+---------+--------------------+--------------------+-------------------+---------+--------------------+--------------------+-------------------+\n",
      "\n"
     ]
    },
    {
     "name": "stderr",
     "output_type": "stream",
     "text": [
      "                                                                                \r"
     ]
    },
    {
     "name": "stdout",
     "output_type": "stream",
     "text": [
      "-------------------------------------------\n",
      "Batch: 145\n",
      "-------------------------------------------\n",
      "+---------+---------+--------------------+--------------------+-------------------+---------+--------------------+--------------------+-------------------+\n",
      "|user_name|user_type|                 uri|               title|          timestamp|user_type|                 uri|               title|          timestamp|\n",
      "+---------+---------+--------------------+--------------------+-------------------+---------+--------------------+--------------------+-------------------+\n",
      "|Pierre cb|    human|https://commons.w...|File:Aral Sea 202...|2024-11-12 14:29:54|    human|https://fr.wikipe...|Gyre d'Amérique c...|2024-11-07 16:49:21|\n",
      "+---------+---------+--------------------+--------------------+-------------------+---------+--------------------+--------------------+-------------------+\n",
      "\n"
     ]
    },
    {
     "name": "stderr",
     "output_type": "stream",
     "text": [
      "[Stage 440:==============>                                       (54 + 6) / 200]\r"
     ]
    }
   ],
   "source": [
    "df_edit = wiki_df.select(\"parsed_value.*\").select(\"user_name\",\"user_type\",\"uri\",\"title\",\"timestamp\")\n",
    "\n",
    "df_new = new_df.select(\"parsed_value.*\").select(\"user_name\",\"user_type\",\"uri\",\"title\",\"timestamp\")\n",
    "\n",
    "joined_streams_df = (df_edit\n",
    "            .join(df_new, \"user_name\")\n",
    "            )\n",
    "\n",
    "query = joined_streams_df.writeStream.outputMode(\"append\").format(\"console\").start()\n",
    "\n",
    "query.awaitTermination()"
   ]
  }
 ],
 "metadata": {
  "kernelspec": {
   "display_name": "Python 3 (ipykernel)",
   "language": "python",
   "name": "python3"
  },
  "language_info": {
   "codemirror_mode": {
    "name": "ipython",
    "version": 3
   },
   "file_extension": ".py",
   "mimetype": "text/x-python",
   "name": "python",
   "nbconvert_exporter": "python",
   "pygments_lexer": "ipython3",
   "version": "3.9.2"
  }
 },
 "nbformat": 4,
 "nbformat_minor": 5
}
